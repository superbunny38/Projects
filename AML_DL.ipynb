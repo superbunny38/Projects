{
 "cells": [
  {
   "cell_type": "code",
   "execution_count": 6,
   "metadata": {},
   "outputs": [],
   "source": [
    "import pandas as pd\n",
    "import numpy as np\n",
    "import torch\n",
    "import torch.nn as nn\n",
    "import torch.optim as optim\n",
    "from torch.utils.data import Dataset, DataLoader, TensorDataset\n",
    "from sklearn.model_selection import train_test_split\n",
    "from sklearn.preprocessing import StandardScaler, LabelEncoder\n",
    "from sklearn.metrics import accuracy_score\n",
    "import os\n",
    "import time"
   ]
  },
  {
   "cell_type": "code",
   "execution_count": 7,
   "metadata": {},
   "outputs": [],
   "source": [
    "train_X = pd.read_csv(\"Oversampled_X_train.csv\")\n",
    "train_y = pd.read_csv(\"Oversampled_y_train.csv\")\n",
    "train_X['target'] = train_y\n",
    "train_X.to_csv(\"train.csv\",index=False)"
   ]
  },
  {
   "cell_type": "code",
   "execution_count": 8,
   "metadata": {},
   "outputs": [],
   "source": [
    "val_X = pd.read_csv(\"X_val.csv\")\n",
    "val_y = pd.read_csv(\"y_val.csv\")\n",
    "val_X['target'] = val_y\n",
    "val_X.to_csv(\"validation.csv\",index=False)"
   ]
  },
  {
   "cell_type": "code",
   "execution_count": 9,
   "metadata": {},
   "outputs": [],
   "source": [
    "test_X = pd.read_csv(\"X_test.csv\")\n",
    "test_y = pd.read_csv(\"y_test.csv\")\n",
    "test_X['target'] = test_y\n",
    "test_X.to_csv(\"test.csv\",index=False)"
   ]
  },
  {
   "cell_type": "code",
   "execution_count": 11,
   "metadata": {},
   "outputs": [],
   "source": [
    "TRAIN_FILE = 'train.csv'\n",
    "VALID_FILE = 'validation.csv'\n",
    "TEST_FILE = 'test.csv'\n",
    "TARGET_COLUMN = 'target' \n",
    "FEATURE_COLS = [pd.read_csv(\"Oversampled_X_train.csv\").columns]"
   ]
  },
  {
   "cell_type": "code",
   "execution_count": 12,
   "metadata": {},
   "outputs": [],
   "source": [
    "INPUT_SIZE = 100 # Number of features\n",
    "HIDDEN_SIZE = 64  # Number of neurons in the hidden layer (can be tuned)\n",
    "OUTPUT_SIZE = 5   # Number of classes ('Dos', 'Probe', 'R2L', 'U2R', 'normal')\n",
    "LEARNING_RATE = 0.001\n",
    "BATCH_SIZE = 64\n",
    "EPOCHS = 50       # Number of training epochs (can be tuned)\n",
    "PATIENCE = 5      # Early stopping patience"
   ]
  },
  {
   "cell_type": "code",
   "execution_count": 14,
   "metadata": {},
   "outputs": [
    {
     "name": "stdout",
     "output_type": "stream",
     "text": [
      "Using device: mps\n"
     ]
    }
   ],
   "source": [
    "device = torch.device(\"mps\")\n",
    "print(f\"Using device: {device}\")"
   ]
  },
  {
   "cell_type": "code",
   "execution_count": 15,
   "metadata": {},
   "outputs": [
    {
     "name": "stdout",
     "output_type": "stream",
     "text": [
      "\n",
      "Target Class Mapping:\n",
      "Dos: 0\n",
      "Probe: 1\n",
      "R2L: 2\n",
      "U2R: 3\n",
      "normal: 4\n",
      "--------------------\n"
     ]
    }
   ],
   "source": [
    "\n",
    "def load_and_preprocess_data(file_path, target_col, scaler=None, label_encoder=None, fit_transform=False):\n",
    "    \"\"\"Loads data, separates features/target, encodes target, and scales features.\"\"\"\n",
    "    try:\n",
    "        df = pd.read_csv(file_path)\n",
    "    except FileNotFoundError:\n",
    "        print(f\"Error: File not found at {file_path}\")\n",
    "        return None, None, None, None\n",
    "    \n",
    "    if target_col not in df.columns:\n",
    "        print(f\"Error: Target column '{target_col}' not found in {file_path}.\")\n",
    "        \n",
    "        potential_features = [col for col in df.columns if col != target_col]\n",
    "        if len(potential_features) == INPUT_SIZE:\n",
    "             print(f\"Assuming first {INPUT_SIZE} columns are features.\")\n",
    "             X = df.iloc[:, :INPUT_SIZE].values\n",
    "            \n",
    "             potential_target = [col for col in df.columns if col not in potential_features]\n",
    "             if len(potential_target) == 1:\n",
    "                 target_col = potential_target[0]\n",
    "                 print(f\"Inferred target column: '{target_col}'\")\n",
    "                 y_raw = df[target_col].values\n",
    "             else:\n",
    "                 print(\"Could not reliably infer features and target. Please check CSV structure and TARGET_COLUMN name.\")\n",
    "                 return None, None, None, None\n",
    "        else:\n",
    "            print(f\"Error: Cannot identify {INPUT_SIZE} feature columns.\")\n",
    "            return None, None, None, None\n",
    "\n",
    "    else:\n",
    "       \n",
    "        feature_columns = [col for col in df.columns if col != target_col]\n",
    "        if len(feature_columns) != INPUT_SIZE:\n",
    "             print(f\"Warning: Expected {INPUT_SIZE} feature columns, but found {len(feature_columns)} in {file_path}. Using these {len(feature_columns)} columns.\")\n",
    "\n",
    "        X = df[feature_columns].values\n",
    "        y_raw = df[target_col].values\n",
    "\n",
    "    # Encode target labels\n",
    "    if fit_transform:\n",
    "        label_encoder = LabelEncoder()\n",
    "        y = label_encoder.fit_transform(y_raw)\n",
    "        print(\"\\nTarget Class Mapping:\")\n",
    "        for i, class_name in enumerate(label_encoder.classes_):\n",
    "            print(f\"{class_name}: {i}\")\n",
    "        print(\"-\" * 20)\n",
    "    else:\n",
    "        if label_encoder is None:\n",
    "             print(\"Error: LabelEncoder must be provided for transform-only mode.\")\n",
    "             return None, None, None, None\n",
    "        \n",
    "        y = label_encoder.transform(y_raw)\n",
    "\n",
    "\n",
    "    # Scale features\n",
    "    if fit_transform:\n",
    "        scaler = StandardScaler()\n",
    "        X = scaler.fit_transform(X)\n",
    "    else:\n",
    "        if scaler is None:\n",
    "            print(\"Error: Scaler must be provided for transform-only mode.\")\n",
    "            return None, None, None, None\n",
    "        X = scaler.transform(X)\n",
    "\n",
    "    return X, y, scaler, label_encoder\n",
    "\n",
    "# Load Train data and fit Scaler/LabelEncoder\n",
    "X_train_np, y_train_np, scaler, label_encoder = load_and_preprocess_data(\n",
    "    TRAIN_FILE, TARGET_COLUMN, fit_transform=True\n",
    ")\n",
    "if X_train_np is None:\n",
    "    exit() # Stop execution if training data failed to load\n",
    "\n",
    "# Load Validation data using fitted Scaler/LabelEncoder\n",
    "X_val_np, y_val_np, _, _ = load_and_preprocess_data(\n",
    "    VALID_FILE, TARGET_COLUMN, scaler=scaler, label_encoder=label_encoder\n",
    ")\n",
    "if X_val_np is None:\n",
    "    exit()\n",
    "\n",
    "# Load Test data using fitted Scaler/LabelEncoder\n",
    "X_test_np, y_test_np, _, _ = load_and_preprocess_data(\n",
    "    TEST_FILE, TARGET_COLUMN, scaler=scaler, label_encoder=label_encoder\n",
    ")\n",
    "if X_test_np is None:\n",
    "    exit()\n"
   ]
  },
  {
   "cell_type": "code",
   "execution_count": 16,
   "metadata": {},
   "outputs": [],
   "source": [
    "X_train = torch.tensor(X_train_np, dtype=torch.float32)\n",
    "y_train = torch.tensor(y_train_np, dtype=torch.long)\n",
    "X_val = torch.tensor(X_val_np, dtype=torch.float32)\n",
    "y_val = torch.tensor(y_val_np, dtype=torch.long)\n",
    "X_test = torch.tensor(X_test_np, dtype=torch.float32)\n",
    "y_test = torch.tensor(y_test_np, dtype=torch.long)"
   ]
  },
  {
   "cell_type": "code",
   "execution_count": 18,
   "metadata": {},
   "outputs": [],
   "source": [
    "train_dataset = TensorDataset(X_train, y_train)\n",
    "val_dataset = TensorDataset(X_val, y_val)\n",
    "test_dataset = TensorDataset(X_test, y_test)"
   ]
  },
  {
   "cell_type": "code",
   "execution_count": 19,
   "metadata": {},
   "outputs": [],
   "source": [
    "train_loader = DataLoader(dataset=train_dataset, batch_size=BATCH_SIZE, shuffle=True)\n",
    "val_loader = DataLoader(dataset=val_dataset, batch_size=BATCH_SIZE, shuffle=False)\n",
    "test_loader = DataLoader(dataset=test_dataset, batch_size=BATCH_SIZE, shuffle=False)\n"
   ]
  },
  {
   "cell_type": "code",
   "execution_count": 20,
   "metadata": {},
   "outputs": [
    {
     "name": "stdout",
     "output_type": "stream",
     "text": [
      "\n",
      "Data loaded successfully:\n",
      "Train samples: 269365\n",
      "Validation samples: 25195\n",
      "Test samples: 22543\n",
      "Number of features: 100\n",
      "Number of classes: 5\n",
      "--------------------\n"
     ]
    }
   ],
   "source": [
    "print(f\"\\nData loaded successfully:\")\n",
    "print(f\"Train samples: {len(train_dataset)}\")\n",
    "print(f\"Validation samples: {len(val_dataset)}\")\n",
    "print(f\"Test samples: {len(test_dataset)}\")\n",
    "print(f\"Number of features: {X_train.shape[1]}\")\n",
    "print(f\"Number of classes: {len(label_encoder.classes_)}\")\n",
    "print(\"-\" * 20)"
   ]
  },
  {
   "cell_type": "code",
   "execution_count": 21,
   "metadata": {},
   "outputs": [],
   "source": [
    "class SimpleNN(nn.Module):\n",
    "    def __init__(self, input_size, hidden_size, num_classes):\n",
    "        super(SimpleNN, self).__init__()\n",
    "        self.fc1 = nn.Linear(input_size, hidden_size)\n",
    "        self.relu = nn.ReLU()\n",
    "        self.fc2 = nn.Linear(hidden_size, num_classes)\n",
    "        \n",
    "\n",
    "    def forward(self, x):\n",
    "        out = self.fc1(x)\n",
    "        out = self.relu(out)\n",
    "        out = self.fc2(out)\n",
    "        return out\n"
   ]
  },
  {
   "cell_type": "code",
   "execution_count": 22,
   "metadata": {},
   "outputs": [
    {
     "name": "stdout",
     "output_type": "stream",
     "text": [
      "Model Architecture:\n",
      "SimpleNN(\n",
      "  (fc1): Linear(in_features=100, out_features=64, bias=True)\n",
      "  (relu): ReLU()\n",
      "  (fc2): Linear(in_features=64, out_features=5, bias=True)\n",
      ")\n",
      "--------------------\n"
     ]
    }
   ],
   "source": [
    "model = SimpleNN(INPUT_SIZE, HIDDEN_SIZE, OUTPUT_SIZE).to(device)\n",
    "print(\"Model Architecture:\")\n",
    "print(model)\n",
    "print(\"-\" * 20)"
   ]
  },
  {
   "cell_type": "code",
   "execution_count": 23,
   "metadata": {},
   "outputs": [],
   "source": [
    "criterion = nn.CrossEntropyLoss()\n",
    "optimizer = optim.Adam(model.parameters(), lr=LEARNING_RATE)"
   ]
  },
  {
   "cell_type": "code",
   "execution_count": 25,
   "metadata": {},
   "outputs": [
    {
     "data": {
      "application/vnd.jupyter.widget-view+json": {
       "model_id": "0fa7de97158243248fc8054790b7b2d8",
       "version_major": 2,
       "version_minor": 0
      },
      "text/plain": [
       "  0%|          | 0/50 [00:00<?, ?it/s]"
      ]
     },
     "metadata": {},
     "output_type": "display_data"
    },
    {
     "name": "stdout",
     "output_type": "stream",
     "text": [
      "Epoch [1/50], Train Loss: 0.0178, Train Acc: 99.58%, Val Loss: 0.0162, Val Acc: 99.56%\n",
      "Validation loss decreased (inf --> 0.0162). Saving model...\n",
      "Epoch [2/50], Train Loss: 0.0077, Train Acc: 99.81%, Val Loss: 0.0123, Val Acc: 99.65%\n",
      "Validation loss decreased (0.0162 --> 0.0123). Saving model...\n",
      "Epoch [3/50], Train Loss: 0.0055, Train Acc: 99.86%, Val Loss: 0.0103, Val Acc: 99.71%\n",
      "Validation loss decreased (0.0123 --> 0.0103). Saving model...\n",
      "Epoch [4/50], Train Loss: 0.0046, Train Acc: 99.88%, Val Loss: 0.0074, Val Acc: 99.76%\n",
      "Validation loss decreased (0.0103 --> 0.0074). Saving model...\n",
      "Epoch [5/50], Train Loss: 0.0039, Train Acc: 99.90%, Val Loss: 0.0066, Val Acc: 99.77%\n",
      "Validation loss decreased (0.0074 --> 0.0066). Saving model...\n",
      "Epoch [6/50], Train Loss: 0.0035, Train Acc: 99.92%, Val Loss: 0.0068, Val Acc: 99.82%\n",
      "Validation loss did not improve for 1 epoch(s).\n",
      "Epoch [7/50], Train Loss: 0.0030, Train Acc: 99.93%, Val Loss: 0.0050, Val Acc: 99.88%\n",
      "Validation loss decreased (0.0066 --> 0.0050). Saving model...\n",
      "Epoch [8/50], Train Loss: 0.0026, Train Acc: 99.94%, Val Loss: 0.0066, Val Acc: 99.83%\n",
      "Validation loss did not improve for 1 epoch(s).\n",
      "Epoch [9/50], Train Loss: 0.0024, Train Acc: 99.95%, Val Loss: 0.0045, Val Acc: 99.89%\n",
      "Validation loss decreased (0.0050 --> 0.0045). Saving model...\n",
      "Epoch [10/50], Train Loss: 0.0022, Train Acc: 99.95%, Val Loss: 0.0047, Val Acc: 99.90%\n",
      "Validation loss did not improve for 1 epoch(s).\n",
      "Epoch [11/50], Train Loss: 0.0020, Train Acc: 99.96%, Val Loss: 0.0062, Val Acc: 99.86%\n",
      "Validation loss did not improve for 2 epoch(s).\n",
      "Epoch [12/50], Train Loss: 0.0017, Train Acc: 99.96%, Val Loss: 0.0045, Val Acc: 99.89%\n",
      "Validation loss did not improve for 3 epoch(s).\n",
      "Epoch [13/50], Train Loss: 0.0017, Train Acc: 99.96%, Val Loss: 0.0051, Val Acc: 99.88%\n",
      "Validation loss did not improve for 4 epoch(s).\n",
      "Epoch [14/50], Train Loss: 0.0015, Train Acc: 99.97%, Val Loss: 0.0045, Val Acc: 99.88%\n",
      "Validation loss did not improve for 5 epoch(s).\n",
      "\n",
      "Early stopping triggered after 14 epochs.\n",
      "\n",
      "Training finished in 173.79 seconds.\n",
      "--------------------\n"
     ]
    }
   ],
   "source": [
    "from tqdm.auto import tqdm\n",
    "\n",
    "best_val_loss = float('inf')\n",
    "epochs_no_improve = 0\n",
    "best_model_path = 'best_model_nn.pth'\n",
    "\n",
    "start_time = time.time()\n",
    "\n",
    "for epoch in tqdm(range(EPOCHS)):\n",
    "    model.train()  \n",
    "    running_loss = 0.0\n",
    "    correct_train = 0\n",
    "    total_train = 0\n",
    "\n",
    "    for i, (inputs, labels) in enumerate(train_loader):\n",
    "        inputs = inputs.to(device)\n",
    "        labels = labels.to(device)\n",
    "\n",
    "        outputs = model(inputs)\n",
    "        loss = criterion(outputs, labels)\n",
    "\n",
    "        optimizer.zero_grad()\n",
    "        loss.backward()\n",
    "        optimizer.step()\n",
    "\n",
    "        running_loss += loss.item()\n",
    "        _, predicted = torch.max(outputs.data, 1)\n",
    "        total_train += labels.size(0)\n",
    "        correct_train += (predicted == labels).sum().item()\n",
    "\n",
    "    train_loss = running_loss / len(train_loader)\n",
    "    train_acc = 100 * correct_train / total_train\n",
    "\n",
    "    model.eval()  \n",
    "    val_loss = 0.0\n",
    "    correct_val = 0\n",
    "    total_val = 0\n",
    "    with torch.no_grad(): \n",
    "        for inputs, labels in val_loader:\n",
    "            inputs = inputs.to(device)\n",
    "            labels = labels.to(device)\n",
    "            outputs = model(inputs)\n",
    "            loss = criterion(outputs, labels)\n",
    "            val_loss += loss.item()\n",
    "            _, predicted = torch.max(outputs.data, 1)\n",
    "            total_val += labels.size(0)\n",
    "            correct_val += (predicted == labels).sum().item()\n",
    "\n",
    "    val_loss /= len(val_loader)\n",
    "    val_acc = 100 * correct_val / total_val\n",
    "\n",
    "    print(f'Epoch [{epoch+1}/{EPOCHS}], '\n",
    "          f'Train Loss: {train_loss:.4f}, Train Acc: {train_acc:.2f}%, '\n",
    "          f'Val Loss: {val_loss:.4f}, Val Acc: {val_acc:.2f}%')\n",
    "\n",
    "    if val_loss < best_val_loss:\n",
    "        print(f'Validation loss decreased ({best_val_loss:.4f} --> {val_loss:.4f}). Saving model...')\n",
    "        torch.save(model.state_dict(), best_model_path)\n",
    "        best_val_loss = val_loss\n",
    "        epochs_no_improve = 0\n",
    "    else:\n",
    "        epochs_no_improve += 1\n",
    "        print(f'Validation loss did not improve for {epochs_no_improve} epoch(s).')\n",
    "\n",
    "    if epochs_no_improve >= PATIENCE:\n",
    "        print(f'\\nEarly stopping triggered after {epoch + 1} epochs.')\n",
    "        break\n",
    "\n",
    "training_time = time.time() - start_time\n",
    "print(f\"\\nTraining finished in {training_time:.2f} seconds.\")\n",
    "print(\"-\" * 20)"
   ]
  },
  {
   "cell_type": "code",
   "execution_count": 26,
   "metadata": {},
   "outputs": [],
   "source": [
    "best_model = SimpleNN(INPUT_SIZE, HIDDEN_SIZE, OUTPUT_SIZE).to(device)\n",
    "try:\n",
    "    best_model.load_state_dict(torch.load(best_model_path))\n",
    "except FileNotFoundError:\n",
    "     print(f\"Warning: Best model file '{best_model_path}' not found. Evaluating with the last state.\")\n",
    "     \n",
    "     best_model = model "
   ]
  },
  {
   "cell_type": "code",
   "execution_count": 27,
   "metadata": {},
   "outputs": [
    {
     "name": "stdout",
     "output_type": "stream",
     "text": [
      "\n",
      "--- Test Set Evaluation Results (using best model) ---\n",
      "Test Loss: 3.8886\n",
      "Test Accuracy: 80.00%\n",
      "--------------------\n"
     ]
    }
   ],
   "source": [
    "best_model.eval()  \n",
    "test_loss = 0.0\n",
    "correct_test = 0\n",
    "total_test = 0\n",
    "all_preds = []\n",
    "all_labels = []\n",
    "\n",
    "with torch.no_grad():\n",
    "    for inputs, labels in test_loader:\n",
    "        inputs = inputs.to(device)\n",
    "        labels = labels.to(device)\n",
    "        outputs = best_model(inputs)\n",
    "        loss = criterion(outputs, labels)\n",
    "        test_loss += loss.item()\n",
    "        _, predicted = torch.max(outputs.data, 1)\n",
    "        total_test += labels.size(0)\n",
    "        correct_test += (predicted == labels).sum().item()\n",
    "\n",
    "        \n",
    "        all_preds.extend(predicted.cpu().numpy())\n",
    "        all_labels.extend(labels.cpu().numpy())\n",
    "\n",
    "test_loss /= len(test_loader)\n",
    "test_acc = 100 * correct_test / total_test\n",
    "\n",
    "print(\"\\n--- Test Set Evaluation Results (using best model) ---\")\n",
    "print(f'Test Loss: {test_loss:.4f}')\n",
    "print(f'Test Accuracy: {test_acc:.2f}%')\n",
    "print(\"-\" * 20)"
   ]
  },
  {
   "cell_type": "code",
   "execution_count": 28,
   "metadata": {},
   "outputs": [
    {
     "name": "stdout",
     "output_type": "stream",
     "text": [
      "\n",
      "Classification Report:\n",
      "              precision    recall  f1-score   support\n",
      "\n",
      "         Dos       0.96      0.86      0.91      7459\n",
      "       Probe       0.68      0.77      0.72      2421\n",
      "         R2L       0.77      0.21      0.33      2885\n",
      "         U2R       0.44      0.58      0.50        67\n",
      "      normal       0.74      0.94      0.83      9711\n",
      "\n",
      "    accuracy                           0.80     22543\n",
      "   macro avg       0.72      0.67      0.66     22543\n",
      "weighted avg       0.81      0.80      0.78     22543\n",
      "\n",
      "\n",
      "Confusion Matrix:\n"
     ]
    },
    {
     "data": {
      "image/png": "[encoded data removed]",
      "text/plain": [
       "<Figure size 800x600 with 2 Axes>"
      ]
     },
     "metadata": {},
     "output_type": "display_data"
    }
   ],
   "source": [
    "from sklearn.metrics import classification_report, confusion_matrix\n",
    "import seaborn as sns\n",
    "import matplotlib.pyplot as plt\n",
    "\n",
    "print(\"\\nClassification Report:\")\n",
    "print(classification_report(all_labels, all_preds, target_names=label_encoder.classes_))\n",
    "\n",
    "print(\"\\nConfusion Matrix:\")\n",
    "cm = confusion_matrix(all_labels, all_preds)\n",
    "plt.figure(figsize=(8, 6))\n",
    "sns.heatmap(cm, annot=True, fmt='d', cmap='Blues', xticklabels=label_encoder.classes_, yticklabels=label_encoder.classes_)\n",
    "plt.xlabel('Predicted Label')\n",
    "plt.ylabel('True Label')\n",
    "plt.title('Confusion Matrix')\n",
    "plt.show()"
   ]
  }
 ],
 "metadata": {
  "kernelspec": {
   "display_name": "base",
   "language": "python",
   "name": "python3"
  },
  "language_info": {
   "codemirror_mode": {
    "name": "ipython",
    "version": 3
   },
   "file_extension": ".py",
   "mimetype": "text/x-python",
   "name": "python",
   "nbconvert_exporter": "python",
   "pygments_lexer": "ipython3",
   "version": "3.12.4"
  }
 },
 "nbformat": 4,
 "nbformat_minor": 2
}
