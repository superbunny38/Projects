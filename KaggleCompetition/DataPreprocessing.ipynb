{
  "nbformat": 4,
  "nbformat_minor": 0,
  "metadata": {
    "colab": {
      "provenance": []
    },
    "kernelspec": {
      "name": "python3",
      "display_name": "Python 3"
    },
    "language_info": {
      "name": "python"
    }
  },
  "cells": [
    {
      "cell_type": "code",
      "execution_count": null,
      "metadata": {
        "id": "bjWHbttDjXrl"
      },
      "outputs": [],
      "source": [
        "import numpy as np\n",
        "import pandas as pd\n",
        "import matplotlib.pyplot as plt\n",
        "import os\n",
        "import seaborn as sns\n",
        "import glob"
      ]
    },
    {
      "cell_type": "code",
      "source": [
        "!pwd"
      ],
      "metadata": {
        "colab": {
          "base_uri": "https://localhost:8080/"
        },
        "id": "ZQ_Rauelj_YG",
        "outputId": "3c387c81-8131-4830-9c9b-cba4d2850c11"
      },
      "execution_count": null,
      "outputs": [
        {
          "output_type": "stream",
          "name": "stdout",
          "text": [
            "/content/drive/My Drive/2023/ML-Competitions\n"
          ]
        }
      ]
    },
    {
      "cell_type": "code",
      "source": [
        "%cd /content/drive/MyDrive/2023/ML-Competitions"
      ],
      "metadata": {
        "colab": {
          "base_uri": "https://localhost:8080/"
        },
        "id": "5wWukUsekH0k",
        "outputId": "4da4249c-4138-491d-d5ec-d1e8d06008aa"
      },
      "execution_count": null,
      "outputs": [
        {
          "output_type": "stream",
          "name": "stdout",
          "text": [
            "/content/drive/MyDrive/2023/ML-Competitions\n"
          ]
        }
      ]
    },
    {
      "cell_type": "code",
      "source": [
        "!ls"
      ],
      "metadata": {
        "colab": {
          "base_uri": "https://localhost:8080/"
        },
        "id": "YWE8drprwHzq",
        "outputId": "c95e0141-c1da-41d1-a6db-87b23b787e8c"
      },
      "execution_count": null,
      "outputs": [
        {
          "output_type": "stream",
          "name": "stdout",
          "text": [
            " example_video.csv\t skku-2023-1-machine-learning-first-project.zip\n",
            "'P1GetData&Preprocess'\t test.csv\n",
            " sample_submission.csv\t train\n"
          ]
        }
      ]
    },
    {
      "cell_type": "code",
      "source": [
        "!pwd"
      ],
      "metadata": {
        "colab": {
          "base_uri": "https://localhost:8080/"
        },
        "id": "aNHscJ5_kNU4",
        "outputId": "f5ea65b8-ffad-4a1c-b9d0-182ca0762fa9"
      },
      "execution_count": null,
      "outputs": [
        {
          "output_type": "stream",
          "name": "stdout",
          "text": [
            "/content/drive/MyDrive/2023/ML-Competitions\n"
          ]
        }
      ]
    },
    {
      "cell_type": "code",
      "source": [
        "# !kaggle competitions download -c skku-2023-1-machine-learning-first-project"
      ],
      "metadata": {
        "id": "j39c9ZznjkVs"
      },
      "execution_count": null,
      "outputs": []
    },
    {
      "cell_type": "code",
      "source": [
        "!ls"
      ],
      "metadata": {
        "colab": {
          "base_uri": "https://localhost:8080/"
        },
        "id": "Ny2HfEPwjlMv",
        "outputId": "d0990b44-2f83-4750-b427-e7c20f30b146"
      },
      "execution_count": null,
      "outputs": [
        {
          "output_type": "stream",
          "name": "stdout",
          "text": [
            "'P1GetData&Preprocess'\t skku-2023-1-machine-learning-first-project.zip\n"
          ]
        }
      ]
    },
    {
      "cell_type": "code",
      "source": [
        "!unzip skku-2023-1-machine-learning-first-project.zip"
      ],
      "metadata": {
        "colab": {
          "base_uri": "https://localhost:8080/"
        },
        "id": "qCC-jOBfkPuQ",
        "outputId": "0cd26f00-3034-4792-e615-247638ee392a"
      },
      "execution_count": null,
      "outputs": [
        {
          "output_type": "stream",
          "name": "stdout",
          "text": [
            "Archive:  skku-2023-1-machine-learning-first-project.zip\n",
            "  inflating: example_video.csv       \n",
            "  inflating: sample_submission.csv   \n",
            "  inflating: test.csv                \n",
            "  inflating: train/bulk_115s_01.csv  \n",
            "  inflating: train/bulk_130s_01.csv  \n",
            "  inflating: train/bulk_170s_01.csv  \n",
            "  inflating: train/bulk_xs_01.csv    \n",
            "  inflating: train/bulk_xs_02.csv    \n",
            "  inflating: train/bulk_xs_03.csv    \n",
            "  inflating: train/bulk_xs_04.csv    \n",
            "  inflating: train/bulk_xs_05.csv    \n",
            "  inflating: train/bulk_xs_06.csv    \n",
            "  inflating: train/bulk_xs_07.csv    \n",
            "  inflating: train/bulk_xs_08.csv    \n",
            "  inflating: train/bulk_xs_09.csv    \n",
            "  inflating: train/bulk_xs_10.csv    \n",
            "  inflating: train/bulk_xs_11.csv    \n",
            "  inflating: train/bulk_xs_12.csv    \n",
            "  inflating: train/bulk_xs_16.csv    \n",
            "  inflating: train/interactive_01.csv  \n",
            "  inflating: train/interactive_02.csv  \n",
            "  inflating: train/interactive_03.csv  \n",
            "  inflating: train/interactive_04.csv  \n",
            "  inflating: train/interactive_05.csv  \n",
            "  inflating: train/interactive_06.csv  \n",
            "  inflating: train/interactive_07.csv  \n",
            "  inflating: train/interactive_08.csv  \n",
            "  inflating: train/interactive_13.csv  \n",
            "  inflating: train/interactive_14.csv  \n",
            "  inflating: train/interactive_15.csv  \n",
            "  inflating: train/interactive_16.csv  \n",
            "  inflating: train/interactive_17.csv  \n",
            "  inflating: train/interactive_18.csv  \n",
            "  inflating: train/interactive_shell_01.csv  \n",
            "  inflating: train/interactive_shell_02.csv  \n",
            "  inflating: train/interactive_shell_03.csv  \n",
            "  inflating: train/interactive_shell_04.csv  \n",
            "  inflating: train/interactive_shell_05.csv  \n",
            "  inflating: train/interactive_shell_06.csv  \n",
            "  inflating: train/interactive_shell_07.csv  \n",
            "  inflating: train/interactive_shell_08.csv  \n",
            "  inflating: train/interactive_shell_09.csv  \n",
            "  inflating: train/interactive_shell_10.csv  \n",
            "  inflating: train/interactive_shell_11.csv  \n",
            "  inflating: train/interactive_shell_12.csv  \n",
            "  inflating: train/interactive_shell_13.csv  \n",
            "  inflating: train/interactive_shell_14.csv  \n",
            "  inflating: train/interactive_shell_15.csv  \n",
            "  inflating: train/interactive_shell_16.csv  \n",
            "  inflating: train/interactive_shell_17.csv  \n",
            "  inflating: train/interactive_shell_18.csv  \n",
            "  inflating: train/interactive_shell_19.csv  \n",
            "  inflating: train/interactive_shell_20.csv  \n",
            "  inflating: train/video_180s1080p_01.csv  \n",
            "  inflating: train/video_180s1080p_02.csv  \n",
            "  inflating: train/video_180s1080p_03.csv  \n",
            "  inflating: train/video_180s1080p_04.csv  \n",
            "  inflating: train/video_180s1080p_05.csv  \n",
            "  inflating: train/video_180s480p_01.csv  \n",
            "  inflating: train/video_180s480p_02.csv  \n",
            "  inflating: train/video_180s720p_01.csv  \n",
            "  inflating: train/video_180s720p_02.csv  \n",
            "  inflating: train/video_180s720p_03.csv  \n",
            "  inflating: train/video_180s720p_04.csv  \n",
            "  inflating: train/video_180s720p_05.csv  \n",
            "  inflating: train/video_180s720p_06.csv  \n",
            "  inflating: train/video_180s720p_07.csv  \n",
            "  inflating: train/video_210s480p_01.csv  \n",
            "  inflating: train/web_1page_04.csv  \n",
            "  inflating: train/web_1page_05.csv  \n",
            "  inflating: train/web_1page_06.csv  \n",
            "  inflating: train/web_1page_07.csv  \n",
            "  inflating: train/web_2page_01.csv  \n",
            "  inflating: train/web_2page_02.csv  \n",
            "  inflating: train/web_2page_03.csv  \n",
            "  inflating: train/web_2page_04.csv  \n",
            "  inflating: train/web_2page_05.csv  \n",
            "  inflating: train/web_2page_06.csv  \n",
            "  inflating: train/web_3page_01.csv  \n",
            "  inflating: train/web_3page_02.csv  \n",
            "  inflating: train/web_3page_03.csv  \n",
            "  inflating: train/web_3page_04.csv  \n",
            "  inflating: train/web_multiple_01.csv  \n",
            "  inflating: train/web_multiple_02.csv  \n",
            "  inflating: train/web_multiple_04.csv  \n",
            "  inflating: train/web_multiple_05.csv  \n",
            "  inflating: train/web_multiple_06.csv  \n"
          ]
        }
      ]
    },
    {
      "cell_type": "code",
      "source": [
        "!ls"
      ],
      "metadata": {
        "colab": {
          "base_uri": "https://localhost:8080/"
        },
        "id": "qBHfGvpAkS2S",
        "outputId": "06090084-eedf-455b-c3b2-8b408ac4e6f1"
      },
      "execution_count": null,
      "outputs": [
        {
          "output_type": "stream",
          "name": "stdout",
          "text": [
            " example_video.csv\t skku-2023-1-machine-learning-first-project.zip\n",
            "'P1GetData&Preprocess'\t test.csv\n",
            " sample_submission.csv\t train\n"
          ]
        }
      ]
    },
    {
      "cell_type": "code",
      "source": [
        "os.listdir('./train')"
      ],
      "metadata": {
        "colab": {
          "base_uri": "https://localhost:8080/"
        },
        "id": "3QstorOEkXhQ",
        "outputId": "5b769487-80f5-4d1b-8335-f3e45bed7794"
      },
      "execution_count": null,
      "outputs": [
        {
          "output_type": "execute_result",
          "data": {
            "text/plain": [
              "['bulk_115s_01.csv',\n",
              " 'bulk_130s_01.csv',\n",
              " 'bulk_170s_01.csv',\n",
              " 'bulk_xs_01.csv',\n",
              " 'bulk_xs_02.csv',\n",
              " 'bulk_xs_03.csv',\n",
              " 'bulk_xs_04.csv',\n",
              " 'bulk_xs_05.csv',\n",
              " 'bulk_xs_06.csv',\n",
              " 'bulk_xs_07.csv',\n",
              " 'bulk_xs_08.csv',\n",
              " 'bulk_xs_09.csv',\n",
              " 'bulk_xs_10.csv',\n",
              " 'bulk_xs_11.csv',\n",
              " 'bulk_xs_12.csv',\n",
              " 'bulk_xs_16.csv',\n",
              " 'interactive_01.csv',\n",
              " 'interactive_02.csv',\n",
              " 'interactive_03.csv',\n",
              " 'interactive_04.csv',\n",
              " 'interactive_05.csv',\n",
              " 'interactive_06.csv',\n",
              " 'interactive_07.csv',\n",
              " 'interactive_08.csv',\n",
              " 'interactive_13.csv',\n",
              " 'interactive_14.csv',\n",
              " 'interactive_15.csv',\n",
              " 'interactive_16.csv',\n",
              " 'interactive_17.csv',\n",
              " 'interactive_18.csv',\n",
              " 'interactive_shell_01.csv',\n",
              " 'interactive_shell_02.csv',\n",
              " 'interactive_shell_03.csv',\n",
              " 'interactive_shell_04.csv',\n",
              " 'interactive_shell_05.csv',\n",
              " 'interactive_shell_06.csv',\n",
              " 'interactive_shell_07.csv',\n",
              " 'interactive_shell_08.csv',\n",
              " 'interactive_shell_09.csv',\n",
              " 'interactive_shell_10.csv',\n",
              " 'interactive_shell_11.csv',\n",
              " 'interactive_shell_12.csv',\n",
              " 'interactive_shell_13.csv',\n",
              " 'interactive_shell_14.csv',\n",
              " 'interactive_shell_15.csv',\n",
              " 'interactive_shell_16.csv',\n",
              " 'interactive_shell_17.csv',\n",
              " 'interactive_shell_18.csv',\n",
              " 'interactive_shell_19.csv',\n",
              " 'interactive_shell_20.csv',\n",
              " 'video_180s1080p_01.csv',\n",
              " 'video_180s1080p_02.csv',\n",
              " 'video_180s1080p_03.csv',\n",
              " 'video_180s1080p_04.csv',\n",
              " 'video_180s1080p_05.csv',\n",
              " 'video_180s480p_01.csv',\n",
              " 'video_180s480p_02.csv',\n",
              " 'video_180s720p_01.csv',\n",
              " 'video_180s720p_02.csv',\n",
              " 'video_180s720p_03.csv',\n",
              " 'video_180s720p_04.csv',\n",
              " 'video_180s720p_05.csv',\n",
              " 'video_180s720p_06.csv',\n",
              " 'video_180s720p_07.csv',\n",
              " 'video_210s480p_01.csv',\n",
              " 'web_1page_04.csv',\n",
              " 'web_1page_05.csv',\n",
              " 'web_1page_06.csv',\n",
              " 'web_1page_07.csv',\n",
              " 'web_2page_01.csv',\n",
              " 'web_2page_02.csv',\n",
              " 'web_2page_03.csv',\n",
              " 'web_2page_04.csv',\n",
              " 'web_2page_05.csv',\n",
              " 'web_2page_06.csv',\n",
              " 'web_3page_01.csv',\n",
              " 'web_3page_02.csv',\n",
              " 'web_3page_03.csv',\n",
              " 'web_3page_04.csv',\n",
              " 'web_multiple_01.csv',\n",
              " 'web_multiple_02.csv',\n",
              " 'web_multiple_04.csv',\n",
              " 'web_multiple_05.csv',\n",
              " 'web_multiple_06.csv']"
            ]
          },
          "metadata": {},
          "execution_count": 11
        }
      ]
    },
    {
      "cell_type": "markdown",
      "source": [
        "# 1) 데이터 타입 식별\n",
        "\n",
        "데이터는 interaction, bulk, video, web 총 4가지 type으로 이뤄져 있습니다. csv 파일명 맨 앞 글자가 해당 type을 나타냅니다.\n",
        "interactive: 0, bulk: 1, video: 2, web: 3"
      ],
      "metadata": {
        "id": "QEDYs1aYk0YP"
      }
    },
    {
      "cell_type": "code",
      "source": [
        "csv_names = []\n",
        "\n",
        "for csv_name in sorted(glob.glob('./train/*')):\n",
        "  type_ = csv_name.split('/')[-1].split('_')[0]\n",
        "  csv_names.append(type_)\n",
        "\n",
        "np.unique(csv_names)"
      ],
      "metadata": {
        "colab": {
          "base_uri": "https://localhost:8080/"
        },
        "id": "9dgABoQ3kgbC",
        "outputId": "36f0a762-a27c-4a5c-c378-3f3300ee302f"
      },
      "execution_count": null,
      "outputs": [
        {
          "output_type": "execute_result",
          "data": {
            "text/plain": [
              "array(['bulk', 'interactive', 'video', 'web'], dtype='<U11')"
            ]
          },
          "metadata": {},
          "execution_count": 75
        }
      ]
    },
    {
      "cell_type": "code",
      "source": [
        "csv_name"
      ],
      "metadata": {
        "colab": {
          "base_uri": "https://localhost:8080/",
          "height": 35
        },
        "id": "THMPr39DlTNL",
        "outputId": "8d0a55a2-7e69-4c0d-afcb-fc274740c3c4"
      },
      "execution_count": null,
      "outputs": [
        {
          "output_type": "execute_result",
          "data": {
            "text/plain": [
              "'./train/web_multiple_06.csv'"
            ],
            "application/vnd.google.colaboratory.intrinsic+json": {
              "type": "string"
            }
          },
          "metadata": {},
          "execution_count": 76
        }
      ]
    },
    {
      "cell_type": "code",
      "source": [
        "pd.read_csv(csv_name).head()"
      ],
      "metadata": {
        "colab": {
          "base_uri": "https://localhost:8080/",
          "height": 206
        },
        "id": "o1QBWmD3lJQG",
        "outputId": "2829ff36-cbca-4312-b132-a5e34302501c"
      },
      "execution_count": null,
      "outputs": [
        {
          "output_type": "execute_result",
          "data": {
            "text/plain": [
              "           time  proto  data_len           ip_src           ip_dst  src_port  \\\n",
              "0  1.554879e+09      6        39    192.168.1.149  108.246.187.137     43588   \n",
              "1  1.554879e+09      6        46    192.168.1.149    186.211.64.67     46280   \n",
              "2  1.554879e+09      6         6  108.246.187.137    192.168.1.149       443   \n",
              "3  1.554879e+09      6        39  108.246.187.137    192.168.1.149       443   \n",
              "4  1.554879e+09      6        46    186.211.64.67    192.168.1.149       443   \n",
              "\n",
              "   dst_port  \n",
              "0       443  \n",
              "1       443  \n",
              "2     43588  \n",
              "3     43588  \n",
              "4     46280  "
            ],
            "text/html": [
              "\n",
              "  <div id=\"df-9758bd33-18ef-4db1-af60-d80bf7df9283\">\n",
              "    <div class=\"colab-df-container\">\n",
              "      <div>\n",
              "<style scoped>\n",
              "    .dataframe tbody tr th:only-of-type {\n",
              "        vertical-align: middle;\n",
              "    }\n",
              "\n",
              "    .dataframe tbody tr th {\n",
              "        vertical-align: top;\n",
              "    }\n",
              "\n",
              "    .dataframe thead th {\n",
              "        text-align: right;\n",
              "    }\n",
              "</style>\n",
              "<table border=\"1\" class=\"dataframe\">\n",
              "  <thead>\n",
              "    <tr style=\"text-align: right;\">\n",
              "      <th></th>\n",
              "      <th>time</th>\n",
              "      <th>proto</th>\n",
              "      <th>data_len</th>\n",
              "      <th>ip_src</th>\n",
              "      <th>ip_dst</th>\n",
              "      <th>src_port</th>\n",
              "      <th>dst_port</th>\n",
              "    </tr>\n",
              "  </thead>\n",
              "  <tbody>\n",
              "    <tr>\n",
              "      <th>0</th>\n",
              "      <td>1.554879e+09</td>\n",
              "      <td>6</td>\n",
              "      <td>39</td>\n",
              "      <td>192.168.1.149</td>\n",
              "      <td>108.246.187.137</td>\n",
              "      <td>43588</td>\n",
              "      <td>443</td>\n",
              "    </tr>\n",
              "    <tr>\n",
              "      <th>1</th>\n",
              "      <td>1.554879e+09</td>\n",
              "      <td>6</td>\n",
              "      <td>46</td>\n",
              "      <td>192.168.1.149</td>\n",
              "      <td>186.211.64.67</td>\n",
              "      <td>46280</td>\n",
              "      <td>443</td>\n",
              "    </tr>\n",
              "    <tr>\n",
              "      <th>2</th>\n",
              "      <td>1.554879e+09</td>\n",
              "      <td>6</td>\n",
              "      <td>6</td>\n",
              "      <td>108.246.187.137</td>\n",
              "      <td>192.168.1.149</td>\n",
              "      <td>443</td>\n",
              "      <td>43588</td>\n",
              "    </tr>\n",
              "    <tr>\n",
              "      <th>3</th>\n",
              "      <td>1.554879e+09</td>\n",
              "      <td>6</td>\n",
              "      <td>39</td>\n",
              "      <td>108.246.187.137</td>\n",
              "      <td>192.168.1.149</td>\n",
              "      <td>443</td>\n",
              "      <td>43588</td>\n",
              "    </tr>\n",
              "    <tr>\n",
              "      <th>4</th>\n",
              "      <td>1.554879e+09</td>\n",
              "      <td>6</td>\n",
              "      <td>46</td>\n",
              "      <td>186.211.64.67</td>\n",
              "      <td>192.168.1.149</td>\n",
              "      <td>443</td>\n",
              "      <td>46280</td>\n",
              "    </tr>\n",
              "  </tbody>\n",
              "</table>\n",
              "</div>\n",
              "      <button class=\"colab-df-convert\" onclick=\"convertToInteractive('df-9758bd33-18ef-4db1-af60-d80bf7df9283')\"\n",
              "              title=\"Convert this dataframe to an interactive table.\"\n",
              "              style=\"display:none;\">\n",
              "        \n",
              "  <svg xmlns=\"http://www.w3.org/2000/svg\" height=\"24px\"viewBox=\"0 0 24 24\"\n",
              "       width=\"24px\">\n",
              "    <path d=\"M0 0h24v24H0V0z\" fill=\"none\"/>\n",
              "    <path d=\"M18.56 5.44l.94 2.06.94-2.06 2.06-.94-2.06-.94-.94-2.06-.94 2.06-2.06.94zm-11 1L8.5 8.5l.94-2.06 2.06-.94-2.06-.94L8.5 2.5l-.94 2.06-2.06.94zm10 10l.94 2.06.94-2.06 2.06-.94-2.06-.94-.94-2.06-.94 2.06-2.06.94z\"/><path d=\"M17.41 7.96l-1.37-1.37c-.4-.4-.92-.59-1.43-.59-.52 0-1.04.2-1.43.59L10.3 9.45l-7.72 7.72c-.78.78-.78 2.05 0 2.83L4 21.41c.39.39.9.59 1.41.59.51 0 1.02-.2 1.41-.59l7.78-7.78 2.81-2.81c.8-.78.8-2.07 0-2.86zM5.41 20L4 18.59l7.72-7.72 1.47 1.35L5.41 20z\"/>\n",
              "  </svg>\n",
              "      </button>\n",
              "      \n",
              "  <style>\n",
              "    .colab-df-container {\n",
              "      display:flex;\n",
              "      flex-wrap:wrap;\n",
              "      gap: 12px;\n",
              "    }\n",
              "\n",
              "    .colab-df-convert {\n",
              "      background-color: #E8F0FE;\n",
              "      border: none;\n",
              "      border-radius: 50%;\n",
              "      cursor: pointer;\n",
              "      display: none;\n",
              "      fill: #1967D2;\n",
              "      height: 32px;\n",
              "      padding: 0 0 0 0;\n",
              "      width: 32px;\n",
              "    }\n",
              "\n",
              "    .colab-df-convert:hover {\n",
              "      background-color: #E2EBFA;\n",
              "      box-shadow: 0px 1px 2px rgba(60, 64, 67, 0.3), 0px 1px 3px 1px rgba(60, 64, 67, 0.15);\n",
              "      fill: #174EA6;\n",
              "    }\n",
              "\n",
              "    [theme=dark] .colab-df-convert {\n",
              "      background-color: #3B4455;\n",
              "      fill: #D2E3FC;\n",
              "    }\n",
              "\n",
              "    [theme=dark] .colab-df-convert:hover {\n",
              "      background-color: #434B5C;\n",
              "      box-shadow: 0px 1px 3px 1px rgba(0, 0, 0, 0.15);\n",
              "      filter: drop-shadow(0px 1px 2px rgba(0, 0, 0, 0.3));\n",
              "      fill: #FFFFFF;\n",
              "    }\n",
              "  </style>\n",
              "\n",
              "      <script>\n",
              "        const buttonEl =\n",
              "          document.querySelector('#df-9758bd33-18ef-4db1-af60-d80bf7df9283 button.colab-df-convert');\n",
              "        buttonEl.style.display =\n",
              "          google.colab.kernel.accessAllowed ? 'block' : 'none';\n",
              "\n",
              "        async function convertToInteractive(key) {\n",
              "          const element = document.querySelector('#df-9758bd33-18ef-4db1-af60-d80bf7df9283');\n",
              "          const dataTable =\n",
              "            await google.colab.kernel.invokeFunction('convertToInteractive',\n",
              "                                                     [key], {});\n",
              "          if (!dataTable) return;\n",
              "\n",
              "          const docLinkHtml = 'Like what you see? Visit the ' +\n",
              "            '<a target=\"_blank\" href=https://colab.research.google.com/notebooks/data_table.ipynb>data table notebook</a>'\n",
              "            + ' to learn more about interactive tables.';\n",
              "          element.innerHTML = '';\n",
              "          dataTable['output_type'] = 'display_data';\n",
              "          await google.colab.output.renderOutput(dataTable, element);\n",
              "          const docLink = document.createElement('div');\n",
              "          docLink.innerHTML = docLinkHtml;\n",
              "          element.appendChild(docLink);\n",
              "        }\n",
              "      </script>\n",
              "    </div>\n",
              "  </div>\n",
              "  "
            ]
          },
          "metadata": {},
          "execution_count": 77
        }
      ]
    },
    {
      "cell_type": "markdown",
      "source": [
        "# 2) 시간 변경\n",
        "\n",
        "time 컬럼의 시간은 strtime의 형태입니다. 이를 %Y/%m/%d %H:%M:%S 형태로 변경해주세요."
      ],
      "metadata": {
        "id": "opZCI8sylukQ"
      }
    },
    {
      "cell_type": "code",
      "source": [
        "sample_df = pd.read_csv(csv_name)"
      ],
      "metadata": {
        "id": "h0Wu6xeMwuGd"
      },
      "execution_count": null,
      "outputs": []
    },
    {
      "cell_type": "code",
      "source": [
        "sample_df.time.dtype"
      ],
      "metadata": {
        "colab": {
          "base_uri": "https://localhost:8080/"
        },
        "id": "7jLqQgOOxAAD",
        "outputId": "835bf688-c3a3-4f9a-8b9a-81a9ee9f5170"
      },
      "execution_count": null,
      "outputs": [
        {
          "output_type": "execute_result",
          "data": {
            "text/plain": [
              "dtype('float64')"
            ]
          },
          "metadata": {},
          "execution_count": 80
        }
      ]
    },
    {
      "cell_type": "code",
      "source": [
        "sample_df['time'] = pd.to_datetime(sample_df['time'], format='%Y/%m/%d %H:%M:%S', errors='raise')"
      ],
      "metadata": {
        "id": "LFV0k7aUxKsK"
      },
      "execution_count": null,
      "outputs": []
    },
    {
      "cell_type": "code",
      "source": [
        "sample_df.head()"
      ],
      "metadata": {
        "colab": {
          "base_uri": "https://localhost:8080/",
          "height": 206
        },
        "id": "ZL37snDll679",
        "outputId": "2125ed7d-6abc-4df7-b47f-a7975f7d5ff2"
      },
      "execution_count": null,
      "outputs": [
        {
          "output_type": "execute_result",
          "data": {
            "text/plain": [
              "                           time  proto  data_len           ip_src  \\\n",
              "0 1970-01-01 00:00:01.554879149      6        39    192.168.1.149   \n",
              "1 1970-01-01 00:00:01.554879149      6        46    192.168.1.149   \n",
              "2 1970-01-01 00:00:01.554879149      6         6  108.246.187.137   \n",
              "3 1970-01-01 00:00:01.554879149      6        39  108.246.187.137   \n",
              "4 1970-01-01 00:00:01.554879149      6        46    186.211.64.67   \n",
              "\n",
              "            ip_dst  src_port  dst_port  \n",
              "0  108.246.187.137     43588       443  \n",
              "1    186.211.64.67     46280       443  \n",
              "2    192.168.1.149       443     43588  \n",
              "3    192.168.1.149       443     43588  \n",
              "4    192.168.1.149       443     46280  "
            ],
            "text/html": [
              "\n",
              "  <div id=\"df-4a920208-cf35-4de4-be61-42cb8bbf5516\">\n",
              "    <div class=\"colab-df-container\">\n",
              "      <div>\n",
              "<style scoped>\n",
              "    .dataframe tbody tr th:only-of-type {\n",
              "        vertical-align: middle;\n",
              "    }\n",
              "\n",
              "    .dataframe tbody tr th {\n",
              "        vertical-align: top;\n",
              "    }\n",
              "\n",
              "    .dataframe thead th {\n",
              "        text-align: right;\n",
              "    }\n",
              "</style>\n",
              "<table border=\"1\" class=\"dataframe\">\n",
              "  <thead>\n",
              "    <tr style=\"text-align: right;\">\n",
              "      <th></th>\n",
              "      <th>time</th>\n",
              "      <th>proto</th>\n",
              "      <th>data_len</th>\n",
              "      <th>ip_src</th>\n",
              "      <th>ip_dst</th>\n",
              "      <th>src_port</th>\n",
              "      <th>dst_port</th>\n",
              "    </tr>\n",
              "  </thead>\n",
              "  <tbody>\n",
              "    <tr>\n",
              "      <th>0</th>\n",
              "      <td>1970-01-01 00:00:01.554879149</td>\n",
              "      <td>6</td>\n",
              "      <td>39</td>\n",
              "      <td>192.168.1.149</td>\n",
              "      <td>108.246.187.137</td>\n",
              "      <td>43588</td>\n",
              "      <td>443</td>\n",
              "    </tr>\n",
              "    <tr>\n",
              "      <th>1</th>\n",
              "      <td>1970-01-01 00:00:01.554879149</td>\n",
              "      <td>6</td>\n",
              "      <td>46</td>\n",
              "      <td>192.168.1.149</td>\n",
              "      <td>186.211.64.67</td>\n",
              "      <td>46280</td>\n",
              "      <td>443</td>\n",
              "    </tr>\n",
              "    <tr>\n",
              "      <th>2</th>\n",
              "      <td>1970-01-01 00:00:01.554879149</td>\n",
              "      <td>6</td>\n",
              "      <td>6</td>\n",
              "      <td>108.246.187.137</td>\n",
              "      <td>192.168.1.149</td>\n",
              "      <td>443</td>\n",
              "      <td>43588</td>\n",
              "    </tr>\n",
              "    <tr>\n",
              "      <th>3</th>\n",
              "      <td>1970-01-01 00:00:01.554879149</td>\n",
              "      <td>6</td>\n",
              "      <td>39</td>\n",
              "      <td>108.246.187.137</td>\n",
              "      <td>192.168.1.149</td>\n",
              "      <td>443</td>\n",
              "      <td>43588</td>\n",
              "    </tr>\n",
              "    <tr>\n",
              "      <th>4</th>\n",
              "      <td>1970-01-01 00:00:01.554879149</td>\n",
              "      <td>6</td>\n",
              "      <td>46</td>\n",
              "      <td>186.211.64.67</td>\n",
              "      <td>192.168.1.149</td>\n",
              "      <td>443</td>\n",
              "      <td>46280</td>\n",
              "    </tr>\n",
              "  </tbody>\n",
              "</table>\n",
              "</div>\n",
              "      <button class=\"colab-df-convert\" onclick=\"convertToInteractive('df-4a920208-cf35-4de4-be61-42cb8bbf5516')\"\n",
              "              title=\"Convert this dataframe to an interactive table.\"\n",
              "              style=\"display:none;\">\n",
              "        \n",
              "  <svg xmlns=\"http://www.w3.org/2000/svg\" height=\"24px\"viewBox=\"0 0 24 24\"\n",
              "       width=\"24px\">\n",
              "    <path d=\"M0 0h24v24H0V0z\" fill=\"none\"/>\n",
              "    <path d=\"M18.56 5.44l.94 2.06.94-2.06 2.06-.94-2.06-.94-.94-2.06-.94 2.06-2.06.94zm-11 1L8.5 8.5l.94-2.06 2.06-.94-2.06-.94L8.5 2.5l-.94 2.06-2.06.94zm10 10l.94 2.06.94-2.06 2.06-.94-2.06-.94-.94-2.06-.94 2.06-2.06.94z\"/><path d=\"M17.41 7.96l-1.37-1.37c-.4-.4-.92-.59-1.43-.59-.52 0-1.04.2-1.43.59L10.3 9.45l-7.72 7.72c-.78.78-.78 2.05 0 2.83L4 21.41c.39.39.9.59 1.41.59.51 0 1.02-.2 1.41-.59l7.78-7.78 2.81-2.81c.8-.78.8-2.07 0-2.86zM5.41 20L4 18.59l7.72-7.72 1.47 1.35L5.41 20z\"/>\n",
              "  </svg>\n",
              "      </button>\n",
              "      \n",
              "  <style>\n",
              "    .colab-df-container {\n",
              "      display:flex;\n",
              "      flex-wrap:wrap;\n",
              "      gap: 12px;\n",
              "    }\n",
              "\n",
              "    .colab-df-convert {\n",
              "      background-color: #E8F0FE;\n",
              "      border: none;\n",
              "      border-radius: 50%;\n",
              "      cursor: pointer;\n",
              "      display: none;\n",
              "      fill: #1967D2;\n",
              "      height: 32px;\n",
              "      padding: 0 0 0 0;\n",
              "      width: 32px;\n",
              "    }\n",
              "\n",
              "    .colab-df-convert:hover {\n",
              "      background-color: #E2EBFA;\n",
              "      box-shadow: 0px 1px 2px rgba(60, 64, 67, 0.3), 0px 1px 3px 1px rgba(60, 64, 67, 0.15);\n",
              "      fill: #174EA6;\n",
              "    }\n",
              "\n",
              "    [theme=dark] .colab-df-convert {\n",
              "      background-color: #3B4455;\n",
              "      fill: #D2E3FC;\n",
              "    }\n",
              "\n",
              "    [theme=dark] .colab-df-convert:hover {\n",
              "      background-color: #434B5C;\n",
              "      box-shadow: 0px 1px 3px 1px rgba(0, 0, 0, 0.15);\n",
              "      filter: drop-shadow(0px 1px 2px rgba(0, 0, 0, 0.3));\n",
              "      fill: #FFFFFF;\n",
              "    }\n",
              "  </style>\n",
              "\n",
              "      <script>\n",
              "        const buttonEl =\n",
              "          document.querySelector('#df-4a920208-cf35-4de4-be61-42cb8bbf5516 button.colab-df-convert');\n",
              "        buttonEl.style.display =\n",
              "          google.colab.kernel.accessAllowed ? 'block' : 'none';\n",
              "\n",
              "        async function convertToInteractive(key) {\n",
              "          const element = document.querySelector('#df-4a920208-cf35-4de4-be61-42cb8bbf5516');\n",
              "          const dataTable =\n",
              "            await google.colab.kernel.invokeFunction('convertToInteractive',\n",
              "                                                     [key], {});\n",
              "          if (!dataTable) return;\n",
              "\n",
              "          const docLinkHtml = 'Like what you see? Visit the ' +\n",
              "            '<a target=\"_blank\" href=https://colab.research.google.com/notebooks/data_table.ipynb>data table notebook</a>'\n",
              "            + ' to learn more about interactive tables.';\n",
              "          element.innerHTML = '';\n",
              "          dataTable['output_type'] = 'display_data';\n",
              "          await google.colab.output.renderOutput(dataTable, element);\n",
              "          const docLink = document.createElement('div');\n",
              "          docLink.innerHTML = docLinkHtml;\n",
              "          element.appendChild(docLink);\n",
              "        }\n",
              "      </script>\n",
              "    </div>\n",
              "  </div>\n",
              "  "
            ]
          },
          "metadata": {},
          "execution_count": 82
        }
      ]
    },
    {
      "cell_type": "code",
      "source": [
        "sample_df.time.head()"
      ],
      "metadata": {
        "colab": {
          "base_uri": "https://localhost:8080/"
        },
        "id": "9iMSByUKrdR2",
        "outputId": "2050a69d-7bdc-4d1a-ddd5-6b050a289cdd"
      },
      "execution_count": null,
      "outputs": [
        {
          "output_type": "execute_result",
          "data": {
            "text/plain": [
              "0    1970/01/01 00:00:01\n",
              "1    1970/01/01 00:00:01\n",
              "2    1970/01/01 00:00:01\n",
              "3    1970/01/01 00:00:01\n",
              "4    1970/01/01 00:00:01\n",
              "Name: time, dtype: object"
            ]
          },
          "metadata": {},
          "execution_count": 47
        }
      ]
    },
    {
      "cell_type": "code",
      "source": [
        "for file_name in glob.glob('./train/*'):\n",
        "  df = pd.read_csv(file_name)\n",
        "  df['time'] = pd.to_datetime(df['time'], format='%Y/%m/%d %H:%M:%S', errors='raise')\n",
        "  df.to_csv(file_name)"
      ],
      "metadata": {
        "id": "M-t2YrEnrONA"
      },
      "execution_count": null,
      "outputs": []
    },
    {
      "cell_type": "markdown",
      "source": [
        "### 각 type에 해당하는 file 분류해 배열에 저장하기"
      ],
      "metadata": {
        "id": "c-dB715Az_U-"
      }
    },
    {
      "cell_type": "code",
      "source": [
        "types = np.unique(csv_names)\n",
        "types"
      ],
      "metadata": {
        "colab": {
          "base_uri": "https://localhost:8080/"
        },
        "id": "dAvYlp9YoTqO",
        "outputId": "614581a8-0e3e-44d8-e67d-863fdb03399b"
      },
      "execution_count": null,
      "outputs": [
        {
          "output_type": "execute_result",
          "data": {
            "text/plain": [
              "array(['bulk', 'interactive', 'video', 'web'], dtype='<U11')"
            ]
          },
          "metadata": {},
          "execution_count": 84
        }
      ]
    },
    {
      "cell_type": "code",
      "source": [
        "bulk_csv_files = []\n",
        "interactive_csv_files = []\n",
        "video_csv_files = []\n",
        "web_csv_files = []"
      ],
      "metadata": {
        "id": "z1LJYtz5oaXT"
      },
      "execution_count": null,
      "outputs": []
    },
    {
      "cell_type": "code",
      "source": [
        "for csv_file in (glob.glob(\"./train/*\")):\n",
        "  csv_name = csv_file.split('/')[-1].split('_')[0]\n",
        "  if csv_name == 'bulk':\n",
        "    bulk_csv_files.append(csv_file)\n",
        "  elif csv_name == 'interactive':\n",
        "    interactive_csv_files.append(csv_file)\n",
        "  elif csv_name == 'video':\n",
        "    video_csv_files.append(csv_file)\n",
        "  else:\n",
        "    web_csv_files.append(csv_file)"
      ],
      "metadata": {
        "id": "GCLEutruoiLT"
      },
      "execution_count": null,
      "outputs": []
    },
    {
      "cell_type": "markdown",
      "source": [
        "# 3) 그룹별 분할을 통한 data_len의 합 도출\n",
        "\n",
        "각 타입의 각 csv 파일을 하나씩 불러옵니다.\n",
        "time 컬럼과 ip_dst 컬럼을 groupby를 통해 그룹별 분할하여 해당 일자에 대한 data_len 컬럼의 합을 도출합니다. (이때, groupby한 ip_dst의 데이터 개수가 40개 이하인 경우, 해당 ip 데이터는 제거한다.)"
      ],
      "metadata": {
        "id": "jpbpYvKZ0G-f"
      }
    },
    {
      "cell_type": "markdown",
      "source": [
        "# 4) size 11로 data_len 값 windowing 후, 모든 파일 concat\n",
        "\n",
        "각 ip_dst에 대해 11개의 크기로 데이터셋을 window 분할합니다.\n",
        "\n",
        "ex)\n",
        "\n",
        "time | 1 2 3 4 5 6 7 8 9 10\n",
        "\n",
        "len | 3 5 7 1 4 7 9 1 3 4\n",
        "\n",
        "window = 4\n",
        "\n",
        "x_1 = [3, 5, 7, 1]\n",
        "\n",
        "x_2 = [5, 7, 1, 4]\n",
        "\n",
        "x_3 = [7, 1, 4, 7]\n",
        "\n",
        "x_4 = [1, 4, 7, 9] …"
      ],
      "metadata": {
        "id": "FR9H92O81WhV"
      }
    },
    {
      "cell_type": "markdown",
      "source": [
        "# Preprocess Video"
      ],
      "metadata": {
        "id": "6XeewdZ1cu1t"
      }
    },
    {
      "cell_type": "code",
      "source": [
        "slides = dict()\n",
        "window_size = 11\n",
        "for video_file in video_csv_files:\n",
        "  file_name = video_file.split('/')[-1]\n",
        "  df = pd.read_csv(video_file)\n",
        "  df = df.groupby(['ip_dst', 'time'])['data_len'].count().reset_index()\n",
        "  n_row = df.shape[0]\n",
        "  ip_count_dict = dict()\n",
        "  for idx in range(n_row):\n",
        "    if df.iloc[idx]['ip_dst'] in ip_count_dict:\n",
        "      ip_count_dict[df.iloc[idx]['ip_dst']] +=1\n",
        "    else:\n",
        "      ip_count_dict[df.iloc[idx]['ip_dst']] = 1\n",
        "  use_ips = []\n",
        "  for ip,count in ip_count_dict.items():\n",
        "    if count <= 40:\n",
        "      pass\n",
        "    else:\n",
        "      use_ips.append(ip)\n",
        "  arr = []\n",
        "  for use_ip in use_ips:\n",
        "    slide_ = df[df['ip_dst'] == use_ip]\n",
        "    slide_n_row = slide_.shape[0]\n",
        "    for idx in range(slide_n_row-window_size+1):\n",
        "      arr.append(list(slide_['data_len'][idx:idx+window_size]))\n",
        "  arr = np.array(arr)\n",
        "  slides[file_name] = arr"
      ],
      "metadata": {
        "id": "L6UiBv4JUk_C"
      },
      "execution_count": null,
      "outputs": []
    },
    {
      "cell_type": "code",
      "source": [
        "del slides\n",
        "del df\n",
        "del video_file\n",
        "del video_csv_files\n",
        "del arr\n",
        "del slide_\n",
        "del slide_n_row\n",
        "del use_ips"
      ],
      "metadata": {
        "id": "Css-OrhTdLw5"
      },
      "execution_count": null,
      "outputs": []
    },
    {
      "cell_type": "code",
      "source": [
        "len(slides.keys())"
      ],
      "metadata": {
        "colab": {
          "base_uri": "https://localhost:8080/"
        },
        "id": "EnZenbpLXYOP",
        "outputId": "53d0e270-0519-4fcd-8deb-b5fd7941772a"
      },
      "execution_count": null,
      "outputs": [
        {
          "output_type": "execute_result",
          "data": {
            "text/plain": [
              "15"
            ]
          },
          "metadata": {},
          "execution_count": 256
        }
      ]
    },
    {
      "cell_type": "code",
      "source": [
        "for idx, value in enumerate(slides.values()):\n",
        "  if idx == 0:\n",
        "    final_video_df = pd.DataFrame(value)\n",
        "  else:\n",
        "    final_video_df = pd.concat([final_video_df,pd.DataFrame(value)])"
      ],
      "metadata": {
        "id": "xJO4OP-zaXA9"
      },
      "execution_count": null,
      "outputs": []
    },
    {
      "cell_type": "code",
      "source": [
        "final_web_df.to_csv(\"./web_video.csv\",index = False)"
      ],
      "metadata": {
        "id": "zpO0GAEI0bb-"
      },
      "execution_count": null,
      "outputs": []
    },
    {
      "cell_type": "markdown",
      "source": [
        "# Preprocess bulk"
      ],
      "metadata": {
        "id": "c41vM9oMc3zh"
      }
    },
    {
      "cell_type": "code",
      "source": [
        "slides_bulk = dict()\n",
        "window_size = 11\n",
        "for bulk_file in bulk_csv_files:\n",
        "  file_name = bulk_file.split('/')[-1]\n",
        "  df = pd.read_csv(bulk_file)\n",
        "  df = df.groupby(['ip_dst', 'time'])['data_len'].count().reset_index()\n",
        "  n_row = df.shape[0]\n",
        "  ip_count_dict = dict()\n",
        "  for idx in range(n_row):\n",
        "    if df.iloc[idx]['ip_dst'] in ip_count_dict:\n",
        "      ip_count_dict[df.iloc[idx]['ip_dst']] +=1\n",
        "    else:\n",
        "      ip_count_dict[df.iloc[idx]['ip_dst']] = 1\n",
        "  use_ips = []\n",
        "  for ip,count in ip_count_dict.items():\n",
        "    if count <= 40:\n",
        "      pass\n",
        "    else:\n",
        "      use_ips.append(ip)\n",
        "  arr = []\n",
        "  for use_ip in use_ips:\n",
        "    slide_ = df[df['ip_dst'] == use_ip]\n",
        "    slide_n_row = slide_.shape[0]\n",
        "    for idx in range(slide_n_row-window_size+1):\n",
        "      arr.append(list(slide_['data_len'][idx:idx+window_size]))\n",
        "  arr = np.array(arr)\n",
        "  slides_bulk[file_name] = arr"
      ],
      "metadata": {
        "id": "AJRDSi4Tc7ig"
      },
      "execution_count": null,
      "outputs": []
    },
    {
      "cell_type": "code",
      "source": [
        "for idx, value in enumerate(slides_bulk.values()):\n",
        "  if idx == 0:\n",
        "    final_bulk_df = pd.DataFrame(value)\n",
        "  else:\n",
        "    final_bulk_df = pd.concat([final_bulk_df,pd.DataFrame(value)])"
      ],
      "metadata": {
        "id": "Y8M7bbwddVIR"
      },
      "execution_count": null,
      "outputs": []
    },
    {
      "cell_type": "code",
      "source": [
        "final_bulk_df.shape"
      ],
      "metadata": {
        "colab": {
          "base_uri": "https://localhost:8080/"
        },
        "id": "3GwDRg8UdfKg",
        "outputId": "d105ba79-97a0-43ed-de09-652504535e67"
      },
      "execution_count": null,
      "outputs": [
        {
          "output_type": "execute_result",
          "data": {
            "text/plain": [
              "(2943, 11)"
            ]
          },
          "metadata": {},
          "execution_count": 267
        }
      ]
    },
    {
      "cell_type": "code",
      "source": [
        "final_bulk_df.to_csv(\"./bulk_train.csv\",index = False)"
      ],
      "metadata": {
        "id": "d--CyfeIdhAy"
      },
      "execution_count": null,
      "outputs": []
    },
    {
      "cell_type": "markdown",
      "source": [
        "# Preprocess interactive"
      ],
      "metadata": {
        "id": "kFgTWVN_dnCf"
      }
    },
    {
      "cell_type": "code",
      "source": [
        "slides_interactive = dict()\n",
        "window_size = 11\n",
        "for interactive_file in interactive_csv_files:\n",
        "  file_name = interactive_file.split('/')[-1]\n",
        "  df = pd.read_csv(interactive_file)\n",
        "  df = df.groupby(['ip_dst', 'time'])['data_len'].count().reset_index()\n",
        "  n_row = df.shape[0]\n",
        "  ip_count_dict = dict()\n",
        "  for idx in range(n_row):\n",
        "    if df.iloc[idx]['ip_dst'] in ip_count_dict:\n",
        "      ip_count_dict[df.iloc[idx]['ip_dst']] +=1\n",
        "    else:\n",
        "      ip_count_dict[df.iloc[idx]['ip_dst']] = 1\n",
        "  use_ips = []\n",
        "  for ip,count in ip_count_dict.items():\n",
        "    if count <= 40:\n",
        "      pass\n",
        "    else:\n",
        "      use_ips.append(ip)\n",
        "  arr = []\n",
        "  for use_ip in use_ips:\n",
        "    slide_ = df[df['ip_dst'] == use_ip]\n",
        "    slide_n_row = slide_.shape[0]\n",
        "    for idx in range(slide_n_row-window_size+1):\n",
        "      arr.append(list(slide_['data_len'][idx:idx+window_size]))\n",
        "  arr = np.array(arr)\n",
        "  slides_interactive[file_name] = arr"
      ],
      "metadata": {
        "id": "pAv3tLwEdrgW"
      },
      "execution_count": null,
      "outputs": []
    },
    {
      "cell_type": "code",
      "source": [
        "for idx, value in enumerate(slides_interactive.values()):\n",
        "  if idx == 0:\n",
        "    final_interactive_df = pd.DataFrame(value)\n",
        "  else:\n",
        "    final_interactive_df = pd.concat([final_interactive_df,pd.DataFrame(value)])"
      ],
      "metadata": {
        "id": "ZrxPUd9xeTkK"
      },
      "execution_count": null,
      "outputs": []
    },
    {
      "cell_type": "code",
      "source": [
        "final_interactive_df.to_csv(\"./interactive_train.csv\",index = False)"
      ],
      "metadata": {
        "id": "65rZfe3Deb8S"
      },
      "execution_count": null,
      "outputs": []
    },
    {
      "cell_type": "code",
      "source": [
        "final_interactive_df.shape"
      ],
      "metadata": {
        "colab": {
          "base_uri": "https://localhost:8080/"
        },
        "id": "VdTnpYDqegpz",
        "outputId": "b87ca763-6a38-40de-be90-a0dbbd379648"
      },
      "execution_count": null,
      "outputs": [
        {
          "output_type": "execute_result",
          "data": {
            "text/plain": [
              "(7886, 11)"
            ]
          },
          "metadata": {},
          "execution_count": 273
        }
      ]
    },
    {
      "cell_type": "code",
      "source": [],
      "metadata": {
        "id": "ynPFdajAeiKy"
      },
      "execution_count": null,
      "outputs": []
    },
    {
      "cell_type": "markdown",
      "source": [
        "# Preprocess Web"
      ],
      "metadata": {
        "id": "o-pyG4k4elff"
      }
    },
    {
      "cell_type": "code",
      "source": [
        "slides_web = dict()\n",
        "window_size = 11\n",
        "for web_file in web_csv_files:\n",
        "  file_name = web_file.split('/')[-1]\n",
        "  df = pd.read_csv(web_file)\n",
        "  df = df.groupby(['ip_dst', 'time'])['data_len'].count().reset_index()\n",
        "  n_row = df.shape[0]\n",
        "  ip_count_dict = dict()\n",
        "  for idx in range(n_row):\n",
        "    if df.iloc[idx]['ip_dst'] in ip_count_dict:\n",
        "      ip_count_dict[df.iloc[idx]['ip_dst']] +=1\n",
        "    else:\n",
        "      ip_count_dict[df.iloc[idx]['ip_dst']] = 1\n",
        "  use_ips = []\n",
        "  for ip,count in ip_count_dict.items():\n",
        "    if count <= 40:\n",
        "      pass\n",
        "    else:\n",
        "      use_ips.append(ip)\n",
        "  arr = []\n",
        "  for use_ip in use_ips:\n",
        "    slide_ = df[df['ip_dst'] == use_ip]\n",
        "    slide_n_row = slide_.shape[0]\n",
        "    for idx in range(slide_n_row-window_size+1):\n",
        "      arr.append(list(slide_['data_len'][idx:idx+window_size]))\n",
        "  arr = np.array(arr)\n",
        "  slides_web[file_name] = arr"
      ],
      "metadata": {
        "id": "4YXGM9okems0"
      },
      "execution_count": null,
      "outputs": []
    },
    {
      "cell_type": "code",
      "source": [
        "for idx, value in enumerate(slides_web.values()):\n",
        "  if idx == 0:\n",
        "    final_web_df = pd.DataFrame(value)\n",
        "  else:\n",
        "    final_web_df = pd.concat([final_web_df,pd.DataFrame(value)])"
      ],
      "metadata": {
        "id": "2cp1pjudewKi"
      },
      "execution_count": null,
      "outputs": []
    },
    {
      "cell_type": "code",
      "source": [
        "final_web_df.shape"
      ],
      "metadata": {
        "colab": {
          "base_uri": "https://localhost:8080/"
        },
        "id": "4TQQPu1_e2Wm",
        "outputId": "a4922812-b0a4-4b4d-9200-26e82d6cf9f7"
      },
      "execution_count": null,
      "outputs": [
        {
          "output_type": "execute_result",
          "data": {
            "text/plain": [
              "(908, 11)"
            ]
          },
          "metadata": {},
          "execution_count": 276
        }
      ]
    },
    {
      "cell_type": "code",
      "source": [
        "final_web_df.to_csv(\"./web_train.csv\",index = False)"
      ],
      "metadata": {
        "id": "kR-qiN30e38H"
      },
      "execution_count": null,
      "outputs": []
    }
  ]
}