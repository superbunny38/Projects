{
  "cells": [
    {
      "cell_type": "code",
      "execution_count": null,
      "id": "9048ad58",
      "metadata": {
        "id": "9048ad58"
      },
      "outputs": [],
      "source": [
        "import pandas as pd\n",
        "import numpy as np\n",
        "import math\n",
        "import random\n",
        "from tqdm.auto import tqdm\n",
        "import torch"
      ]
    },
    {
      "cell_type": "markdown",
      "id": "03deca85",
      "metadata": {
        "id": "03deca85"
      },
      "source": [
        "# Module"
      ]
    },
    {
      "cell_type": "code",
      "execution_count": null,
      "id": "090ff74a",
      "metadata": {
        "id": "090ff74a"
      },
      "outputs": [],
      "source": [
        "import numpy as np\n",
        "\n",
        "class rbfSVMClassifier:\n",
        "    def __init__(self,n_iters=5, lr = 0.0001, random_seed=3, sigma=1):\n",
        "        self.n_iters = n_iters # 몇 회 반복하여 적절한 값을 찾을지 정하는 파라미터\n",
        "        self.lr = lr  # 학습률과 관련된 파라미터 \n",
        "        self.sigma = sigma\n",
        "        self.random_seed = random_seed\n",
        "        np.random.seed(self.random_seed)\n",
        "\n",
        "    def rbf_kernel(self,x,z):\n",
        "        numer = -(x-z).dot(x-z)\n",
        "        denom = 2*self.sigma**2\n",
        "        return math.exp(numer/denom) \n",
        "    \n",
        "    def sign(self,scalar):\n",
        "        if scalar >= 0:\n",
        "            return 1\n",
        "        else:\n",
        "            return 0\n",
        "    \n",
        "    def update_weight(self,x_i,y_i,i):\n",
        "        summ = 0\n",
        "        if i == 0:\n",
        "            b_next = self.lr*(y_i-self.sign(0))\n",
        "            self.weight = np.append(self.weight,b_next)\n",
        "            return self.weight\n",
        "        else:\n",
        "            for j in range(i):\n",
        "                summ += self.weight[j]*self.rbf_kernel(self.train_x[j],x_i)\n",
        "            b_next = self.lr*(y_i-self.sign(summ))\n",
        "            self.weight =np.append(self.weight,b_next)\n",
        "            return self.weight\n",
        "    \n",
        "    def fit(self, x_, y_orig):\n",
        "        \"\"\"\n",
        "        본 함수는 x, y를 활용하여 훈련하는 과정을 코딩하는 부분입니다.\n",
        "        아래 reference 사이트의 gradient 계산 부분을 참고하세요.\n",
        "        reference: https://towardsdatascience.com/support-vector-machine-introduction-to-machine-learning-algorithms-934a444fca47\n",
        "        아래 총 6개의 None 부분을 채우시면 됩니다.\n",
        "\n",
        "        \"\"\"\n",
        "        n_samples, n_features = x_.shape\n",
        "        # hint: y값을 SVM 계산에 활용해주기 위하여 0에 해당하는 y값들을 -1로 변환\n",
        "        y_ =  np.array(y_orig)#numpy array의 y를 y_에 담아줍니다       \n",
        "        y_[y_ == 0] = -1#0에 해당하는 y_값들을 -1로 변환합니다.\n",
        "        \n",
        "        self.weight = np.array([])\n",
        "        \n",
        "        n_label = np.sum((y_==1)*1)\n",
        "        \n",
        "        for _ in tqdm(range(self.n_iters),leave =False, colour = \"cyan\", desc = f\"training for {self.n_iters} iterations\"):\n",
        "            \n",
        "            ###### Oversampling #######\n",
        "            non_label_indices = np.where(y_ == -1)[0]\n",
        "            label_indices = np.where(y_ != -1)[0]\n",
        "            more_sample_n = len(non_label_indices)-len(label_indices)\n",
        "            n_iter = _\n",
        "            if more_sample_n <0:\n",
        "                more_sample_indices = np.random.choice(non_label_indices,size = -more_sample_n,replace = False)\n",
        "            else:\n",
        "                more_sample_indices = np.random.choice(label_indices,size = more_sample_n,replace = True)\n",
        "            x = np.vstack([x_,x_[more_sample_indices,:]])\n",
        "            y = np.concatenate([y_,y_[more_sample_indices]])\n",
        "            self.train_x = x\n",
        "            self.train_y = y \n",
        "            n_samples_oversampled = len(y)\n",
        "            assert Counter(y)[list(Counter(y).keys())[0]] == Counter(y)[list(Counter(y).keys())[1]]\n",
        "            assert x.shape[0] == y.shape[0]\n",
        "            for i in tqdm(range(n_samples_oversampled),leave = False,colour = \"green\",desc = \"updating through all train data\"):\n",
        "                x_i = x[i]\n",
        "                y_i = y[i]\n",
        "                #### Update considering gradient\n",
        "                self.weight = self.update_weight(x_i,y_i,i)\n",
        "                \n",
        "        return self.weight\n",
        "    \n",
        "    def predict_(self,x):#predict for single instance\n",
        "        summ = 0\n",
        "        for idx, x_ in enumerate(self.train_x):\n",
        "            summ += self.weight[idx]*self.rbf_kernel(x,x_)\n",
        "        return self.sign(summ)\n",
        "    \n",
        "    def predict(self, x):\n",
        "        n_test_data = x.shape[0]\n",
        "        preds = []\n",
        "        for i in range(n_test_data):\n",
        "            pred = self.predict_(x[i,:])\n",
        "            preds.append(pred)\n",
        "        preds = np.array(preds)\n",
        "        return preds#예측 값을 담은 배열인 approx를 반환합니다\n",
        "    \n",
        "    def sigmoid(self,z):\n",
        "        return 1./(1.+np.exp(-z))\n",
        "    \n",
        "    def get_prob_(self,x_i):\n",
        "        summ = 0\n",
        "        for idx, x_ in enumerte(self.train_x):\n",
        "            summ += self.weight[idx]*self.rbf_kernel(x_i,x_)\n",
        "        return self.sigmoid(summ)\n",
        "    \n",
        "    def get_prob(self,X):\n",
        "        n_test_data = x.shape[0]\n",
        "        probs = []\n",
        "        for i in range(n_test_data):\n",
        "            prob = self.get_prob_(x[i,:])\n",
        "            probs.append(prob)\n",
        "        probs = np.array(probs)\n",
        "        return probs\n",
        "\n",
        "\n",
        "    def get_accuracy(self, y_true, y_pred):\n",
        "        \"\"\"\n",
        "            y_true, y_pred가 들어왔을 때, 정확도를 계산하는 함수.\n",
        "            sklearn의 accuracy_score 사용 불가능 / sklearn의 accuracy_score 함수를 구현한다고 생각하면 됩니다.\n",
        "            넘파이만을 활용하여 정확도 계산 함수를 작성하세요.\n",
        "        \"\"\"\n",
        "        acc = np.sum(y_true == y_pred)/len(y_pred)#예측하고자 하는 전체 데이터 수 개수(len(y_pred)) 중 예측 값과 실제 값이 일치하는 데이터 개수(np.sum(y_true == y_pred))의 비율로 정확도를 계산합니다\n",
        "        return acc #정확도를 담은 acc를 반환합니다\n",
        "\n",
        "\n",
        "class MultiClassSVM:\n",
        "    def __init__(self, kernel='rbf', C=1, gamma=0.1, n_iters = 3):\n",
        "        self.kernel = kernel\n",
        "        self.C = C\n",
        "        self.gamma = gamma\n",
        "        self.svms = []\n",
        "        self.n_iters = n_iters\n",
        "        self.n_classes = 4\n",
        "\n",
        "    def fit(self, X, y):\n",
        "        self.svms = []\n",
        "        n_classes = self.n_classes\n",
        "        for i in tqdm(range(n_classes),leave = False, colour=\"pink\",desc = \"exploring all classes..\"):\n",
        "            y_temp = np.where(y == i, 1, -1)\n",
        "            svm = rbfSVMClassifier(lr=self.C, sigma=self.gamma, n_iters = self.n_iters)\n",
        "            svm.fit(X, y_temp)\n",
        "            self.svms.append(svm)\n",
        "        assert len(self.svms) == self.n_classes\n",
        "    def predict(self, X):\n",
        "        predictions = np.zeros((X.shape[0], self.n_classes))\n",
        "        for i, svm in enumerate(self.svms):\n",
        "            predictions[:, i] = svm.predict(X)\n",
        "        return np.argmax(predictions, axis=1)"
      ]
    },
    {
      "cell_type": "code",
      "execution_count": null,
      "id": "e5ac29ca",
      "metadata": {
        "id": "e5ac29ca",
        "outputId": "0badb315-a89c-45a7-fe62-792fcc0a899c"
      },
      "outputs": [
        {
          "data": {
            "text/html": [
              "<div>\n",
              "<style scoped>\n",
              "    .dataframe tbody tr th:only-of-type {\n",
              "        vertical-align: middle;\n",
              "    }\n",
              "\n",
              "    .dataframe tbody tr th {\n",
              "        vertical-align: top;\n",
              "    }\n",
              "\n",
              "    .dataframe thead th {\n",
              "        text-align: right;\n",
              "    }\n",
              "</style>\n",
              "<table border=\"1\" class=\"dataframe\">\n",
              "  <thead>\n",
              "    <tr style=\"text-align: right;\">\n",
              "      <th></th>\n",
              "      <th>traffic(t-10)</th>\n",
              "      <th>traffic(t-9)</th>\n",
              "      <th>traffic(t-8)</th>\n",
              "      <th>traffic(t-7)</th>\n",
              "      <th>traffic(t-6)</th>\n",
              "      <th>traffic(t-5)</th>\n",
              "      <th>traffic(t-4)</th>\n",
              "      <th>traffic(t-3)</th>\n",
              "      <th>traffic(t-2)</th>\n",
              "      <th>traffic(t-1)</th>\n",
              "      <th>traffic(t)</th>\n",
              "      <th>type</th>\n",
              "    </tr>\n",
              "  </thead>\n",
              "  <tbody>\n",
              "    <tr>\n",
              "      <th>0</th>\n",
              "      <td>3.0</td>\n",
              "      <td>2.0</td>\n",
              "      <td>5.0</td>\n",
              "      <td>6.0</td>\n",
              "      <td>6.0</td>\n",
              "      <td>4.0</td>\n",
              "      <td>6.0</td>\n",
              "      <td>6.0</td>\n",
              "      <td>3.0</td>\n",
              "      <td>12.0</td>\n",
              "      <td>6.0</td>\n",
              "      <td>0</td>\n",
              "    </tr>\n",
              "    <tr>\n",
              "      <th>1</th>\n",
              "      <td>2.0</td>\n",
              "      <td>5.0</td>\n",
              "      <td>6.0</td>\n",
              "      <td>6.0</td>\n",
              "      <td>4.0</td>\n",
              "      <td>6.0</td>\n",
              "      <td>6.0</td>\n",
              "      <td>3.0</td>\n",
              "      <td>12.0</td>\n",
              "      <td>6.0</td>\n",
              "      <td>6.0</td>\n",
              "      <td>0</td>\n",
              "    </tr>\n",
              "    <tr>\n",
              "      <th>2</th>\n",
              "      <td>5.0</td>\n",
              "      <td>6.0</td>\n",
              "      <td>6.0</td>\n",
              "      <td>4.0</td>\n",
              "      <td>6.0</td>\n",
              "      <td>6.0</td>\n",
              "      <td>3.0</td>\n",
              "      <td>12.0</td>\n",
              "      <td>6.0</td>\n",
              "      <td>6.0</td>\n",
              "      <td>4.0</td>\n",
              "      <td>0</td>\n",
              "    </tr>\n",
              "    <tr>\n",
              "      <th>3</th>\n",
              "      <td>6.0</td>\n",
              "      <td>6.0</td>\n",
              "      <td>4.0</td>\n",
              "      <td>6.0</td>\n",
              "      <td>6.0</td>\n",
              "      <td>3.0</td>\n",
              "      <td>12.0</td>\n",
              "      <td>6.0</td>\n",
              "      <td>6.0</td>\n",
              "      <td>4.0</td>\n",
              "      <td>6.0</td>\n",
              "      <td>0</td>\n",
              "    </tr>\n",
              "    <tr>\n",
              "      <th>4</th>\n",
              "      <td>6.0</td>\n",
              "      <td>4.0</td>\n",
              "      <td>6.0</td>\n",
              "      <td>6.0</td>\n",
              "      <td>3.0</td>\n",
              "      <td>12.0</td>\n",
              "      <td>6.0</td>\n",
              "      <td>6.0</td>\n",
              "      <td>4.0</td>\n",
              "      <td>6.0</td>\n",
              "      <td>17.0</td>\n",
              "      <td>0</td>\n",
              "    </tr>\n",
              "  </tbody>\n",
              "</table>\n",
              "</div>"
            ],
            "text/plain": [
              "   traffic(t-10)  traffic(t-9)  traffic(t-8)  traffic(t-7)  traffic(t-6)  \\\n",
              "0            3.0           2.0           5.0           6.0           6.0   \n",
              "1            2.0           5.0           6.0           6.0           4.0   \n",
              "2            5.0           6.0           6.0           4.0           6.0   \n",
              "3            6.0           6.0           4.0           6.0           6.0   \n",
              "4            6.0           4.0           6.0           6.0           3.0   \n",
              "\n",
              "   traffic(t-5)  traffic(t-4)  traffic(t-3)  traffic(t-2)  traffic(t-1)  \\\n",
              "0           4.0           6.0           6.0           3.0          12.0   \n",
              "1           6.0           6.0           3.0          12.0           6.0   \n",
              "2           6.0           3.0          12.0           6.0           6.0   \n",
              "3           3.0          12.0           6.0           6.0           4.0   \n",
              "4          12.0           6.0           6.0           4.0           6.0   \n",
              "\n",
              "   traffic(t)  type  \n",
              "0         6.0     0  \n",
              "1         6.0     0  \n",
              "2         4.0     0  \n",
              "3         6.0     0  \n",
              "4        17.0     0  "
            ]
          },
          "execution_count": 3,
          "metadata": {},
          "output_type": "execute_result"
        }
      ],
      "source": [
        "train_df = pd.read_csv(\"../data/train.csv\")\n",
        "train_df.head()"
      ]
    },
    {
      "cell_type": "code",
      "execution_count": null,
      "id": "ae34fbb0",
      "metadata": {
        "id": "ae34fbb0"
      },
      "outputs": [],
      "source": [
        "X,y = train_df.drop('type',axis = 1).to_numpy(),train_df['type']"
      ]
    },
    {
      "cell_type": "code",
      "execution_count": null,
      "id": "99998bc6",
      "metadata": {
        "id": "99998bc6"
      },
      "outputs": [],
      "source": [
        "X_scaled = (X-X.mean())/X.std()"
      ]
    },
    {
      "cell_type": "code",
      "execution_count": null,
      "id": "8b198bd7",
      "metadata": {
        "id": "8b198bd7",
        "outputId": "fbcc89bc-d2e6-4ee0-a965-ad5b20957a17"
      },
      "outputs": [
        {
          "data": {
            "text/html": [
              "<div>\n",
              "<style scoped>\n",
              "    .dataframe tbody tr th:only-of-type {\n",
              "        vertical-align: middle;\n",
              "    }\n",
              "\n",
              "    .dataframe tbody tr th {\n",
              "        vertical-align: top;\n",
              "    }\n",
              "\n",
              "    .dataframe thead th {\n",
              "        text-align: right;\n",
              "    }\n",
              "</style>\n",
              "<table border=\"1\" class=\"dataframe\">\n",
              "  <thead>\n",
              "    <tr style=\"text-align: right;\">\n",
              "      <th></th>\n",
              "      <th>traffic(t-10)</th>\n",
              "      <th>traffic(t-9)</th>\n",
              "      <th>traffic(t-8)</th>\n",
              "      <th>traffic(t-7)</th>\n",
              "      <th>traffic(t-6)</th>\n",
              "      <th>traffic(t-5)</th>\n",
              "      <th>traffic(t-4)</th>\n",
              "      <th>traffic(t-3)</th>\n",
              "      <th>traffic(t-2)</th>\n",
              "      <th>traffic(t-1)</th>\n",
              "      <th>traffic(t)</th>\n",
              "    </tr>\n",
              "  </thead>\n",
              "  <tbody>\n",
              "    <tr>\n",
              "      <th>0</th>\n",
              "      <td>61.0</td>\n",
              "      <td>26.0</td>\n",
              "      <td>29.0</td>\n",
              "      <td>37.0</td>\n",
              "      <td>20.0</td>\n",
              "      <td>32.0</td>\n",
              "      <td>25.0</td>\n",
              "      <td>25.0</td>\n",
              "      <td>16.0</td>\n",
              "      <td>18.0</td>\n",
              "      <td>22</td>\n",
              "    </tr>\n",
              "    <tr>\n",
              "      <th>1</th>\n",
              "      <td>2.0</td>\n",
              "      <td>10.0</td>\n",
              "      <td>11.0</td>\n",
              "      <td>28.0</td>\n",
              "      <td>21.0</td>\n",
              "      <td>18.0</td>\n",
              "      <td>5.0</td>\n",
              "      <td>6.0</td>\n",
              "      <td>10.0</td>\n",
              "      <td>3.0</td>\n",
              "      <td>7</td>\n",
              "    </tr>\n",
              "    <tr>\n",
              "      <th>2</th>\n",
              "      <td>14.0</td>\n",
              "      <td>1.0</td>\n",
              "      <td>14.0</td>\n",
              "      <td>14.0</td>\n",
              "      <td>14.0</td>\n",
              "      <td>7.0</td>\n",
              "      <td>20.0</td>\n",
              "      <td>14.0</td>\n",
              "      <td>9.0</td>\n",
              "      <td>7.0</td>\n",
              "      <td>20</td>\n",
              "    </tr>\n",
              "    <tr>\n",
              "      <th>3</th>\n",
              "      <td>20.0</td>\n",
              "      <td>7.0</td>\n",
              "      <td>25.0</td>\n",
              "      <td>15.0</td>\n",
              "      <td>21.0</td>\n",
              "      <td>13.0</td>\n",
              "      <td>21.0</td>\n",
              "      <td>14.0</td>\n",
              "      <td>8.0</td>\n",
              "      <td>20.0</td>\n",
              "      <td>14</td>\n",
              "    </tr>\n",
              "    <tr>\n",
              "      <th>4</th>\n",
              "      <td>155.0</td>\n",
              "      <td>71.0</td>\n",
              "      <td>10.0</td>\n",
              "      <td>23.0</td>\n",
              "      <td>480.0</td>\n",
              "      <td>617.0</td>\n",
              "      <td>58.0</td>\n",
              "      <td>1019.0</td>\n",
              "      <td>166.0</td>\n",
              "      <td>2.0</td>\n",
              "      <td>2</td>\n",
              "    </tr>\n",
              "  </tbody>\n",
              "</table>\n",
              "</div>"
            ],
            "text/plain": [
              "   traffic(t-10)  traffic(t-9)  traffic(t-8)  traffic(t-7)  traffic(t-6)  \\\n",
              "0           61.0          26.0          29.0          37.0          20.0   \n",
              "1            2.0          10.0          11.0          28.0          21.0   \n",
              "2           14.0           1.0          14.0          14.0          14.0   \n",
              "3           20.0           7.0          25.0          15.0          21.0   \n",
              "4          155.0          71.0          10.0          23.0         480.0   \n",
              "\n",
              "   traffic(t-5)  traffic(t-4)  traffic(t-3)  traffic(t-2)  traffic(t-1)  \\\n",
              "0          32.0          25.0          25.0          16.0          18.0   \n",
              "1          18.0           5.0           6.0          10.0           3.0   \n",
              "2           7.0          20.0          14.0           9.0           7.0   \n",
              "3          13.0          21.0          14.0           8.0          20.0   \n",
              "4         617.0          58.0        1019.0         166.0           2.0   \n",
              "\n",
              "   traffic(t)  \n",
              "0          22  \n",
              "1           7  \n",
              "2          20  \n",
              "3          14  \n",
              "4           2  "
            ]
          },
          "execution_count": 6,
          "metadata": {},
          "output_type": "execute_result"
        }
      ],
      "source": [
        "test_df = pd.read_csv(\"../data/test.csv\")\n",
        "test_df.head()"
      ]
    },
    {
      "cell_type": "code",
      "execution_count": null,
      "id": "85be84c1",
      "metadata": {
        "id": "85be84c1"
      },
      "outputs": [],
      "source": [
        "X_test = test_df.to_numpy()\n",
        "X_test_scaled = (X_test-X.mean())/X.std()"
      ]
    },
    {
      "cell_type": "code",
      "execution_count": null,
      "id": "6b710a49",
      "metadata": {
        "id": "6b710a49",
        "outputId": "18bea666-5ecd-49c6-8f5b-5c1fcbb81fe8"
      },
      "outputs": [
        {
          "data": {
            "text/plain": [
              "(12645,)"
            ]
          },
          "execution_count": 8,
          "metadata": {},
          "output_type": "execute_result"
        }
      ],
      "source": [
        "y.shape"
      ]
    },
    {
      "cell_type": "code",
      "execution_count": null,
      "id": "743a1c80",
      "metadata": {
        "id": "743a1c80",
        "outputId": "4d40e5fa-78db-468f-a55d-96752d2fa546"
      },
      "outputs": [
        {
          "data": {
            "text/plain": [
              "dict_keys(['C', 'gamma', 'train_acc', 'test_acc', 'best_model'])"
            ]
          },
          "execution_count": 9,
          "metadata": {},
          "output_type": "execute_result"
        }
      ],
      "source": [
        "model_ckpt = torch.load(\"./rbf_multiclass0.90.pt\")\n",
        "model_ckpt.keys()"
      ]
    },
    {
      "cell_type": "code",
      "execution_count": null,
      "id": "c78b2a9e",
      "metadata": {
        "id": "c78b2a9e"
      },
      "outputs": [],
      "source": [
        "model = model_ckpt['best_model']"
      ]
    },
    {
      "cell_type": "code",
      "execution_count": null,
      "id": "8117e248",
      "metadata": {
        "id": "8117e248"
      },
      "outputs": [],
      "source": [
        "model.n_iters = 20"
      ]
    },
    {
      "cell_type": "code",
      "execution_count": null,
      "id": "4e755399",
      "metadata": {
        "colab": {
          "referenced_widgets": [
            ""
          ]
        },
        "id": "4e755399",
        "outputId": "95e34338-0e88-44fd-b159-1a34c069dbbe"
      },
      "outputs": [
        {
          "data": {
            "application/vnd.jupyter.widget-view+json": {
              "model_id": "",
              "version_major": 2,
              "version_minor": 0
            },
            "text/plain": [
              "exploring all classes..:   0%|          | 0/4 [00:00<?, ?it/s]"
            ]
          },
          "metadata": {},
          "output_type": "display_data"
        },
        {
          "data": {
            "application/vnd.jupyter.widget-view+json": {
              "model_id": "",
              "version_major": 2,
              "version_minor": 0
            },
            "text/plain": [
              "training for 20 iterations:   0%|          | 0/20 [00:00<?, ?it/s]"
            ]
          },
          "metadata": {},
          "output_type": "display_data"
        },
        {
          "data": {
            "application/vnd.jupyter.widget-view+json": {
              "model_id": "",
              "version_major": 2,
              "version_minor": 0
            },
            "text/plain": [
              "updating through all train data:   0%|          | 0/15772 [00:00<?, ?it/s]"
            ]
          },
          "metadata": {},
          "output_type": "display_data"
        },
        {
          "data": {
            "application/vnd.jupyter.widget-view+json": {
              "model_id": "",
              "version_major": 2,
              "version_minor": 0
            },
            "text/plain": [
              "updating through all train data:   0%|          | 0/15772 [00:00<?, ?it/s]"
            ]
          },
          "metadata": {},
          "output_type": "display_data"
        },
        {
          "data": {
            "application/vnd.jupyter.widget-view+json": {
              "model_id": "",
              "version_major": 2,
              "version_minor": 0
            },
            "text/plain": [
              "updating through all train data:   0%|          | 0/15772 [00:00<?, ?it/s]"
            ]
          },
          "metadata": {},
          "output_type": "display_data"
        },
        {
          "data": {
            "application/vnd.jupyter.widget-view+json": {
              "model_id": "",
              "version_major": 2,
              "version_minor": 0
            },
            "text/plain": [
              "updating through all train data:   0%|          | 0/15772 [00:00<?, ?it/s]"
            ]
          },
          "metadata": {},
          "output_type": "display_data"
        },
        {
          "data": {
            "application/vnd.jupyter.widget-view+json": {
              "model_id": "",
              "version_major": 2,
              "version_minor": 0
            },
            "text/plain": [
              "updating through all train data:   0%|          | 0/15772 [00:00<?, ?it/s]"
            ]
          },
          "metadata": {},
          "output_type": "display_data"
        },
        {
          "data": {
            "application/vnd.jupyter.widget-view+json": {
              "model_id": "",
              "version_major": 2,
              "version_minor": 0
            },
            "text/plain": [
              "updating through all train data:   0%|          | 0/15772 [00:00<?, ?it/s]"
            ]
          },
          "metadata": {},
          "output_type": "display_data"
        },
        {
          "data": {
            "application/vnd.jupyter.widget-view+json": {
              "model_id": "",
              "version_major": 2,
              "version_minor": 0
            },
            "text/plain": [
              "updating through all train data:   0%|          | 0/15772 [00:00<?, ?it/s]"
            ]
          },
          "metadata": {},
          "output_type": "display_data"
        },
        {
          "data": {
            "application/vnd.jupyter.widget-view+json": {
              "model_id": "",
              "version_major": 2,
              "version_minor": 0
            },
            "text/plain": [
              "updating through all train data:   0%|          | 0/15772 [00:00<?, ?it/s]"
            ]
          },
          "metadata": {},
          "output_type": "display_data"
        },
        {
          "data": {
            "application/vnd.jupyter.widget-view+json": {
              "model_id": "",
              "version_major": 2,
              "version_minor": 0
            },
            "text/plain": [
              "updating through all train data:   0%|          | 0/15772 [00:00<?, ?it/s]"
            ]
          },
          "metadata": {},
          "output_type": "display_data"
        },
        {
          "data": {
            "application/vnd.jupyter.widget-view+json": {
              "model_id": "",
              "version_major": 2,
              "version_minor": 0
            },
            "text/plain": [
              "updating through all train data:   0%|          | 0/15772 [00:00<?, ?it/s]"
            ]
          },
          "metadata": {},
          "output_type": "display_data"
        },
        {
          "data": {
            "application/vnd.jupyter.widget-view+json": {
              "model_id": "",
              "version_major": 2,
              "version_minor": 0
            },
            "text/plain": [
              "updating through all train data:   0%|          | 0/15772 [00:00<?, ?it/s]"
            ]
          },
          "metadata": {},
          "output_type": "display_data"
        },
        {
          "data": {
            "application/vnd.jupyter.widget-view+json": {
              "model_id": "",
              "version_major": 2,
              "version_minor": 0
            },
            "text/plain": [
              "updating through all train data:   0%|          | 0/15772 [00:00<?, ?it/s]"
            ]
          },
          "metadata": {},
          "output_type": "display_data"
        },
        {
          "data": {
            "application/vnd.jupyter.widget-view+json": {
              "model_id": "",
              "version_major": 2,
              "version_minor": 0
            },
            "text/plain": [
              "updating through all train data:   0%|          | 0/15772 [00:00<?, ?it/s]"
            ]
          },
          "metadata": {},
          "output_type": "display_data"
        },
        {
          "data": {
            "application/vnd.jupyter.widget-view+json": {
              "model_id": "",
              "version_major": 2,
              "version_minor": 0
            },
            "text/plain": [
              "updating through all train data:   0%|          | 0/15772 [00:00<?, ?it/s]"
            ]
          },
          "metadata": {},
          "output_type": "display_data"
        },
        {
          "data": {
            "application/vnd.jupyter.widget-view+json": {
              "model_id": "",
              "version_major": 2,
              "version_minor": 0
            },
            "text/plain": [
              "updating through all train data:   0%|          | 0/15772 [00:00<?, ?it/s]"
            ]
          },
          "metadata": {},
          "output_type": "display_data"
        },
        {
          "data": {
            "application/vnd.jupyter.widget-view+json": {
              "model_id": "",
              "version_major": 2,
              "version_minor": 0
            },
            "text/plain": [
              "updating through all train data:   0%|          | 0/15772 [00:00<?, ?it/s]"
            ]
          },
          "metadata": {},
          "output_type": "display_data"
        },
        {
          "data": {
            "application/vnd.jupyter.widget-view+json": {
              "model_id": "",
              "version_major": 2,
              "version_minor": 0
            },
            "text/plain": [
              "updating through all train data:   0%|          | 0/15772 [00:00<?, ?it/s]"
            ]
          },
          "metadata": {},
          "output_type": "display_data"
        },
        {
          "data": {
            "application/vnd.jupyter.widget-view+json": {
              "model_id": "",
              "version_major": 2,
              "version_minor": 0
            },
            "text/plain": [
              "updating through all train data:   0%|          | 0/15772 [00:00<?, ?it/s]"
            ]
          },
          "metadata": {},
          "output_type": "display_data"
        },
        {
          "data": {
            "application/vnd.jupyter.widget-view+json": {
              "model_id": "",
              "version_major": 2,
              "version_minor": 0
            },
            "text/plain": [
              "updating through all train data:   0%|          | 0/15772 [00:00<?, ?it/s]"
            ]
          },
          "metadata": {},
          "output_type": "display_data"
        },
        {
          "data": {
            "application/vnd.jupyter.widget-view+json": {
              "model_id": "",
              "version_major": 2,
              "version_minor": 0
            },
            "text/plain": [
              "updating through all train data:   0%|          | 0/15772 [00:00<?, ?it/s]"
            ]
          },
          "metadata": {},
          "output_type": "display_data"
        },
        {
          "data": {
            "application/vnd.jupyter.widget-view+json": {
              "model_id": "",
              "version_major": 2,
              "version_minor": 0
            },
            "text/plain": [
              "training for 20 iterations:   0%|          | 0/20 [00:00<?, ?it/s]"
            ]
          },
          "metadata": {},
          "output_type": "display_data"
        },
        {
          "data": {
            "application/vnd.jupyter.widget-view+json": {
              "model_id": "",
              "version_major": 2,
              "version_minor": 0
            },
            "text/plain": [
              "updating through all train data:   0%|          | 0/19404 [00:00<?, ?it/s]"
            ]
          },
          "metadata": {},
          "output_type": "display_data"
        },
        {
          "data": {
            "application/vnd.jupyter.widget-view+json": {
              "model_id": "",
              "version_major": 2,
              "version_minor": 0
            },
            "text/plain": [
              "updating through all train data:   0%|          | 0/19404 [00:00<?, ?it/s]"
            ]
          },
          "metadata": {},
          "output_type": "display_data"
        },
        {
          "data": {
            "application/vnd.jupyter.widget-view+json": {
              "model_id": "",
              "version_major": 2,
              "version_minor": 0
            },
            "text/plain": [
              "updating through all train data:   0%|          | 0/19404 [00:00<?, ?it/s]"
            ]
          },
          "metadata": {},
          "output_type": "display_data"
        },
        {
          "data": {
            "application/vnd.jupyter.widget-view+json": {
              "model_id": "",
              "version_major": 2,
              "version_minor": 0
            },
            "text/plain": [
              "updating through all train data:   0%|          | 0/19404 [00:00<?, ?it/s]"
            ]
          },
          "metadata": {},
          "output_type": "display_data"
        },
        {
          "data": {
            "application/vnd.jupyter.widget-view+json": {
              "model_id": "",
              "version_major": 2,
              "version_minor": 0
            },
            "text/plain": [
              "updating through all train data:   0%|          | 0/19404 [00:00<?, ?it/s]"
            ]
          },
          "metadata": {},
          "output_type": "display_data"
        },
        {
          "data": {
            "application/vnd.jupyter.widget-view+json": {
              "model_id": "",
              "version_major": 2,
              "version_minor": 0
            },
            "text/plain": [
              "updating through all train data:   0%|          | 0/19404 [00:00<?, ?it/s]"
            ]
          },
          "metadata": {},
          "output_type": "display_data"
        },
        {
          "data": {
            "application/vnd.jupyter.widget-view+json": {
              "model_id": "",
              "version_major": 2,
              "version_minor": 0
            },
            "text/plain": [
              "updating through all train data:   0%|          | 0/19404 [00:00<?, ?it/s]"
            ]
          },
          "metadata": {},
          "output_type": "display_data"
        },
        {
          "data": {
            "application/vnd.jupyter.widget-view+json": {
              "model_id": "",
              "version_major": 2,
              "version_minor": 0
            },
            "text/plain": [
              "updating through all train data:   0%|          | 0/19404 [00:00<?, ?it/s]"
            ]
          },
          "metadata": {},
          "output_type": "display_data"
        },
        {
          "data": {
            "application/vnd.jupyter.widget-view+json": {
              "model_id": "",
              "version_major": 2,
              "version_minor": 0
            },
            "text/plain": [
              "updating through all train data:   0%|          | 0/19404 [00:00<?, ?it/s]"
            ]
          },
          "metadata": {},
          "output_type": "display_data"
        },
        {
          "data": {
            "application/vnd.jupyter.widget-view+json": {
              "model_id": "",
              "version_major": 2,
              "version_minor": 0
            },
            "text/plain": [
              "updating through all train data:   0%|          | 0/19404 [00:00<?, ?it/s]"
            ]
          },
          "metadata": {},
          "output_type": "display_data"
        },
        {
          "data": {
            "application/vnd.jupyter.widget-view+json": {
              "model_id": "",
              "version_major": 2,
              "version_minor": 0
            },
            "text/plain": [
              "updating through all train data:   0%|          | 0/19404 [00:00<?, ?it/s]"
            ]
          },
          "metadata": {},
          "output_type": "display_data"
        },
        {
          "data": {
            "application/vnd.jupyter.widget-view+json": {
              "model_id": "",
              "version_major": 2,
              "version_minor": 0
            },
            "text/plain": [
              "updating through all train data:   0%|          | 0/19404 [00:00<?, ?it/s]"
            ]
          },
          "metadata": {},
          "output_type": "display_data"
        },
        {
          "data": {
            "application/vnd.jupyter.widget-view+json": {
              "model_id": "",
              "version_major": 2,
              "version_minor": 0
            },
            "text/plain": [
              "updating through all train data:   0%|          | 0/19404 [00:00<?, ?it/s]"
            ]
          },
          "metadata": {},
          "output_type": "display_data"
        },
        {
          "data": {
            "application/vnd.jupyter.widget-view+json": {
              "model_id": "",
              "version_major": 2,
              "version_minor": 0
            },
            "text/plain": [
              "updating through all train data:   0%|          | 0/19404 [00:00<?, ?it/s]"
            ]
          },
          "metadata": {},
          "output_type": "display_data"
        },
        {
          "data": {
            "application/vnd.jupyter.widget-view+json": {
              "model_id": "",
              "version_major": 2,
              "version_minor": 0
            },
            "text/plain": [
              "updating through all train data:   0%|          | 0/19404 [00:00<?, ?it/s]"
            ]
          },
          "metadata": {},
          "output_type": "display_data"
        },
        {
          "data": {
            "application/vnd.jupyter.widget-view+json": {
              "model_id": "",
              "version_major": 2,
              "version_minor": 0
            },
            "text/plain": [
              "updating through all train data:   0%|          | 0/19404 [00:00<?, ?it/s]"
            ]
          },
          "metadata": {},
          "output_type": "display_data"
        },
        {
          "data": {
            "application/vnd.jupyter.widget-view+json": {
              "model_id": "",
              "version_major": 2,
              "version_minor": 0
            },
            "text/plain": [
              "updating through all train data:   0%|          | 0/19404 [00:00<?, ?it/s]"
            ]
          },
          "metadata": {},
          "output_type": "display_data"
        },
        {
          "data": {
            "application/vnd.jupyter.widget-view+json": {
              "model_id": "",
              "version_major": 2,
              "version_minor": 0
            },
            "text/plain": [
              "updating through all train data:   0%|          | 0/19404 [00:00<?, ?it/s]"
            ]
          },
          "metadata": {},
          "output_type": "display_data"
        },
        {
          "data": {
            "application/vnd.jupyter.widget-view+json": {
              "model_id": "",
              "version_major": 2,
              "version_minor": 0
            },
            "text/plain": [
              "updating through all train data:   0%|          | 0/19404 [00:00<?, ?it/s]"
            ]
          },
          "metadata": {},
          "output_type": "display_data"
        },
        {
          "data": {
            "application/vnd.jupyter.widget-view+json": {
              "model_id": "",
              "version_major": 2,
              "version_minor": 0
            },
            "text/plain": [
              "updating through all train data:   0%|          | 0/19404 [00:00<?, ?it/s]"
            ]
          },
          "metadata": {},
          "output_type": "display_data"
        },
        {
          "data": {
            "application/vnd.jupyter.widget-view+json": {
              "model_id": "",
              "version_major": 2,
              "version_minor": 0
            },
            "text/plain": [
              "training for 20 iterations:   0%|          | 0/20 [00:00<?, ?it/s]"
            ]
          },
          "metadata": {},
          "output_type": "display_data"
        },
        {
          "data": {
            "application/vnd.jupyter.widget-view+json": {
              "model_id": "",
              "version_major": 2,
              "version_minor": 0
            },
            "text/plain": [
              "updating through all train data:   0%|          | 0/23474 [00:00<?, ?it/s]"
            ]
          },
          "metadata": {},
          "output_type": "display_data"
        },
        {
          "data": {
            "application/vnd.jupyter.widget-view+json": {
              "model_id": "",
              "version_major": 2,
              "version_minor": 0
            },
            "text/plain": [
              "updating through all train data:   0%|          | 0/23474 [00:00<?, ?it/s]"
            ]
          },
          "metadata": {},
          "output_type": "display_data"
        },
        {
          "data": {
            "application/vnd.jupyter.widget-view+json": {
              "model_id": "",
              "version_major": 2,
              "version_minor": 0
            },
            "text/plain": [
              "updating through all train data:   0%|          | 0/23474 [00:00<?, ?it/s]"
            ]
          },
          "metadata": {},
          "output_type": "display_data"
        },
        {
          "data": {
            "application/vnd.jupyter.widget-view+json": {
              "model_id": "",
              "version_major": 2,
              "version_minor": 0
            },
            "text/plain": [
              "updating through all train data:   0%|          | 0/23474 [00:00<?, ?it/s]"
            ]
          },
          "metadata": {},
          "output_type": "display_data"
        },
        {
          "data": {
            "application/vnd.jupyter.widget-view+json": {
              "model_id": "",
              "version_major": 2,
              "version_minor": 0
            },
            "text/plain": [
              "updating through all train data:   0%|          | 0/23474 [00:00<?, ?it/s]"
            ]
          },
          "metadata": {},
          "output_type": "display_data"
        },
        {
          "data": {
            "application/vnd.jupyter.widget-view+json": {
              "model_id": "",
              "version_major": 2,
              "version_minor": 0
            },
            "text/plain": [
              "updating through all train data:   0%|          | 0/23474 [00:00<?, ?it/s]"
            ]
          },
          "metadata": {},
          "output_type": "display_data"
        },
        {
          "data": {
            "application/vnd.jupyter.widget-view+json": {
              "model_id": "",
              "version_major": 2,
              "version_minor": 0
            },
            "text/plain": [
              "updating through all train data:   0%|          | 0/23474 [00:00<?, ?it/s]"
            ]
          },
          "metadata": {},
          "output_type": "display_data"
        },
        {
          "data": {
            "application/vnd.jupyter.widget-view+json": {
              "model_id": "",
              "version_major": 2,
              "version_minor": 0
            },
            "text/plain": [
              "updating through all train data:   0%|          | 0/23474 [00:00<?, ?it/s]"
            ]
          },
          "metadata": {},
          "output_type": "display_data"
        },
        {
          "data": {
            "application/vnd.jupyter.widget-view+json": {
              "model_id": "",
              "version_major": 2,
              "version_minor": 0
            },
            "text/plain": [
              "updating through all train data:   0%|          | 0/23474 [00:00<?, ?it/s]"
            ]
          },
          "metadata": {},
          "output_type": "display_data"
        },
        {
          "data": {
            "application/vnd.jupyter.widget-view+json": {
              "model_id": "",
              "version_major": 2,
              "version_minor": 0
            },
            "text/plain": [
              "updating through all train data:   0%|          | 0/23474 [00:00<?, ?it/s]"
            ]
          },
          "metadata": {},
          "output_type": "display_data"
        },
        {
          "data": {
            "application/vnd.jupyter.widget-view+json": {
              "model_id": "",
              "version_major": 2,
              "version_minor": 0
            },
            "text/plain": [
              "updating through all train data:   0%|          | 0/23474 [00:00<?, ?it/s]"
            ]
          },
          "metadata": {},
          "output_type": "display_data"
        },
        {
          "data": {
            "application/vnd.jupyter.widget-view+json": {
              "model_id": "",
              "version_major": 2,
              "version_minor": 0
            },
            "text/plain": [
              "updating through all train data:   0%|          | 0/23474 [00:00<?, ?it/s]"
            ]
          },
          "metadata": {},
          "output_type": "display_data"
        },
        {
          "data": {
            "application/vnd.jupyter.widget-view+json": {
              "model_id": "",
              "version_major": 2,
              "version_minor": 0
            },
            "text/plain": [
              "updating through all train data:   0%|          | 0/23474 [00:00<?, ?it/s]"
            ]
          },
          "metadata": {},
          "output_type": "display_data"
        },
        {
          "data": {
            "application/vnd.jupyter.widget-view+json": {
              "model_id": "",
              "version_major": 2,
              "version_minor": 0
            },
            "text/plain": [
              "updating through all train data:   0%|          | 0/23474 [00:00<?, ?it/s]"
            ]
          },
          "metadata": {},
          "output_type": "display_data"
        },
        {
          "data": {
            "application/vnd.jupyter.widget-view+json": {
              "model_id": "",
              "version_major": 2,
              "version_minor": 0
            },
            "text/plain": [
              "updating through all train data:   0%|          | 0/23474 [00:00<?, ?it/s]"
            ]
          },
          "metadata": {},
          "output_type": "display_data"
        },
        {
          "data": {
            "application/vnd.jupyter.widget-view+json": {
              "model_id": "",
              "version_major": 2,
              "version_minor": 0
            },
            "text/plain": [
              "updating through all train data:   0%|          | 0/23474 [00:00<?, ?it/s]"
            ]
          },
          "metadata": {},
          "output_type": "display_data"
        },
        {
          "data": {
            "application/vnd.jupyter.widget-view+json": {
              "model_id": "",
              "version_major": 2,
              "version_minor": 0
            },
            "text/plain": [
              "updating through all train data:   0%|          | 0/23474 [00:00<?, ?it/s]"
            ]
          },
          "metadata": {},
          "output_type": "display_data"
        },
        {
          "data": {
            "application/vnd.jupyter.widget-view+json": {
              "model_id": "",
              "version_major": 2,
              "version_minor": 0
            },
            "text/plain": [
              "updating through all train data:   0%|          | 0/23474 [00:00<?, ?it/s]"
            ]
          },
          "metadata": {},
          "output_type": "display_data"
        },
        {
          "data": {
            "application/vnd.jupyter.widget-view+json": {
              "model_id": "",
              "version_major": 2,
              "version_minor": 0
            },
            "text/plain": [
              "updating through all train data:   0%|          | 0/23474 [00:00<?, ?it/s]"
            ]
          },
          "metadata": {},
          "output_type": "display_data"
        },
        {
          "data": {
            "application/vnd.jupyter.widget-view+json": {
              "model_id": "",
              "version_major": 2,
              "version_minor": 0
            },
            "text/plain": [
              "updating through all train data:   0%|          | 0/23474 [00:00<?, ?it/s]"
            ]
          },
          "metadata": {},
          "output_type": "display_data"
        },
        {
          "data": {
            "application/vnd.jupyter.widget-view+json": {
              "model_id": "",
              "version_major": 2,
              "version_minor": 0
            },
            "text/plain": [
              "training for 20 iterations:   0%|          | 0/20 [00:00<?, ?it/s]"
            ]
          },
          "metadata": {},
          "output_type": "display_data"
        },
        {
          "data": {
            "application/vnd.jupyter.widget-view+json": {
              "model_id": "",
              "version_major": 2,
              "version_minor": 0
            },
            "text/plain": [
              "updating through all train data:   0%|          | 0/23474 [00:00<?, ?it/s]"
            ]
          },
          "metadata": {},
          "output_type": "display_data"
        },
        {
          "data": {
            "application/vnd.jupyter.widget-view+json": {
              "model_id": "",
              "version_major": 2,
              "version_minor": 0
            },
            "text/plain": [
              "updating through all train data:   0%|          | 0/23474 [00:00<?, ?it/s]"
            ]
          },
          "metadata": {},
          "output_type": "display_data"
        },
        {
          "data": {
            "application/vnd.jupyter.widget-view+json": {
              "model_id": "",
              "version_major": 2,
              "version_minor": 0
            },
            "text/plain": [
              "updating through all train data:   0%|          | 0/23474 [00:00<?, ?it/s]"
            ]
          },
          "metadata": {},
          "output_type": "display_data"
        },
        {
          "data": {
            "application/vnd.jupyter.widget-view+json": {
              "model_id": "",
              "version_major": 2,
              "version_minor": 0
            },
            "text/plain": [
              "updating through all train data:   0%|          | 0/23474 [00:00<?, ?it/s]"
            ]
          },
          "metadata": {},
          "output_type": "display_data"
        },
        {
          "data": {
            "application/vnd.jupyter.widget-view+json": {
              "model_id": "",
              "version_major": 2,
              "version_minor": 0
            },
            "text/plain": [
              "updating through all train data:   0%|          | 0/23474 [00:00<?, ?it/s]"
            ]
          },
          "metadata": {},
          "output_type": "display_data"
        },
        {
          "data": {
            "application/vnd.jupyter.widget-view+json": {
              "model_id": "",
              "version_major": 2,
              "version_minor": 0
            },
            "text/plain": [
              "updating through all train data:   0%|          | 0/23474 [00:00<?, ?it/s]"
            ]
          },
          "metadata": {},
          "output_type": "display_data"
        },
        {
          "data": {
            "application/vnd.jupyter.widget-view+json": {
              "model_id": "",
              "version_major": 2,
              "version_minor": 0
            },
            "text/plain": [
              "updating through all train data:   0%|          | 0/23474 [00:00<?, ?it/s]"
            ]
          },
          "metadata": {},
          "output_type": "display_data"
        },
        {
          "data": {
            "application/vnd.jupyter.widget-view+json": {
              "model_id": "",
              "version_major": 2,
              "version_minor": 0
            },
            "text/plain": [
              "updating through all train data:   0%|          | 0/23474 [00:00<?, ?it/s]"
            ]
          },
          "metadata": {},
          "output_type": "display_data"
        },
        {
          "data": {
            "application/vnd.jupyter.widget-view+json": {
              "model_id": "",
              "version_major": 2,
              "version_minor": 0
            },
            "text/plain": [
              "updating through all train data:   0%|          | 0/23474 [00:00<?, ?it/s]"
            ]
          },
          "metadata": {},
          "output_type": "display_data"
        },
        {
          "data": {
            "application/vnd.jupyter.widget-view+json": {
              "model_id": "",
              "version_major": 2,
              "version_minor": 0
            },
            "text/plain": [
              "updating through all train data:   0%|          | 0/23474 [00:00<?, ?it/s]"
            ]
          },
          "metadata": {},
          "output_type": "display_data"
        },
        {
          "data": {
            "application/vnd.jupyter.widget-view+json": {
              "model_id": "",
              "version_major": 2,
              "version_minor": 0
            },
            "text/plain": [
              "updating through all train data:   0%|          | 0/23474 [00:00<?, ?it/s]"
            ]
          },
          "metadata": {},
          "output_type": "display_data"
        },
        {
          "data": {
            "application/vnd.jupyter.widget-view+json": {
              "model_id": "",
              "version_major": 2,
              "version_minor": 0
            },
            "text/plain": [
              "updating through all train data:   0%|          | 0/23474 [00:00<?, ?it/s]"
            ]
          },
          "metadata": {},
          "output_type": "display_data"
        },
        {
          "data": {
            "application/vnd.jupyter.widget-view+json": {
              "model_id": "",
              "version_major": 2,
              "version_minor": 0
            },
            "text/plain": [
              "updating through all train data:   0%|          | 0/23474 [00:00<?, ?it/s]"
            ]
          },
          "metadata": {},
          "output_type": "display_data"
        },
        {
          "data": {
            "application/vnd.jupyter.widget-view+json": {
              "model_id": "",
              "version_major": 2,
              "version_minor": 0
            },
            "text/plain": [
              "updating through all train data:   0%|          | 0/23474 [00:00<?, ?it/s]"
            ]
          },
          "metadata": {},
          "output_type": "display_data"
        },
        {
          "data": {
            "application/vnd.jupyter.widget-view+json": {
              "model_id": "",
              "version_major": 2,
              "version_minor": 0
            },
            "text/plain": [
              "updating through all train data:   0%|          | 0/23474 [00:00<?, ?it/s]"
            ]
          },
          "metadata": {},
          "output_type": "display_data"
        },
        {
          "data": {
            "application/vnd.jupyter.widget-view+json": {
              "model_id": "",
              "version_major": 2,
              "version_minor": 0
            },
            "text/plain": [
              "updating through all train data:   0%|          | 0/23474 [00:00<?, ?it/s]"
            ]
          },
          "metadata": {},
          "output_type": "display_data"
        },
        {
          "data": {
            "application/vnd.jupyter.widget-view+json": {
              "model_id": "",
              "version_major": 2,
              "version_minor": 0
            },
            "text/plain": [
              "updating through all train data:   0%|          | 0/23474 [00:00<?, ?it/s]"
            ]
          },
          "metadata": {},
          "output_type": "display_data"
        },
        {
          "data": {
            "application/vnd.jupyter.widget-view+json": {
              "model_id": "",
              "version_major": 2,
              "version_minor": 0
            },
            "text/plain": [
              "updating through all train data:   0%|          | 0/23474 [00:00<?, ?it/s]"
            ]
          },
          "metadata": {},
          "output_type": "display_data"
        },
        {
          "data": {
            "application/vnd.jupyter.widget-view+json": {
              "model_id": "",
              "version_major": 2,
              "version_minor": 0
            },
            "text/plain": [
              "updating through all train data:   0%|          | 0/23474 [00:00<?, ?it/s]"
            ]
          },
          "metadata": {},
          "output_type": "display_data"
        },
        {
          "data": {
            "application/vnd.jupyter.widget-view+json": {
              "model_id": "",
              "version_major": 2,
              "version_minor": 0
            },
            "text/plain": [
              "updating through all train data:   0%|          | 0/23474 [00:00<?, ?it/s]"
            ]
          },
          "metadata": {},
          "output_type": "display_data"
        }
      ],
      "source": [
        "from collections import Counter\n",
        "model.fit(X_scaled,y)"
      ]
    },
    {
      "cell_type": "code",
      "execution_count": null,
      "id": "e1482bd9",
      "metadata": {
        "id": "e1482bd9"
      },
      "outputs": [],
      "source": [
        "train_preds = model.predict(X_scaled)"
      ]
    },
    {
      "cell_type": "code",
      "execution_count": null,
      "id": "8c32d292",
      "metadata": {
        "id": "8c32d292",
        "outputId": "48425453-e145-4a34-efcc-a8a79e9f8e6c"
      },
      "outputs": [
        {
          "data": {
            "text/plain": [
              "0.9193357058125742"
            ]
          },
          "execution_count": 15,
          "metadata": {},
          "output_type": "execute_result"
        }
      ],
      "source": [
        "np.mean(train_preds == y)#accuracy updated!"
      ]
    },
    {
      "cell_type": "code",
      "execution_count": null,
      "id": "6f94e62a",
      "metadata": {
        "id": "6f94e62a",
        "outputId": "b1cf0af3-dcfc-412c-8c6f-334b74a1e134"
      },
      "outputs": [
        {
          "data": {
            "text/plain": [
              "Counter({1: 203, 2: 207, 3: 610})"
            ]
          },
          "execution_count": 17,
          "metadata": {},
          "output_type": "execute_result"
        }
      ],
      "source": [
        "Counter(y[train_preds != y])"
      ]
    },
    {
      "cell_type": "code",
      "execution_count": null,
      "id": "ec4666d0",
      "metadata": {
        "id": "ec4666d0"
      },
      "outputs": [],
      "source": [
        "np.unique(train_preds)"
      ]
    },
    {
      "cell_type": "code",
      "execution_count": null,
      "id": "f7f514fa",
      "metadata": {
        "id": "f7f514fa"
      },
      "outputs": [],
      "source": [
        "test_preds = model.predict(X_test_scaled)"
      ]
    },
    {
      "cell_type": "code",
      "execution_count": null,
      "id": "3ee381df",
      "metadata": {
        "id": "3ee381df"
      },
      "outputs": [],
      "source": [
        "np.unique(test_preds)"
      ]
    },
    {
      "cell_type": "code",
      "execution_count": null,
      "id": "4c86d592",
      "metadata": {
        "id": "4c86d592"
      },
      "outputs": [],
      "source": [
        "from collections import Counter\n",
        "Counter(test_preds)"
      ]
    },
    {
      "cell_type": "code",
      "execution_count": null,
      "id": "244c2cba",
      "metadata": {
        "id": "244c2cba"
      },
      "outputs": [],
      "source": [
        "np.mean(test_preds == y_pred)"
      ]
    },
    {
      "cell_type": "code",
      "execution_count": null,
      "id": "124bf39a",
      "metadata": {
        "id": "124bf39a"
      },
      "outputs": [],
      "source": [
        "sample_csv = pd.read_csv(\"../data/sample_submission.csv\")\n",
        "sample_csv['type'] = test_preds"
      ]
    },
    {
      "cell_type": "code",
      "execution_count": null,
      "id": "7570fd18",
      "metadata": {
        "id": "7570fd18"
      },
      "outputs": [],
      "source": [
        "sample_csv.to_csv(\"../submissions/ch_submit.csv\",index = False)"
      ]
    },
    {
      "cell_type": "code",
      "execution_count": null,
      "id": "4a43f178",
      "metadata": {
        "id": "4a43f178"
      },
      "outputs": [],
      "source": []
    }
  ],
  "metadata": {
    "kernelspec": {
      "display_name": "Python 3 (ipykernel)",
      "language": "python",
      "name": "python3"
    },
    "language_info": {
      "codemirror_mode": {
        "name": "ipython",
        "version": 3
      },
      "file_extension": ".py",
      "mimetype": "text/x-python",
      "name": "python",
      "nbconvert_exporter": "python",
      "pygments_lexer": "ipython3",
      "version": "3.10.4"
    },
    "colab": {
      "provenance": []
    }
  },
  "nbformat": 4,
  "nbformat_minor": 5
}