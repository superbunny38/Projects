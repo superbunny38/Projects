{
  "cells": [
    {
      "cell_type": "code",
      "execution_count": null,
      "id": "535654a0",
      "metadata": {
        "id": "535654a0"
      },
      "outputs": [],
      "source": [
        "import pandas as pd\n",
        "import numpy as np\n",
        "import matplotlib.pyplot as plt\n",
        "import math\n",
        "import random\n",
        "from tqdm.auto import tqdm"
      ]
    },
    {
      "cell_type": "code",
      "execution_count": null,
      "id": "35d87708",
      "metadata": {
        "id": "35d87708",
        "outputId": "0939cf35-82f5-4baa-d27a-cd5aeddbd330"
      },
      "outputs": [
        {
          "data": {
            "text/html": [
              "<div>\n",
              "<style scoped>\n",
              "    .dataframe tbody tr th:only-of-type {\n",
              "        vertical-align: middle;\n",
              "    }\n",
              "\n",
              "    .dataframe tbody tr th {\n",
              "        vertical-align: top;\n",
              "    }\n",
              "\n",
              "    .dataframe thead th {\n",
              "        text-align: right;\n",
              "    }\n",
              "</style>\n",
              "<table border=\"1\" class=\"dataframe\">\n",
              "  <thead>\n",
              "    <tr style=\"text-align: right;\">\n",
              "      <th></th>\n",
              "      <th>traffic(t-10)</th>\n",
              "      <th>traffic(t-9)</th>\n",
              "      <th>traffic(t-8)</th>\n",
              "      <th>traffic(t-7)</th>\n",
              "      <th>traffic(t-6)</th>\n",
              "      <th>traffic(t-5)</th>\n",
              "      <th>traffic(t-4)</th>\n",
              "      <th>traffic(t-3)</th>\n",
              "      <th>traffic(t-2)</th>\n",
              "      <th>traffic(t-1)</th>\n",
              "      <th>traffic(t)</th>\n",
              "      <th>type</th>\n",
              "    </tr>\n",
              "  </thead>\n",
              "  <tbody>\n",
              "    <tr>\n",
              "      <th>0</th>\n",
              "      <td>3.0</td>\n",
              "      <td>2.0</td>\n",
              "      <td>5.0</td>\n",
              "      <td>6.0</td>\n",
              "      <td>6.0</td>\n",
              "      <td>4.0</td>\n",
              "      <td>6.0</td>\n",
              "      <td>6.0</td>\n",
              "      <td>3.0</td>\n",
              "      <td>12.0</td>\n",
              "      <td>6.0</td>\n",
              "      <td>0</td>\n",
              "    </tr>\n",
              "    <tr>\n",
              "      <th>1</th>\n",
              "      <td>2.0</td>\n",
              "      <td>5.0</td>\n",
              "      <td>6.0</td>\n",
              "      <td>6.0</td>\n",
              "      <td>4.0</td>\n",
              "      <td>6.0</td>\n",
              "      <td>6.0</td>\n",
              "      <td>3.0</td>\n",
              "      <td>12.0</td>\n",
              "      <td>6.0</td>\n",
              "      <td>6.0</td>\n",
              "      <td>0</td>\n",
              "    </tr>\n",
              "    <tr>\n",
              "      <th>2</th>\n",
              "      <td>5.0</td>\n",
              "      <td>6.0</td>\n",
              "      <td>6.0</td>\n",
              "      <td>4.0</td>\n",
              "      <td>6.0</td>\n",
              "      <td>6.0</td>\n",
              "      <td>3.0</td>\n",
              "      <td>12.0</td>\n",
              "      <td>6.0</td>\n",
              "      <td>6.0</td>\n",
              "      <td>4.0</td>\n",
              "      <td>0</td>\n",
              "    </tr>\n",
              "    <tr>\n",
              "      <th>3</th>\n",
              "      <td>6.0</td>\n",
              "      <td>6.0</td>\n",
              "      <td>4.0</td>\n",
              "      <td>6.0</td>\n",
              "      <td>6.0</td>\n",
              "      <td>3.0</td>\n",
              "      <td>12.0</td>\n",
              "      <td>6.0</td>\n",
              "      <td>6.0</td>\n",
              "      <td>4.0</td>\n",
              "      <td>6.0</td>\n",
              "      <td>0</td>\n",
              "    </tr>\n",
              "    <tr>\n",
              "      <th>4</th>\n",
              "      <td>6.0</td>\n",
              "      <td>4.0</td>\n",
              "      <td>6.0</td>\n",
              "      <td>6.0</td>\n",
              "      <td>3.0</td>\n",
              "      <td>12.0</td>\n",
              "      <td>6.0</td>\n",
              "      <td>6.0</td>\n",
              "      <td>4.0</td>\n",
              "      <td>6.0</td>\n",
              "      <td>17.0</td>\n",
              "      <td>0</td>\n",
              "    </tr>\n",
              "  </tbody>\n",
              "</table>\n",
              "</div>"
            ],
            "text/plain": [
              "   traffic(t-10)  traffic(t-9)  traffic(t-8)  traffic(t-7)  traffic(t-6)  \\\n",
              "0            3.0           2.0           5.0           6.0           6.0   \n",
              "1            2.0           5.0           6.0           6.0           4.0   \n",
              "2            5.0           6.0           6.0           4.0           6.0   \n",
              "3            6.0           6.0           4.0           6.0           6.0   \n",
              "4            6.0           4.0           6.0           6.0           3.0   \n",
              "\n",
              "   traffic(t-5)  traffic(t-4)  traffic(t-3)  traffic(t-2)  traffic(t-1)  \\\n",
              "0           4.0           6.0           6.0           3.0          12.0   \n",
              "1           6.0           6.0           3.0          12.0           6.0   \n",
              "2           6.0           3.0          12.0           6.0           6.0   \n",
              "3           3.0          12.0           6.0           6.0           4.0   \n",
              "4          12.0           6.0           6.0           4.0           6.0   \n",
              "\n",
              "   traffic(t)  type  \n",
              "0         6.0     0  \n",
              "1         6.0     0  \n",
              "2         4.0     0  \n",
              "3         6.0     0  \n",
              "4        17.0     0  "
            ]
          },
          "execution_count": 2,
          "metadata": {},
          "output_type": "execute_result"
        }
      ],
      "source": [
        "train_df = pd.read_csv(\"./data/train.csv\")\n",
        "train_df.head()"
      ]
    },
    {
      "cell_type": "markdown",
      "id": "99f7d1ca",
      "metadata": {
        "id": "99f7d1ca"
      },
      "source": [
        "# Split and scale train data into stratified 5 folds"
      ]
    },
    {
      "cell_type": "code",
      "execution_count": null,
      "id": "5b60baf2",
      "metadata": {
        "id": "5b60baf2"
      },
      "outputs": [],
      "source": [
        "X,y = train_df.drop('type',axis = 1).to_numpy(),train_df['type']"
      ]
    },
    {
      "cell_type": "code",
      "execution_count": null,
      "id": "9c042e12",
      "metadata": {
        "id": "9c042e12"
      },
      "outputs": [],
      "source": [
        "X_scaled = (X-X.mean())/X.std()"
      ]
    },
    {
      "cell_type": "code",
      "execution_count": null,
      "id": "0a60e58d",
      "metadata": {
        "id": "0a60e58d",
        "outputId": "baf60af7-8975-4b7d-c0ec-0d2fd4104c27"
      },
      "outputs": [
        {
          "data": {
            "text/plain": [
              "5"
            ]
          },
          "execution_count": 5,
          "metadata": {},
          "output_type": "execute_result"
        }
      ],
      "source": [
        "from sklearn.model_selection import StratifiedKFold\n",
        "skf = StratifiedKFold(n_splits=5,random_state=38,shuffle = True)\n",
        "skf.get_n_splits(X_scaled, y)"
      ]
    },
    {
      "cell_type": "code",
      "execution_count": null,
      "id": "61458b53",
      "metadata": {
        "id": "61458b53"
      },
      "outputs": [],
      "source": [
        "global fold_dict\n",
        "fold_dict = dict()\n",
        "\n",
        "for i, (train_index, test_index) in enumerate(skf.split(X_scaled,y)):\n",
        "    fold_dict[f'fold{i}'] = {'train_indices':train_index, 'test_indices':test_index}"
      ]
    },
    {
      "cell_type": "code",
      "execution_count": null,
      "id": "5118c5e1",
      "metadata": {
        "id": "5118c5e1",
        "outputId": "c148cead-254b-4c7c-c5e8-c8b20941aac9"
      },
      "outputs": [
        {
          "data": {
            "text/plain": [
              "dict_keys(['fold0', 'fold1', 'fold2', 'fold3', 'fold4'])"
            ]
          },
          "execution_count": 7,
          "metadata": {},
          "output_type": "execute_result"
        }
      ],
      "source": [
        "fold_dict.keys()"
      ]
    },
    {
      "cell_type": "code",
      "execution_count": null,
      "id": "773110d2",
      "metadata": {
        "scrolled": true,
        "id": "773110d2",
        "outputId": "cf9cfdf2-a75a-4c41-f413-782b1c48f2a4"
      },
      "outputs": [
        {
          "name": "stdout",
          "output_type": "stream",
          "text": [
            "Counter({0: 1578, 1: 588, 2: 182, 3: 181})\n",
            "Counter({0: 1577, 1: 589, 2: 182, 3: 181})\n",
            "Counter({0: 1577, 1: 589, 3: 182, 2: 181})\n",
            "Counter({0: 1577, 1: 589, 3: 182, 2: 181})\n",
            "Counter({0: 1577, 1: 588, 2: 182, 3: 182})\n"
          ]
        }
      ],
      "source": [
        "from collections import Counter\n",
        "print(Counter(y[fold_dict['fold0']['test_indices']]))\n",
        "print(Counter(y[fold_dict['fold1']['test_indices']]))\n",
        "print(Counter(y[fold_dict['fold2']['test_indices']]))\n",
        "print(Counter(y[fold_dict['fold3']['test_indices']]))\n",
        "print(Counter(y[fold_dict['fold4']['test_indices']]))"
      ]
    },
    {
      "cell_type": "markdown",
      "id": "11ba9e9f",
      "metadata": {
        "id": "11ba9e9f"
      },
      "source": [
        "# Model"
      ]
    },
    {
      "cell_type": "code",
      "execution_count": null,
      "id": "ae0d8426",
      "metadata": {
        "id": "ae0d8426"
      },
      "outputs": [],
      "source": [
        "class SVMClassifier:\n",
        "    def __init__(self,n_iters=100, lr = 0.0001, random_seed=3, lambda_param=0.01):\n",
        "        self.n_iters = n_iters # 몇 회 반복하여 적절한 값을 찾을지 정하는 파라미터\n",
        "        self.lr = lr  # 학습률과 관련된 파라미터 \n",
        "        self.lambda_param = lambda_param\n",
        "        self.random_seed = random_seed\n",
        "        np.random.seed(self.random_seed)\n",
        "\n",
        "    def init_weight(self,x):\n",
        "        n_features = x.shape[1]\n",
        "        init_w = np.random.rand(n_features)#0과 1 사이의 랜덤한 수로 init_w 배열을 초기화합니다\n",
        "        self.w = init_w\n",
        "        self.b = 0 # b값 초기화\n",
        "        \n",
        "    def fit(self, x_, y_orig):\n",
        "        \"\"\"\n",
        "        본 함수는 x, y를 활용하여 훈련하는 과정을 코딩하는 부분입니다.\n",
        "        아래 reference 사이트의 gradient 계산 부분을 참고하세요.\n",
        "        reference: https://towardsdatascience.com/support-vector-machine-introduction-to-machine-learning-algorithms-934a444fca47\n",
        "        아래 총 6개의 None 부분을 채우시면 됩니다.\n",
        "\n",
        "        \"\"\"\n",
        "        n_samples, n_features = x_.shape\n",
        "\n",
        "        # hint: y값을 SVM 계산에 활용해주기 위하여 0에 해당하는 y값들을 -1로 변환\n",
        "        y_ =  np.array(y_orig)#numpy array의 y를 y_에 담아줍니다\n",
        "        y_[y_ == 0] = -1#0에 해당하는 y_값들을 -1로 변환합니다.\n",
        "        \n",
        "        # hint: w값 초기화, (n_features, )의 크기를 가지는 0과 1사이의 랜덤한 변수 어레이 (필수: 넘파이로 정의해야 함)\n",
        "        init_w = np.random.rand(n_features)#0과 1 사이의 랜덤한 수로 init_w 배열을 초기화합니다\n",
        "        self.w = init_w\n",
        "        self.b = 0 # b값 초기화\n",
        "        n_label = np.sum((y_==1)*1)\n",
        "        \n",
        "        for _ in range(self.n_iters):\n",
        "            non_label_indices = np.where(y_ == -1)\n",
        "            label_indices = np.where(y_ != -1)\n",
        "            n_iter = _\n",
        "            sample_non_label = non_label_indices[(n_iter*n_label)%len(non_label_indices):(n_iter*n_label)%len(non_label_indices)+n_label]\n",
        "            x = x_[np.concatenate([sample_non_label[0].flatten(),label_indices[0].flatten()])]\n",
        "            y = y_[np.concatenate([sample_non_label[0].flatten(),label_indices[0].flatten()])]\n",
        "            assert x.shape[0] == y.shape[0]\n",
        "            for i in range(n_samples):\n",
        "                x_i = x[i]\n",
        "                y_i = y[i]\n",
        "\n",
        "                # hint: y(i) * (w · x(i) + b) >= 1 를 만족하는 경우의 의미가 담기도록 if문을 채우세요.\n",
        "                condition = ((y_i*np.dot(self.w,x_i)+self.b)>=1) #y(i) * (w · x(i) + b) >= 1 를 만족하는 경우를 boolean으로 표현한 것으로, 조건이 부합하면 True, 부합하지 않으면 False를 condition에 담습니다\n",
        "                if condition:#condition이 True일 때 \n",
        "                    # hint: w에 대하여 Gradient Loss Function 수식을 이용하여 W를 업데이트 하세요.\n",
        "                    self.w -= self.lr * 2*self.lambda_param*self.w#misclassification이 없는 경우 가중치 갱신 공식: w = w-lr*2*lambda*w\n",
        "                else:#condition이 False일 때\n",
        "                    # hint: w에 대하여 Gradient Loss Function 수식을 이용하여 W를 업데이트 하세요.\n",
        "                    self.w -= self.lr * (-y_i*x_i+2*self.lambda_param*self.w)#misclassification인 경우 가중치 갱신 공식: w = w + lr*(y_i*x_i-2*lambda*w)\n",
        "                    self.b -= self.lr * y_i\n",
        "\n",
        "        return self.w, self.b #w와 b를 반환합니다\n",
        "\n",
        "\n",
        "    def predict(self, x):\n",
        "        \"\"\"\n",
        "            [n_samples x features]로 구성된 x가 주어졌을 때, fit을 통해 계산된 \n",
        "            self.w와 self.b를 활용하여 예측값을 계산합니다.\n",
        "\n",
        "            @args:\n",
        "                [n_samples x features]의 shape으로 구성된 x\n",
        "            @returns:\n",
        "                [n_samples, ]의 shape으로 구성된 예측값 array\n",
        "\n",
        "            아래의 수식과 수도코드를 참고하여 함수를 완성하면 됩니다.\n",
        "                approximation = W·X - b\n",
        "                if approximation >= 0 {\n",
        "                    output = 1\n",
        "                }\n",
        "                else{\n",
        "                    output = 0\n",
        "                }\n",
        "        \"\"\"\n",
        "        approx = np.matmul(x,self.w)-self.b#W*X-b를 vectorization으로 계산합니다\n",
        "        approx[approx>=0] = 1#approximation이 0 이상인 경우 1로 예측하고\n",
        "        approx[approx<0] = 0#approximation이 0 미만인 경우 0으로 예측합니다\n",
        "        return approx#예측 값을 담은 배열인 approx를 반환합니다\n",
        "    \n",
        "    def sigmoid(self,z):\n",
        "        return 1./(1.+np.exp(-z))\n",
        "    \n",
        "    def get_prob(self,X):\n",
        "        approx = np.matmul(x,self.w)-self.b\n",
        "        return self.sigmoid(approx)\n",
        "\n",
        "    def get_accuracy(self, y_true, y_pred):\n",
        "        \"\"\"\n",
        "            y_true, y_pred가 들어왔을 때, 정확도를 계산하는 함수.\n",
        "            sklearn의 accuracy_score 사용 불가능 / sklearn의 accuracy_score 함수를 구현한다고 생각하면 됩니다.\n",
        "            넘파이만을 활용하여 정확도 계산 함수를 작성하세요.\n",
        "        \"\"\"\n",
        "        acc = np.sum(y_true == y_pred)/len(y_pred)#예측하고자 하는 전체 데이터 수 개수(len(y_pred)) 중 예측 값과 실제 값이 일치하는 데이터 개수(np.sum(y_true == y_pred))의 비율로 정확도를 계산합니다\n",
        "        return acc #정확도를 담은 acc를 반환합니다"
      ]
    },
    {
      "cell_type": "markdown",
      "id": "b05a0080",
      "metadata": {
        "id": "b05a0080"
      },
      "source": [
        "# Utils"
      ]
    },
    {
      "cell_type": "code",
      "execution_count": null,
      "id": "644b0cac",
      "metadata": {
        "id": "644b0cac"
      },
      "outputs": [],
      "source": [
        "def train_test_binary_model(model,label):\n",
        "    avg_train_acc = []\n",
        "    avg_test_acc = []\n",
        "    for fold in tqdm(fold_dict.values(),leave=False,desc = \"5 folds...\"):\n",
        "        train_X,train_y = X_scaled[fold['train_indices']],y[fold['train_indices']]\n",
        "        test_X,test_y = X_scaled[fold['test_indices']],y[fold['test_indices']]\n",
        "        model.init_weight(train_X)#initialize weight\n",
        "        use_train_y,use_test_y = (train_y==label)*1,(test_y==label)*1\n",
        "        model.fit(train_X,use_train_y)\n",
        "        train_preds = model.predict(train_X)\n",
        "        train_acc = np.mean(train_preds == use_train_y)\n",
        "        test_preds = model.predict(test_X)\n",
        "        test_acc = np.mean(test_preds == use_test_y)\n",
        "        avg_train_acc.append(train_acc)\n",
        "        avg_test_acc.append(test_acc)\n",
        "    return np.mean(np.array(avg_train_acc)),np.mean(np.array(avg_test_acc))"
      ]
    },
    {
      "cell_type": "code",
      "execution_count": null,
      "id": "76926e17",
      "metadata": {
        "scrolled": true,
        "colab": {
          "referenced_widgets": [
            "",
            "39455bada1f44b8da1f423dd2d8be8a6"
          ]
        },
        "id": "76926e17",
        "outputId": "cc5bffeb-bae4-4bc2-9b1b-33a1ebe18daa"
      },
      "outputs": [
        {
          "data": {
            "application/vnd.jupyter.widget-view+json": {
              "model_id": "",
              "version_major": 2,
              "version_minor": 0
            },
            "text/plain": [
              "5 folds...:   0%|          | 0/5 [00:00<?, ?it/s]"
            ]
          },
          "metadata": {},
          "output_type": "display_data"
        },
        {
          "name": "stdout",
          "output_type": "stream",
          "text": [
            "(lr:0.1, C:0.001 label:0) acc: 0.3764 val acc:0.376\n",
            ">>best model updated\n",
            "\n"
          ]
        },
        {
          "data": {
            "application/vnd.jupyter.widget-view+json": {
              "model_id": "",
              "version_major": 2,
              "version_minor": 0
            },
            "text/plain": [
              "5 folds...:   0%|          | 0/5 [00:00<?, ?it/s]"
            ]
          },
          "metadata": {},
          "output_type": "display_data"
        },
        {
          "name": "stdout",
          "output_type": "stream",
          "text": [
            "(lr:0.01, C:0.001 label:0) acc: 0.3764 val acc:0.376\n"
          ]
        },
        {
          "data": {
            "application/vnd.jupyter.widget-view+json": {
              "model_id": "",
              "version_major": 2,
              "version_minor": 0
            },
            "text/plain": [
              "5 folds...:   0%|          | 0/5 [00:00<?, ?it/s]"
            ]
          },
          "metadata": {},
          "output_type": "display_data"
        },
        {
          "name": "stdout",
          "output_type": "stream",
          "text": [
            "(lr:0.005, C:0.001 label:0) acc: 0.3764 val acc:0.376\n"
          ]
        },
        {
          "data": {
            "application/vnd.jupyter.widget-view+json": {
              "model_id": "",
              "version_major": 2,
              "version_minor": 0
            },
            "text/plain": [
              "5 folds...:   0%|          | 0/5 [00:00<?, ?it/s]"
            ]
          },
          "metadata": {},
          "output_type": "display_data"
        },
        {
          "name": "stdout",
          "output_type": "stream",
          "text": [
            "(lr:0.001, C:0.001 label:0) acc: 0.3764 val acc:0.376\n"
          ]
        },
        {
          "data": {
            "application/vnd.jupyter.widget-view+json": {
              "model_id": "",
              "version_major": 2,
              "version_minor": 0
            },
            "text/plain": [
              "5 folds...:   0%|          | 0/5 [00:00<?, ?it/s]"
            ]
          },
          "metadata": {},
          "output_type": "display_data"
        },
        {
          "name": "stdout",
          "output_type": "stream",
          "text": [
            "(lr:0.0005, C:0.001 label:0) acc: 0.3764 val acc:0.376\n"
          ]
        },
        {
          "data": {
            "application/vnd.jupyter.widget-view+json": {
              "model_id": "39455bada1f44b8da1f423dd2d8be8a6",
              "version_major": 2,
              "version_minor": 0
            },
            "text/plain": [
              "5 folds...:   0%|          | 0/5 [00:00<?, ?it/s]"
            ]
          },
          "metadata": {},
          "output_type": "display_data"
        }
      ],
      "source": [
        "import copy\n",
        "lrs = [0.1,0.01,0.005,0.001,0.0005,0.0001]\n",
        "C = [0.001,0.01,0.1,1.,5.]\n",
        "best_param0 = dict()\n",
        "best_acc_0 = 0\n",
        "best_train_acc = 0\n",
        "\n",
        "for C_ in C:\n",
        "    for lr in lrs:\n",
        "        svm0 = SVMClassifier(lambda_param=C_,lr=lr)\n",
        "        train_acc,test_acc = train_test_binary_model(svm0,0)\n",
        "        print(f\"(lr:{lr}, C:{C_} label:0) acc: {round(train_acc,4)} val acc:{round(test_acc,3)}\")\n",
        "        if train_acc > best_train_acc and test_acc>=best_acc_0:\n",
        "            print(\">>best model updated\\n\")\n",
        "            best_acc_0 = test_acc\n",
        "            best_param0['lr'] = lr\n",
        "            best_param0['lambda']=C_\n",
        "            best_svm0 = copy.deepcopy(svm0)\n",
        "            best_train_acc = train_acc"
      ]
    },
    {
      "cell_type": "code",
      "execution_count": null,
      "id": "85ba521c",
      "metadata": {
        "id": "85ba521c",
        "outputId": "2456c4e9-d780-489c-f6b0-81bc758f699a"
      },
      "outputs": [
        {
          "name": "stdout",
          "output_type": "stream",
          "text": [
            "best_train_acc: 0.6962633451957296 best test acc: 0.6963226571767496\n"
          ]
        },
        {
          "data": {
            "text/plain": [
              "{'lr': 0.0001,\n",
              " 'lambda': 0.1,\n",
              " 'train_acc': 0.6962633451957296,\n",
              " 'test_acc': 0.6963226571767496,\n",
              " 'best_model': <__main__.SVMClassifier at 0x23e292bfa60>}"
            ]
          },
          "execution_count": 14,
          "metadata": {},
          "output_type": "execute_result"
        }
      ],
      "source": [
        "print(\"best_train_acc:\",best_train_acc,\"best test acc:\",best_acc_0)\n",
        "best_param0"
      ]
    },
    {
      "cell_type": "code",
      "execution_count": null,
      "id": "aa808ca3",
      "metadata": {
        "id": "aa808ca3"
      },
      "outputs": [],
      "source": [
        "import torch\n",
        "\n",
        "save_name = f\"./weights/undersampling_label0_{str(best_acc_0)[:4]}.pt\"\n",
        "best_param0['train_acc'] = best_train_acc\n",
        "best_param0['test_acc'] = best_acc_0\n",
        "best_param0['best_model'] = best_svm0\n",
        "torch.save(best_param0,save_name)"
      ]
    },
    {
      "cell_type": "code",
      "execution_count": null,
      "id": "3cfc0ea2",
      "metadata": {
        "id": "3cfc0ea2"
      },
      "outputs": [],
      "source": []
    }
  ],
  "metadata": {
    "kernelspec": {
      "display_name": "Python 3 (ipykernel)",
      "language": "python",
      "name": "python3"
    },
    "language_info": {
      "codemirror_mode": {
        "name": "ipython",
        "version": 3
      },
      "file_extension": ".py",
      "mimetype": "text/x-python",
      "name": "python",
      "nbconvert_exporter": "python",
      "pygments_lexer": "ipython3",
      "version": "3.9.7"
    },
    "colab": {
      "provenance": []
    }
  },
  "nbformat": 4,
  "nbformat_minor": 5
}