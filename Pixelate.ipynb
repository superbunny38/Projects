{
  "nbformat": 4,
  "nbformat_minor": 0,
  "metadata": {
    "colab": {
      "provenance": []
    },
    "kernelspec": {
      "name": "python3",
      "display_name": "Python 3"
    },
    "language_info": {
      "name": "python"
    },
    "widgets": {
      "application/vnd.jupyter.widget-state+json": {
        "372bb606ffde44e18607350d82e46525": {
          "model_module": "@jupyter-widgets/controls",
          "model_name": "HBoxModel",
          "model_module_version": "1.5.0",
          "state": {
            "_dom_classes": [],
            "_model_module": "@jupyter-widgets/controls",
            "_model_module_version": "1.5.0",
            "_model_name": "HBoxModel",
            "_view_count": null,
            "_view_module": "@jupyter-widgets/controls",
            "_view_module_version": "1.5.0",
            "_view_name": "HBoxView",
            "box_style": "",
            "children": [
              "IPY_MODEL_29fc20eb931c4d468e859654809358c2",
              "IPY_MODEL_0cc017ddeacb49409ad534f55d2386a6",
              "IPY_MODEL_c2764265aae94d15819c2f628fed2c7b"
            ],
            "layout": "IPY_MODEL_32b6319051a141bf9d168f272697d5d6"
          }
        },
        "29fc20eb931c4d468e859654809358c2": {
          "model_module": "@jupyter-widgets/controls",
          "model_name": "HTMLModel",
          "model_module_version": "1.5.0",
          "state": {
            "_dom_classes": [],
            "_model_module": "@jupyter-widgets/controls",
            "_model_module_version": "1.5.0",
            "_model_name": "HTMLModel",
            "_view_count": null,
            "_view_module": "@jupyter-widgets/controls",
            "_view_module_version": "1.5.0",
            "_view_name": "HTMLView",
            "description": "",
            "description_tooltip": null,
            "layout": "IPY_MODEL_04f09cab1cd54dad95bbdd07db3c2830",
            "placeholder": "​",
            "style": "IPY_MODEL_20e5454b5b83463895a2b4b97b6ec5e8",
            "value": "100%"
          }
        },
        "0cc017ddeacb49409ad534f55d2386a6": {
          "model_module": "@jupyter-widgets/controls",
          "model_name": "FloatProgressModel",
          "model_module_version": "1.5.0",
          "state": {
            "_dom_classes": [],
            "_model_module": "@jupyter-widgets/controls",
            "_model_module_version": "1.5.0",
            "_model_name": "FloatProgressModel",
            "_view_count": null,
            "_view_module": "@jupyter-widgets/controls",
            "_view_module_version": "1.5.0",
            "_view_name": "ProgressView",
            "bar_style": "success",
            "description": "",
            "description_tooltip": null,
            "layout": "IPY_MODEL_36ce35a8cae044819d2707b7eef3f804",
            "max": 30,
            "min": 0,
            "orientation": "horizontal",
            "style": "IPY_MODEL_0a1c60c458cf408eae8290cb83dc6981",
            "value": 30
          }
        },
        "c2764265aae94d15819c2f628fed2c7b": {
          "model_module": "@jupyter-widgets/controls",
          "model_name": "HTMLModel",
          "model_module_version": "1.5.0",
          "state": {
            "_dom_classes": [],
            "_model_module": "@jupyter-widgets/controls",
            "_model_module_version": "1.5.0",
            "_model_name": "HTMLModel",
            "_view_count": null,
            "_view_module": "@jupyter-widgets/controls",
            "_view_module_version": "1.5.0",
            "_view_name": "HTMLView",
            "description": "",
            "description_tooltip": null,
            "layout": "IPY_MODEL_bb1330b8992b438f839c00586039f4ab",
            "placeholder": "​",
            "style": "IPY_MODEL_72ce737344ac4684817a0abe24b158fb",
            "value": " 30/30 [00:24&lt;00:00,  1.14it/s]"
          }
        },
        "32b6319051a141bf9d168f272697d5d6": {
          "model_module": "@jupyter-widgets/base",
          "model_name": "LayoutModel",
          "model_module_version": "1.2.0",
          "state": {
            "_model_module": "@jupyter-widgets/base",
            "_model_module_version": "1.2.0",
            "_model_name": "LayoutModel",
            "_view_count": null,
            "_view_module": "@jupyter-widgets/base",
            "_view_module_version": "1.2.0",
            "_view_name": "LayoutView",
            "align_content": null,
            "align_items": null,
            "align_self": null,
            "border": null,
            "bottom": null,
            "display": null,
            "flex": null,
            "flex_flow": null,
            "grid_area": null,
            "grid_auto_columns": null,
            "grid_auto_flow": null,
            "grid_auto_rows": null,
            "grid_column": null,
            "grid_gap": null,
            "grid_row": null,
            "grid_template_areas": null,
            "grid_template_columns": null,
            "grid_template_rows": null,
            "height": null,
            "justify_content": null,
            "justify_items": null,
            "left": null,
            "margin": null,
            "max_height": null,
            "max_width": null,
            "min_height": null,
            "min_width": null,
            "object_fit": null,
            "object_position": null,
            "order": null,
            "overflow": null,
            "overflow_x": null,
            "overflow_y": null,
            "padding": null,
            "right": null,
            "top": null,
            "visibility": null,
            "width": null
          }
        },
        "04f09cab1cd54dad95bbdd07db3c2830": {
          "model_module": "@jupyter-widgets/base",
          "model_name": "LayoutModel",
          "model_module_version": "1.2.0",
          "state": {
            "_model_module": "@jupyter-widgets/base",
            "_model_module_version": "1.2.0",
            "_model_name": "LayoutModel",
            "_view_count": null,
            "_view_module": "@jupyter-widgets/base",
            "_view_module_version": "1.2.0",
            "_view_name": "LayoutView",
            "align_content": null,
            "align_items": null,
            "align_self": null,
            "border": null,
            "bottom": null,
            "display": null,
            "flex": null,
            "flex_flow": null,
            "grid_area": null,
            "grid_auto_columns": null,
            "grid_auto_flow": null,
            "grid_auto_rows": null,
            "grid_column": null,
            "grid_gap": null,
            "grid_row": null,
            "grid_template_areas": null,
            "grid_template_columns": null,
            "grid_template_rows": null,
            "height": null,
            "justify_content": null,
            "justify_items": null,
            "left": null,
            "margin": null,
            "max_height": null,
            "max_width": null,
            "min_height": null,
            "min_width": null,
            "object_fit": null,
            "object_position": null,
            "order": null,
            "overflow": null,
            "overflow_x": null,
            "overflow_y": null,
            "padding": null,
            "right": null,
            "top": null,
            "visibility": null,
            "width": null
          }
        },
        "20e5454b5b83463895a2b4b97b6ec5e8": {
          "model_module": "@jupyter-widgets/controls",
          "model_name": "DescriptionStyleModel",
          "model_module_version": "1.5.0",
          "state": {
            "_model_module": "@jupyter-widgets/controls",
            "_model_module_version": "1.5.0",
            "_model_name": "DescriptionStyleModel",
            "_view_count": null,
            "_view_module": "@jupyter-widgets/base",
            "_view_module_version": "1.2.0",
            "_view_name": "StyleView",
            "description_width": ""
          }
        },
        "36ce35a8cae044819d2707b7eef3f804": {
          "model_module": "@jupyter-widgets/base",
          "model_name": "LayoutModel",
          "model_module_version": "1.2.0",
          "state": {
            "_model_module": "@jupyter-widgets/base",
            "_model_module_version": "1.2.0",
            "_model_name": "LayoutModel",
            "_view_count": null,
            "_view_module": "@jupyter-widgets/base",
            "_view_module_version": "1.2.0",
            "_view_name": "LayoutView",
            "align_content": null,
            "align_items": null,
            "align_self": null,
            "border": null,
            "bottom": null,
            "display": null,
            "flex": null,
            "flex_flow": null,
            "grid_area": null,
            "grid_auto_columns": null,
            "grid_auto_flow": null,
            "grid_auto_rows": null,
            "grid_column": null,
            "grid_gap": null,
            "grid_row": null,
            "grid_template_areas": null,
            "grid_template_columns": null,
            "grid_template_rows": null,
            "height": null,
            "justify_content": null,
            "justify_items": null,
            "left": null,
            "margin": null,
            "max_height": null,
            "max_width": null,
            "min_height": null,
            "min_width": null,
            "object_fit": null,
            "object_position": null,
            "order": null,
            "overflow": null,
            "overflow_x": null,
            "overflow_y": null,
            "padding": null,
            "right": null,
            "top": null,
            "visibility": null,
            "width": null
          }
        },
        "0a1c60c458cf408eae8290cb83dc6981": {
          "model_module": "@jupyter-widgets/controls",
          "model_name": "ProgressStyleModel",
          "model_module_version": "1.5.0",
          "state": {
            "_model_module": "@jupyter-widgets/controls",
            "_model_module_version": "1.5.0",
            "_model_name": "ProgressStyleModel",
            "_view_count": null,
            "_view_module": "@jupyter-widgets/base",
            "_view_module_version": "1.2.0",
            "_view_name": "StyleView",
            "bar_color": null,
            "description_width": ""
          }
        },
        "bb1330b8992b438f839c00586039f4ab": {
          "model_module": "@jupyter-widgets/base",
          "model_name": "LayoutModel",
          "model_module_version": "1.2.0",
          "state": {
            "_model_module": "@jupyter-widgets/base",
            "_model_module_version": "1.2.0",
            "_model_name": "LayoutModel",
            "_view_count": null,
            "_view_module": "@jupyter-widgets/base",
            "_view_module_version": "1.2.0",
            "_view_name": "LayoutView",
            "align_content": null,
            "align_items": null,
            "align_self": null,
            "border": null,
            "bottom": null,
            "display": null,
            "flex": null,
            "flex_flow": null,
            "grid_area": null,
            "grid_auto_columns": null,
            "grid_auto_flow": null,
            "grid_auto_rows": null,
            "grid_column": null,
            "grid_gap": null,
            "grid_row": null,
            "grid_template_areas": null,
            "grid_template_columns": null,
            "grid_template_rows": null,
            "height": null,
            "justify_content": null,
            "justify_items": null,
            "left": null,
            "margin": null,
            "max_height": null,
            "max_width": null,
            "min_height": null,
            "min_width": null,
            "object_fit": null,
            "object_position": null,
            "order": null,
            "overflow": null,
            "overflow_x": null,
            "overflow_y": null,
            "padding": null,
            "right": null,
            "top": null,
            "visibility": null,
            "width": null
          }
        },
        "72ce737344ac4684817a0abe24b158fb": {
          "model_module": "@jupyter-widgets/controls",
          "model_name": "DescriptionStyleModel",
          "model_module_version": "1.5.0",
          "state": {
            "_model_module": "@jupyter-widgets/controls",
            "_model_module_version": "1.5.0",
            "_model_name": "DescriptionStyleModel",
            "_view_count": null,
            "_view_module": "@jupyter-widgets/base",
            "_view_module_version": "1.2.0",
            "_view_name": "StyleView",
            "description_width": ""
          }
        }
      }
    }
  },
  "cells": [
    {
      "cell_type": "code",
      "source": [
        "from google.colab import drive\n",
        "drive.mount('/content/drive')"
      ],
      "metadata": {
        "colab": {
          "base_uri": "https://localhost:8080/"
        },
        "id": "l8laBUic1AI5",
        "outputId": "311ae367-ce5e-4b0a-f9b2-6d00132ac4e6"
      },
      "execution_count": 1,
      "outputs": [
        {
          "output_type": "stream",
          "name": "stdout",
          "text": [
            "Mounted at /content/drive\n"
          ]
        }
      ]
    },
    {
      "cell_type": "code",
      "source": [
        "%cd /content/drive/MyDrive/ComputationalImaging/Cracks/dataset"
      ],
      "metadata": {
        "colab": {
          "base_uri": "https://localhost:8080/"
        },
        "id": "liwT724q1Jxs",
        "outputId": "ec2db162-22df-48db-84f2-14d657d9a0eb"
      },
      "execution_count": 2,
      "outputs": [
        {
          "output_type": "stream",
          "name": "stdout",
          "text": [
            "/content/drive/MyDrive/ComputationalImaging/Cracks/dataset\n"
          ]
        }
      ]
    },
    {
      "cell_type": "code",
      "source": [
        "!ls"
      ],
      "metadata": {
        "colab": {
          "base_uri": "https://localhost:8080/"
        },
        "id": "J3O4NY1m1Ag1",
        "outputId": "7b0bc515-036d-4535-ff0a-557eb88afa17"
      },
      "execution_count": 3,
      "outputs": [
        {
          "output_type": "stream",
          "name": "stdout",
          "text": [
            " Level1   Level2  'w Crack'  'wo Crack'\n"
          ]
        }
      ]
    },
    {
      "cell_type": "code",
      "source": [
        "import glob\n",
        "img_list = glob.glob(\"./Level2/*\")\n",
        "img_list[0]"
      ],
      "metadata": {
        "colab": {
          "base_uri": "https://localhost:8080/",
          "height": 35
        },
        "id": "IUNFkxXC1RRO",
        "outputId": "7a58e40a-a92a-425a-a296-30e3844e675e"
      },
      "execution_count": 4,
      "outputs": [
        {
          "output_type": "execute_result",
          "data": {
            "text/plain": [
              "'./Level2/1.JPG'"
            ],
            "application/vnd.google.colaboratory.intrinsic+json": {
              "type": "string"
            }
          },
          "metadata": {},
          "execution_count": 4
        }
      ]
    },
    {
      "cell_type": "code",
      "source": [
        "len(img_list)"
      ],
      "metadata": {
        "colab": {
          "base_uri": "https://localhost:8080/"
        },
        "id": "Ugf3r8PL1WX9",
        "outputId": "a67bd019-5b4e-4e48-ada7-a8ddba2fed2d"
      },
      "execution_count": 5,
      "outputs": [
        {
          "output_type": "execute_result",
          "data": {
            "text/plain": [
              "30"
            ]
          },
          "metadata": {},
          "execution_count": 5
        }
      ]
    },
    {
      "cell_type": "code",
      "source": [
        "!mkdir Level3"
      ],
      "metadata": {
        "id": "zNAVY0651XDL"
      },
      "execution_count": 6,
      "outputs": []
    },
    {
      "cell_type": "code",
      "source": [
        "from PIL import Image\n",
        "\n",
        "def pixelate_and_save_rgb(image_path, output_path, pixel_size):\n",
        "    \"\"\"\n",
        "    Loads an image, pixelates it to a lower resolution, and saves it as an RGB image.\n",
        "\n",
        "    Args:\n",
        "        image_path (str): Path to the input image file.\n",
        "        output_path (str): Path to save the pixelated RGB image.\n",
        "        pixel_size (int): Size of the pixel blocks (e.g., 10 for 10x10 blocks).\n",
        "    \"\"\"\n",
        "    try:\n",
        "        # Open the image\n",
        "        img = Image.open(image_path).convert(\"RGB\")\n",
        "        width, height = img.size\n",
        "\n",
        "        # Calculate the new dimensions\n",
        "        new_width = width // pixel_size\n",
        "        new_height = height // pixel_size\n",
        "\n",
        "        # Resize to the lower resolution\n",
        "        low_res_img = img.resize((new_width, new_height), Image.Resampling.NEAREST)\n",
        "\n",
        "        # Resize back to the original dimensions with nearest neighbor interpolation\n",
        "        pixelated_img = low_res_img.resize((width, height), Image.Resampling.NEAREST)\n",
        "\n",
        "        # Save the pixelated image as RGB\n",
        "        pixelated_img.save(output_path, \"PNG\")  # Using PNG to preserve quality\n",
        "\n",
        "        print(f\"Pixelated RGB image saved to: {output_path}\")\n",
        "\n",
        "    except FileNotFoundError:\n",
        "        print(f\"Error: Image not found at {image_path}\")\n",
        "    except Exception as e:\n",
        "        print(f\"An error occurred: {e}\")"
      ],
      "metadata": {
        "id": "G39qLEjs3TFb"
      },
      "execution_count": 36,
      "outputs": []
    },
    {
      "cell_type": "code",
      "source": [
        "from tqdm.notebook import tqdm\n",
        "for i in tqdm(range(len(img_list))):\n",
        "  input_image_path = img_list[i]  # Replace with the path to your RGB image\n",
        "  # save_name = input_image_path.split(\"/\")[-1].split(\".\")[0]\n",
        "  output_image_path = \"./Level3/Lv3_\"+input_image_path.split(\"/\")[-1].split(\".\")[0]+\".png\"\n",
        "  pixel_block_size = 15  # Adjust this value to control the pixelation level\n",
        "  pixelate_and_save_rgb(input_image_path, output_image_path, pixel_block_size)"
      ],
      "metadata": {
        "colab": {
          "base_uri": "https://localhost:8080/",
          "height": 585,
          "referenced_widgets": [
            "372bb606ffde44e18607350d82e46525",
            "29fc20eb931c4d468e859654809358c2",
            "0cc017ddeacb49409ad534f55d2386a6",
            "c2764265aae94d15819c2f628fed2c7b",
            "32b6319051a141bf9d168f272697d5d6",
            "04f09cab1cd54dad95bbdd07db3c2830",
            "20e5454b5b83463895a2b4b97b6ec5e8",
            "36ce35a8cae044819d2707b7eef3f804",
            "0a1c60c458cf408eae8290cb83dc6981",
            "bb1330b8992b438f839c00586039f4ab",
            "72ce737344ac4684817a0abe24b158fb"
          ]
        },
        "id": "vEgZyokR39hO",
        "outputId": "0559ed4c-c114-421b-f678-0564ebf2cf84"
      },
      "execution_count": 46,
      "outputs": [
        {
          "output_type": "display_data",
          "data": {
            "text/plain": [
              "  0%|          | 0/30 [00:00<?, ?it/s]"
            ],
            "application/vnd.jupyter.widget-view+json": {
              "version_major": 2,
              "version_minor": 0,
              "model_id": "372bb606ffde44e18607350d82e46525"
            }
          },
          "metadata": {}
        },
        {
          "output_type": "stream",
          "name": "stdout",
          "text": [
            "Pixelated RGB image saved to: ./Level3/Lv3_1.png\n",
            "Pixelated RGB image saved to: ./Level3/Lv3_1Overlay.png\n",
            "Pixelated RGB image saved to: ./Level3/Lv3_1Mask.png\n",
            "Pixelated RGB image saved to: ./Level3/Lv3_2.png\n",
            "Pixelated RGB image saved to: ./Level3/Lv3_2Overlay.png\n",
            "Pixelated RGB image saved to: ./Level3/Lv3_2Mask.png\n",
            "Pixelated RGB image saved to: ./Level3/Lv3_3.png\n",
            "Pixelated RGB image saved to: ./Level3/Lv3_3Overlay.png\n",
            "Pixelated RGB image saved to: ./Level3/Lv3_3Mask.png\n",
            "Pixelated RGB image saved to: ./Level3/Lv3_4.png\n",
            "Pixelated RGB image saved to: ./Level3/Lv3_4Overlay.png\n",
            "Pixelated RGB image saved to: ./Level3/Lv3_4Mask.png\n",
            "Pixelated RGB image saved to: ./Level3/Lv3_5.png\n",
            "Pixelated RGB image saved to: ./Level3/Lv3_5Overlay.png\n",
            "Pixelated RGB image saved to: ./Level3/Lv3_5Mask.png\n",
            "Pixelated RGB image saved to: ./Level3/Lv3_6.png\n",
            "Pixelated RGB image saved to: ./Level3/Lv3_6Overlay.png\n",
            "Pixelated RGB image saved to: ./Level3/Lv3_6Mask.png\n",
            "Pixelated RGB image saved to: ./Level3/Lv3_7.png\n",
            "Pixelated RGB image saved to: ./Level3/Lv3_7Mask.png\n",
            "Pixelated RGB image saved to: ./Level3/Lv3_7Overlay.png\n",
            "Pixelated RGB image saved to: ./Level3/Lv3_8.png\n",
            "Pixelated RGB image saved to: ./Level3/Lv3_9.png\n",
            "Pixelated RGB image saved to: ./Level3/Lv3_9Overlay.png\n",
            "Pixelated RGB image saved to: ./Level3/Lv3_9Mask.png\n",
            "Pixelated RGB image saved to: ./Level3/Lv3_8Mask.png\n",
            "Pixelated RGB image saved to: ./Level3/Lv3_8Overlay.png\n",
            "Pixelated RGB image saved to: ./Level3/Lv3_10.png\n",
            "Pixelated RGB image saved to: ./Level3/Lv3_10Mask.png\n",
            "Pixelated RGB image saved to: ./Level3/Lv3_10Overlay.png\n"
          ]
        }
      ]
    },
    {
      "cell_type": "code",
      "source": [
        "save_name = \"./Level3/Lv3_\"+input_image_path.split(\"/\")[-1].split(\".\")[0]+\".png\"\n",
        "save_name"
      ],
      "metadata": {
        "colab": {
          "base_uri": "https://localhost:8080/",
          "height": 35
        },
        "id": "h_jDlX826nh_",
        "outputId": "8b4c4392-45a9-4f7c-e8b4-84f6ea600a16"
      },
      "execution_count": 44,
      "outputs": [
        {
          "output_type": "execute_result",
          "data": {
            "text/plain": [
              "'./Level3/Lv3_1.png'"
            ],
            "application/vnd.google.colaboratory.intrinsic+json": {
              "type": "string"
            }
          },
          "metadata": {},
          "execution_count": 44
        }
      ]
    },
    {
      "cell_type": "code",
      "source": [
        "!pwd"
      ],
      "metadata": {
        "colab": {
          "base_uri": "https://localhost:8080/"
        },
        "id": "Hnw1XVCZ6wDm",
        "outputId": "fe7e7aab-6bac-4713-b0e2-619d4f3d9eba"
      },
      "execution_count": 47,
      "outputs": [
        {
          "output_type": "stream",
          "name": "stdout",
          "text": [
            "/content/drive/MyDrive/ComputationalImaging/Cracks/dataset\n"
          ]
        }
      ]
    },
    {
      "cell_type": "code",
      "source": [],
      "metadata": {
        "id": "FtiEdSNS75Yr"
      },
      "execution_count": null,
      "outputs": []
    }
  ]
}