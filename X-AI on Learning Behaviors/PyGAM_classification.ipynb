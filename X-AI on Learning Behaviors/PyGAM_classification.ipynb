{
 "cells": [
  {
   "cell_type": "code",
   "execution_count": null,
   "id": "aa96463b",
   "metadata": {},
   "outputs": [],
   "source": [
    "## load required python packages\n",
    "import pandas as pd\n",
    "import numpy as np\n",
    "\n",
    "! pip install pygam\n",
    "from pygam import LinearGAM, LogisticGAM\n",
    "\n",
    "import matplotlib.pyplot as plt"
   ]
  },
  {
   "cell_type": "code",
   "execution_count": null,
   "id": "0e629e26",
   "metadata": {},
   "outputs": [],
   "source": [
    "df = pd.read_csv(\"survey_preprocessed_0127.csv\").iloc[:,1:]\n",
    "df.head()"
   ]
  },
  {
   "cell_type": "code",
   "execution_count": null,
   "id": "8b141a8b",
   "metadata": {},
   "outputs": [],
   "source": [
    "target_variables = []\n",
    "for feature in list(df.columns):\n",
    "  if feature.split('_')[0] == 'm':\n",
    "    target_variables.append(feature)\n",
    "target_variables"
   ]
  },
  {
   "cell_type": "code",
   "execution_count": null,
   "id": "b5ecf33b",
   "metadata": {},
   "outputs": [],
   "source": [
    "input_features = ['method','isPractical','majorForCourse','fstMajor','gender','enterDate']\n",
    "for col_name in df.columns:\n",
    "  if col_name.split(\"_\")[0] == 'cop':\n",
    "    input_features.append(col_name)\n",
    "  elif col_name.split(\"_\")[0] == 'env':\n",
    "    input_features.append(col_name)\n",
    "\n",
    "input_features"
   ]
  },
  {
   "cell_type": "code",
   "execution_count": null,
   "id": "163ddcfe",
   "metadata": {},
   "outputs": [],
   "source": [
    "df.replace(['Disagree'.lower(), 'Strongly Agree'.lower(), 'Strongly disagree'.lower(), 'Agree'.lower(),\n",
    "       'Neutral'.lower()],[-1,1,-1,1,0],inplace=True)\n",
    "\n",
    "df.replace('Strongly agree'.lower(),1,inplace=True)\n",
    "df.replace(['Not at all true'.lower(), 'A little true'.lower(), 'None'.lower(), 'Sometimes true'.lower(),\n",
    "       'Mostly true'.lower(), 'Very true'.lower()],[-1,-1,0,1,1,2],inplace=True)\n",
    "df.replace(['Yes','No'],[1,0],inplace = True)\n",
    "df.replace(['Female','Male'],[1,0],inplace = True)"
   ]
  },
  {
   "cell_type": "code",
   "execution_count": null,
   "id": "96a2b47d",
   "metadata": {},
   "outputs": [],
   "source": [
    "df.head()"
   ]
  },
  {
   "cell_type": "code",
   "execution_count": null,
   "id": "4301a1b9",
   "metadata": {},
   "outputs": [],
   "source": [
    "import copy\n",
    "from sklearn.metrics import accuracy_score,f1_score\n",
    "from sklearn.model_selection import train_test_split\n",
    "split_ratio = 0.2\n",
    "seed = 1\n",
    "target = 'm_sameMethod'\n",
    "num_cols = df[input_features]._get_numeric_data().columns\n",
    "categorical_cols = set(input_features)-set(list(num_cols))\n",
    "one_hot_encoded_data = pd.get_dummies(df[input_features], columns = list(categorical_cols))\n",
    "X,y = one_hot_encoded_data,df[target]\n",
    "X_train, X_test, y_train, y_test = train_test_split(X, y, test_size=split_ratio, random_state=seed)"
   ]
  },
  {
   "cell_type": "code",
   "execution_count": null,
   "id": "ea3f9af7",
   "metadata": {},
   "outputs": [],
   "source": [
    "X_train.head()"
   ]
  },
  {
   "cell_type": "code",
   "execution_count": null,
   "id": "b3e40953",
   "metadata": {},
   "outputs": [],
   "source": [
    "X_train.dtypes"
   ]
  },
  {
   "cell_type": "code",
   "execution_count": null,
   "id": "90cc86f8",
   "metadata": {},
   "outputs": [],
   "source": [
    "from imblearn.over_sampling import SMOTE\n",
    "combi = input_features\n",
    "num_cols = df[combi]._get_numeric_data().columns\n",
    "categorical_cols = set(combi)-set(list(num_cols))\n",
    "one_hot_encoded_data = pd.get_dummies(df[combi], columns = list(categorical_cols))\n",
    "X,y = one_hot_encoded_data,copy.deepcopy(df[target])\n",
    "# y.replace(-1,-2,inplace = True)\n",
    "# y.replace(1,2,inplace = True)\n",
    "X_train, X_test, y_train, y_test = train_test_split(X, y, test_size=split_ratio, random_state=seed)\n",
    "X_resampled, y_resampled = SMOTE().fit_resample(X_train, y_train)"
   ]
  },
  {
   "cell_type": "code",
   "execution_count": null,
   "id": "50ad2123",
   "metadata": {},
   "outputs": [],
   "source": [
    "X.head()"
   ]
  },
  {
   "cell_type": "code",
   "execution_count": null,
   "id": "ce3c3a1e",
   "metadata": {},
   "outputs": [],
   "source": [
    "y_resampled.value_counts()#train y distribution"
   ]
  },
  {
   "cell_type": "code",
   "execution_count": null,
   "id": "b4b34b15",
   "metadata": {
    "scrolled": true
   },
   "outputs": [],
   "source": [
    "y0_resampled = (y_resampled == 0)*1\n",
    "gam0 = LogisticGAM(n_splines = 20).fit(X_resampled,y0_resampled)\n",
    "log_gam0 = gam0.gridsearch(X_resampled,y0_resampled)"
   ]
  },
  {
   "cell_type": "code",
   "execution_count": null,
   "id": "0c84aaf4",
   "metadata": {},
   "outputs": [],
   "source": [
    "log_gam0.accuracy(X_resampled,y0_resampled)"
   ]
  },
  {
   "cell_type": "code",
   "execution_count": null,
   "id": "2f8ded87",
   "metadata": {
    "scrolled": true
   },
   "outputs": [],
   "source": [
    "y1_resampled = (y_resampled == 1)*1\n",
    "gam1 = LogisticGAM(n_splines = 10).fit(X_resampled,y1_resampled)\n",
    "log_gam1 = gam1.gridsearch(X_resampled,y1_resampled)"
   ]
  },
  {
   "cell_type": "code",
   "execution_count": null,
   "id": "c04763dc",
   "metadata": {},
   "outputs": [],
   "source": [
    "log_gam1.accuracy(X_resampled,y1_resampled)"
   ]
  },
  {
   "cell_type": "code",
   "execution_count": null,
   "id": "1fbc468a",
   "metadata": {
    "scrolled": true
   },
   "outputs": [],
   "source": [
    "y_neg_resampled = (y_resampled == -1)*1\n",
    "gam_neg = LogisticGAM(n_splines = 20).fit(X_resampled,y_neg_resampled)\n",
    "log_gam_neg = gam_neg.gridsearch(X_resampled,y_neg_resampled)"
   ]
  },
  {
   "cell_type": "code",
   "execution_count": null,
   "id": "56266f86",
   "metadata": {},
   "outputs": [],
   "source": [
    "log_gam_neg.accuracy(X_resampled,y_neg_resampled)"
   ]
  },
  {
   "cell_type": "code",
   "execution_count": null,
   "id": "ea991a4c",
   "metadata": {},
   "outputs": [],
   "source": [
    "proba = []\n",
    "proba.append(log_gam_neg.predict_proba(X_resampled))\n",
    "proba.append(log_gam0.predict_proba(X_resampled))\n",
    "proba.append(log_gam1.predict_proba(X_resampled))"
   ]
  },
  {
   "cell_type": "code",
   "execution_count": null,
   "id": "ebb0988d",
   "metadata": {},
   "outputs": [],
   "source": [
    "preds = np.argmax(np.array(proba),axis = 0)\n",
    "preds[preds == 0] = -1\n",
    "preds[preds == 1] = 0\n",
    "preds[preds == 2] = 1"
   ]
  },
  {
   "cell_type": "code",
   "execution_count": null,
   "id": "d554f1fd",
   "metadata": {},
   "outputs": [],
   "source": [
    "from sklearn.metrics import accuracy_score,f1_score\n",
    "accuracy_score(y_resampled,preds)#Train acc"
   ]
  },
  {
   "cell_type": "code",
   "execution_count": null,
   "id": "bc733a89",
   "metadata": {},
   "outputs": [],
   "source": [
    "proba = []\n",
    "proba.append(log_gam_neg.predict_proba(X_test))\n",
    "proba.append(log_gam0.predict_proba(X_test))\n",
    "proba.append(log_gam1.predict_proba(X_test))"
   ]
  },
  {
   "cell_type": "code",
   "execution_count": null,
   "id": "8b855260",
   "metadata": {},
   "outputs": [],
   "source": [
    "preds = np.argmax(np.array(proba),axis = 0)\n",
    "preds[preds == 0] = -1\n",
    "preds[preds == 1] = 0\n",
    "preds[preds == 2] = 1"
   ]
  },
  {
   "cell_type": "code",
   "execution_count": null,
   "id": "45266300",
   "metadata": {},
   "outputs": [],
   "source": [
    "from sklearn.metrics import accuracy_score,f1_score\n",
    "accuracy_score(y_test,preds)#Train acc"
   ]
  },
  {
   "cell_type": "code",
   "execution_count": null,
   "id": "a114d3df",
   "metadata": {
    "scrolled": false
   },
   "outputs": [],
   "source": [
    "from itertools import combinations\n",
    "best_f1 = 0.\n",
    "best_acc = 0.\n",
    "\n",
    "for n_sample in range(4,8):\n",
    "    print(\"best test acc:\",best_acc,\"best f1 score:\",best_f1)\n",
    "    for combi in list(combinations(input_features,n_sample)):\n",
    "        combi = list(combi)\n",
    "        num_cols = df[combi]._get_numeric_data().columns\n",
    "        categorical_cols = set(combi)-set(list(num_cols))\n",
    "        one_hot_encoded_data = pd.get_dummies(df[combi], columns = list(categorical_cols))\n",
    "        X,y = one_hot_encoded_data,copy.deepcopy(df[target])\n",
    "        X_train, X_test, y_train, y_test = train_test_split(X, y, test_size=split_ratio, random_state=seed)\n",
    "        X_resampled, y_resampled = SMOTE().fit_resample(X_train, y_train)\n",
    "        \n",
    "        for n in range(3,20):\n",
    "            try:\n",
    "                print(\"n_splines:\",n)\n",
    "\n",
    "                y0_resampled = (y_resampled == 0)*1\n",
    "                gam0 = LogisticGAM(n_splines = n).fit(X_resampled,y0_resampled)\n",
    "                log_gam0 = gam0.gridsearch(X_resampled,y0_resampled)\n",
    "\n",
    "                y1_resampled = (y_resampled == 1)*1\n",
    "                gam1 = LogisticGAM(n_splines = n).fit(X_resampled,y1_resampled)\n",
    "                log_gam1 = gam1.gridsearch(X_resampled,y1_resampled)\n",
    "\n",
    "                y_neg_resampled = (y_resampled == -1)*1\n",
    "                gam_neg = LogisticGAM(n_splines = n).fit(X_resampled,y_neg_resampled)\n",
    "                log_gam_neg = gam_neg.gridsearch(X_resampled,y_neg_resampled)\n",
    "\n",
    "                proba = []\n",
    "                proba.append(log_gam_neg.predict_proba(X_resampled))\n",
    "                proba.append(log_gam0.predict_proba(X_resampled))\n",
    "                proba.append(log_gam1.predict_proba(X_resampled))\n",
    "                preds = np.argmax(np.array(proba),axis = 0)\n",
    "                preds[preds == 0] = -1\n",
    "                preds[preds == 1] = 0\n",
    "                preds[preds == 2] = 1\n",
    "\n",
    "                train_acc = accuracy_score(y_resampled,preds)#Train acc\n",
    "                proba = []\n",
    "                proba.append(log_gam_neg.predict_proba(X_test))\n",
    "                proba.append(log_gam0.predict_proba(X_test))\n",
    "                proba.append(log_gam1.predict_proba(X_test))\n",
    "                preds = np.argmax(np.array(proba),axis = 0)\n",
    "                preds[preds == 0] = -1\n",
    "                preds[preds == 1] = 0\n",
    "                preds[preds == 2] = 1\n",
    "\n",
    "                test_acc = accuracy_score(y_test,preds)#Train acc\n",
    "                f1_test = f1_score(y_test,preds,average = 'weighted')#Train acc\n",
    "                print(\"train acc:\",train_acc,\"test acc:\",test_acc,\"f1 score:\",f1_test)\n",
    "                if test_acc > best_acc:\n",
    "                    best_acc = test_acc\n",
    "                    best_gam0 = log_gam0\n",
    "                    best_gam1 = log_gam1\n",
    "                    best_gam_neg = log_gam_neg\n",
    "                    best_features = combi\n",
    "                    best_n_splines = n\n",
    "                \n",
    "                if f1_test>best_f1:\n",
    "                    best_f1 = f1_test\n",
    "                    best_f1_gam0 = log_gam0\n",
    "                    best_f1_gam1 = log_gam1\n",
    "                    best_f1_gam_neg = log_gam_neg\n",
    "                    best_f1_features = combi\n",
    "                    best_f1_n_splines = n\n",
    "                \n",
    "\n",
    "            except Exception as e:\n",
    "                print(\"except:\",e)\n",
    "                continue"
   ]
  },
  {
   "cell_type": "code",
   "execution_count": null,
   "id": "a035efd4",
   "metadata": {},
   "outputs": [],
   "source": [
    "best_features"
   ]
  },
  {
   "cell_type": "code",
   "execution_count": null,
   "id": "1e148a7c",
   "metadata": {},
   "outputs": [],
   "source": [
    "target"
   ]
  },
  {
   "cell_type": "code",
   "execution_count": null,
   "id": "7d3311cc",
   "metadata": {},
   "outputs": [],
   "source": [
    "best_n_splines"
   ]
  },
  {
   "cell_type": "code",
   "execution_count": null,
   "id": "5ce304c2",
   "metadata": {},
   "outputs": [],
   "source": [
    "best_acc"
   ]
  },
  {
   "cell_type": "code",
   "execution_count": null,
   "id": "90a04ef1",
   "metadata": {},
   "outputs": [],
   "source": [
    "best_f1"
   ]
  },
  {
   "cell_type": "code",
   "execution_count": null,
   "id": "d498014a",
   "metadata": {},
   "outputs": [],
   "source": []
  },
  {
   "cell_type": "code",
   "execution_count": null,
   "id": "ba0f1ec6",
   "metadata": {},
   "outputs": [],
   "source": []
  }
 ],
 "metadata": {
  "kernelspec": {
   "display_name": "Python 3 (ipykernel)",
   "language": "python",
   "name": "python3"
  },
  "language_info": {
   "codemirror_mode": {
    "name": "ipython",
    "version": 3
   },
   "file_extension": ".py",
   "mimetype": "text/x-python",
   "name": "python",
   "nbconvert_exporter": "python",
   "pygments_lexer": "ipython3",
   "version": "3.7.13"
  }
 },
 "nbformat": 4,
 "nbformat_minor": 5
}
