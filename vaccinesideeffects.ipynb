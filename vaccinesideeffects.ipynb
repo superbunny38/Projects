{
  "nbformat": 4,
  "nbformat_minor": 0,
  "metadata": {
    "colab": {
      "name": "vaccinesideeffects.ipynb",
      "provenance": [],
      "collapsed_sections": [],
      "include_colab_link": true
    },
    "kernelspec": {
      "name": "python3",
      "display_name": "Python 3"
    },
    "language_info": {
      "name": "python"
    },
    "accelerator": "GPU"
  },
  "cells": [
    {
      "cell_type": "markdown",
      "metadata": {
        "id": "view-in-github",
        "colab_type": "text"
      },
      "source": [
        "<a href=\"https://colab.research.google.com/github/superbunny38/Projects/blob/main/vaccinesideeffects.ipynb\" target=\"_parent\"><img src=\"https://colab.research.google.com/assets/colab-badge.svg\" alt=\"Open In Colab\"/></a>"
      ]
    },
    {
      "cell_type": "code",
      "metadata": {
        "id": "awLemS-Wg_fV"
      },
      "source": [
        "import pandas as pd\n",
        "import matplotlib.pyplot as plt\n",
        "\n",
        "from bs4 import BeautifulSoup\n",
        "from urllib.request import Request, urlopen\n",
        "from urllib.parse import unquote, quote_plus, urlencode"
      ],
      "execution_count": null,
      "outputs": []
    },
    {
      "cell_type": "markdown",
      "source": [
        "# Get Data (COVID)"
      ],
      "metadata": {
        "id": "RV06Rg9P3pOz"
      }
    },
    {
      "cell_type": "code",
      "metadata": {
        "id": "S-ceuAeQg_sZ"
      },
      "source": [
        "url = 'http://openapi.data.go.kr/openapi/service/rest/Covid19/getCovid19InfStateJson'\n",
        "serviceKey = 'UIZ4nR8Yx%2FM2qRLipwYmfJVi%2B6Fl8uCyx4gSk7S07xo1oOkiRf3hHp8xiiBljk2z6YDG5Kxrq3gCnA3jVWZJ4Q%3D%3D'\n",
        "decodekey = 'UIZ4nR8Yx/M2qRLipwYmfJVi+6Fl8uCyx4gSk7S07xo1oOkiRf3hHp8xiiBljk2z6YDG5Kxrq3gCnA3jVWZJ4Q=='"
      ],
      "execution_count": null,
      "outputs": []
    },
    {
      "cell_type": "code",
      "metadata": {
        "colab": {
          "base_uri": "https://localhost:8080/",
          "height": 72
        },
        "id": "ezVnt1kxhKNe",
        "outputId": "069a3908-a22d-4f52-8530-aaa0e29512b1"
      },
      "source": [
        "import requests\n",
        "from bs4 import BeautifulSoup as bs\n",
        "from urllib import parse\n",
        "startCreateDt = 2019414\n",
        "endCreateDt = 20211213\n",
        "params = {'ServiceKey':parse.unquote(serviceKey), # 서비스키(필수)\n",
        "          'startCreateDt':startCreateDt, # 데이터 생성일 시작범위(선택)\n",
        "          'endCreateDt':endCreateDt # 데이터 생성일 종료범위(선택)\n",
        "}\n",
        "\n",
        "res = requests.get(url, params=params)\n",
        "soup = bs(res.text, 'lxml')\n",
        "'''\n",
        "query_params = '?' + urlencode({\n",
        "    quote_plus('serviceKey'): decodekey,\n",
        "    quote_plus('startCreateDt'): startCreateDt,\n",
        "    quote_plus('endCreateDt'): endCreateDt\n",
        "})\n",
        "\n",
        "URL = url + query_params'''"
      ],
      "execution_count": null,
      "outputs": [
        {
          "output_type": "execute_result",
          "data": {
            "application/vnd.google.colaboratory.intrinsic+json": {
              "type": "string"
            },
            "text/plain": [
              "\"\\nquery_params = '?' + urlencode({\\n    quote_plus('serviceKey'): decodekey,\\n    quote_plus('startCreateDt'): startCreateDt,\\n    quote_plus('endCreateDt'): endCreateDt\\n})\\n\\nURL = url + query_params\""
            ]
          },
          "metadata": {},
          "execution_count": 3
        }
      ]
    },
    {
      "cell_type": "code",
      "metadata": {
        "id": "zbAc7wHGtsze"
      },
      "source": [
        "items = soup.find_all('item')\n",
        "#print(items)"
      ],
      "execution_count": null,
      "outputs": []
    },
    {
      "cell_type": "code",
      "metadata": {
        "id": "8F-sy4lusMWW"
      },
      "source": [
        "# 리스트 원소 확인\n",
        "for x in items:\n",
        "    print(x)\n",
        "    print()"
      ],
      "execution_count": null,
      "outputs": []
    },
    {
      "cell_type": "code",
      "metadata": {
        "id": "1xVw4-IftxYm"
      },
      "source": [
        "response = {'seq': '고유번호',\n",
        "            'statedt': '기준일',\n",
        "            'statetime': '기준시간',\n",
        "            'decidecnt': '확진자',\n",
        "            'clearcnt': '격리해제',\n",
        "            'examcnt': '검사진행',\n",
        "            'deathcnt': '사망자',\n",
        "            'carecnt': '치료중',\n",
        "            'resutlnegcnt': '음성',\n",
        "            'accexamcnt': '누적검사',\n",
        "            'accexamcompcnt': '누적검사완료',\n",
        "            'accdefrate': '누적확진률',\n",
        "            'createdt': '등록일시',\n",
        "            'updatedt': '수정'}"
      ],
      "execution_count": null,
      "outputs": []
    },
    {
      "cell_type": "code",
      "metadata": {
        "id": "14JLn0nft1dS"
      },
      "source": [
        "# xml을 dictionary로 바꿔 리스트 원소로 추가\n",
        "lst = []\n",
        "for y in items:\n",
        "    l = {}\n",
        "    for x in y:\n",
        "        l[x.name] = x.text\n",
        "    lst.append(l)\n",
        "#lst"
      ],
      "execution_count": null,
      "outputs": []
    },
    {
      "cell_type": "code",
      "metadata": {
        "colab": {
          "base_uri": "https://localhost:8080/",
          "height": 614
        },
        "id": "aGSh7z02t39Q",
        "outputId": "3916c401-0d27-4ff3-8f6b-caabbaf5c6e0"
      },
      "source": [
        "# list를 dataframe으로 만들기\n",
        "df = pd.DataFrame(lst)\n",
        "df.columns = df.columns.map(response)\n",
        "df"
      ],
      "execution_count": null,
      "outputs": [
        {
          "output_type": "execute_result",
          "data": {
            "text/html": [
              "<div>\n",
              "<style scoped>\n",
              "    .dataframe tbody tr th:only-of-type {\n",
              "        vertical-align: middle;\n",
              "    }\n",
              "\n",
              "    .dataframe tbody tr th {\n",
              "        vertical-align: top;\n",
              "    }\n",
              "\n",
              "    .dataframe thead th {\n",
              "        text-align: right;\n",
              "    }\n",
              "</style>\n",
              "<table border=\"1\" class=\"dataframe\">\n",
              "  <thead>\n",
              "    <tr style=\"text-align: right;\">\n",
              "      <th></th>\n",
              "      <th>누적검사</th>\n",
              "      <th>등록일시</th>\n",
              "      <th>사망자</th>\n",
              "      <th>확진자</th>\n",
              "      <th>고유번호</th>\n",
              "      <th>기준일</th>\n",
              "      <th>기준시간</th>\n",
              "      <th>수정</th>\n",
              "      <th>누적확진률</th>\n",
              "    </tr>\n",
              "  </thead>\n",
              "  <tbody>\n",
              "    <tr>\n",
              "      <th>0</th>\n",
              "      <td>18140572</td>\n",
              "      <td>2021-12-13 09:00:10.891</td>\n",
              "      <td>4292</td>\n",
              "      <td>523077</td>\n",
              "      <td>726</td>\n",
              "      <td>20211213</td>\n",
              "      <td>00:00</td>\n",
              "      <td>2021-12-17 09:08:32.95</td>\n",
              "      <td>NaN</td>\n",
              "    </tr>\n",
              "    <tr>\n",
              "      <th>1</th>\n",
              "      <td>18084589</td>\n",
              "      <td>2021-12-12 08:35:19.089</td>\n",
              "      <td>4252</td>\n",
              "      <td>517260</td>\n",
              "      <td>725</td>\n",
              "      <td>20211212</td>\n",
              "      <td>00:00</td>\n",
              "      <td>2021-12-17 09:08:23.25</td>\n",
              "      <td>NaN</td>\n",
              "    </tr>\n",
              "    <tr>\n",
              "      <th>2</th>\n",
              "      <td>17950721</td>\n",
              "      <td>2021-12-10 09:04:53.786</td>\n",
              "      <td>4130</td>\n",
              "      <td>503601</td>\n",
              "      <td>723</td>\n",
              "      <td>20211210</td>\n",
              "      <td>00:00</td>\n",
              "      <td>2021-12-17 09:08:03.447</td>\n",
              "      <td>NaN</td>\n",
              "    </tr>\n",
              "    <tr>\n",
              "      <th>3</th>\n",
              "      <td>17870821</td>\n",
              "      <td>2021-12-09 09:05:11.285</td>\n",
              "      <td>4077</td>\n",
              "      <td>496853</td>\n",
              "      <td>722</td>\n",
              "      <td>20211209</td>\n",
              "      <td>00:00</td>\n",
              "      <td>2021-12-17 09:07:54.162</td>\n",
              "      <td>NaN</td>\n",
              "    </tr>\n",
              "    <tr>\n",
              "      <th>4</th>\n",
              "      <td>17787657</td>\n",
              "      <td>2021-12-08 08:56:34.509</td>\n",
              "      <td>4020</td>\n",
              "      <td>489478</td>\n",
              "      <td>721</td>\n",
              "      <td>20211208</td>\n",
              "      <td>00:00</td>\n",
              "      <td>2021-12-17 09:07:45.766</td>\n",
              "      <td>NaN</td>\n",
              "    </tr>\n",
              "    <tr>\n",
              "      <th>...</th>\n",
              "      <td>...</td>\n",
              "      <td>...</td>\n",
              "      <td>...</td>\n",
              "      <td>...</td>\n",
              "      <td>...</td>\n",
              "      <td>...</td>\n",
              "      <td>...</td>\n",
              "      <td>...</td>\n",
              "      <td>...</td>\n",
              "    </tr>\n",
              "    <tr>\n",
              "      <th>687</th>\n",
              "      <td>29</td>\n",
              "      <td>2020-01-24 00:00:00.000</td>\n",
              "      <td>0</td>\n",
              "      <td>2</td>\n",
              "      <td>5</td>\n",
              "      <td>20200124</td>\n",
              "      <td>00:00</td>\n",
              "      <td>2021-10-07 10:30:51.51</td>\n",
              "      <td>6.896551724</td>\n",
              "    </tr>\n",
              "    <tr>\n",
              "      <th>688</th>\n",
              "      <td>25</td>\n",
              "      <td>2020-01-23 09:00:00.000</td>\n",
              "      <td>0</td>\n",
              "      <td>1</td>\n",
              "      <td>4</td>\n",
              "      <td>20200123</td>\n",
              "      <td>09:00</td>\n",
              "      <td>2021-10-07 10:30:51.51</td>\n",
              "      <td>4</td>\n",
              "    </tr>\n",
              "    <tr>\n",
              "      <th>689</th>\n",
              "      <td>21</td>\n",
              "      <td>2020-01-22 12:00:00.000</td>\n",
              "      <td>0</td>\n",
              "      <td>1</td>\n",
              "      <td>3</td>\n",
              "      <td>20200122</td>\n",
              "      <td>12:00</td>\n",
              "      <td>2021-10-07 10:30:51.51</td>\n",
              "      <td>4.761904762</td>\n",
              "    </tr>\n",
              "    <tr>\n",
              "      <th>690</th>\n",
              "      <td>15</td>\n",
              "      <td>2020-01-21 09:00:00.000</td>\n",
              "      <td>0</td>\n",
              "      <td>1</td>\n",
              "      <td>2</td>\n",
              "      <td>20200121</td>\n",
              "      <td>09:00</td>\n",
              "      <td>2021-10-07 10:30:51.51</td>\n",
              "      <td>6.666666667</td>\n",
              "    </tr>\n",
              "    <tr>\n",
              "      <th>691</th>\n",
              "      <td>4</td>\n",
              "      <td>2020-01-20 17:00:00.000</td>\n",
              "      <td>0</td>\n",
              "      <td>1</td>\n",
              "      <td>1</td>\n",
              "      <td>20200120</td>\n",
              "      <td>17:00</td>\n",
              "      <td>2021-10-07 10:30:51.51</td>\n",
              "      <td>25</td>\n",
              "    </tr>\n",
              "  </tbody>\n",
              "</table>\n",
              "<p>692 rows × 9 columns</p>\n",
              "</div>"
            ],
            "text/plain": [
              "         누적검사                     등록일시  ...                       수정        누적확진률\n",
              "0    18140572  2021-12-13 09:00:10.891  ...   2021-12-17 09:08:32.95          NaN\n",
              "1    18084589  2021-12-12 08:35:19.089  ...   2021-12-17 09:08:23.25          NaN\n",
              "2    17950721  2021-12-10 09:04:53.786  ...  2021-12-17 09:08:03.447          NaN\n",
              "3    17870821  2021-12-09 09:05:11.285  ...  2021-12-17 09:07:54.162          NaN\n",
              "4    17787657  2021-12-08 08:56:34.509  ...  2021-12-17 09:07:45.766          NaN\n",
              "..        ...                      ...  ...                      ...          ...\n",
              "687        29  2020-01-24 00:00:00.000  ...   2021-10-07 10:30:51.51  6.896551724\n",
              "688        25  2020-01-23 09:00:00.000  ...   2021-10-07 10:30:51.51            4\n",
              "689        21  2020-01-22 12:00:00.000  ...   2021-10-07 10:30:51.51  4.761904762\n",
              "690        15  2020-01-21 09:00:00.000  ...   2021-10-07 10:30:51.51  6.666666667\n",
              "691         4  2020-01-20 17:00:00.000  ...   2021-10-07 10:30:51.51           25\n",
              "\n",
              "[692 rows x 9 columns]"
            ]
          },
          "metadata": {},
          "execution_count": 8
        }
      ]
    },
    {
      "cell_type": "code",
      "metadata": {
        "colab": {
          "base_uri": "https://localhost:8080/"
        },
        "id": "d5vCBrrXt6lB",
        "outputId": "9e279f1f-4ad3-4eb9-ada2-25d4e2c1c22f"
      },
      "source": [
        "!pip install xmltodict"
      ],
      "execution_count": null,
      "outputs": [
        {
          "output_type": "stream",
          "name": "stdout",
          "text": [
            "Collecting xmltodict\n",
            "  Downloading xmltodict-0.12.0-py2.py3-none-any.whl (9.2 kB)\n",
            "Installing collected packages: xmltodict\n",
            "Successfully installed xmltodict-0.12.0\n"
          ]
        }
      ]
    },
    {
      "cell_type": "code",
      "metadata": {
        "colab": {
          "base_uri": "https://localhost:8080/"
        },
        "id": "AGT1hy_wt91j",
        "outputId": "edeb5099-ff95-4d72-a87a-b050d2cc8815"
      },
      "source": [
        "import xmltodict\n",
        "xmltodict.parse(str(items[0]))['item']"
      ],
      "execution_count": null,
      "outputs": [
        {
          "output_type": "execute_result",
          "data": {
            "text/plain": [
              "OrderedDict([('accexamcnt', '18140572'),\n",
              "             ('createdt', '2021-12-13 09:00:10.891'),\n",
              "             ('deathcnt', '4292'),\n",
              "             ('decidecnt', '523077'),\n",
              "             ('seq', '726'),\n",
              "             ('statedt', '20211213'),\n",
              "             ('statetime', '00:00'),\n",
              "             ('updatedt', '2021-12-17 09:08:32.95')])"
            ]
          },
          "metadata": {},
          "execution_count": 10
        }
      ]
    },
    {
      "cell_type": "code",
      "metadata": {
        "colab": {
          "base_uri": "https://localhost:8080/",
          "height": 614
        },
        "id": "aSw2J5z9uBSv",
        "outputId": "92bc4e0e-ae7c-4770-e3e6-0a4eee9251b2"
      },
      "source": [
        "import xmltodict\n",
        "\n",
        "dic2 = dict(covid19=[])\n",
        "for item in items:\n",
        "    dic2['covid19'].append(dict(xmltodict.parse(str(item))['item']))\n",
        "\n",
        "# DataFrame으로 변환\n",
        "df = pd.DataFrame(dic2['covid19'])\n",
        "df.columns = df.columns.map(response) # column명에 map함수를 적용하여 한글로 변환\n",
        "df"
      ],
      "execution_count": null,
      "outputs": [
        {
          "output_type": "execute_result",
          "data": {
            "text/html": [
              "<div>\n",
              "<style scoped>\n",
              "    .dataframe tbody tr th:only-of-type {\n",
              "        vertical-align: middle;\n",
              "    }\n",
              "\n",
              "    .dataframe tbody tr th {\n",
              "        vertical-align: top;\n",
              "    }\n",
              "\n",
              "    .dataframe thead th {\n",
              "        text-align: right;\n",
              "    }\n",
              "</style>\n",
              "<table border=\"1\" class=\"dataframe\">\n",
              "  <thead>\n",
              "    <tr style=\"text-align: right;\">\n",
              "      <th></th>\n",
              "      <th>누적검사</th>\n",
              "      <th>등록일시</th>\n",
              "      <th>사망자</th>\n",
              "      <th>확진자</th>\n",
              "      <th>고유번호</th>\n",
              "      <th>기준일</th>\n",
              "      <th>기준시간</th>\n",
              "      <th>수정</th>\n",
              "      <th>누적확진률</th>\n",
              "    </tr>\n",
              "  </thead>\n",
              "  <tbody>\n",
              "    <tr>\n",
              "      <th>0</th>\n",
              "      <td>18140572</td>\n",
              "      <td>2021-12-13 09:00:10.891</td>\n",
              "      <td>4292</td>\n",
              "      <td>523077</td>\n",
              "      <td>726</td>\n",
              "      <td>20211213</td>\n",
              "      <td>00:00</td>\n",
              "      <td>2021-12-17 09:08:32.95</td>\n",
              "      <td>NaN</td>\n",
              "    </tr>\n",
              "    <tr>\n",
              "      <th>1</th>\n",
              "      <td>18084589</td>\n",
              "      <td>2021-12-12 08:35:19.089</td>\n",
              "      <td>4252</td>\n",
              "      <td>517260</td>\n",
              "      <td>725</td>\n",
              "      <td>20211212</td>\n",
              "      <td>00:00</td>\n",
              "      <td>2021-12-17 09:08:23.25</td>\n",
              "      <td>NaN</td>\n",
              "    </tr>\n",
              "    <tr>\n",
              "      <th>2</th>\n",
              "      <td>17950721</td>\n",
              "      <td>2021-12-10 09:04:53.786</td>\n",
              "      <td>4130</td>\n",
              "      <td>503601</td>\n",
              "      <td>723</td>\n",
              "      <td>20211210</td>\n",
              "      <td>00:00</td>\n",
              "      <td>2021-12-17 09:08:03.447</td>\n",
              "      <td>NaN</td>\n",
              "    </tr>\n",
              "    <tr>\n",
              "      <th>3</th>\n",
              "      <td>17870821</td>\n",
              "      <td>2021-12-09 09:05:11.285</td>\n",
              "      <td>4077</td>\n",
              "      <td>496853</td>\n",
              "      <td>722</td>\n",
              "      <td>20211209</td>\n",
              "      <td>00:00</td>\n",
              "      <td>2021-12-17 09:07:54.162</td>\n",
              "      <td>NaN</td>\n",
              "    </tr>\n",
              "    <tr>\n",
              "      <th>4</th>\n",
              "      <td>17787657</td>\n",
              "      <td>2021-12-08 08:56:34.509</td>\n",
              "      <td>4020</td>\n",
              "      <td>489478</td>\n",
              "      <td>721</td>\n",
              "      <td>20211208</td>\n",
              "      <td>00:00</td>\n",
              "      <td>2021-12-17 09:07:45.766</td>\n",
              "      <td>NaN</td>\n",
              "    </tr>\n",
              "    <tr>\n",
              "      <th>...</th>\n",
              "      <td>...</td>\n",
              "      <td>...</td>\n",
              "      <td>...</td>\n",
              "      <td>...</td>\n",
              "      <td>...</td>\n",
              "      <td>...</td>\n",
              "      <td>...</td>\n",
              "      <td>...</td>\n",
              "      <td>...</td>\n",
              "    </tr>\n",
              "    <tr>\n",
              "      <th>687</th>\n",
              "      <td>29</td>\n",
              "      <td>2020-01-24 00:00:00.000</td>\n",
              "      <td>0</td>\n",
              "      <td>2</td>\n",
              "      <td>5</td>\n",
              "      <td>20200124</td>\n",
              "      <td>00:00</td>\n",
              "      <td>2021-10-07 10:30:51.51</td>\n",
              "      <td>6.896551724</td>\n",
              "    </tr>\n",
              "    <tr>\n",
              "      <th>688</th>\n",
              "      <td>25</td>\n",
              "      <td>2020-01-23 09:00:00.000</td>\n",
              "      <td>0</td>\n",
              "      <td>1</td>\n",
              "      <td>4</td>\n",
              "      <td>20200123</td>\n",
              "      <td>09:00</td>\n",
              "      <td>2021-10-07 10:30:51.51</td>\n",
              "      <td>4</td>\n",
              "    </tr>\n",
              "    <tr>\n",
              "      <th>689</th>\n",
              "      <td>21</td>\n",
              "      <td>2020-01-22 12:00:00.000</td>\n",
              "      <td>0</td>\n",
              "      <td>1</td>\n",
              "      <td>3</td>\n",
              "      <td>20200122</td>\n",
              "      <td>12:00</td>\n",
              "      <td>2021-10-07 10:30:51.51</td>\n",
              "      <td>4.761904762</td>\n",
              "    </tr>\n",
              "    <tr>\n",
              "      <th>690</th>\n",
              "      <td>15</td>\n",
              "      <td>2020-01-21 09:00:00.000</td>\n",
              "      <td>0</td>\n",
              "      <td>1</td>\n",
              "      <td>2</td>\n",
              "      <td>20200121</td>\n",
              "      <td>09:00</td>\n",
              "      <td>2021-10-07 10:30:51.51</td>\n",
              "      <td>6.666666667</td>\n",
              "    </tr>\n",
              "    <tr>\n",
              "      <th>691</th>\n",
              "      <td>4</td>\n",
              "      <td>2020-01-20 17:00:00.000</td>\n",
              "      <td>0</td>\n",
              "      <td>1</td>\n",
              "      <td>1</td>\n",
              "      <td>20200120</td>\n",
              "      <td>17:00</td>\n",
              "      <td>2021-10-07 10:30:51.51</td>\n",
              "      <td>25</td>\n",
              "    </tr>\n",
              "  </tbody>\n",
              "</table>\n",
              "<p>692 rows × 9 columns</p>\n",
              "</div>"
            ],
            "text/plain": [
              "         누적검사                     등록일시  ...                       수정        누적확진률\n",
              "0    18140572  2021-12-13 09:00:10.891  ...   2021-12-17 09:08:32.95          NaN\n",
              "1    18084589  2021-12-12 08:35:19.089  ...   2021-12-17 09:08:23.25          NaN\n",
              "2    17950721  2021-12-10 09:04:53.786  ...  2021-12-17 09:08:03.447          NaN\n",
              "3    17870821  2021-12-09 09:05:11.285  ...  2021-12-17 09:07:54.162          NaN\n",
              "4    17787657  2021-12-08 08:56:34.509  ...  2021-12-17 09:07:45.766          NaN\n",
              "..        ...                      ...  ...                      ...          ...\n",
              "687        29  2020-01-24 00:00:00.000  ...   2021-10-07 10:30:51.51  6.896551724\n",
              "688        25  2020-01-23 09:00:00.000  ...   2021-10-07 10:30:51.51            4\n",
              "689        21  2020-01-22 12:00:00.000  ...   2021-10-07 10:30:51.51  4.761904762\n",
              "690        15  2020-01-21 09:00:00.000  ...   2021-10-07 10:30:51.51  6.666666667\n",
              "691         4  2020-01-20 17:00:00.000  ...   2021-10-07 10:30:51.51           25\n",
              "\n",
              "[692 rows x 9 columns]"
            ]
          },
          "metadata": {},
          "execution_count": 11
        }
      ]
    },
    {
      "cell_type": "markdown",
      "source": [
        "# Data Preprocessing (COVID)"
      ],
      "metadata": {
        "id": "v8Q8mHKY3vGI"
      }
    },
    {
      "cell_type": "code",
      "metadata": {
        "colab": {
          "base_uri": "https://localhost:8080/",
          "height": 310
        },
        "id": "QqV2SagtwFuC",
        "outputId": "215bd41a-af7a-45f7-b143-ea1127fbbc8e"
      },
      "source": [
        "df.head()"
      ],
      "execution_count": null,
      "outputs": [
        {
          "output_type": "execute_result",
          "data": {
            "text/html": [
              "<div>\n",
              "<style scoped>\n",
              "    .dataframe tbody tr th:only-of-type {\n",
              "        vertical-align: middle;\n",
              "    }\n",
              "\n",
              "    .dataframe tbody tr th {\n",
              "        vertical-align: top;\n",
              "    }\n",
              "\n",
              "    .dataframe thead th {\n",
              "        text-align: right;\n",
              "    }\n",
              "</style>\n",
              "<table border=\"1\" class=\"dataframe\">\n",
              "  <thead>\n",
              "    <tr style=\"text-align: right;\">\n",
              "      <th></th>\n",
              "      <th>누적검사</th>\n",
              "      <th>등록일시</th>\n",
              "      <th>사망자</th>\n",
              "      <th>확진자</th>\n",
              "      <th>고유번호</th>\n",
              "      <th>기준일</th>\n",
              "      <th>기준시간</th>\n",
              "      <th>수정</th>\n",
              "      <th>누적확진률</th>\n",
              "    </tr>\n",
              "  </thead>\n",
              "  <tbody>\n",
              "    <tr>\n",
              "      <th>0</th>\n",
              "      <td>18140572</td>\n",
              "      <td>2021-12-13 09:00:10.891</td>\n",
              "      <td>4292</td>\n",
              "      <td>523077</td>\n",
              "      <td>726</td>\n",
              "      <td>20211213</td>\n",
              "      <td>00:00</td>\n",
              "      <td>2021-12-17 09:08:32.95</td>\n",
              "      <td>NaN</td>\n",
              "    </tr>\n",
              "    <tr>\n",
              "      <th>1</th>\n",
              "      <td>18084589</td>\n",
              "      <td>2021-12-12 08:35:19.089</td>\n",
              "      <td>4252</td>\n",
              "      <td>517260</td>\n",
              "      <td>725</td>\n",
              "      <td>20211212</td>\n",
              "      <td>00:00</td>\n",
              "      <td>2021-12-17 09:08:23.25</td>\n",
              "      <td>NaN</td>\n",
              "    </tr>\n",
              "    <tr>\n",
              "      <th>2</th>\n",
              "      <td>17950721</td>\n",
              "      <td>2021-12-10 09:04:53.786</td>\n",
              "      <td>4130</td>\n",
              "      <td>503601</td>\n",
              "      <td>723</td>\n",
              "      <td>20211210</td>\n",
              "      <td>00:00</td>\n",
              "      <td>2021-12-17 09:08:03.447</td>\n",
              "      <td>NaN</td>\n",
              "    </tr>\n",
              "    <tr>\n",
              "      <th>3</th>\n",
              "      <td>17870821</td>\n",
              "      <td>2021-12-09 09:05:11.285</td>\n",
              "      <td>4077</td>\n",
              "      <td>496853</td>\n",
              "      <td>722</td>\n",
              "      <td>20211209</td>\n",
              "      <td>00:00</td>\n",
              "      <td>2021-12-17 09:07:54.162</td>\n",
              "      <td>NaN</td>\n",
              "    </tr>\n",
              "    <tr>\n",
              "      <th>4</th>\n",
              "      <td>17787657</td>\n",
              "      <td>2021-12-08 08:56:34.509</td>\n",
              "      <td>4020</td>\n",
              "      <td>489478</td>\n",
              "      <td>721</td>\n",
              "      <td>20211208</td>\n",
              "      <td>00:00</td>\n",
              "      <td>2021-12-17 09:07:45.766</td>\n",
              "      <td>NaN</td>\n",
              "    </tr>\n",
              "  </tbody>\n",
              "</table>\n",
              "</div>"
            ],
            "text/plain": [
              "       누적검사                     등록일시  ...                       수정 누적확진률\n",
              "0  18140572  2021-12-13 09:00:10.891  ...   2021-12-17 09:08:32.95   NaN\n",
              "1  18084589  2021-12-12 08:35:19.089  ...   2021-12-17 09:08:23.25   NaN\n",
              "2  17950721  2021-12-10 09:04:53.786  ...  2021-12-17 09:08:03.447   NaN\n",
              "3  17870821  2021-12-09 09:05:11.285  ...  2021-12-17 09:07:54.162   NaN\n",
              "4  17787657  2021-12-08 08:56:34.509  ...  2021-12-17 09:07:45.766   NaN\n",
              "\n",
              "[5 rows x 9 columns]"
            ]
          },
          "metadata": {},
          "execution_count": 12
        }
      ]
    },
    {
      "cell_type": "code",
      "metadata": {
        "colab": {
          "base_uri": "https://localhost:8080/",
          "height": 310
        },
        "id": "VJKT4HJgwsMM",
        "outputId": "63415e15-3adf-4e12-cede-f2f8c6bd84d7"
      },
      "source": [
        "df.tail()"
      ],
      "execution_count": null,
      "outputs": [
        {
          "output_type": "execute_result",
          "data": {
            "text/html": [
              "<div>\n",
              "<style scoped>\n",
              "    .dataframe tbody tr th:only-of-type {\n",
              "        vertical-align: middle;\n",
              "    }\n",
              "\n",
              "    .dataframe tbody tr th {\n",
              "        vertical-align: top;\n",
              "    }\n",
              "\n",
              "    .dataframe thead th {\n",
              "        text-align: right;\n",
              "    }\n",
              "</style>\n",
              "<table border=\"1\" class=\"dataframe\">\n",
              "  <thead>\n",
              "    <tr style=\"text-align: right;\">\n",
              "      <th></th>\n",
              "      <th>누적검사</th>\n",
              "      <th>등록일시</th>\n",
              "      <th>사망자</th>\n",
              "      <th>확진자</th>\n",
              "      <th>고유번호</th>\n",
              "      <th>기준일</th>\n",
              "      <th>기준시간</th>\n",
              "      <th>수정</th>\n",
              "      <th>누적확진률</th>\n",
              "    </tr>\n",
              "  </thead>\n",
              "  <tbody>\n",
              "    <tr>\n",
              "      <th>687</th>\n",
              "      <td>29</td>\n",
              "      <td>2020-01-24 00:00:00.000</td>\n",
              "      <td>0</td>\n",
              "      <td>2</td>\n",
              "      <td>5</td>\n",
              "      <td>20200124</td>\n",
              "      <td>00:00</td>\n",
              "      <td>2021-10-07 10:30:51.51</td>\n",
              "      <td>6.896551724</td>\n",
              "    </tr>\n",
              "    <tr>\n",
              "      <th>688</th>\n",
              "      <td>25</td>\n",
              "      <td>2020-01-23 09:00:00.000</td>\n",
              "      <td>0</td>\n",
              "      <td>1</td>\n",
              "      <td>4</td>\n",
              "      <td>20200123</td>\n",
              "      <td>09:00</td>\n",
              "      <td>2021-10-07 10:30:51.51</td>\n",
              "      <td>4</td>\n",
              "    </tr>\n",
              "    <tr>\n",
              "      <th>689</th>\n",
              "      <td>21</td>\n",
              "      <td>2020-01-22 12:00:00.000</td>\n",
              "      <td>0</td>\n",
              "      <td>1</td>\n",
              "      <td>3</td>\n",
              "      <td>20200122</td>\n",
              "      <td>12:00</td>\n",
              "      <td>2021-10-07 10:30:51.51</td>\n",
              "      <td>4.761904762</td>\n",
              "    </tr>\n",
              "    <tr>\n",
              "      <th>690</th>\n",
              "      <td>15</td>\n",
              "      <td>2020-01-21 09:00:00.000</td>\n",
              "      <td>0</td>\n",
              "      <td>1</td>\n",
              "      <td>2</td>\n",
              "      <td>20200121</td>\n",
              "      <td>09:00</td>\n",
              "      <td>2021-10-07 10:30:51.51</td>\n",
              "      <td>6.666666667</td>\n",
              "    </tr>\n",
              "    <tr>\n",
              "      <th>691</th>\n",
              "      <td>4</td>\n",
              "      <td>2020-01-20 17:00:00.000</td>\n",
              "      <td>0</td>\n",
              "      <td>1</td>\n",
              "      <td>1</td>\n",
              "      <td>20200120</td>\n",
              "      <td>17:00</td>\n",
              "      <td>2021-10-07 10:30:51.51</td>\n",
              "      <td>25</td>\n",
              "    </tr>\n",
              "  </tbody>\n",
              "</table>\n",
              "</div>"
            ],
            "text/plain": [
              "    누적검사                     등록일시  ...                      수정        누적확진률\n",
              "687   29  2020-01-24 00:00:00.000  ...  2021-10-07 10:30:51.51  6.896551724\n",
              "688   25  2020-01-23 09:00:00.000  ...  2021-10-07 10:30:51.51            4\n",
              "689   21  2020-01-22 12:00:00.000  ...  2021-10-07 10:30:51.51  4.761904762\n",
              "690   15  2020-01-21 09:00:00.000  ...  2021-10-07 10:30:51.51  6.666666667\n",
              "691    4  2020-01-20 17:00:00.000  ...  2021-10-07 10:30:51.51           25\n",
              "\n",
              "[5 rows x 9 columns]"
            ]
          },
          "metadata": {},
          "execution_count": 13
        }
      ]
    },
    {
      "cell_type": "code",
      "source": [
        "df.columns"
      ],
      "metadata": {
        "colab": {
          "base_uri": "https://localhost:8080/"
        },
        "id": "IL-1NPCI3cU3",
        "outputId": "3038b660-8885-498d-abfc-ee02c5b5490d"
      },
      "execution_count": null,
      "outputs": [
        {
          "output_type": "execute_result",
          "data": {
            "text/plain": [
              "Index(['누적검사', '등록일시', '사망자', '확진자', '고유번호', '기준일', '기준시간', '수정', '누적확진률'], dtype='object')"
            ]
          },
          "metadata": {},
          "execution_count": 14
        }
      ]
    },
    {
      "cell_type": "markdown",
      "source": [
        "change column names"
      ],
      "metadata": {
        "id": "GMMz1xMI3yuj"
      }
    },
    {
      "cell_type": "code",
      "source": [
        "df.columns = ['누적검사', '등록일시', '누적사망자', '누적확진자', '고유번호', '기준일', '기준시간', '수정', '누적확진률']"
      ],
      "metadata": {
        "id": "mINphRHy3ehg"
      },
      "execution_count": null,
      "outputs": []
    },
    {
      "cell_type": "code",
      "source": [
        "df.head()"
      ],
      "metadata": {
        "colab": {
          "base_uri": "https://localhost:8080/",
          "height": 310
        },
        "id": "OaoLZ3jJ3loz",
        "outputId": "4a363573-9f7b-40de-d3b6-16b85ef83d1f"
      },
      "execution_count": null,
      "outputs": [
        {
          "output_type": "execute_result",
          "data": {
            "text/html": [
              "<div>\n",
              "<style scoped>\n",
              "    .dataframe tbody tr th:only-of-type {\n",
              "        vertical-align: middle;\n",
              "    }\n",
              "\n",
              "    .dataframe tbody tr th {\n",
              "        vertical-align: top;\n",
              "    }\n",
              "\n",
              "    .dataframe thead th {\n",
              "        text-align: right;\n",
              "    }\n",
              "</style>\n",
              "<table border=\"1\" class=\"dataframe\">\n",
              "  <thead>\n",
              "    <tr style=\"text-align: right;\">\n",
              "      <th></th>\n",
              "      <th>누적검사</th>\n",
              "      <th>등록일시</th>\n",
              "      <th>누적사망자</th>\n",
              "      <th>누적확진자</th>\n",
              "      <th>고유번호</th>\n",
              "      <th>기준일</th>\n",
              "      <th>기준시간</th>\n",
              "      <th>수정</th>\n",
              "      <th>누적확진률</th>\n",
              "    </tr>\n",
              "  </thead>\n",
              "  <tbody>\n",
              "    <tr>\n",
              "      <th>0</th>\n",
              "      <td>18140572</td>\n",
              "      <td>2021-12-13 09:00:10.891</td>\n",
              "      <td>4292</td>\n",
              "      <td>523077</td>\n",
              "      <td>726</td>\n",
              "      <td>20211213</td>\n",
              "      <td>00:00</td>\n",
              "      <td>2021-12-17 09:08:32.95</td>\n",
              "      <td>NaN</td>\n",
              "    </tr>\n",
              "    <tr>\n",
              "      <th>1</th>\n",
              "      <td>18084589</td>\n",
              "      <td>2021-12-12 08:35:19.089</td>\n",
              "      <td>4252</td>\n",
              "      <td>517260</td>\n",
              "      <td>725</td>\n",
              "      <td>20211212</td>\n",
              "      <td>00:00</td>\n",
              "      <td>2021-12-17 09:08:23.25</td>\n",
              "      <td>NaN</td>\n",
              "    </tr>\n",
              "    <tr>\n",
              "      <th>2</th>\n",
              "      <td>17950721</td>\n",
              "      <td>2021-12-10 09:04:53.786</td>\n",
              "      <td>4130</td>\n",
              "      <td>503601</td>\n",
              "      <td>723</td>\n",
              "      <td>20211210</td>\n",
              "      <td>00:00</td>\n",
              "      <td>2021-12-17 09:08:03.447</td>\n",
              "      <td>NaN</td>\n",
              "    </tr>\n",
              "    <tr>\n",
              "      <th>3</th>\n",
              "      <td>17870821</td>\n",
              "      <td>2021-12-09 09:05:11.285</td>\n",
              "      <td>4077</td>\n",
              "      <td>496853</td>\n",
              "      <td>722</td>\n",
              "      <td>20211209</td>\n",
              "      <td>00:00</td>\n",
              "      <td>2021-12-17 09:07:54.162</td>\n",
              "      <td>NaN</td>\n",
              "    </tr>\n",
              "    <tr>\n",
              "      <th>4</th>\n",
              "      <td>17787657</td>\n",
              "      <td>2021-12-08 08:56:34.509</td>\n",
              "      <td>4020</td>\n",
              "      <td>489478</td>\n",
              "      <td>721</td>\n",
              "      <td>20211208</td>\n",
              "      <td>00:00</td>\n",
              "      <td>2021-12-17 09:07:45.766</td>\n",
              "      <td>NaN</td>\n",
              "    </tr>\n",
              "  </tbody>\n",
              "</table>\n",
              "</div>"
            ],
            "text/plain": [
              "       누적검사                     등록일시  ...                       수정 누적확진률\n",
              "0  18140572  2021-12-13 09:00:10.891  ...   2021-12-17 09:08:32.95   NaN\n",
              "1  18084589  2021-12-12 08:35:19.089  ...   2021-12-17 09:08:23.25   NaN\n",
              "2  17950721  2021-12-10 09:04:53.786  ...  2021-12-17 09:08:03.447   NaN\n",
              "3  17870821  2021-12-09 09:05:11.285  ...  2021-12-17 09:07:54.162   NaN\n",
              "4  17787657  2021-12-08 08:56:34.509  ...  2021-12-17 09:07:45.766   NaN\n",
              "\n",
              "[5 rows x 9 columns]"
            ]
          },
          "metadata": {},
          "execution_count": 16
        }
      ]
    },
    {
      "cell_type": "code",
      "source": [
        "for i in range(10):\n",
        "  print(df[\"등록일시\"][i+1])\n",
        "  print(int(df[\"누적확진자\"][i])-int(df[\"누적확진자\"][i+1]))\n",
        "#11일 missing"
      ],
      "metadata": {
        "colab": {
          "base_uri": "https://localhost:8080/"
        },
        "id": "PLeGkEpE35bU",
        "outputId": "951a17db-39f0-4816-bd96-cd775faa1ff2"
      },
      "execution_count": null,
      "outputs": [
        {
          "output_type": "stream",
          "name": "stdout",
          "text": [
            "2021-12-12 08:35:19.089\n",
            "5817\n",
            "2021-12-10 09:04:53.786\n",
            "13659\n",
            "2021-12-09 09:05:11.285\n",
            "6748\n",
            "2021-12-08 08:56:34.509\n",
            "7375\n",
            "2021-12-07 09:03:37.814\n",
            "7173\n",
            "2021-12-06 09:00:01.23\n",
            "4953\n",
            "2021-12-05 08:34:20.927\n",
            "4324\n",
            "2021-12-04 09:08:47.492\n",
            "5125\n",
            "2021-12-03 09:09:08.418\n",
            "5352\n",
            "2021-12-02 19:20:16.0\n",
            "4944\n"
          ]
        }
      ]
    },
    {
      "cell_type": "markdown",
      "source": [
        "add 일일확진 column"
      ],
      "metadata": {
        "id": "1NY9PlZj5wTd"
      }
    },
    {
      "cell_type": "code",
      "source": [
        "df[\"일일확진\"] = 0"
      ],
      "metadata": {
        "id": "1mL36QlP54ea"
      },
      "execution_count": null,
      "outputs": []
    },
    {
      "cell_type": "code",
      "source": [
        "for i in range(len(df)-1):\n",
        "  df[\"일일확진\"][i+1] = int(df[\"누적확진자\"][i])-int(df[\"누적확진자\"][i+1])"
      ],
      "metadata": {
        "colab": {
          "base_uri": "https://localhost:8080/"
        },
        "id": "2URgSniT5a1t",
        "outputId": "1a0e14af-c6ab-4206-c54f-6c1ac4949a85"
      },
      "execution_count": null,
      "outputs": [
        {
          "output_type": "stream",
          "name": "stderr",
          "text": [
            "/usr/local/lib/python3.7/dist-packages/ipykernel_launcher.py:2: SettingWithCopyWarning: \n",
            "A value is trying to be set on a copy of a slice from a DataFrame\n",
            "\n",
            "See the caveats in the documentation: https://pandas.pydata.org/pandas-docs/stable/user_guide/indexing.html#returning-a-view-versus-a-copy\n",
            "  \n"
          ]
        }
      ]
    },
    {
      "cell_type": "markdown",
      "source": [
        "add 일일검사 column"
      ],
      "metadata": {
        "id": "EU-0wlHk6Eoe"
      }
    },
    {
      "cell_type": "code",
      "source": [
        "df[\"일일검사\"] = 0"
      ],
      "metadata": {
        "id": "nG1wtTGr6H4h"
      },
      "execution_count": null,
      "outputs": []
    },
    {
      "cell_type": "code",
      "source": [
        "for i in range(len(df)-1):\n",
        "  df[\"일일검사\"][i+1] = int(df[\"누적검사\"][i])-int(df[\"누적검사\"][i+1])\n",
        "  "
      ],
      "metadata": {
        "colab": {
          "base_uri": "https://localhost:8080/"
        },
        "id": "fK5Ff6h46KlP",
        "outputId": "f8116f14-3789-4a6a-a6eb-a08a4d6869f4"
      },
      "execution_count": null,
      "outputs": [
        {
          "output_type": "stream",
          "name": "stderr",
          "text": [
            "/usr/local/lib/python3.7/dist-packages/ipykernel_launcher.py:2: SettingWithCopyWarning: \n",
            "A value is trying to be set on a copy of a slice from a DataFrame\n",
            "\n",
            "See the caveats in the documentation: https://pandas.pydata.org/pandas-docs/stable/user_guide/indexing.html#returning-a-view-versus-a-copy\n",
            "  \n"
          ]
        }
      ]
    },
    {
      "cell_type": "markdown",
      "source": [
        "only get the necessary columns"
      ],
      "metadata": {
        "id": "zMKAZgiY6-8J"
      }
    },
    {
      "cell_type": "code",
      "source": [
        "data = df[[\"누적검사\",\"누적사망자\",\"누적확진자\",\"고유번호\",\"기준일\", \"일일확진\", \"일일검사\"]]"
      ],
      "metadata": {
        "id": "RNdCnwoD6-Si"
      },
      "execution_count": null,
      "outputs": []
    },
    {
      "cell_type": "markdown",
      "source": [
        "change data type of columns"
      ],
      "metadata": {
        "id": "jKMh5wk36y8M"
      }
    },
    {
      "cell_type": "code",
      "source": [
        "data.columns"
      ],
      "metadata": {
        "colab": {
          "base_uri": "https://localhost:8080/"
        },
        "id": "3Im5xdAD643M",
        "outputId": "b150849d-4265-4e45-e83f-f2e3e9d48f19"
      },
      "execution_count": null,
      "outputs": [
        {
          "output_type": "execute_result",
          "data": {
            "text/plain": [
              "Index(['누적검사', '누적사망자', '누적확진자', '고유번호', '기준일', '일일확진', '일일검사'], dtype='object')"
            ]
          },
          "metadata": {},
          "execution_count": 23
        }
      ]
    },
    {
      "cell_type": "code",
      "source": [
        "data = data.astype({\"누적검사\":float,'누적검사':float, '누적사망자':float, '누적확진자':float, '고유번호':float, '기준일':float, '일일확진':float, '일일검사':float})"
      ],
      "metadata": {
        "id": "U0-mU84K6lf7"
      },
      "execution_count": null,
      "outputs": []
    },
    {
      "cell_type": "markdown",
      "source": [
        "slice data"
      ],
      "metadata": {
        "id": "Rexb52gD8EOE"
      }
    },
    {
      "cell_type": "code",
      "metadata": {
        "id": "lAdD2yxpxAqz"
      },
      "source": [
        "data = data[2:]#slice data"
      ],
      "execution_count": null,
      "outputs": []
    },
    {
      "cell_type": "markdown",
      "source": [
        "check NaN value"
      ],
      "metadata": {
        "id": "OzDTWbhx8GdJ"
      }
    },
    {
      "cell_type": "code",
      "metadata": {
        "colab": {
          "base_uri": "https://localhost:8080/"
        },
        "id": "uXa7JECPxEw0",
        "outputId": "5a34fcc9-abc3-4375-fb92-6cda686b8a0d"
      },
      "source": [
        "data.isna().sum()"
      ],
      "execution_count": null,
      "outputs": [
        {
          "output_type": "execute_result",
          "data": {
            "text/plain": [
              "누적검사     0\n",
              "누적사망자    0\n",
              "누적확진자    0\n",
              "고유번호     0\n",
              "기준일      0\n",
              "일일확진     0\n",
              "일일검사     0\n",
              "dtype: int64"
            ]
          },
          "metadata": {},
          "execution_count": 26
        }
      ]
    },
    {
      "cell_type": "markdown",
      "source": [
        "기준일 매일 기록이 잘 되어있는지 확인"
      ],
      "metadata": {
        "id": "ARAORCgW8Rn4"
      }
    },
    {
      "cell_type": "code",
      "source": [
        "data = data.reset_index(drop=True)#reset index"
      ],
      "metadata": {
        "id": "4oOuFku_8pv0"
      },
      "execution_count": null,
      "outputs": []
    },
    {
      "cell_type": "code",
      "source": [
        ""
      ],
      "metadata": {
        "id": "7sWLaX2H9Nh4"
      },
      "execution_count": null,
      "outputs": []
    },
    {
      "cell_type": "code",
      "source": [
        "covid_df = data"
      ],
      "metadata": {
        "id": "Bdm0vQtzBNWJ"
      },
      "execution_count": null,
      "outputs": []
    },
    {
      "cell_type": "markdown",
      "source": [
        "# Get Data (Vaccine)"
      ],
      "metadata": {
        "id": "mo33iSwU-Cqo"
      }
    },
    {
      "cell_type": "code",
      "source": [
        "from google.colab import drive\n",
        "drive.mount('/content/drive')"
      ],
      "metadata": {
        "colab": {
          "base_uri": "https://localhost:8080/"
        },
        "id": "Ts0pYVlb-PQh",
        "outputId": "8952e01c-dd1f-4054-a123-7852cbaf46bf"
      },
      "execution_count": null,
      "outputs": [
        {
          "output_type": "stream",
          "name": "stdout",
          "text": [
            "Mounted at /content/drive\n"
          ]
        }
      ]
    },
    {
      "cell_type": "code",
      "source": [
        "vaccine_df = pd.read_excel(r'/content/drive/MyDrive/DL/vaccine_excel.xls')"
      ],
      "metadata": {
        "id": "VlwIfnUF-Wfw"
      },
      "execution_count": null,
      "outputs": []
    },
    {
      "cell_type": "markdown",
      "source": [
        "slice the data"
      ],
      "metadata": {
        "id": "oiyX4C0N_opM"
      }
    },
    {
      "cell_type": "code",
      "source": [
        "vaccine_df = vaccine_df[7:]"
      ],
      "metadata": {
        "id": "9TwGsR4x-m_3"
      },
      "execution_count": null,
      "outputs": []
    },
    {
      "cell_type": "code",
      "source": [
        "vaccine_df"
      ],
      "metadata": {
        "colab": {
          "base_uri": "https://localhost:8080/",
          "height": 808
        },
        "id": "nYCJJIS0_oTp",
        "outputId": "e86f4956-6761-4287-f1c0-27ac4f7942b9"
      },
      "execution_count": null,
      "outputs": [
        {
          "output_type": "execute_result",
          "data": {
            "text/html": [
              "<div>\n",
              "<style scoped>\n",
              "    .dataframe tbody tr th:only-of-type {\n",
              "        vertical-align: middle;\n",
              "    }\n",
              "\n",
              "    .dataframe tbody tr th {\n",
              "        vertical-align: top;\n",
              "    }\n",
              "\n",
              "    .dataframe thead th {\n",
              "        text-align: right;\n",
              "    }\n",
              "</style>\n",
              "<table border=\"1\" class=\"dataframe\">\n",
              "  <thead>\n",
              "    <tr style=\"text-align: right;\">\n",
              "      <th></th>\n",
              "      <th>Unnamed: 0</th>\n",
              "      <th>Unnamed: 1</th>\n",
              "      <th>Unnamed: 2</th>\n",
              "      <th>Unnamed: 3</th>\n",
              "      <th>Unnamed: 4</th>\n",
              "      <th>Unnamed: 5</th>\n",
              "      <th>Unnamed: 6</th>\n",
              "      <th>Unnamed: 7</th>\n",
              "      <th>Unnamed: 8</th>\n",
              "      <th>Unnamed: 9</th>\n",
              "      <th>Unnamed: 10</th>\n",
              "      <th>Unnamed: 11</th>\n",
              "      <th>Unnamed: 12</th>\n",
              "      <th>Unnamed: 13</th>\n",
              "    </tr>\n",
              "  </thead>\n",
              "  <tbody>\n",
              "    <tr>\n",
              "      <th>7</th>\n",
              "      <td>2021-02-26 00:00:00</td>\n",
              "      <td>30830</td>\n",
              "      <td>6521</td>\n",
              "      <td>0</td>\n",
              "      <td>22638</td>\n",
              "      <td>1494</td>\n",
              "      <td>2776</td>\n",
              "      <td>1490</td>\n",
              "      <td>23</td>\n",
              "      <td>5393</td>\n",
              "      <td>3514</td>\n",
              "      <td>0</td>\n",
              "      <td>0</td>\n",
              "      <td>0</td>\n",
              "    </tr>\n",
              "    <tr>\n",
              "      <th>8</th>\n",
              "      <td>2021-02-27 00:00:00</td>\n",
              "      <td>32434</td>\n",
              "      <td>6631</td>\n",
              "      <td>0</td>\n",
              "      <td>23775</td>\n",
              "      <td>1504</td>\n",
              "      <td>3192</td>\n",
              "      <td>1527</td>\n",
              "      <td>25</td>\n",
              "      <td>5442</td>\n",
              "      <td>3575</td>\n",
              "      <td>0</td>\n",
              "      <td>0</td>\n",
              "      <td>0</td>\n",
              "    </tr>\n",
              "    <tr>\n",
              "      <th>9</th>\n",
              "      <td>2021-02-28 00:00:00</td>\n",
              "      <td>33372</td>\n",
              "      <td>6691</td>\n",
              "      <td>0</td>\n",
              "      <td>24360</td>\n",
              "      <td>1505</td>\n",
              "      <td>3525</td>\n",
              "      <td>1558</td>\n",
              "      <td>25</td>\n",
              "      <td>5462</td>\n",
              "      <td>3603</td>\n",
              "      <td>0</td>\n",
              "      <td>0</td>\n",
              "      <td>0</td>\n",
              "    </tr>\n",
              "    <tr>\n",
              "      <th>10</th>\n",
              "      <td>2021-03-01 00:00:00</td>\n",
              "      <td>35114</td>\n",
              "      <td>6812</td>\n",
              "      <td>0</td>\n",
              "      <td>25610</td>\n",
              "      <td>1553</td>\n",
              "      <td>3912</td>\n",
              "      <td>1594</td>\n",
              "      <td>28</td>\n",
              "      <td>5564</td>\n",
              "      <td>3637</td>\n",
              "      <td>0</td>\n",
              "      <td>0</td>\n",
              "      <td>0</td>\n",
              "    </tr>\n",
              "    <tr>\n",
              "      <th>11</th>\n",
              "      <td>2021-03-02 00:00:00</td>\n",
              "      <td>101811</td>\n",
              "      <td>6956</td>\n",
              "      <td>0</td>\n",
              "      <td>91467</td>\n",
              "      <td>1585</td>\n",
              "      <td>4657</td>\n",
              "      <td>1638</td>\n",
              "      <td>30</td>\n",
              "      <td>5657</td>\n",
              "      <td>3703</td>\n",
              "      <td>0</td>\n",
              "      <td>0</td>\n",
              "      <td>0</td>\n",
              "    </tr>\n",
              "    <tr>\n",
              "      <th>...</th>\n",
              "      <td>...</td>\n",
              "      <td>...</td>\n",
              "      <td>...</td>\n",
              "      <td>...</td>\n",
              "      <td>...</td>\n",
              "      <td>...</td>\n",
              "      <td>...</td>\n",
              "      <td>...</td>\n",
              "      <td>...</td>\n",
              "      <td>...</td>\n",
              "      <td>...</td>\n",
              "      <td>...</td>\n",
              "      <td>...</td>\n",
              "      <td>...</td>\n",
              "    </tr>\n",
              "    <tr>\n",
              "      <th>295</th>\n",
              "      <td>2021-12-11 00:00:00</td>\n",
              "      <td>42975923</td>\n",
              "      <td>41705807</td>\n",
              "      <td>6356857</td>\n",
              "      <td>11132511</td>\n",
              "      <td>11053760</td>\n",
              "      <td>23608342</td>\n",
              "      <td>22652572</td>\n",
              "      <td>1504047</td>\n",
              "      <td>6731023</td>\n",
              "      <td>6495428</td>\n",
              "      <td>4439396</td>\n",
              "      <td>1898971</td>\n",
              "      <td>18490</td>\n",
              "    </tr>\n",
              "    <tr>\n",
              "      <th>296</th>\n",
              "      <td>2021-12-12 00:00:00</td>\n",
              "      <td>42978033</td>\n",
              "      <td>41707297</td>\n",
              "      <td>6365369</td>\n",
              "      <td>11132511</td>\n",
              "      <td>11053772</td>\n",
              "      <td>23610250</td>\n",
              "      <td>22653719</td>\n",
              "      <td>1504047</td>\n",
              "      <td>6731225</td>\n",
              "      <td>6495759</td>\n",
              "      <td>4443983</td>\n",
              "      <td>1902896</td>\n",
              "      <td>18490</td>\n",
              "    </tr>\n",
              "    <tr>\n",
              "      <th>297</th>\n",
              "      <td>2021-12-13 00:00:00</td>\n",
              "      <td>43055497</td>\n",
              "      <td>41770626</td>\n",
              "      <td>7152584</td>\n",
              "      <td>11132513</td>\n",
              "      <td>11054971</td>\n",
              "      <td>23680701</td>\n",
              "      <td>22704045</td>\n",
              "      <td>1504402</td>\n",
              "      <td>6737881</td>\n",
              "      <td>6507208</td>\n",
              "      <td>4784267</td>\n",
              "      <td>2349428</td>\n",
              "      <td>18889</td>\n",
              "    </tr>\n",
              "    <tr>\n",
              "      <th>298</th>\n",
              "      <td>2021-12-14 00:00:00</td>\n",
              "      <td>43111124</td>\n",
              "      <td>41814781</td>\n",
              "      <td>7958446</td>\n",
              "      <td>11132513</td>\n",
              "      <td>11056212</td>\n",
              "      <td>23731001</td>\n",
              "      <td>22736283</td>\n",
              "      <td>1504658</td>\n",
              "      <td>6742952</td>\n",
              "      <td>6517628</td>\n",
              "      <td>5135353</td>\n",
              "      <td>2803848</td>\n",
              "      <td>19245</td>\n",
              "    </tr>\n",
              "    <tr>\n",
              "      <th>299</th>\n",
              "      <td>2021-12-15 00:00:00</td>\n",
              "      <td>43197555</td>\n",
              "      <td>41871536</td>\n",
              "      <td>8866898</td>\n",
              "      <td>11132516</td>\n",
              "      <td>11057459</td>\n",
              "      <td>23813643</td>\n",
              "      <td>22783535</td>\n",
              "      <td>1505000</td>\n",
              "      <td>6746396</td>\n",
              "      <td>6525542</td>\n",
              "      <td>5599151</td>\n",
              "      <td>3247940</td>\n",
              "      <td>19807</td>\n",
              "    </tr>\n",
              "  </tbody>\n",
              "</table>\n",
              "<p>293 rows × 14 columns</p>\n",
              "</div>"
            ],
            "text/plain": [
              "              Unnamed: 0 Unnamed: 1  ... Unnamed: 12 Unnamed: 13\n",
              "7    2021-02-26 00:00:00      30830  ...           0           0\n",
              "8    2021-02-27 00:00:00      32434  ...           0           0\n",
              "9    2021-02-28 00:00:00      33372  ...           0           0\n",
              "10   2021-03-01 00:00:00      35114  ...           0           0\n",
              "11   2021-03-02 00:00:00     101811  ...           0           0\n",
              "..                   ...        ...  ...         ...         ...\n",
              "295  2021-12-11 00:00:00   42975923  ...     1898971       18490\n",
              "296  2021-12-12 00:00:00   42978033  ...     1902896       18490\n",
              "297  2021-12-13 00:00:00   43055497  ...     2349428       18889\n",
              "298  2021-12-14 00:00:00   43111124  ...     2803848       19245\n",
              "299  2021-12-15 00:00:00   43197555  ...     3247940       19807\n",
              "\n",
              "[293 rows x 14 columns]"
            ]
          },
          "metadata": {},
          "execution_count": 32
        }
      ]
    },
    {
      "cell_type": "markdown",
      "source": [
        "reset index"
      ],
      "metadata": {
        "id": "ykQM0FV3AIb7"
      }
    },
    {
      "cell_type": "code",
      "source": [
        "vaccine_df = vaccine_df.reset_index(drop=True)#reset index"
      ],
      "metadata": {
        "id": "hcRFyvO_AJ7w"
      },
      "execution_count": null,
      "outputs": []
    },
    {
      "cell_type": "markdown",
      "source": [
        "add column names"
      ],
      "metadata": {
        "id": "0fXtFYJYAEae"
      }
    },
    {
      "cell_type": "code",
      "source": [
        "vaccine_df.columns"
      ],
      "metadata": {
        "colab": {
          "base_uri": "https://localhost:8080/"
        },
        "id": "rvL0CnLcAN8q",
        "outputId": "35ae321d-9dc7-419a-f8b0-0111b0d51f54"
      },
      "execution_count": null,
      "outputs": [
        {
          "output_type": "execute_result",
          "data": {
            "text/plain": [
              "Index(['Unnamed: 0', 'Unnamed: 1', 'Unnamed: 2', 'Unnamed: 3', 'Unnamed: 4',\n",
              "       'Unnamed: 5', 'Unnamed: 6', 'Unnamed: 7', 'Unnamed: 8', 'Unnamed: 9',\n",
              "       'Unnamed: 10', 'Unnamed: 11', 'Unnamed: 12', 'Unnamed: 13'],\n",
              "      dtype='object')"
            ]
          },
          "metadata": {},
          "execution_count": 34
        }
      ]
    },
    {
      "cell_type": "code",
      "source": [
        "vc_col_names = [\"일자\",\"전체누적 1차\",\"전체누적 2차\",\"전체누적 3차\", \"AZ 1차 누적\",\"AZ 2차 누적\",\n",
        "                \"화이자 누적 1차\",\"화이자 누적 2차\",\"얀센 누적 1차\", \"모더나 누적 1차\", \"모더나 누적 2차\",\n",
        "                \"화이자 누적 3차\", \"모더나 누적 3차\", \"얀센 누적 3차\"]"
      ],
      "metadata": {
        "id": "EKkyMB4zAX-1"
      },
      "execution_count": null,
      "outputs": []
    },
    {
      "cell_type": "code",
      "source": [
        "vaccine_df.columns = vc_col_names\n",
        "vaccine_df.head()"
      ],
      "metadata": {
        "colab": {
          "base_uri": "https://localhost:8080/",
          "height": 466
        },
        "id": "CLzbBLX-A9o-",
        "outputId": "3b877aa8-a484-4ddf-ab28-756a16fc9921"
      },
      "execution_count": null,
      "outputs": [
        {
          "output_type": "execute_result",
          "data": {
            "text/html": [
              "<div>\n",
              "<style scoped>\n",
              "    .dataframe tbody tr th:only-of-type {\n",
              "        vertical-align: middle;\n",
              "    }\n",
              "\n",
              "    .dataframe tbody tr th {\n",
              "        vertical-align: top;\n",
              "    }\n",
              "\n",
              "    .dataframe thead th {\n",
              "        text-align: right;\n",
              "    }\n",
              "</style>\n",
              "<table border=\"1\" class=\"dataframe\">\n",
              "  <thead>\n",
              "    <tr style=\"text-align: right;\">\n",
              "      <th></th>\n",
              "      <th>일자</th>\n",
              "      <th>전체누적 1차</th>\n",
              "      <th>전체누적 2차</th>\n",
              "      <th>전체누적 3차</th>\n",
              "      <th>AZ 1차 누적</th>\n",
              "      <th>AZ 2차 누적</th>\n",
              "      <th>화이자 누적 1차</th>\n",
              "      <th>화이자 누적 2차</th>\n",
              "      <th>얀센 누적 1차</th>\n",
              "      <th>모더나 누적 1차</th>\n",
              "      <th>모더나 누적 2차</th>\n",
              "      <th>화이자 누적 3차</th>\n",
              "      <th>모더나 누적 3차</th>\n",
              "      <th>얀센 누적 3차</th>\n",
              "    </tr>\n",
              "  </thead>\n",
              "  <tbody>\n",
              "    <tr>\n",
              "      <th>0</th>\n",
              "      <td>2021-02-26 00:00:00</td>\n",
              "      <td>30830</td>\n",
              "      <td>6521</td>\n",
              "      <td>0</td>\n",
              "      <td>22638</td>\n",
              "      <td>1494</td>\n",
              "      <td>2776</td>\n",
              "      <td>1490</td>\n",
              "      <td>23</td>\n",
              "      <td>5393</td>\n",
              "      <td>3514</td>\n",
              "      <td>0</td>\n",
              "      <td>0</td>\n",
              "      <td>0</td>\n",
              "    </tr>\n",
              "    <tr>\n",
              "      <th>1</th>\n",
              "      <td>2021-02-27 00:00:00</td>\n",
              "      <td>32434</td>\n",
              "      <td>6631</td>\n",
              "      <td>0</td>\n",
              "      <td>23775</td>\n",
              "      <td>1504</td>\n",
              "      <td>3192</td>\n",
              "      <td>1527</td>\n",
              "      <td>25</td>\n",
              "      <td>5442</td>\n",
              "      <td>3575</td>\n",
              "      <td>0</td>\n",
              "      <td>0</td>\n",
              "      <td>0</td>\n",
              "    </tr>\n",
              "    <tr>\n",
              "      <th>2</th>\n",
              "      <td>2021-02-28 00:00:00</td>\n",
              "      <td>33372</td>\n",
              "      <td>6691</td>\n",
              "      <td>0</td>\n",
              "      <td>24360</td>\n",
              "      <td>1505</td>\n",
              "      <td>3525</td>\n",
              "      <td>1558</td>\n",
              "      <td>25</td>\n",
              "      <td>5462</td>\n",
              "      <td>3603</td>\n",
              "      <td>0</td>\n",
              "      <td>0</td>\n",
              "      <td>0</td>\n",
              "    </tr>\n",
              "    <tr>\n",
              "      <th>3</th>\n",
              "      <td>2021-03-01 00:00:00</td>\n",
              "      <td>35114</td>\n",
              "      <td>6812</td>\n",
              "      <td>0</td>\n",
              "      <td>25610</td>\n",
              "      <td>1553</td>\n",
              "      <td>3912</td>\n",
              "      <td>1594</td>\n",
              "      <td>28</td>\n",
              "      <td>5564</td>\n",
              "      <td>3637</td>\n",
              "      <td>0</td>\n",
              "      <td>0</td>\n",
              "      <td>0</td>\n",
              "    </tr>\n",
              "    <tr>\n",
              "      <th>4</th>\n",
              "      <td>2021-03-02 00:00:00</td>\n",
              "      <td>101811</td>\n",
              "      <td>6956</td>\n",
              "      <td>0</td>\n",
              "      <td>91467</td>\n",
              "      <td>1585</td>\n",
              "      <td>4657</td>\n",
              "      <td>1638</td>\n",
              "      <td>30</td>\n",
              "      <td>5657</td>\n",
              "      <td>3703</td>\n",
              "      <td>0</td>\n",
              "      <td>0</td>\n",
              "      <td>0</td>\n",
              "    </tr>\n",
              "  </tbody>\n",
              "</table>\n",
              "</div>"
            ],
            "text/plain": [
              "                    일자 전체누적 1차 전체누적 2차  ... 화이자 누적 3차 모더나 누적 3차 얀센 누적 3차\n",
              "0  2021-02-26 00:00:00   30830    6521  ...         0         0        0\n",
              "1  2021-02-27 00:00:00   32434    6631  ...         0         0        0\n",
              "2  2021-02-28 00:00:00   33372    6691  ...         0         0        0\n",
              "3  2021-03-01 00:00:00   35114    6812  ...         0         0        0\n",
              "4  2021-03-02 00:00:00  101811    6956  ...         0         0        0\n",
              "\n",
              "[5 rows x 14 columns]"
            ]
          },
          "metadata": {},
          "execution_count": 36
        }
      ]
    },
    {
      "cell_type": "code",
      "source": [
        "vaccine_df.tail()"
      ],
      "metadata": {
        "colab": {
          "base_uri": "https://localhost:8080/",
          "height": 434
        },
        "id": "9ciKnSHcBT7I",
        "outputId": "c65437b0-627f-475c-d7a2-a7105d550e76"
      },
      "execution_count": null,
      "outputs": [
        {
          "output_type": "execute_result",
          "data": {
            "text/html": [
              "<div>\n",
              "<style scoped>\n",
              "    .dataframe tbody tr th:only-of-type {\n",
              "        vertical-align: middle;\n",
              "    }\n",
              "\n",
              "    .dataframe tbody tr th {\n",
              "        vertical-align: top;\n",
              "    }\n",
              "\n",
              "    .dataframe thead th {\n",
              "        text-align: right;\n",
              "    }\n",
              "</style>\n",
              "<table border=\"1\" class=\"dataframe\">\n",
              "  <thead>\n",
              "    <tr style=\"text-align: right;\">\n",
              "      <th></th>\n",
              "      <th>일자</th>\n",
              "      <th>전체누적 1차</th>\n",
              "      <th>전체누적 2차</th>\n",
              "      <th>전체누적 3차</th>\n",
              "      <th>AZ 1차 누적</th>\n",
              "      <th>AZ 2차 누적</th>\n",
              "      <th>화이자 누적 1차</th>\n",
              "      <th>화이자 누적 2차</th>\n",
              "      <th>얀센 누적 1차</th>\n",
              "      <th>모더나 누적 1차</th>\n",
              "      <th>모더나 누적 2차</th>\n",
              "      <th>화이자 누적 3차</th>\n",
              "      <th>모더나 누적 3차</th>\n",
              "      <th>얀센 누적 3차</th>\n",
              "    </tr>\n",
              "  </thead>\n",
              "  <tbody>\n",
              "    <tr>\n",
              "      <th>288</th>\n",
              "      <td>2021-12-11 00:00:00</td>\n",
              "      <td>42975923</td>\n",
              "      <td>41705807</td>\n",
              "      <td>6356857</td>\n",
              "      <td>11132511</td>\n",
              "      <td>11053760</td>\n",
              "      <td>23608342</td>\n",
              "      <td>22652572</td>\n",
              "      <td>1504047</td>\n",
              "      <td>6731023</td>\n",
              "      <td>6495428</td>\n",
              "      <td>4439396</td>\n",
              "      <td>1898971</td>\n",
              "      <td>18490</td>\n",
              "    </tr>\n",
              "    <tr>\n",
              "      <th>289</th>\n",
              "      <td>2021-12-12 00:00:00</td>\n",
              "      <td>42978033</td>\n",
              "      <td>41707297</td>\n",
              "      <td>6365369</td>\n",
              "      <td>11132511</td>\n",
              "      <td>11053772</td>\n",
              "      <td>23610250</td>\n",
              "      <td>22653719</td>\n",
              "      <td>1504047</td>\n",
              "      <td>6731225</td>\n",
              "      <td>6495759</td>\n",
              "      <td>4443983</td>\n",
              "      <td>1902896</td>\n",
              "      <td>18490</td>\n",
              "    </tr>\n",
              "    <tr>\n",
              "      <th>290</th>\n",
              "      <td>2021-12-13 00:00:00</td>\n",
              "      <td>43055497</td>\n",
              "      <td>41770626</td>\n",
              "      <td>7152584</td>\n",
              "      <td>11132513</td>\n",
              "      <td>11054971</td>\n",
              "      <td>23680701</td>\n",
              "      <td>22704045</td>\n",
              "      <td>1504402</td>\n",
              "      <td>6737881</td>\n",
              "      <td>6507208</td>\n",
              "      <td>4784267</td>\n",
              "      <td>2349428</td>\n",
              "      <td>18889</td>\n",
              "    </tr>\n",
              "    <tr>\n",
              "      <th>291</th>\n",
              "      <td>2021-12-14 00:00:00</td>\n",
              "      <td>43111124</td>\n",
              "      <td>41814781</td>\n",
              "      <td>7958446</td>\n",
              "      <td>11132513</td>\n",
              "      <td>11056212</td>\n",
              "      <td>23731001</td>\n",
              "      <td>22736283</td>\n",
              "      <td>1504658</td>\n",
              "      <td>6742952</td>\n",
              "      <td>6517628</td>\n",
              "      <td>5135353</td>\n",
              "      <td>2803848</td>\n",
              "      <td>19245</td>\n",
              "    </tr>\n",
              "    <tr>\n",
              "      <th>292</th>\n",
              "      <td>2021-12-15 00:00:00</td>\n",
              "      <td>43197555</td>\n",
              "      <td>41871536</td>\n",
              "      <td>8866898</td>\n",
              "      <td>11132516</td>\n",
              "      <td>11057459</td>\n",
              "      <td>23813643</td>\n",
              "      <td>22783535</td>\n",
              "      <td>1505000</td>\n",
              "      <td>6746396</td>\n",
              "      <td>6525542</td>\n",
              "      <td>5599151</td>\n",
              "      <td>3247940</td>\n",
              "      <td>19807</td>\n",
              "    </tr>\n",
              "  </tbody>\n",
              "</table>\n",
              "</div>"
            ],
            "text/plain": [
              "                      일자   전체누적 1차   전체누적 2차  ... 화이자 누적 3차 모더나 누적 3차 얀센 누적 3차\n",
              "288  2021-12-11 00:00:00  42975923  41705807  ...   4439396   1898971    18490\n",
              "289  2021-12-12 00:00:00  42978033  41707297  ...   4443983   1902896    18490\n",
              "290  2021-12-13 00:00:00  43055497  41770626  ...   4784267   2349428    18889\n",
              "291  2021-12-14 00:00:00  43111124  41814781  ...   5135353   2803848    19245\n",
              "292  2021-12-15 00:00:00  43197555  41871536  ...   5599151   3247940    19807\n",
              "\n",
              "[5 rows x 14 columns]"
            ]
          },
          "metadata": {},
          "execution_count": 37
        }
      ]
    },
    {
      "cell_type": "code",
      "source": [
        "vaccine_df.columns"
      ],
      "metadata": {
        "colab": {
          "base_uri": "https://localhost:8080/"
        },
        "id": "pV8BD3eOI94W",
        "outputId": "802132fb-951e-425d-de21-77c5f6fceab0"
      },
      "execution_count": null,
      "outputs": [
        {
          "output_type": "execute_result",
          "data": {
            "text/plain": [
              "Index(['일자', '전체누적 1차', '전체누적 2차', '전체누적 3차', 'AZ 1차 누적', 'AZ 2차 누적',\n",
              "       '화이자 누적 1차', '화이자 누적 2차', '얀센 누적 1차', '모더나 누적 1차', '모더나 누적 2차',\n",
              "       '화이자 누적 3차', '모더나 누적 3차', '얀센 누적 3차'],\n",
              "      dtype='object')"
            ]
          },
          "metadata": {},
          "execution_count": 38
        }
      ]
    },
    {
      "cell_type": "markdown",
      "source": [
        "change datatype"
      ],
      "metadata": {
        "id": "XnEL2KCAI2Cz"
      }
    },
    {
      "cell_type": "code",
      "source": [
        "vaccine_df = vaccine_df.astype({'전체누적 1차':float, '전체누적 2차':float, '전체누적 3차':float, 'AZ 1차 누적':float, 'AZ 2차 누적':float,\n",
        "       '화이자 누적 1차':float, '화이자 누적 2차':float, '얀센 누적 1차':float, '모더나 누적 1차':float, '모더나 누적 2차':float,\n",
        "       '화이자 누적 3차':float, '모더나 누적 3차':float, '얀센 누적 3차':float})"
      ],
      "metadata": {
        "id": "iwVrdLPXI3qq"
      },
      "execution_count": null,
      "outputs": []
    },
    {
      "cell_type": "markdown",
      "source": [
        "check NaN value"
      ],
      "metadata": {
        "id": "OdRCQ52UBJfX"
      }
    },
    {
      "cell_type": "code",
      "source": [
        "vaccine_df.isna().sum()"
      ],
      "metadata": {
        "colab": {
          "base_uri": "https://localhost:8080/"
        },
        "id": "2j4rgUg6BGFJ",
        "outputId": "20818465-dbe0-441b-fe68-4ef883962981"
      },
      "execution_count": null,
      "outputs": [
        {
          "output_type": "execute_result",
          "data": {
            "text/plain": [
              "일자           0\n",
              "전체누적 1차      0\n",
              "전체누적 2차      0\n",
              "전체누적 3차      0\n",
              "AZ 1차 누적     0\n",
              "AZ 2차 누적     0\n",
              "화이자 누적 1차    0\n",
              "화이자 누적 2차    0\n",
              "얀센 누적 1차     0\n",
              "모더나 누적 1차    0\n",
              "모더나 누적 2차    0\n",
              "화이자 누적 3차    0\n",
              "모더나 누적 3차    0\n",
              "얀센 누적 3차     0\n",
              "dtype: int64"
            ]
          },
          "metadata": {},
          "execution_count": 40
        }
      ]
    },
    {
      "cell_type": "markdown",
      "source": [
        "add 기준일 column"
      ],
      "metadata": {
        "id": "1ppgJ4e8B1cs"
      }
    },
    {
      "cell_type": "code",
      "source": [
        "vaccine_df[\"기준일\"] = 0"
      ],
      "metadata": {
        "id": "gQNC1MLwB60h"
      },
      "execution_count": null,
      "outputs": []
    },
    {
      "cell_type": "code",
      "source": [
        "for i in range(len(vaccine_df)):\n",
        "  dt = str(vaccine_df[\"일자\"][i])[:10]\n",
        "  dt = dt.replace(\"-\",\"\")\n",
        "  #print(dt)\n",
        "  vaccine_df[\"기준일\"][i] = float(dt)"
      ],
      "metadata": {
        "colab": {
          "base_uri": "https://localhost:8080/"
        },
        "id": "9Ss3iDSdBfFg",
        "outputId": "924d768b-561e-40c8-a822-8e24d168bbdf"
      },
      "execution_count": null,
      "outputs": [
        {
          "output_type": "stream",
          "name": "stderr",
          "text": [
            "/usr/local/lib/python3.7/dist-packages/ipykernel_launcher.py:5: SettingWithCopyWarning: \n",
            "A value is trying to be set on a copy of a slice from a DataFrame\n",
            "\n",
            "See the caveats in the documentation: https://pandas.pydata.org/pandas-docs/stable/user_guide/indexing.html#returning-a-view-versus-a-copy\n",
            "  \"\"\"\n"
          ]
        }
      ]
    },
    {
      "cell_type": "markdown",
      "source": [
        "reorder dataframe"
      ],
      "metadata": {
        "id": "TsNf2WU3CexT"
      }
    },
    {
      "cell_type": "code",
      "source": [
        "vaccine_df = vaccine_df.iloc[::-1]"
      ],
      "metadata": {
        "id": "iV2zPpBMCRlu"
      },
      "execution_count": null,
      "outputs": []
    },
    {
      "cell_type": "code",
      "source": [
        "vaccine_df.head()"
      ],
      "metadata": {
        "colab": {
          "base_uri": "https://localhost:8080/",
          "height": 434
        },
        "id": "j27IDz7fCkBM",
        "outputId": "8f9c02f8-7a64-4e23-c17c-3b1b6398063c"
      },
      "execution_count": null,
      "outputs": [
        {
          "output_type": "execute_result",
          "data": {
            "text/html": [
              "<div>\n",
              "<style scoped>\n",
              "    .dataframe tbody tr th:only-of-type {\n",
              "        vertical-align: middle;\n",
              "    }\n",
              "\n",
              "    .dataframe tbody tr th {\n",
              "        vertical-align: top;\n",
              "    }\n",
              "\n",
              "    .dataframe thead th {\n",
              "        text-align: right;\n",
              "    }\n",
              "</style>\n",
              "<table border=\"1\" class=\"dataframe\">\n",
              "  <thead>\n",
              "    <tr style=\"text-align: right;\">\n",
              "      <th></th>\n",
              "      <th>일자</th>\n",
              "      <th>전체누적 1차</th>\n",
              "      <th>전체누적 2차</th>\n",
              "      <th>전체누적 3차</th>\n",
              "      <th>AZ 1차 누적</th>\n",
              "      <th>AZ 2차 누적</th>\n",
              "      <th>화이자 누적 1차</th>\n",
              "      <th>화이자 누적 2차</th>\n",
              "      <th>얀센 누적 1차</th>\n",
              "      <th>모더나 누적 1차</th>\n",
              "      <th>모더나 누적 2차</th>\n",
              "      <th>화이자 누적 3차</th>\n",
              "      <th>모더나 누적 3차</th>\n",
              "      <th>얀센 누적 3차</th>\n",
              "      <th>기준일</th>\n",
              "    </tr>\n",
              "  </thead>\n",
              "  <tbody>\n",
              "    <tr>\n",
              "      <th>292</th>\n",
              "      <td>2021-12-15 00:00:00</td>\n",
              "      <td>43197555.0</td>\n",
              "      <td>41871536.0</td>\n",
              "      <td>8866898.0</td>\n",
              "      <td>11132516.0</td>\n",
              "      <td>11057459.0</td>\n",
              "      <td>23813643.0</td>\n",
              "      <td>22783535.0</td>\n",
              "      <td>1505000.0</td>\n",
              "      <td>6746396.0</td>\n",
              "      <td>6525542.0</td>\n",
              "      <td>5599151.0</td>\n",
              "      <td>3247940.0</td>\n",
              "      <td>19807.0</td>\n",
              "      <td>20211215</td>\n",
              "    </tr>\n",
              "    <tr>\n",
              "      <th>291</th>\n",
              "      <td>2021-12-14 00:00:00</td>\n",
              "      <td>43111124.0</td>\n",
              "      <td>41814781.0</td>\n",
              "      <td>7958446.0</td>\n",
              "      <td>11132513.0</td>\n",
              "      <td>11056212.0</td>\n",
              "      <td>23731001.0</td>\n",
              "      <td>22736283.0</td>\n",
              "      <td>1504658.0</td>\n",
              "      <td>6742952.0</td>\n",
              "      <td>6517628.0</td>\n",
              "      <td>5135353.0</td>\n",
              "      <td>2803848.0</td>\n",
              "      <td>19245.0</td>\n",
              "      <td>20211214</td>\n",
              "    </tr>\n",
              "    <tr>\n",
              "      <th>290</th>\n",
              "      <td>2021-12-13 00:00:00</td>\n",
              "      <td>43055497.0</td>\n",
              "      <td>41770626.0</td>\n",
              "      <td>7152584.0</td>\n",
              "      <td>11132513.0</td>\n",
              "      <td>11054971.0</td>\n",
              "      <td>23680701.0</td>\n",
              "      <td>22704045.0</td>\n",
              "      <td>1504402.0</td>\n",
              "      <td>6737881.0</td>\n",
              "      <td>6507208.0</td>\n",
              "      <td>4784267.0</td>\n",
              "      <td>2349428.0</td>\n",
              "      <td>18889.0</td>\n",
              "      <td>20211213</td>\n",
              "    </tr>\n",
              "    <tr>\n",
              "      <th>289</th>\n",
              "      <td>2021-12-12 00:00:00</td>\n",
              "      <td>42978033.0</td>\n",
              "      <td>41707297.0</td>\n",
              "      <td>6365369.0</td>\n",
              "      <td>11132511.0</td>\n",
              "      <td>11053772.0</td>\n",
              "      <td>23610250.0</td>\n",
              "      <td>22653719.0</td>\n",
              "      <td>1504047.0</td>\n",
              "      <td>6731225.0</td>\n",
              "      <td>6495759.0</td>\n",
              "      <td>4443983.0</td>\n",
              "      <td>1902896.0</td>\n",
              "      <td>18490.0</td>\n",
              "      <td>20211212</td>\n",
              "    </tr>\n",
              "    <tr>\n",
              "      <th>288</th>\n",
              "      <td>2021-12-11 00:00:00</td>\n",
              "      <td>42975923.0</td>\n",
              "      <td>41705807.0</td>\n",
              "      <td>6356857.0</td>\n",
              "      <td>11132511.0</td>\n",
              "      <td>11053760.0</td>\n",
              "      <td>23608342.0</td>\n",
              "      <td>22652572.0</td>\n",
              "      <td>1504047.0</td>\n",
              "      <td>6731023.0</td>\n",
              "      <td>6495428.0</td>\n",
              "      <td>4439396.0</td>\n",
              "      <td>1898971.0</td>\n",
              "      <td>18490.0</td>\n",
              "      <td>20211211</td>\n",
              "    </tr>\n",
              "  </tbody>\n",
              "</table>\n",
              "</div>"
            ],
            "text/plain": [
              "                      일자     전체누적 1차     전체누적 2차  ...  모더나 누적 3차  얀센 누적 3차       기준일\n",
              "292  2021-12-15 00:00:00  43197555.0  41871536.0  ...  3247940.0   19807.0  20211215\n",
              "291  2021-12-14 00:00:00  43111124.0  41814781.0  ...  2803848.0   19245.0  20211214\n",
              "290  2021-12-13 00:00:00  43055497.0  41770626.0  ...  2349428.0   18889.0  20211213\n",
              "289  2021-12-12 00:00:00  42978033.0  41707297.0  ...  1902896.0   18490.0  20211212\n",
              "288  2021-12-11 00:00:00  42975923.0  41705807.0  ...  1898971.0   18490.0  20211211\n",
              "\n",
              "[5 rows x 15 columns]"
            ]
          },
          "metadata": {},
          "execution_count": 44
        }
      ]
    },
    {
      "cell_type": "markdown",
      "source": [
        "slice the data to equal the date with covid data"
      ],
      "metadata": {
        "id": "U6g9z_WpCnmh"
      }
    },
    {
      "cell_type": "code",
      "source": [
        "vaccine_df = vaccine_df[5:]"
      ],
      "metadata": {
        "id": "tmH4Yf4lCq_o"
      },
      "execution_count": null,
      "outputs": []
    },
    {
      "cell_type": "code",
      "source": [
        "vaccine_df = vaccine_df.reset_index(drop=True)#reset index"
      ],
      "metadata": {
        "id": "TCEApHt9e98K"
      },
      "execution_count": null,
      "outputs": []
    },
    {
      "cell_type": "code",
      "source": [
        "vaccine_df.head()"
      ],
      "metadata": {
        "colab": {
          "base_uri": "https://localhost:8080/",
          "height": 434
        },
        "id": "kCSpe-dcCzzw",
        "outputId": "e7f08e94-e54e-4370-af17-27b496d235dc"
      },
      "execution_count": null,
      "outputs": [
        {
          "output_type": "execute_result",
          "data": {
            "text/html": [
              "<div>\n",
              "<style scoped>\n",
              "    .dataframe tbody tr th:only-of-type {\n",
              "        vertical-align: middle;\n",
              "    }\n",
              "\n",
              "    .dataframe tbody tr th {\n",
              "        vertical-align: top;\n",
              "    }\n",
              "\n",
              "    .dataframe thead th {\n",
              "        text-align: right;\n",
              "    }\n",
              "</style>\n",
              "<table border=\"1\" class=\"dataframe\">\n",
              "  <thead>\n",
              "    <tr style=\"text-align: right;\">\n",
              "      <th></th>\n",
              "      <th>일자</th>\n",
              "      <th>전체누적 1차</th>\n",
              "      <th>전체누적 2차</th>\n",
              "      <th>전체누적 3차</th>\n",
              "      <th>AZ 1차 누적</th>\n",
              "      <th>AZ 2차 누적</th>\n",
              "      <th>화이자 누적 1차</th>\n",
              "      <th>화이자 누적 2차</th>\n",
              "      <th>얀센 누적 1차</th>\n",
              "      <th>모더나 누적 1차</th>\n",
              "      <th>모더나 누적 2차</th>\n",
              "      <th>화이자 누적 3차</th>\n",
              "      <th>모더나 누적 3차</th>\n",
              "      <th>얀센 누적 3차</th>\n",
              "      <th>기준일</th>\n",
              "    </tr>\n",
              "  </thead>\n",
              "  <tbody>\n",
              "    <tr>\n",
              "      <th>0</th>\n",
              "      <td>2021-12-10 00:00:00</td>\n",
              "      <td>42949689.0</td>\n",
              "      <td>41671113.0</td>\n",
              "      <td>6076863.0</td>\n",
              "      <td>11132511.0</td>\n",
              "      <td>11053501.0</td>\n",
              "      <td>23583989.0</td>\n",
              "      <td>22623551.0</td>\n",
              "      <td>1503981.0</td>\n",
              "      <td>6729208.0</td>\n",
              "      <td>6490080.0</td>\n",
              "      <td>4310906.0</td>\n",
              "      <td>1747491.0</td>\n",
              "      <td>18466.0</td>\n",
              "      <td>20211210</td>\n",
              "    </tr>\n",
              "    <tr>\n",
              "      <th>1</th>\n",
              "      <td>2021-12-09 00:00:00</td>\n",
              "      <td>42897791.0</td>\n",
              "      <td>41595614.0</td>\n",
              "      <td>5304622.0</td>\n",
              "      <td>11132502.0</td>\n",
              "      <td>11052241.0</td>\n",
              "      <td>23536476.0</td>\n",
              "      <td>22562986.0</td>\n",
              "      <td>1503589.0</td>\n",
              "      <td>6725224.0</td>\n",
              "      <td>6476798.0</td>\n",
              "      <td>3945515.0</td>\n",
              "      <td>1341276.0</td>\n",
              "      <td>17831.0</td>\n",
              "      <td>20211209</td>\n",
              "    </tr>\n",
              "    <tr>\n",
              "      <th>2</th>\n",
              "      <td>2021-12-08 00:00:00</td>\n",
              "      <td>42851927.0</td>\n",
              "      <td>41540090.0</td>\n",
              "      <td>4856586.0</td>\n",
              "      <td>11132501.0</td>\n",
              "      <td>11051354.0</td>\n",
              "      <td>23494134.0</td>\n",
              "      <td>22517201.0</td>\n",
              "      <td>1503249.0</td>\n",
              "      <td>6722043.0</td>\n",
              "      <td>6468286.0</td>\n",
              "      <td>3681240.0</td>\n",
              "      <td>1157996.0</td>\n",
              "      <td>17350.0</td>\n",
              "      <td>20211208</td>\n",
              "    </tr>\n",
              "    <tr>\n",
              "      <th>3</th>\n",
              "      <td>2021-12-07 00:00:00</td>\n",
              "      <td>42805464.0</td>\n",
              "      <td>41487896.0</td>\n",
              "      <td>4550578.0</td>\n",
              "      <td>11132501.0</td>\n",
              "      <td>11050438.0</td>\n",
              "      <td>23451801.0</td>\n",
              "      <td>22474680.0</td>\n",
              "      <td>1502920.0</td>\n",
              "      <td>6718242.0</td>\n",
              "      <td>6459858.0</td>\n",
              "      <td>3466942.0</td>\n",
              "      <td>1066928.0</td>\n",
              "      <td>16708.0</td>\n",
              "      <td>20211207</td>\n",
              "    </tr>\n",
              "    <tr>\n",
              "      <th>4</th>\n",
              "      <td>2021-12-06 00:00:00</td>\n",
              "      <td>42767084.0</td>\n",
              "      <td>41445363.0</td>\n",
              "      <td>4255697.0</td>\n",
              "      <td>11132501.0</td>\n",
              "      <td>11049592.0</td>\n",
              "      <td>23417672.0</td>\n",
              "      <td>22442533.0</td>\n",
              "      <td>1502678.0</td>\n",
              "      <td>6714233.0</td>\n",
              "      <td>6450560.0</td>\n",
              "      <td>3249998.0</td>\n",
              "      <td>989368.0</td>\n",
              "      <td>16331.0</td>\n",
              "      <td>20211206</td>\n",
              "    </tr>\n",
              "  </tbody>\n",
              "</table>\n",
              "</div>"
            ],
            "text/plain": [
              "                    일자     전체누적 1차     전체누적 2차  ...  모더나 누적 3차  얀센 누적 3차       기준일\n",
              "0  2021-12-10 00:00:00  42949689.0  41671113.0  ...  1747491.0   18466.0  20211210\n",
              "1  2021-12-09 00:00:00  42897791.0  41595614.0  ...  1341276.0   17831.0  20211209\n",
              "2  2021-12-08 00:00:00  42851927.0  41540090.0  ...  1157996.0   17350.0  20211208\n",
              "3  2021-12-07 00:00:00  42805464.0  41487896.0  ...  1066928.0   16708.0  20211207\n",
              "4  2021-12-06 00:00:00  42767084.0  41445363.0  ...   989368.0   16331.0  20211206\n",
              "\n",
              "[5 rows x 15 columns]"
            ]
          },
          "metadata": {},
          "execution_count": 47
        }
      ]
    },
    {
      "cell_type": "code",
      "source": [
        "covid_df = covid_df.reset_index(drop= True)"
      ],
      "metadata": {
        "id": "tbMNh_0PfCvB"
      },
      "execution_count": null,
      "outputs": []
    },
    {
      "cell_type": "code",
      "source": [
        "covid_df.head()"
      ],
      "metadata": {
        "colab": {
          "base_uri": "https://localhost:8080/",
          "height": 206
        },
        "id": "tNxRcTuVBQt6",
        "outputId": "2c5b196e-3abb-44d8-bd43-d55a32f6d155"
      },
      "execution_count": null,
      "outputs": [
        {
          "output_type": "execute_result",
          "data": {
            "text/html": [
              "<div>\n",
              "<style scoped>\n",
              "    .dataframe tbody tr th:only-of-type {\n",
              "        vertical-align: middle;\n",
              "    }\n",
              "\n",
              "    .dataframe tbody tr th {\n",
              "        vertical-align: top;\n",
              "    }\n",
              "\n",
              "    .dataframe thead th {\n",
              "        text-align: right;\n",
              "    }\n",
              "</style>\n",
              "<table border=\"1\" class=\"dataframe\">\n",
              "  <thead>\n",
              "    <tr style=\"text-align: right;\">\n",
              "      <th></th>\n",
              "      <th>누적검사</th>\n",
              "      <th>누적사망자</th>\n",
              "      <th>누적확진자</th>\n",
              "      <th>고유번호</th>\n",
              "      <th>기준일</th>\n",
              "      <th>일일확진</th>\n",
              "      <th>일일검사</th>\n",
              "    </tr>\n",
              "  </thead>\n",
              "  <tbody>\n",
              "    <tr>\n",
              "      <th>0</th>\n",
              "      <td>17950721.0</td>\n",
              "      <td>4130.0</td>\n",
              "      <td>503601.0</td>\n",
              "      <td>723.0</td>\n",
              "      <td>20211210.0</td>\n",
              "      <td>13659.0</td>\n",
              "      <td>133868.0</td>\n",
              "    </tr>\n",
              "    <tr>\n",
              "      <th>1</th>\n",
              "      <td>17870821.0</td>\n",
              "      <td>4077.0</td>\n",
              "      <td>496853.0</td>\n",
              "      <td>722.0</td>\n",
              "      <td>20211209.0</td>\n",
              "      <td>6748.0</td>\n",
              "      <td>79900.0</td>\n",
              "    </tr>\n",
              "    <tr>\n",
              "      <th>2</th>\n",
              "      <td>17787657.0</td>\n",
              "      <td>4020.0</td>\n",
              "      <td>489478.0</td>\n",
              "      <td>721.0</td>\n",
              "      <td>20211208.0</td>\n",
              "      <td>7375.0</td>\n",
              "      <td>83164.0</td>\n",
              "    </tr>\n",
              "    <tr>\n",
              "      <th>3</th>\n",
              "      <td>17709512.0</td>\n",
              "      <td>3957.0</td>\n",
              "      <td>482305.0</td>\n",
              "      <td>720.0</td>\n",
              "      <td>20211207.0</td>\n",
              "      <td>7173.0</td>\n",
              "      <td>78145.0</td>\n",
              "    </tr>\n",
              "    <tr>\n",
              "      <th>4</th>\n",
              "      <td>17628218.0</td>\n",
              "      <td>3893.0</td>\n",
              "      <td>477352.0</td>\n",
              "      <td>719.0</td>\n",
              "      <td>20211206.0</td>\n",
              "      <td>4953.0</td>\n",
              "      <td>81294.0</td>\n",
              "    </tr>\n",
              "  </tbody>\n",
              "</table>\n",
              "</div>"
            ],
            "text/plain": [
              "         누적검사   누적사망자     누적확진자   고유번호         기준일     일일확진      일일검사\n",
              "0  17950721.0  4130.0  503601.0  723.0  20211210.0  13659.0  133868.0\n",
              "1  17870821.0  4077.0  496853.0  722.0  20211209.0   6748.0   79900.0\n",
              "2  17787657.0  4020.0  489478.0  721.0  20211208.0   7375.0   83164.0\n",
              "3  17709512.0  3957.0  482305.0  720.0  20211207.0   7173.0   78145.0\n",
              "4  17628218.0  3893.0  477352.0  719.0  20211206.0   4953.0   81294.0"
            ]
          },
          "metadata": {},
          "execution_count": 49
        }
      ]
    },
    {
      "cell_type": "markdown",
      "source": [
        "# Get Data(Percentage of Vaccine)"
      ],
      "metadata": {
        "id": "evZYs52VC-hv"
      }
    },
    {
      "cell_type": "code",
      "source": [
        "vp = pd.read_csv(\"/content/drive/MyDrive/DL/vaccinepercent.csv\", encoding='euc-kr')\n",
        "vp.head()"
      ],
      "metadata": {
        "colab": {
          "base_uri": "https://localhost:8080/",
          "height": 258
        },
        "id": "NqJjaAxZDC5T",
        "outputId": "73deb0da-2574-4884-bdc5-eac7e86ea2b2"
      },
      "execution_count": null,
      "outputs": [
        {
          "output_type": "execute_result",
          "data": {
            "text/html": [
              "<div>\n",
              "<style scoped>\n",
              "    .dataframe tbody tr th:only-of-type {\n",
              "        vertical-align: middle;\n",
              "    }\n",
              "\n",
              "    .dataframe tbody tr th {\n",
              "        vertical-align: top;\n",
              "    }\n",
              "\n",
              "    .dataframe thead th {\n",
              "        text-align: right;\n",
              "    }\n",
              "</style>\n",
              "<table border=\"1\" class=\"dataframe\">\n",
              "  <thead>\n",
              "    <tr style=\"text-align: right;\">\n",
              "      <th></th>\n",
              "      <th>접종일</th>\n",
              "      <th>접종대상자</th>\n",
              "      <th>당일 1차접종자 수</th>\n",
              "      <th>1차접종 누계</th>\n",
              "      <th>1차접종률(%)</th>\n",
              "      <th>당일 2차접종자 수</th>\n",
              "      <th>2차접종 누계</th>\n",
              "      <th>2차접종률(%)</th>\n",
              "      <th>당일 추가접종자 수</th>\n",
              "      <th>추가접종 누계</th>\n",
              "      <th>추가접종률(%)</th>\n",
              "    </tr>\n",
              "  </thead>\n",
              "  <tbody>\n",
              "    <tr>\n",
              "      <th>0</th>\n",
              "      <td>2021.12.15</td>\n",
              "      <td>9505868</td>\n",
              "      <td>11851</td>\n",
              "      <td>8034078</td>\n",
              "      <td>84.5</td>\n",
              "      <td>7820</td>\n",
              "      <td>7815332</td>\n",
              "      <td>82.2</td>\n",
              "      <td>170057.0</td>\n",
              "      <td>1663071.0</td>\n",
              "      <td>17.5</td>\n",
              "    </tr>\n",
              "    <tr>\n",
              "      <th>1</th>\n",
              "      <td>2021.12.14</td>\n",
              "      <td>9505868</td>\n",
              "      <td>8483</td>\n",
              "      <td>8008859</td>\n",
              "      <td>84.3</td>\n",
              "      <td>6705</td>\n",
              "      <td>7795782</td>\n",
              "      <td>82.0</td>\n",
              "      <td>139233.0</td>\n",
              "      <td>1344229.0</td>\n",
              "      <td>14.1</td>\n",
              "    </tr>\n",
              "    <tr>\n",
              "      <th>2</th>\n",
              "      <td>2021.12.13</td>\n",
              "      <td>9505868</td>\n",
              "      <td>11156</td>\n",
              "      <td>8008859</td>\n",
              "      <td>84.3</td>\n",
              "      <td>10094</td>\n",
              "      <td>7795782</td>\n",
              "      <td>82.0</td>\n",
              "      <td>143908.0</td>\n",
              "      <td>1344229.0</td>\n",
              "      <td>14.1</td>\n",
              "    </tr>\n",
              "    <tr>\n",
              "      <th>3</th>\n",
              "      <td>2021.12.12</td>\n",
              "      <td>9505868</td>\n",
              "      <td>304</td>\n",
              "      <td>7994449</td>\n",
              "      <td>84.1</td>\n",
              "      <td>284</td>\n",
              "      <td>7782371</td>\n",
              "      <td>81.9</td>\n",
              "      <td>1826.0</td>\n",
              "      <td>1199359.0</td>\n",
              "      <td>12.6</td>\n",
              "    </tr>\n",
              "    <tr>\n",
              "      <th>4</th>\n",
              "      <td>2021.12.11</td>\n",
              "      <td>9505868</td>\n",
              "      <td>4597</td>\n",
              "      <td>7994240</td>\n",
              "      <td>84.1</td>\n",
              "      <td>6048</td>\n",
              "      <td>7782165</td>\n",
              "      <td>81.9</td>\n",
              "      <td>59658.0</td>\n",
              "      <td>1197488.0</td>\n",
              "      <td>12.6</td>\n",
              "    </tr>\n",
              "  </tbody>\n",
              "</table>\n",
              "</div>"
            ],
            "text/plain": [
              "          접종일    접종대상자  당일 1차접종자 수  ...  당일 추가접종자 수    추가접종 누계  추가접종률(%)\n",
              "0  2021.12.15  9505868       11851  ...    170057.0  1663071.0      17.5\n",
              "1  2021.12.14  9505868        8483  ...    139233.0  1344229.0      14.1\n",
              "2  2021.12.13  9505868       11156  ...    143908.0  1344229.0      14.1\n",
              "3  2021.12.12  9505868         304  ...      1826.0  1199359.0      12.6\n",
              "4  2021.12.11  9505868        4597  ...     59658.0  1197488.0      12.6\n",
              "\n",
              "[5 rows x 11 columns]"
            ]
          },
          "metadata": {},
          "execution_count": 51
        }
      ]
    },
    {
      "cell_type": "code",
      "source": [
        "vaccine_percentage_df = vp\n",
        "vaccine_percentage_df.isna().sum()"
      ],
      "metadata": {
        "colab": {
          "base_uri": "https://localhost:8080/"
        },
        "id": "-SHEaZMHD5nJ",
        "outputId": "5d700023-c217-4faa-e16f-cb3edac6c47c"
      },
      "execution_count": null,
      "outputs": [
        {
          "output_type": "execute_result",
          "data": {
            "text/plain": [
              "접종일             0\n",
              "접종대상자           0\n",
              "당일 1차접종자 수      0\n",
              "1차접종 누계         0\n",
              "1차접종률(%)        0\n",
              "당일 2차접종자 수      0\n",
              "2차접종 누계         0\n",
              "2차접종률(%)        0\n",
              "당일 추가접종자 수    169\n",
              "추가접종 누계       175\n",
              "추가접종률(%)      191\n",
              "dtype: int64"
            ]
          },
          "metadata": {},
          "execution_count": 52
        }
      ]
    },
    {
      "cell_type": "code",
      "source": [
        "vaccine_percentage_df.tail(10)"
      ],
      "metadata": {
        "colab": {
          "base_uri": "https://localhost:8080/",
          "height": 415
        },
        "id": "33nubvA7EJ_q",
        "outputId": "2c60d5e7-6bac-47bb-c01f-da5f7c69b650"
      },
      "execution_count": null,
      "outputs": [
        {
          "output_type": "execute_result",
          "data": {
            "text/html": [
              "<div>\n",
              "<style scoped>\n",
              "    .dataframe tbody tr th:only-of-type {\n",
              "        vertical-align: middle;\n",
              "    }\n",
              "\n",
              "    .dataframe tbody tr th {\n",
              "        vertical-align: top;\n",
              "    }\n",
              "\n",
              "    .dataframe thead th {\n",
              "        text-align: right;\n",
              "    }\n",
              "</style>\n",
              "<table border=\"1\" class=\"dataframe\">\n",
              "  <thead>\n",
              "    <tr style=\"text-align: right;\">\n",
              "      <th></th>\n",
              "      <th>접종일</th>\n",
              "      <th>접종대상자</th>\n",
              "      <th>당일 1차접종자 수</th>\n",
              "      <th>1차접종 누계</th>\n",
              "      <th>1차접종률(%)</th>\n",
              "      <th>당일 2차접종자 수</th>\n",
              "      <th>2차접종 누계</th>\n",
              "      <th>2차접종률(%)</th>\n",
              "      <th>당일 추가접종자 수</th>\n",
              "      <th>추가접종 누계</th>\n",
              "      <th>추가접종률(%)</th>\n",
              "    </tr>\n",
              "  </thead>\n",
              "  <tbody>\n",
              "    <tr>\n",
              "      <th>229</th>\n",
              "      <td>2021.04.30</td>\n",
              "      <td>1096899</td>\n",
              "      <td>6655</td>\n",
              "      <td>511162</td>\n",
              "      <td>46.6</td>\n",
              "      <td>691</td>\n",
              "      <td>35900</td>\n",
              "      <td>3.3</td>\n",
              "      <td>NaN</td>\n",
              "      <td>NaN</td>\n",
              "      <td>NaN</td>\n",
              "    </tr>\n",
              "    <tr>\n",
              "      <th>230</th>\n",
              "      <td>2021.04.29</td>\n",
              "      <td>1084245</td>\n",
              "      <td>38789</td>\n",
              "      <td>472376</td>\n",
              "      <td>43.6</td>\n",
              "      <td>4280</td>\n",
              "      <td>31620</td>\n",
              "      <td>2.9</td>\n",
              "      <td>NaN</td>\n",
              "      <td>NaN</td>\n",
              "      <td>NaN</td>\n",
              "    </tr>\n",
              "    <tr>\n",
              "      <th>231</th>\n",
              "      <td>2021.04.28</td>\n",
              "      <td>1088155</td>\n",
              "      <td>33484</td>\n",
              "      <td>438269</td>\n",
              "      <td>40.2</td>\n",
              "      <td>3921</td>\n",
              "      <td>27699</td>\n",
              "      <td>2.5</td>\n",
              "      <td>NaN</td>\n",
              "      <td>NaN</td>\n",
              "      <td>NaN</td>\n",
              "    </tr>\n",
              "    <tr>\n",
              "      <th>232</th>\n",
              "      <td>2021.04.27</td>\n",
              "      <td>1080433</td>\n",
              "      <td>31795</td>\n",
              "      <td>403093</td>\n",
              "      <td>37.3</td>\n",
              "      <td>2062</td>\n",
              "      <td>25631</td>\n",
              "      <td>2.4</td>\n",
              "      <td>NaN</td>\n",
              "      <td>NaN</td>\n",
              "      <td>NaN</td>\n",
              "    </tr>\n",
              "    <tr>\n",
              "      <th>233</th>\n",
              "      <td>2021.04.26</td>\n",
              "      <td>1079832</td>\n",
              "      <td>26585</td>\n",
              "      <td>379120</td>\n",
              "      <td>35.1</td>\n",
              "      <td>3725</td>\n",
              "      <td>21910</td>\n",
              "      <td>2.0</td>\n",
              "      <td>NaN</td>\n",
              "      <td>NaN</td>\n",
              "      <td>NaN</td>\n",
              "    </tr>\n",
              "    <tr>\n",
              "      <th>234</th>\n",
              "      <td>2021.04.25</td>\n",
              "      <td>1023346</td>\n",
              "      <td>23323</td>\n",
              "      <td>350631</td>\n",
              "      <td>34.2</td>\n",
              "      <td>3411</td>\n",
              "      <td>18513</td>\n",
              "      <td>1.8</td>\n",
              "      <td>NaN</td>\n",
              "      <td>NaN</td>\n",
              "      <td>NaN</td>\n",
              "    </tr>\n",
              "    <tr>\n",
              "      <th>235</th>\n",
              "      <td>2021.04.24</td>\n",
              "      <td>1023346</td>\n",
              "      <td>200</td>\n",
              "      <td>350427</td>\n",
              "      <td>34.2</td>\n",
              "      <td>0</td>\n",
              "      <td>18513</td>\n",
              "      <td>1.8</td>\n",
              "      <td>NaN</td>\n",
              "      <td>NaN</td>\n",
              "      <td>NaN</td>\n",
              "    </tr>\n",
              "    <tr>\n",
              "      <th>236</th>\n",
              "      <td>2021.04.23</td>\n",
              "      <td>1027740</td>\n",
              "      <td>10195</td>\n",
              "      <td>345764</td>\n",
              "      <td>33.6</td>\n",
              "      <td>119</td>\n",
              "      <td>18376</td>\n",
              "      <td>1.8</td>\n",
              "      <td>NaN</td>\n",
              "      <td>NaN</td>\n",
              "      <td>NaN</td>\n",
              "    </tr>\n",
              "    <tr>\n",
              "      <th>237</th>\n",
              "      <td>2021.04.22</td>\n",
              "      <td>1023538</td>\n",
              "      <td>27074</td>\n",
              "      <td>317386</td>\n",
              "      <td>31.0</td>\n",
              "      <td>2479</td>\n",
              "      <td>15901</td>\n",
              "      <td>1.6</td>\n",
              "      <td>NaN</td>\n",
              "      <td>NaN</td>\n",
              "      <td>NaN</td>\n",
              "    </tr>\n",
              "    <tr>\n",
              "      <th>238</th>\n",
              "      <td>2021.04.21</td>\n",
              "      <td>1019322</td>\n",
              "      <td>22501</td>\n",
              "      <td>291857</td>\n",
              "      <td>28.6</td>\n",
              "      <td>2358</td>\n",
              "      <td>13543</td>\n",
              "      <td>1.3</td>\n",
              "      <td>NaN</td>\n",
              "      <td>NaN</td>\n",
              "      <td>NaN</td>\n",
              "    </tr>\n",
              "  </tbody>\n",
              "</table>\n",
              "</div>"
            ],
            "text/plain": [
              "            접종일    접종대상자  당일 1차접종자 수  ...  당일 추가접종자 수  추가접종 누계  추가접종률(%)\n",
              "229  2021.04.30  1096899        6655  ...         NaN      NaN       NaN\n",
              "230  2021.04.29  1084245       38789  ...         NaN      NaN       NaN\n",
              "231  2021.04.28  1088155       33484  ...         NaN      NaN       NaN\n",
              "232  2021.04.27  1080433       31795  ...         NaN      NaN       NaN\n",
              "233  2021.04.26  1079832       26585  ...         NaN      NaN       NaN\n",
              "234  2021.04.25  1023346       23323  ...         NaN      NaN       NaN\n",
              "235  2021.04.24  1023346         200  ...         NaN      NaN       NaN\n",
              "236  2021.04.23  1027740       10195  ...         NaN      NaN       NaN\n",
              "237  2021.04.22  1023538       27074  ...         NaN      NaN       NaN\n",
              "238  2021.04.21  1019322       22501  ...         NaN      NaN       NaN\n",
              "\n",
              "[10 rows x 11 columns]"
            ]
          },
          "metadata": {},
          "execution_count": 55
        }
      ]
    },
    {
      "cell_type": "code",
      "source": [
        "vaccine_percentage_df = vaccine_percentage_df.fillna(0)"
      ],
      "metadata": {
        "id": "0O7FOIqPEeUl"
      },
      "execution_count": null,
      "outputs": []
    },
    {
      "cell_type": "code",
      "source": [
        "vaccine_percentage_df.isna().sum()"
      ],
      "metadata": {
        "colab": {
          "base_uri": "https://localhost:8080/"
        },
        "id": "plwSw9g0EiEl",
        "outputId": "e4d72c7c-aaa6-4fc0-c439-38135243ca4a"
      },
      "execution_count": null,
      "outputs": [
        {
          "output_type": "execute_result",
          "data": {
            "text/plain": [
              "접종일           0\n",
              "접종대상자         0\n",
              "당일 1차접종자 수    0\n",
              "1차접종 누계       0\n",
              "1차접종률(%)      0\n",
              "당일 2차접종자 수    0\n",
              "2차접종 누계       0\n",
              "2차접종률(%)      0\n",
              "당일 추가접종자 수    0\n",
              "추가접종 누계       0\n",
              "추가접종률(%)      0\n",
              "dtype: int64"
            ]
          },
          "metadata": {},
          "execution_count": 59
        }
      ]
    },
    {
      "cell_type": "code",
      "source": [
        "vaccine_percentage_df.tail()"
      ],
      "metadata": {
        "colab": {
          "base_uri": "https://localhost:8080/",
          "height": 258
        },
        "id": "HtkFpSxLEtNn",
        "outputId": "0de8c2c5-0175-493e-fcf3-9f15a37867c2"
      },
      "execution_count": null,
      "outputs": [
        {
          "output_type": "execute_result",
          "data": {
            "text/html": [
              "<div>\n",
              "<style scoped>\n",
              "    .dataframe tbody tr th:only-of-type {\n",
              "        vertical-align: middle;\n",
              "    }\n",
              "\n",
              "    .dataframe tbody tr th {\n",
              "        vertical-align: top;\n",
              "    }\n",
              "\n",
              "    .dataframe thead th {\n",
              "        text-align: right;\n",
              "    }\n",
              "</style>\n",
              "<table border=\"1\" class=\"dataframe\">\n",
              "  <thead>\n",
              "    <tr style=\"text-align: right;\">\n",
              "      <th></th>\n",
              "      <th>접종일</th>\n",
              "      <th>접종대상자</th>\n",
              "      <th>당일 1차접종자 수</th>\n",
              "      <th>1차접종 누계</th>\n",
              "      <th>1차접종률(%)</th>\n",
              "      <th>당일 2차접종자 수</th>\n",
              "      <th>2차접종 누계</th>\n",
              "      <th>2차접종률(%)</th>\n",
              "      <th>당일 추가접종자 수</th>\n",
              "      <th>추가접종 누계</th>\n",
              "      <th>추가접종률(%)</th>\n",
              "    </tr>\n",
              "  </thead>\n",
              "  <tbody>\n",
              "    <tr>\n",
              "      <th>234</th>\n",
              "      <td>2021.04.25</td>\n",
              "      <td>1023346</td>\n",
              "      <td>23323</td>\n",
              "      <td>350631</td>\n",
              "      <td>34.2</td>\n",
              "      <td>3411</td>\n",
              "      <td>18513</td>\n",
              "      <td>1.8</td>\n",
              "      <td>0.0</td>\n",
              "      <td>0.0</td>\n",
              "      <td>0.0</td>\n",
              "    </tr>\n",
              "    <tr>\n",
              "      <th>235</th>\n",
              "      <td>2021.04.24</td>\n",
              "      <td>1023346</td>\n",
              "      <td>200</td>\n",
              "      <td>350427</td>\n",
              "      <td>34.2</td>\n",
              "      <td>0</td>\n",
              "      <td>18513</td>\n",
              "      <td>1.8</td>\n",
              "      <td>0.0</td>\n",
              "      <td>0.0</td>\n",
              "      <td>0.0</td>\n",
              "    </tr>\n",
              "    <tr>\n",
              "      <th>236</th>\n",
              "      <td>2021.04.23</td>\n",
              "      <td>1027740</td>\n",
              "      <td>10195</td>\n",
              "      <td>345764</td>\n",
              "      <td>33.6</td>\n",
              "      <td>119</td>\n",
              "      <td>18376</td>\n",
              "      <td>1.8</td>\n",
              "      <td>0.0</td>\n",
              "      <td>0.0</td>\n",
              "      <td>0.0</td>\n",
              "    </tr>\n",
              "    <tr>\n",
              "      <th>237</th>\n",
              "      <td>2021.04.22</td>\n",
              "      <td>1023538</td>\n",
              "      <td>27074</td>\n",
              "      <td>317386</td>\n",
              "      <td>31.0</td>\n",
              "      <td>2479</td>\n",
              "      <td>15901</td>\n",
              "      <td>1.6</td>\n",
              "      <td>0.0</td>\n",
              "      <td>0.0</td>\n",
              "      <td>0.0</td>\n",
              "    </tr>\n",
              "    <tr>\n",
              "      <th>238</th>\n",
              "      <td>2021.04.21</td>\n",
              "      <td>1019322</td>\n",
              "      <td>22501</td>\n",
              "      <td>291857</td>\n",
              "      <td>28.6</td>\n",
              "      <td>2358</td>\n",
              "      <td>13543</td>\n",
              "      <td>1.3</td>\n",
              "      <td>0.0</td>\n",
              "      <td>0.0</td>\n",
              "      <td>0.0</td>\n",
              "    </tr>\n",
              "  </tbody>\n",
              "</table>\n",
              "</div>"
            ],
            "text/plain": [
              "            접종일    접종대상자  당일 1차접종자 수  ...  당일 추가접종자 수  추가접종 누계  추가접종률(%)\n",
              "234  2021.04.25  1023346       23323  ...         0.0      0.0       0.0\n",
              "235  2021.04.24  1023346         200  ...         0.0      0.0       0.0\n",
              "236  2021.04.23  1027740       10195  ...         0.0      0.0       0.0\n",
              "237  2021.04.22  1023538       27074  ...         0.0      0.0       0.0\n",
              "238  2021.04.21  1019322       22501  ...         0.0      0.0       0.0\n",
              "\n",
              "[5 rows x 11 columns]"
            ]
          },
          "metadata": {},
          "execution_count": 60
        }
      ]
    },
    {
      "cell_type": "code",
      "source": [
        "len(vaccine_percentage_df)"
      ],
      "metadata": {
        "colab": {
          "base_uri": "https://localhost:8080/"
        },
        "id": "EVctHbyvGbbj",
        "outputId": "ad2eb823-db11-4af8-9e72-102c34ee7278"
      },
      "execution_count": null,
      "outputs": [
        {
          "output_type": "execute_result",
          "data": {
            "text/plain": [
              "239"
            ]
          },
          "metadata": {},
          "execution_count": 76
        }
      ]
    },
    {
      "cell_type": "markdown",
      "source": [
        "# Data Visualization"
      ],
      "metadata": {
        "id": "TMVDVWUKfOpO"
      }
    },
    {
      "cell_type": "markdown",
      "source": [
        "Comparison between 2020 and 2021"
      ],
      "metadata": {
        "id": "UNr2h2uQfIus"
      }
    },
    {
      "cell_type": "code",
      "source": [
        "covid_df.tail()"
      ],
      "metadata": {
        "colab": {
          "base_uri": "https://localhost:8080/",
          "height": 206
        },
        "id": "D5KzmoRqfQbf",
        "outputId": "0065cf09-1f03-4124-f9d9-f69ba9c19005"
      },
      "execution_count": null,
      "outputs": [
        {
          "output_type": "execute_result",
          "data": {
            "text/html": [
              "<div>\n",
              "<style scoped>\n",
              "    .dataframe tbody tr th:only-of-type {\n",
              "        vertical-align: middle;\n",
              "    }\n",
              "\n",
              "    .dataframe tbody tr th {\n",
              "        vertical-align: top;\n",
              "    }\n",
              "\n",
              "    .dataframe thead th {\n",
              "        text-align: right;\n",
              "    }\n",
              "</style>\n",
              "<table border=\"1\" class=\"dataframe\">\n",
              "  <thead>\n",
              "    <tr style=\"text-align: right;\">\n",
              "      <th></th>\n",
              "      <th>누적검사</th>\n",
              "      <th>누적사망자</th>\n",
              "      <th>누적확진자</th>\n",
              "      <th>고유번호</th>\n",
              "      <th>기준일</th>\n",
              "      <th>일일확진</th>\n",
              "      <th>일일검사</th>\n",
              "    </tr>\n",
              "  </thead>\n",
              "  <tbody>\n",
              "    <tr>\n",
              "      <th>685</th>\n",
              "      <td>29.0</td>\n",
              "      <td>0.0</td>\n",
              "      <td>2.0</td>\n",
              "      <td>5.0</td>\n",
              "      <td>20200124.0</td>\n",
              "      <td>0.0</td>\n",
              "      <td>18.0</td>\n",
              "    </tr>\n",
              "    <tr>\n",
              "      <th>686</th>\n",
              "      <td>25.0</td>\n",
              "      <td>0.0</td>\n",
              "      <td>1.0</td>\n",
              "      <td>4.0</td>\n",
              "      <td>20200123.0</td>\n",
              "      <td>1.0</td>\n",
              "      <td>4.0</td>\n",
              "    </tr>\n",
              "    <tr>\n",
              "      <th>687</th>\n",
              "      <td>21.0</td>\n",
              "      <td>0.0</td>\n",
              "      <td>1.0</td>\n",
              "      <td>3.0</td>\n",
              "      <td>20200122.0</td>\n",
              "      <td>0.0</td>\n",
              "      <td>4.0</td>\n",
              "    </tr>\n",
              "    <tr>\n",
              "      <th>688</th>\n",
              "      <td>15.0</td>\n",
              "      <td>0.0</td>\n",
              "      <td>1.0</td>\n",
              "      <td>2.0</td>\n",
              "      <td>20200121.0</td>\n",
              "      <td>0.0</td>\n",
              "      <td>6.0</td>\n",
              "    </tr>\n",
              "    <tr>\n",
              "      <th>689</th>\n",
              "      <td>4.0</td>\n",
              "      <td>0.0</td>\n",
              "      <td>1.0</td>\n",
              "      <td>1.0</td>\n",
              "      <td>20200120.0</td>\n",
              "      <td>0.0</td>\n",
              "      <td>11.0</td>\n",
              "    </tr>\n",
              "  </tbody>\n",
              "</table>\n",
              "</div>"
            ],
            "text/plain": [
              "     누적검사  누적사망자  누적확진자  고유번호         기준일  일일확진  일일검사\n",
              "685  29.0    0.0    2.0   5.0  20200124.0   0.0  18.0\n",
              "686  25.0    0.0    1.0   4.0  20200123.0   1.0   4.0\n",
              "687  21.0    0.0    1.0   3.0  20200122.0   0.0   4.0\n",
              "688  15.0    0.0    1.0   2.0  20200121.0   0.0   6.0\n",
              "689   4.0    0.0    1.0   1.0  20200120.0   0.0  11.0"
            ]
          },
          "metadata": {},
          "execution_count": 61
        }
      ]
    },
    {
      "cell_type": "code",
      "source": [
        "vaccine_df.tail()"
      ],
      "metadata": {
        "colab": {
          "base_uri": "https://localhost:8080/",
          "height": 504
        },
        "id": "1YDaSZfNfPb8",
        "outputId": "f402b424-4fd7-47b1-b6b8-910656c23897"
      },
      "execution_count": null,
      "outputs": [
        {
          "output_type": "execute_result",
          "data": {
            "text/html": [
              "<div>\n",
              "<style scoped>\n",
              "    .dataframe tbody tr th:only-of-type {\n",
              "        vertical-align: middle;\n",
              "    }\n",
              "\n",
              "    .dataframe tbody tr th {\n",
              "        vertical-align: top;\n",
              "    }\n",
              "\n",
              "    .dataframe thead th {\n",
              "        text-align: right;\n",
              "    }\n",
              "</style>\n",
              "<table border=\"1\" class=\"dataframe\">\n",
              "  <thead>\n",
              "    <tr style=\"text-align: right;\">\n",
              "      <th></th>\n",
              "      <th>일자</th>\n",
              "      <th>전체누적 1차</th>\n",
              "      <th>전체누적 2차</th>\n",
              "      <th>전체누적 3차</th>\n",
              "      <th>AZ 1차 누적</th>\n",
              "      <th>AZ 2차 누적</th>\n",
              "      <th>화이자 누적 1차</th>\n",
              "      <th>화이자 누적 2차</th>\n",
              "      <th>얀센 누적 1차</th>\n",
              "      <th>모더나 누적 1차</th>\n",
              "      <th>모더나 누적 2차</th>\n",
              "      <th>화이자 누적 3차</th>\n",
              "      <th>모더나 누적 3차</th>\n",
              "      <th>얀센 누적 3차</th>\n",
              "      <th>기준일</th>\n",
              "    </tr>\n",
              "  </thead>\n",
              "  <tbody>\n",
              "    <tr>\n",
              "      <th>283</th>\n",
              "      <td>2021-03-02 00:00:00</td>\n",
              "      <td>101811.0</td>\n",
              "      <td>6956.0</td>\n",
              "      <td>0.0</td>\n",
              "      <td>91467.0</td>\n",
              "      <td>1585.0</td>\n",
              "      <td>4657.0</td>\n",
              "      <td>1638.0</td>\n",
              "      <td>30.0</td>\n",
              "      <td>5657.0</td>\n",
              "      <td>3703.0</td>\n",
              "      <td>0.0</td>\n",
              "      <td>0.0</td>\n",
              "      <td>0.0</td>\n",
              "      <td>20210302</td>\n",
              "    </tr>\n",
              "    <tr>\n",
              "      <th>284</th>\n",
              "      <td>2021-03-01 00:00:00</td>\n",
              "      <td>35114.0</td>\n",
              "      <td>6812.0</td>\n",
              "      <td>0.0</td>\n",
              "      <td>25610.0</td>\n",
              "      <td>1553.0</td>\n",
              "      <td>3912.0</td>\n",
              "      <td>1594.0</td>\n",
              "      <td>28.0</td>\n",
              "      <td>5564.0</td>\n",
              "      <td>3637.0</td>\n",
              "      <td>0.0</td>\n",
              "      <td>0.0</td>\n",
              "      <td>0.0</td>\n",
              "      <td>20210301</td>\n",
              "    </tr>\n",
              "    <tr>\n",
              "      <th>285</th>\n",
              "      <td>2021-02-28 00:00:00</td>\n",
              "      <td>33372.0</td>\n",
              "      <td>6691.0</td>\n",
              "      <td>0.0</td>\n",
              "      <td>24360.0</td>\n",
              "      <td>1505.0</td>\n",
              "      <td>3525.0</td>\n",
              "      <td>1558.0</td>\n",
              "      <td>25.0</td>\n",
              "      <td>5462.0</td>\n",
              "      <td>3603.0</td>\n",
              "      <td>0.0</td>\n",
              "      <td>0.0</td>\n",
              "      <td>0.0</td>\n",
              "      <td>20210228</td>\n",
              "    </tr>\n",
              "    <tr>\n",
              "      <th>286</th>\n",
              "      <td>2021-02-27 00:00:00</td>\n",
              "      <td>32434.0</td>\n",
              "      <td>6631.0</td>\n",
              "      <td>0.0</td>\n",
              "      <td>23775.0</td>\n",
              "      <td>1504.0</td>\n",
              "      <td>3192.0</td>\n",
              "      <td>1527.0</td>\n",
              "      <td>25.0</td>\n",
              "      <td>5442.0</td>\n",
              "      <td>3575.0</td>\n",
              "      <td>0.0</td>\n",
              "      <td>0.0</td>\n",
              "      <td>0.0</td>\n",
              "      <td>20210227</td>\n",
              "    </tr>\n",
              "    <tr>\n",
              "      <th>287</th>\n",
              "      <td>2021-02-26 00:00:00</td>\n",
              "      <td>30830.0</td>\n",
              "      <td>6521.0</td>\n",
              "      <td>0.0</td>\n",
              "      <td>22638.0</td>\n",
              "      <td>1494.0</td>\n",
              "      <td>2776.0</td>\n",
              "      <td>1490.0</td>\n",
              "      <td>23.0</td>\n",
              "      <td>5393.0</td>\n",
              "      <td>3514.0</td>\n",
              "      <td>0.0</td>\n",
              "      <td>0.0</td>\n",
              "      <td>0.0</td>\n",
              "      <td>20210226</td>\n",
              "    </tr>\n",
              "  </tbody>\n",
              "</table>\n",
              "</div>"
            ],
            "text/plain": [
              "                      일자   전체누적 1차  전체누적 2차  ...  모더나 누적 3차  얀센 누적 3차       기준일\n",
              "283  2021-03-02 00:00:00  101811.0   6956.0  ...        0.0       0.0  20210302\n",
              "284  2021-03-01 00:00:00   35114.0   6812.0  ...        0.0       0.0  20210301\n",
              "285  2021-02-28 00:00:00   33372.0   6691.0  ...        0.0       0.0  20210228\n",
              "286  2021-02-27 00:00:00   32434.0   6631.0  ...        0.0       0.0  20210227\n",
              "287  2021-02-26 00:00:00   30830.0   6521.0  ...        0.0       0.0  20210226\n",
              "\n",
              "[5 rows x 15 columns]"
            ]
          },
          "metadata": {},
          "execution_count": 75
        }
      ]
    },
    {
      "cell_type": "code",
      "source": [
        "covid_df = covid_df.astype({\"기준일\":str})\n",
        "vaccine_df = vaccine_df.astype({\"기준일\":str})"
      ],
      "metadata": {
        "id": "kqJS7yXpflsO"
      },
      "execution_count": null,
      "outputs": []
    },
    {
      "cell_type": "code",
      "source": [
        "covid_df[covid_df[\"기준일\"] > \"20200225\"]"
      ],
      "metadata": {
        "colab": {
          "base_uri": "https://localhost:8080/",
          "height": 423
        },
        "id": "iaeJQKgIgKAm",
        "outputId": "97dcc5ef-337d-43ad-9404-5b158114bfa9"
      },
      "execution_count": null,
      "outputs": [
        {
          "output_type": "execute_result",
          "data": {
            "text/html": [
              "<div>\n",
              "<style scoped>\n",
              "    .dataframe tbody tr th:only-of-type {\n",
              "        vertical-align: middle;\n",
              "    }\n",
              "\n",
              "    .dataframe tbody tr th {\n",
              "        vertical-align: top;\n",
              "    }\n",
              "\n",
              "    .dataframe thead th {\n",
              "        text-align: right;\n",
              "    }\n",
              "</style>\n",
              "<table border=\"1\" class=\"dataframe\">\n",
              "  <thead>\n",
              "    <tr style=\"text-align: right;\">\n",
              "      <th></th>\n",
              "      <th>누적검사</th>\n",
              "      <th>누적사망자</th>\n",
              "      <th>누적확진자</th>\n",
              "      <th>고유번호</th>\n",
              "      <th>기준일</th>\n",
              "      <th>일일확진</th>\n",
              "      <th>일일검사</th>\n",
              "    </tr>\n",
              "  </thead>\n",
              "  <tbody>\n",
              "    <tr>\n",
              "      <th>0</th>\n",
              "      <td>17950721.0</td>\n",
              "      <td>4130.0</td>\n",
              "      <td>503601.0</td>\n",
              "      <td>723.0</td>\n",
              "      <td>20211210.0</td>\n",
              "      <td>13659.0</td>\n",
              "      <td>133868.0</td>\n",
              "    </tr>\n",
              "    <tr>\n",
              "      <th>1</th>\n",
              "      <td>17870821.0</td>\n",
              "      <td>4077.0</td>\n",
              "      <td>496853.0</td>\n",
              "      <td>722.0</td>\n",
              "      <td>20211209.0</td>\n",
              "      <td>6748.0</td>\n",
              "      <td>79900.0</td>\n",
              "    </tr>\n",
              "    <tr>\n",
              "      <th>2</th>\n",
              "      <td>17787657.0</td>\n",
              "      <td>4020.0</td>\n",
              "      <td>489478.0</td>\n",
              "      <td>721.0</td>\n",
              "      <td>20211208.0</td>\n",
              "      <td>7375.0</td>\n",
              "      <td>83164.0</td>\n",
              "    </tr>\n",
              "    <tr>\n",
              "      <th>3</th>\n",
              "      <td>17709512.0</td>\n",
              "      <td>3957.0</td>\n",
              "      <td>482305.0</td>\n",
              "      <td>720.0</td>\n",
              "      <td>20211207.0</td>\n",
              "      <td>7173.0</td>\n",
              "      <td>78145.0</td>\n",
              "    </tr>\n",
              "    <tr>\n",
              "      <th>4</th>\n",
              "      <td>17628218.0</td>\n",
              "      <td>3893.0</td>\n",
              "      <td>477352.0</td>\n",
              "      <td>719.0</td>\n",
              "      <td>20211206.0</td>\n",
              "      <td>4953.0</td>\n",
              "      <td>81294.0</td>\n",
              "    </tr>\n",
              "    <tr>\n",
              "      <th>...</th>\n",
              "      <td>...</td>\n",
              "      <td>...</td>\n",
              "      <td>...</td>\n",
              "      <td>...</td>\n",
              "      <td>...</td>\n",
              "      <td>...</td>\n",
              "      <td>...</td>\n",
              "    </tr>\n",
              "    <tr>\n",
              "      <th>649</th>\n",
              "      <td>85693.0</td>\n",
              "      <td>16.0</td>\n",
              "      <td>2931.0</td>\n",
              "      <td>41.0</td>\n",
              "      <td>20200229.0</td>\n",
              "      <td>595.0</td>\n",
              "      <td>11292.0</td>\n",
              "    </tr>\n",
              "    <tr>\n",
              "      <th>650</th>\n",
              "      <td>70940.0</td>\n",
              "      <td>13.0</td>\n",
              "      <td>2022.0</td>\n",
              "      <td>40.0</td>\n",
              "      <td>20200228.0</td>\n",
              "      <td>909.0</td>\n",
              "      <td>14753.0</td>\n",
              "    </tr>\n",
              "    <tr>\n",
              "      <th>651</th>\n",
              "      <td>57990.0</td>\n",
              "      <td>12.0</td>\n",
              "      <td>1595.0</td>\n",
              "      <td>39.0</td>\n",
              "      <td>20200227.0</td>\n",
              "      <td>427.0</td>\n",
              "      <td>12950.0</td>\n",
              "    </tr>\n",
              "    <tr>\n",
              "      <th>652</th>\n",
              "      <td>46127.0</td>\n",
              "      <td>11.0</td>\n",
              "      <td>1146.0</td>\n",
              "      <td>38.0</td>\n",
              "      <td>20200226.0</td>\n",
              "      <td>449.0</td>\n",
              "      <td>11863.0</td>\n",
              "    </tr>\n",
              "    <tr>\n",
              "      <th>653</th>\n",
              "      <td>36716.0</td>\n",
              "      <td>8.0</td>\n",
              "      <td>893.0</td>\n",
              "      <td>37.0</td>\n",
              "      <td>20200225.0</td>\n",
              "      <td>253.0</td>\n",
              "      <td>9411.0</td>\n",
              "    </tr>\n",
              "  </tbody>\n",
              "</table>\n",
              "<p>654 rows × 7 columns</p>\n",
              "</div>"
            ],
            "text/plain": [
              "           누적검사   누적사망자     누적확진자   고유번호         기준일     일일확진      일일검사\n",
              "0    17950721.0  4130.0  503601.0  723.0  20211210.0  13659.0  133868.0\n",
              "1    17870821.0  4077.0  496853.0  722.0  20211209.0   6748.0   79900.0\n",
              "2    17787657.0  4020.0  489478.0  721.0  20211208.0   7375.0   83164.0\n",
              "3    17709512.0  3957.0  482305.0  720.0  20211207.0   7173.0   78145.0\n",
              "4    17628218.0  3893.0  477352.0  719.0  20211206.0   4953.0   81294.0\n",
              "..          ...     ...       ...    ...         ...      ...       ...\n",
              "649     85693.0    16.0    2931.0   41.0  20200229.0    595.0   11292.0\n",
              "650     70940.0    13.0    2022.0   40.0  20200228.0    909.0   14753.0\n",
              "651     57990.0    12.0    1595.0   39.0  20200227.0    427.0   12950.0\n",
              "652     46127.0    11.0    1146.0   38.0  20200226.0    449.0   11863.0\n",
              "653     36716.0     8.0     893.0   37.0  20200225.0    253.0    9411.0\n",
              "\n",
              "[654 rows x 7 columns]"
            ]
          },
          "metadata": {},
          "execution_count": 64
        }
      ]
    },
    {
      "cell_type": "code",
      "source": [
        "#20200226부터 12월 10일까지\n",
        "covid_2020_df = covid_df[covid_df[\"기준일\"] > \"20200225\"]\n",
        "covid_2020_df = covid_2020_df[covid_2020_df[\"기준일\"]<\"20210000\"]"
      ],
      "metadata": {
        "id": "T4niVS16fepM"
      },
      "execution_count": null,
      "outputs": []
    },
    {
      "cell_type": "code",
      "source": [
        "covid_2020_df = covid_2020_df[covid_2020_df[\"기준일\"]<\"20201211\"]\n",
        "covid_2020_df"
      ],
      "metadata": {
        "colab": {
          "base_uri": "https://localhost:8080/",
          "height": 423
        },
        "id": "wDnxnpbGh3Pd",
        "outputId": "8d1bcaae-4596-4540-fb25-8187f5a9c58d"
      },
      "execution_count": null,
      "outputs": [
        {
          "output_type": "execute_result",
          "data": {
            "text/html": [
              "<div>\n",
              "<style scoped>\n",
              "    .dataframe tbody tr th:only-of-type {\n",
              "        vertical-align: middle;\n",
              "    }\n",
              "\n",
              "    .dataframe tbody tr th {\n",
              "        vertical-align: top;\n",
              "    }\n",
              "\n",
              "    .dataframe thead th {\n",
              "        text-align: right;\n",
              "    }\n",
              "</style>\n",
              "<table border=\"1\" class=\"dataframe\">\n",
              "  <thead>\n",
              "    <tr style=\"text-align: right;\">\n",
              "      <th></th>\n",
              "      <th>누적검사</th>\n",
              "      <th>누적사망자</th>\n",
              "      <th>누적확진자</th>\n",
              "      <th>고유번호</th>\n",
              "      <th>기준일</th>\n",
              "      <th>일일확진</th>\n",
              "      <th>일일검사</th>\n",
              "    </tr>\n",
              "  </thead>\n",
              "  <tbody>\n",
              "    <tr>\n",
              "      <th>365</th>\n",
              "      <td>3277946.0</td>\n",
              "      <td>564.0</td>\n",
              "      <td>40089.0</td>\n",
              "      <td>326.0</td>\n",
              "      <td>20201210.0</td>\n",
              "      <td>689.0</td>\n",
              "      <td>33265.0</td>\n",
              "    </tr>\n",
              "    <tr>\n",
              "      <th>366</th>\n",
              "      <td>3253219.0</td>\n",
              "      <td>556.0</td>\n",
              "      <td>39409.0</td>\n",
              "      <td>325.0</td>\n",
              "      <td>20201209.0</td>\n",
              "      <td>680.0</td>\n",
              "      <td>24727.0</td>\n",
              "    </tr>\n",
              "    <tr>\n",
              "      <th>367</th>\n",
              "      <td>3221316.0</td>\n",
              "      <td>552.0</td>\n",
              "      <td>38739.0</td>\n",
              "      <td>324.0</td>\n",
              "      <td>20201208.0</td>\n",
              "      <td>670.0</td>\n",
              "      <td>31903.0</td>\n",
              "    </tr>\n",
              "    <tr>\n",
              "      <th>368</th>\n",
              "      <td>3209367.0</td>\n",
              "      <td>549.0</td>\n",
              "      <td>38152.0</td>\n",
              "      <td>323.0</td>\n",
              "      <td>20201207.0</td>\n",
              "      <td>587.0</td>\n",
              "      <td>11949.0</td>\n",
              "    </tr>\n",
              "    <tr>\n",
              "      <th>369</th>\n",
              "      <td>3194858.0</td>\n",
              "      <td>545.0</td>\n",
              "      <td>37537.0</td>\n",
              "      <td>322.0</td>\n",
              "      <td>20201206.0</td>\n",
              "      <td>615.0</td>\n",
              "      <td>14509.0</td>\n",
              "    </tr>\n",
              "    <tr>\n",
              "      <th>...</th>\n",
              "      <td>...</td>\n",
              "      <td>...</td>\n",
              "      <td>...</td>\n",
              "      <td>...</td>\n",
              "      <td>...</td>\n",
              "      <td>...</td>\n",
              "      <td>...</td>\n",
              "    </tr>\n",
              "    <tr>\n",
              "      <th>649</th>\n",
              "      <td>85693.0</td>\n",
              "      <td>16.0</td>\n",
              "      <td>2931.0</td>\n",
              "      <td>41.0</td>\n",
              "      <td>20200229.0</td>\n",
              "      <td>595.0</td>\n",
              "      <td>11292.0</td>\n",
              "    </tr>\n",
              "    <tr>\n",
              "      <th>650</th>\n",
              "      <td>70940.0</td>\n",
              "      <td>13.0</td>\n",
              "      <td>2022.0</td>\n",
              "      <td>40.0</td>\n",
              "      <td>20200228.0</td>\n",
              "      <td>909.0</td>\n",
              "      <td>14753.0</td>\n",
              "    </tr>\n",
              "    <tr>\n",
              "      <th>651</th>\n",
              "      <td>57990.0</td>\n",
              "      <td>12.0</td>\n",
              "      <td>1595.0</td>\n",
              "      <td>39.0</td>\n",
              "      <td>20200227.0</td>\n",
              "      <td>427.0</td>\n",
              "      <td>12950.0</td>\n",
              "    </tr>\n",
              "    <tr>\n",
              "      <th>652</th>\n",
              "      <td>46127.0</td>\n",
              "      <td>11.0</td>\n",
              "      <td>1146.0</td>\n",
              "      <td>38.0</td>\n",
              "      <td>20200226.0</td>\n",
              "      <td>449.0</td>\n",
              "      <td>11863.0</td>\n",
              "    </tr>\n",
              "    <tr>\n",
              "      <th>653</th>\n",
              "      <td>36716.0</td>\n",
              "      <td>8.0</td>\n",
              "      <td>893.0</td>\n",
              "      <td>37.0</td>\n",
              "      <td>20200225.0</td>\n",
              "      <td>253.0</td>\n",
              "      <td>9411.0</td>\n",
              "    </tr>\n",
              "  </tbody>\n",
              "</table>\n",
              "<p>289 rows × 7 columns</p>\n",
              "</div>"
            ],
            "text/plain": [
              "          누적검사  누적사망자    누적확진자   고유번호         기준일   일일확진     일일검사\n",
              "365  3277946.0  564.0  40089.0  326.0  20201210.0  689.0  33265.0\n",
              "366  3253219.0  556.0  39409.0  325.0  20201209.0  680.0  24727.0\n",
              "367  3221316.0  552.0  38739.0  324.0  20201208.0  670.0  31903.0\n",
              "368  3209367.0  549.0  38152.0  323.0  20201207.0  587.0  11949.0\n",
              "369  3194858.0  545.0  37537.0  322.0  20201206.0  615.0  14509.0\n",
              "..         ...    ...      ...    ...         ...    ...      ...\n",
              "649    85693.0   16.0   2931.0   41.0  20200229.0  595.0  11292.0\n",
              "650    70940.0   13.0   2022.0   40.0  20200228.0  909.0  14753.0\n",
              "651    57990.0   12.0   1595.0   39.0  20200227.0  427.0  12950.0\n",
              "652    46127.0   11.0   1146.0   38.0  20200226.0  449.0  11863.0\n",
              "653    36716.0    8.0    893.0   37.0  20200225.0  253.0   9411.0\n",
              "\n",
              "[289 rows x 7 columns]"
            ]
          },
          "metadata": {},
          "execution_count": 66
        }
      ]
    },
    {
      "cell_type": "code",
      "source": [
        "covid_2020_df.sort_values(by=['기준일'], inplace=True)\n",
        "covid_2020_df"
      ],
      "metadata": {
        "colab": {
          "base_uri": "https://localhost:8080/",
          "height": 423
        },
        "id": "zyIIXSjBidQF",
        "outputId": "07f61743-f993-4c59-a94c-c3c20e5d49e0"
      },
      "execution_count": null,
      "outputs": [
        {
          "output_type": "execute_result",
          "data": {
            "text/html": [
              "<div>\n",
              "<style scoped>\n",
              "    .dataframe tbody tr th:only-of-type {\n",
              "        vertical-align: middle;\n",
              "    }\n",
              "\n",
              "    .dataframe tbody tr th {\n",
              "        vertical-align: top;\n",
              "    }\n",
              "\n",
              "    .dataframe thead th {\n",
              "        text-align: right;\n",
              "    }\n",
              "</style>\n",
              "<table border=\"1\" class=\"dataframe\">\n",
              "  <thead>\n",
              "    <tr style=\"text-align: right;\">\n",
              "      <th></th>\n",
              "      <th>누적검사</th>\n",
              "      <th>누적사망자</th>\n",
              "      <th>누적확진자</th>\n",
              "      <th>고유번호</th>\n",
              "      <th>기준일</th>\n",
              "      <th>일일확진</th>\n",
              "      <th>일일검사</th>\n",
              "    </tr>\n",
              "  </thead>\n",
              "  <tbody>\n",
              "    <tr>\n",
              "      <th>653</th>\n",
              "      <td>36716.0</td>\n",
              "      <td>8.0</td>\n",
              "      <td>893.0</td>\n",
              "      <td>37.0</td>\n",
              "      <td>20200225.0</td>\n",
              "      <td>253.0</td>\n",
              "      <td>9411.0</td>\n",
              "    </tr>\n",
              "    <tr>\n",
              "      <th>652</th>\n",
              "      <td>46127.0</td>\n",
              "      <td>11.0</td>\n",
              "      <td>1146.0</td>\n",
              "      <td>38.0</td>\n",
              "      <td>20200226.0</td>\n",
              "      <td>449.0</td>\n",
              "      <td>11863.0</td>\n",
              "    </tr>\n",
              "    <tr>\n",
              "      <th>651</th>\n",
              "      <td>57990.0</td>\n",
              "      <td>12.0</td>\n",
              "      <td>1595.0</td>\n",
              "      <td>39.0</td>\n",
              "      <td>20200227.0</td>\n",
              "      <td>427.0</td>\n",
              "      <td>12950.0</td>\n",
              "    </tr>\n",
              "    <tr>\n",
              "      <th>650</th>\n",
              "      <td>70940.0</td>\n",
              "      <td>13.0</td>\n",
              "      <td>2022.0</td>\n",
              "      <td>40.0</td>\n",
              "      <td>20200228.0</td>\n",
              "      <td>909.0</td>\n",
              "      <td>14753.0</td>\n",
              "    </tr>\n",
              "    <tr>\n",
              "      <th>649</th>\n",
              "      <td>85693.0</td>\n",
              "      <td>16.0</td>\n",
              "      <td>2931.0</td>\n",
              "      <td>41.0</td>\n",
              "      <td>20200229.0</td>\n",
              "      <td>595.0</td>\n",
              "      <td>11292.0</td>\n",
              "    </tr>\n",
              "    <tr>\n",
              "      <th>...</th>\n",
              "      <td>...</td>\n",
              "      <td>...</td>\n",
              "      <td>...</td>\n",
              "      <td>...</td>\n",
              "      <td>...</td>\n",
              "      <td>...</td>\n",
              "      <td>...</td>\n",
              "    </tr>\n",
              "    <tr>\n",
              "      <th>369</th>\n",
              "      <td>3194858.0</td>\n",
              "      <td>545.0</td>\n",
              "      <td>37537.0</td>\n",
              "      <td>322.0</td>\n",
              "      <td>20201206.0</td>\n",
              "      <td>615.0</td>\n",
              "      <td>14509.0</td>\n",
              "    </tr>\n",
              "    <tr>\n",
              "      <th>368</th>\n",
              "      <td>3209367.0</td>\n",
              "      <td>549.0</td>\n",
              "      <td>38152.0</td>\n",
              "      <td>323.0</td>\n",
              "      <td>20201207.0</td>\n",
              "      <td>587.0</td>\n",
              "      <td>11949.0</td>\n",
              "    </tr>\n",
              "    <tr>\n",
              "      <th>367</th>\n",
              "      <td>3221316.0</td>\n",
              "      <td>552.0</td>\n",
              "      <td>38739.0</td>\n",
              "      <td>324.0</td>\n",
              "      <td>20201208.0</td>\n",
              "      <td>670.0</td>\n",
              "      <td>31903.0</td>\n",
              "    </tr>\n",
              "    <tr>\n",
              "      <th>366</th>\n",
              "      <td>3253219.0</td>\n",
              "      <td>556.0</td>\n",
              "      <td>39409.0</td>\n",
              "      <td>325.0</td>\n",
              "      <td>20201209.0</td>\n",
              "      <td>680.0</td>\n",
              "      <td>24727.0</td>\n",
              "    </tr>\n",
              "    <tr>\n",
              "      <th>365</th>\n",
              "      <td>3277946.0</td>\n",
              "      <td>564.0</td>\n",
              "      <td>40089.0</td>\n",
              "      <td>326.0</td>\n",
              "      <td>20201210.0</td>\n",
              "      <td>689.0</td>\n",
              "      <td>33265.0</td>\n",
              "    </tr>\n",
              "  </tbody>\n",
              "</table>\n",
              "<p>289 rows × 7 columns</p>\n",
              "</div>"
            ],
            "text/plain": [
              "          누적검사  누적사망자    누적확진자   고유번호         기준일   일일확진     일일검사\n",
              "653    36716.0    8.0    893.0   37.0  20200225.0  253.0   9411.0\n",
              "652    46127.0   11.0   1146.0   38.0  20200226.0  449.0  11863.0\n",
              "651    57990.0   12.0   1595.0   39.0  20200227.0  427.0  12950.0\n",
              "650    70940.0   13.0   2022.0   40.0  20200228.0  909.0  14753.0\n",
              "649    85693.0   16.0   2931.0   41.0  20200229.0  595.0  11292.0\n",
              "..         ...    ...      ...    ...         ...    ...      ...\n",
              "369  3194858.0  545.0  37537.0  322.0  20201206.0  615.0  14509.0\n",
              "368  3209367.0  549.0  38152.0  323.0  20201207.0  587.0  11949.0\n",
              "367  3221316.0  552.0  38739.0  324.0  20201208.0  670.0  31903.0\n",
              "366  3253219.0  556.0  39409.0  325.0  20201209.0  680.0  24727.0\n",
              "365  3277946.0  564.0  40089.0  326.0  20201210.0  689.0  33265.0\n",
              "\n",
              "[289 rows x 7 columns]"
            ]
          },
          "metadata": {},
          "execution_count": 67
        }
      ]
    },
    {
      "cell_type": "code",
      "source": [
        "covid_2020_df = covid_2020_df[1:]\n",
        "covid_2020_df = covid_2020_df.reset_index(drop=True)\n",
        "covid_2020_df"
      ],
      "metadata": {
        "colab": {
          "base_uri": "https://localhost:8080/",
          "height": 423
        },
        "id": "VXCll-7Cil2M",
        "outputId": "3ee3fd75-a0de-486e-9f76-f2f36485a840"
      },
      "execution_count": null,
      "outputs": [
        {
          "output_type": "execute_result",
          "data": {
            "text/html": [
              "<div>\n",
              "<style scoped>\n",
              "    .dataframe tbody tr th:only-of-type {\n",
              "        vertical-align: middle;\n",
              "    }\n",
              "\n",
              "    .dataframe tbody tr th {\n",
              "        vertical-align: top;\n",
              "    }\n",
              "\n",
              "    .dataframe thead th {\n",
              "        text-align: right;\n",
              "    }\n",
              "</style>\n",
              "<table border=\"1\" class=\"dataframe\">\n",
              "  <thead>\n",
              "    <tr style=\"text-align: right;\">\n",
              "      <th></th>\n",
              "      <th>누적검사</th>\n",
              "      <th>누적사망자</th>\n",
              "      <th>누적확진자</th>\n",
              "      <th>고유번호</th>\n",
              "      <th>기준일</th>\n",
              "      <th>일일확진</th>\n",
              "      <th>일일검사</th>\n",
              "    </tr>\n",
              "  </thead>\n",
              "  <tbody>\n",
              "    <tr>\n",
              "      <th>0</th>\n",
              "      <td>46127.0</td>\n",
              "      <td>11.0</td>\n",
              "      <td>1146.0</td>\n",
              "      <td>38.0</td>\n",
              "      <td>20200226.0</td>\n",
              "      <td>449.0</td>\n",
              "      <td>11863.0</td>\n",
              "    </tr>\n",
              "    <tr>\n",
              "      <th>1</th>\n",
              "      <td>57990.0</td>\n",
              "      <td>12.0</td>\n",
              "      <td>1595.0</td>\n",
              "      <td>39.0</td>\n",
              "      <td>20200227.0</td>\n",
              "      <td>427.0</td>\n",
              "      <td>12950.0</td>\n",
              "    </tr>\n",
              "    <tr>\n",
              "      <th>2</th>\n",
              "      <td>70940.0</td>\n",
              "      <td>13.0</td>\n",
              "      <td>2022.0</td>\n",
              "      <td>40.0</td>\n",
              "      <td>20200228.0</td>\n",
              "      <td>909.0</td>\n",
              "      <td>14753.0</td>\n",
              "    </tr>\n",
              "    <tr>\n",
              "      <th>3</th>\n",
              "      <td>85693.0</td>\n",
              "      <td>16.0</td>\n",
              "      <td>2931.0</td>\n",
              "      <td>41.0</td>\n",
              "      <td>20200229.0</td>\n",
              "      <td>595.0</td>\n",
              "      <td>11292.0</td>\n",
              "    </tr>\n",
              "    <tr>\n",
              "      <th>4</th>\n",
              "      <td>96985.0</td>\n",
              "      <td>17.0</td>\n",
              "      <td>3526.0</td>\n",
              "      <td>42.0</td>\n",
              "      <td>20200301.0</td>\n",
              "      <td>686.0</td>\n",
              "      <td>12606.0</td>\n",
              "    </tr>\n",
              "    <tr>\n",
              "      <th>...</th>\n",
              "      <td>...</td>\n",
              "      <td>...</td>\n",
              "      <td>...</td>\n",
              "      <td>...</td>\n",
              "      <td>...</td>\n",
              "      <td>...</td>\n",
              "      <td>...</td>\n",
              "    </tr>\n",
              "    <tr>\n",
              "      <th>283</th>\n",
              "      <td>3194858.0</td>\n",
              "      <td>545.0</td>\n",
              "      <td>37537.0</td>\n",
              "      <td>322.0</td>\n",
              "      <td>20201206.0</td>\n",
              "      <td>615.0</td>\n",
              "      <td>14509.0</td>\n",
              "    </tr>\n",
              "    <tr>\n",
              "      <th>284</th>\n",
              "      <td>3209367.0</td>\n",
              "      <td>549.0</td>\n",
              "      <td>38152.0</td>\n",
              "      <td>323.0</td>\n",
              "      <td>20201207.0</td>\n",
              "      <td>587.0</td>\n",
              "      <td>11949.0</td>\n",
              "    </tr>\n",
              "    <tr>\n",
              "      <th>285</th>\n",
              "      <td>3221316.0</td>\n",
              "      <td>552.0</td>\n",
              "      <td>38739.0</td>\n",
              "      <td>324.0</td>\n",
              "      <td>20201208.0</td>\n",
              "      <td>670.0</td>\n",
              "      <td>31903.0</td>\n",
              "    </tr>\n",
              "    <tr>\n",
              "      <th>286</th>\n",
              "      <td>3253219.0</td>\n",
              "      <td>556.0</td>\n",
              "      <td>39409.0</td>\n",
              "      <td>325.0</td>\n",
              "      <td>20201209.0</td>\n",
              "      <td>680.0</td>\n",
              "      <td>24727.0</td>\n",
              "    </tr>\n",
              "    <tr>\n",
              "      <th>287</th>\n",
              "      <td>3277946.0</td>\n",
              "      <td>564.0</td>\n",
              "      <td>40089.0</td>\n",
              "      <td>326.0</td>\n",
              "      <td>20201210.0</td>\n",
              "      <td>689.0</td>\n",
              "      <td>33265.0</td>\n",
              "    </tr>\n",
              "  </tbody>\n",
              "</table>\n",
              "<p>288 rows × 7 columns</p>\n",
              "</div>"
            ],
            "text/plain": [
              "          누적검사  누적사망자    누적확진자   고유번호         기준일   일일확진     일일검사\n",
              "0      46127.0   11.0   1146.0   38.0  20200226.0  449.0  11863.0\n",
              "1      57990.0   12.0   1595.0   39.0  20200227.0  427.0  12950.0\n",
              "2      70940.0   13.0   2022.0   40.0  20200228.0  909.0  14753.0\n",
              "3      85693.0   16.0   2931.0   41.0  20200229.0  595.0  11292.0\n",
              "4      96985.0   17.0   3526.0   42.0  20200301.0  686.0  12606.0\n",
              "..         ...    ...      ...    ...         ...    ...      ...\n",
              "283  3194858.0  545.0  37537.0  322.0  20201206.0  615.0  14509.0\n",
              "284  3209367.0  549.0  38152.0  323.0  20201207.0  587.0  11949.0\n",
              "285  3221316.0  552.0  38739.0  324.0  20201208.0  670.0  31903.0\n",
              "286  3253219.0  556.0  39409.0  325.0  20201209.0  680.0  24727.0\n",
              "287  3277946.0  564.0  40089.0  326.0  20201210.0  689.0  33265.0\n",
              "\n",
              "[288 rows x 7 columns]"
            ]
          },
          "metadata": {},
          "execution_count": 68
        }
      ]
    },
    {
      "cell_type": "code",
      "source": [
        "covid_2021_df = covid_df[covid_df[\"기준일\"] > \"20210225.1\"]"
      ],
      "metadata": {
        "id": "usZ2HpQYhNFt"
      },
      "execution_count": null,
      "outputs": []
    },
    {
      "cell_type": "code",
      "source": [
        "covid_2021_df.sort_values(by=['기준일'], inplace=True)\n",
        "covid_2021_df = covid_2021_df.reset_index(drop=True)\n",
        "covid_2021_df"
      ],
      "metadata": {
        "colab": {
          "base_uri": "https://localhost:8080/",
          "height": 534
        },
        "id": "QOVqdIPchyAA",
        "outputId": "fadfc6e4-fe87-40a7-d78a-d5537cf2de90"
      },
      "execution_count": null,
      "outputs": [
        {
          "output_type": "stream",
          "name": "stderr",
          "text": [
            "/usr/local/lib/python3.7/dist-packages/ipykernel_launcher.py:1: SettingWithCopyWarning: \n",
            "A value is trying to be set on a copy of a slice from a DataFrame\n",
            "\n",
            "See the caveats in the documentation: https://pandas.pydata.org/pandas-docs/stable/user_guide/indexing.html#returning-a-view-versus-a-copy\n",
            "  \"\"\"Entry point for launching an IPython kernel.\n"
          ]
        },
        {
          "output_type": "execute_result",
          "data": {
            "text/html": [
              "<div>\n",
              "<style scoped>\n",
              "    .dataframe tbody tr th:only-of-type {\n",
              "        vertical-align: middle;\n",
              "    }\n",
              "\n",
              "    .dataframe tbody tr th {\n",
              "        vertical-align: top;\n",
              "    }\n",
              "\n",
              "    .dataframe thead th {\n",
              "        text-align: right;\n",
              "    }\n",
              "</style>\n",
              "<table border=\"1\" class=\"dataframe\">\n",
              "  <thead>\n",
              "    <tr style=\"text-align: right;\">\n",
              "      <th></th>\n",
              "      <th>누적검사</th>\n",
              "      <th>누적사망자</th>\n",
              "      <th>누적확진자</th>\n",
              "      <th>고유번호</th>\n",
              "      <th>기준일</th>\n",
              "      <th>일일확진</th>\n",
              "      <th>일일검사</th>\n",
              "    </tr>\n",
              "  </thead>\n",
              "  <tbody>\n",
              "    <tr>\n",
              "      <th>0</th>\n",
              "      <td>6590065.0</td>\n",
              "      <td>1585.0</td>\n",
              "      <td>88894.0</td>\n",
              "      <td>404.0</td>\n",
              "      <td>20210226.0</td>\n",
              "      <td>415.0</td>\n",
              "      <td>37149.0</td>\n",
              "    </tr>\n",
              "    <tr>\n",
              "      <th>1</th>\n",
              "      <td>6627214.0</td>\n",
              "      <td>1595.0</td>\n",
              "      <td>89309.0</td>\n",
              "      <td>405.0</td>\n",
              "      <td>20210227.0</td>\n",
              "      <td>355.0</td>\n",
              "      <td>21791.0</td>\n",
              "    </tr>\n",
              "    <tr>\n",
              "      <th>2</th>\n",
              "      <td>6649005.0</td>\n",
              "      <td>1603.0</td>\n",
              "      <td>89664.0</td>\n",
              "      <td>406.0</td>\n",
              "      <td>20210228.0</td>\n",
              "      <td>355.0</td>\n",
              "      <td>16749.0</td>\n",
              "    </tr>\n",
              "    <tr>\n",
              "      <th>3</th>\n",
              "      <td>6665754.0</td>\n",
              "      <td>1605.0</td>\n",
              "      <td>90019.0</td>\n",
              "      <td>407.0</td>\n",
              "      <td>20210301.0</td>\n",
              "      <td>344.0</td>\n",
              "      <td>16221.0</td>\n",
              "    </tr>\n",
              "    <tr>\n",
              "      <th>4</th>\n",
              "      <td>6681975.0</td>\n",
              "      <td>1606.0</td>\n",
              "      <td>90363.0</td>\n",
              "      <td>408.0</td>\n",
              "      <td>20210302.0</td>\n",
              "      <td>444.0</td>\n",
              "      <td>34227.0</td>\n",
              "    </tr>\n",
              "    <tr>\n",
              "      <th>...</th>\n",
              "      <td>...</td>\n",
              "      <td>...</td>\n",
              "      <td>...</td>\n",
              "      <td>...</td>\n",
              "      <td>...</td>\n",
              "      <td>...</td>\n",
              "      <td>...</td>\n",
              "    </tr>\n",
              "    <tr>\n",
              "      <th>283</th>\n",
              "      <td>17628218.0</td>\n",
              "      <td>3893.0</td>\n",
              "      <td>477352.0</td>\n",
              "      <td>719.0</td>\n",
              "      <td>20211206.0</td>\n",
              "      <td>4953.0</td>\n",
              "      <td>81294.0</td>\n",
              "    </tr>\n",
              "    <tr>\n",
              "      <th>284</th>\n",
              "      <td>17709512.0</td>\n",
              "      <td>3957.0</td>\n",
              "      <td>482305.0</td>\n",
              "      <td>720.0</td>\n",
              "      <td>20211207.0</td>\n",
              "      <td>7173.0</td>\n",
              "      <td>78145.0</td>\n",
              "    </tr>\n",
              "    <tr>\n",
              "      <th>285</th>\n",
              "      <td>17787657.0</td>\n",
              "      <td>4020.0</td>\n",
              "      <td>489478.0</td>\n",
              "      <td>721.0</td>\n",
              "      <td>20211208.0</td>\n",
              "      <td>7375.0</td>\n",
              "      <td>83164.0</td>\n",
              "    </tr>\n",
              "    <tr>\n",
              "      <th>286</th>\n",
              "      <td>17870821.0</td>\n",
              "      <td>4077.0</td>\n",
              "      <td>496853.0</td>\n",
              "      <td>722.0</td>\n",
              "      <td>20211209.0</td>\n",
              "      <td>6748.0</td>\n",
              "      <td>79900.0</td>\n",
              "    </tr>\n",
              "    <tr>\n",
              "      <th>287</th>\n",
              "      <td>17950721.0</td>\n",
              "      <td>4130.0</td>\n",
              "      <td>503601.0</td>\n",
              "      <td>723.0</td>\n",
              "      <td>20211210.0</td>\n",
              "      <td>13659.0</td>\n",
              "      <td>133868.0</td>\n",
              "    </tr>\n",
              "  </tbody>\n",
              "</table>\n",
              "<p>288 rows × 7 columns</p>\n",
              "</div>"
            ],
            "text/plain": [
              "           누적검사   누적사망자     누적확진자   고유번호         기준일     일일확진      일일검사\n",
              "0     6590065.0  1585.0   88894.0  404.0  20210226.0    415.0   37149.0\n",
              "1     6627214.0  1595.0   89309.0  405.0  20210227.0    355.0   21791.0\n",
              "2     6649005.0  1603.0   89664.0  406.0  20210228.0    355.0   16749.0\n",
              "3     6665754.0  1605.0   90019.0  407.0  20210301.0    344.0   16221.0\n",
              "4     6681975.0  1606.0   90363.0  408.0  20210302.0    444.0   34227.0\n",
              "..          ...     ...       ...    ...         ...      ...       ...\n",
              "283  17628218.0  3893.0  477352.0  719.0  20211206.0   4953.0   81294.0\n",
              "284  17709512.0  3957.0  482305.0  720.0  20211207.0   7173.0   78145.0\n",
              "285  17787657.0  4020.0  489478.0  721.0  20211208.0   7375.0   83164.0\n",
              "286  17870821.0  4077.0  496853.0  722.0  20211209.0   6748.0   79900.0\n",
              "287  17950721.0  4130.0  503601.0  723.0  20211210.0  13659.0  133868.0\n",
              "\n",
              "[288 rows x 7 columns]"
            ]
          },
          "metadata": {},
          "execution_count": 70
        }
      ]
    },
    {
      "cell_type": "markdown",
      "source": [
        "add month"
      ],
      "metadata": {
        "id": "8is0PKeelHEJ"
      }
    },
    {
      "cell_type": "code",
      "source": [
        "covid_2021_df[\"month\"] = 0\n",
        "covid_2020_df[\"month\"] = 0"
      ],
      "metadata": {
        "id": "nFF-Z4JtlCtc"
      },
      "execution_count": null,
      "outputs": []
    },
    {
      "cell_type": "code",
      "source": [
        "for i in range(len(covid_2021_df)):#[\"기준일\"]:\n",
        "  _ = covid_2021_df[\"기준일\"][i]\n",
        "  _ = str(_)\n",
        "  _ = _[4:6]\n",
        "  covid_2021_df[\"month\"][i] = _"
      ],
      "metadata": {
        "colab": {
          "base_uri": "https://localhost:8080/"
        },
        "id": "r5_obdE5lIMm",
        "outputId": "0210a206-1229-4825-ddae-6b8043f270c4"
      },
      "execution_count": null,
      "outputs": [
        {
          "output_type": "stream",
          "name": "stderr",
          "text": [
            "/usr/local/lib/python3.7/dist-packages/ipykernel_launcher.py:5: SettingWithCopyWarning: \n",
            "A value is trying to be set on a copy of a slice from a DataFrame\n",
            "\n",
            "See the caveats in the documentation: https://pandas.pydata.org/pandas-docs/stable/user_guide/indexing.html#returning-a-view-versus-a-copy\n",
            "  \"\"\"\n"
          ]
        }
      ]
    },
    {
      "cell_type": "code",
      "source": [
        "for i in range(len(covid_2020_df)):#[\"기준일\"]:\n",
        "  _ = covid_2020_df[\"기준일\"][i]\n",
        "  _ = str(_)\n",
        "  _ = _[4:6]\n",
        "  covid_2020_df[\"month\"][i] = _"
      ],
      "metadata": {
        "colab": {
          "base_uri": "https://localhost:8080/"
        },
        "id": "S0DpyGdMle2u",
        "outputId": "6cd4ec82-efb5-40a5-e2a9-24aa15fbdbc0"
      },
      "execution_count": null,
      "outputs": [
        {
          "output_type": "stream",
          "name": "stderr",
          "text": [
            "/usr/local/lib/python3.7/dist-packages/ipykernel_launcher.py:5: SettingWithCopyWarning: \n",
            "A value is trying to be set on a copy of a slice from a DataFrame\n",
            "\n",
            "See the caveats in the documentation: https://pandas.pydata.org/pandas-docs/stable/user_guide/indexing.html#returning-a-view-versus-a-copy\n",
            "  \"\"\"\n"
          ]
        }
      ]
    },
    {
      "cell_type": "code",
      "source": [
        "covid_2021_df.head()"
      ],
      "metadata": {
        "colab": {
          "base_uri": "https://localhost:8080/",
          "height": 206
        },
        "id": "sbNCPL6dljod",
        "outputId": "cdf12893-ab30-4bc7-f6c9-6b138b920a27"
      },
      "execution_count": null,
      "outputs": [
        {
          "output_type": "execute_result",
          "data": {
            "text/html": [
              "<div>\n",
              "<style scoped>\n",
              "    .dataframe tbody tr th:only-of-type {\n",
              "        vertical-align: middle;\n",
              "    }\n",
              "\n",
              "    .dataframe tbody tr th {\n",
              "        vertical-align: top;\n",
              "    }\n",
              "\n",
              "    .dataframe thead th {\n",
              "        text-align: right;\n",
              "    }\n",
              "</style>\n",
              "<table border=\"1\" class=\"dataframe\">\n",
              "  <thead>\n",
              "    <tr style=\"text-align: right;\">\n",
              "      <th></th>\n",
              "      <th>누적검사</th>\n",
              "      <th>누적사망자</th>\n",
              "      <th>누적확진자</th>\n",
              "      <th>고유번호</th>\n",
              "      <th>기준일</th>\n",
              "      <th>일일확진</th>\n",
              "      <th>일일검사</th>\n",
              "      <th>month</th>\n",
              "    </tr>\n",
              "  </thead>\n",
              "  <tbody>\n",
              "    <tr>\n",
              "      <th>0</th>\n",
              "      <td>6590065.0</td>\n",
              "      <td>1585.0</td>\n",
              "      <td>88894.0</td>\n",
              "      <td>404.0</td>\n",
              "      <td>20210226.0</td>\n",
              "      <td>415.0</td>\n",
              "      <td>37149.0</td>\n",
              "      <td>2</td>\n",
              "    </tr>\n",
              "    <tr>\n",
              "      <th>1</th>\n",
              "      <td>6627214.0</td>\n",
              "      <td>1595.0</td>\n",
              "      <td>89309.0</td>\n",
              "      <td>405.0</td>\n",
              "      <td>20210227.0</td>\n",
              "      <td>355.0</td>\n",
              "      <td>21791.0</td>\n",
              "      <td>2</td>\n",
              "    </tr>\n",
              "    <tr>\n",
              "      <th>2</th>\n",
              "      <td>6649005.0</td>\n",
              "      <td>1603.0</td>\n",
              "      <td>89664.0</td>\n",
              "      <td>406.0</td>\n",
              "      <td>20210228.0</td>\n",
              "      <td>355.0</td>\n",
              "      <td>16749.0</td>\n",
              "      <td>2</td>\n",
              "    </tr>\n",
              "    <tr>\n",
              "      <th>3</th>\n",
              "      <td>6665754.0</td>\n",
              "      <td>1605.0</td>\n",
              "      <td>90019.0</td>\n",
              "      <td>407.0</td>\n",
              "      <td>20210301.0</td>\n",
              "      <td>344.0</td>\n",
              "      <td>16221.0</td>\n",
              "      <td>3</td>\n",
              "    </tr>\n",
              "    <tr>\n",
              "      <th>4</th>\n",
              "      <td>6681975.0</td>\n",
              "      <td>1606.0</td>\n",
              "      <td>90363.0</td>\n",
              "      <td>408.0</td>\n",
              "      <td>20210302.0</td>\n",
              "      <td>444.0</td>\n",
              "      <td>34227.0</td>\n",
              "      <td>3</td>\n",
              "    </tr>\n",
              "  </tbody>\n",
              "</table>\n",
              "</div>"
            ],
            "text/plain": [
              "        누적검사   누적사망자    누적확진자   고유번호         기준일   일일확진     일일검사  month\n",
              "0  6590065.0  1585.0  88894.0  404.0  20210226.0  415.0  37149.0      2\n",
              "1  6627214.0  1595.0  89309.0  405.0  20210227.0  355.0  21791.0      2\n",
              "2  6649005.0  1603.0  89664.0  406.0  20210228.0  355.0  16749.0      2\n",
              "3  6665754.0  1605.0  90019.0  407.0  20210301.0  344.0  16221.0      3\n",
              "4  6681975.0  1606.0  90363.0  408.0  20210302.0  444.0  34227.0      3"
            ]
          },
          "metadata": {},
          "execution_count": 74
        }
      ]
    },
    {
      "cell_type": "code",
      "source": [
        "covid_2021_df.tail()"
      ],
      "metadata": {
        "colab": {
          "base_uri": "https://localhost:8080/",
          "height": 206
        },
        "id": "WoO2umPQmULX",
        "outputId": "68fa2ba8-fc5b-4e6c-e871-e9926dc7d565"
      },
      "execution_count": null,
      "outputs": [
        {
          "output_type": "execute_result",
          "data": {
            "text/html": [
              "<div>\n",
              "<style scoped>\n",
              "    .dataframe tbody tr th:only-of-type {\n",
              "        vertical-align: middle;\n",
              "    }\n",
              "\n",
              "    .dataframe tbody tr th {\n",
              "        vertical-align: top;\n",
              "    }\n",
              "\n",
              "    .dataframe thead th {\n",
              "        text-align: right;\n",
              "    }\n",
              "</style>\n",
              "<table border=\"1\" class=\"dataframe\">\n",
              "  <thead>\n",
              "    <tr style=\"text-align: right;\">\n",
              "      <th></th>\n",
              "      <th>누적검사</th>\n",
              "      <th>누적사망자</th>\n",
              "      <th>누적확진자</th>\n",
              "      <th>고유번호</th>\n",
              "      <th>기준일</th>\n",
              "      <th>일일확진</th>\n",
              "      <th>일일검사</th>\n",
              "      <th>month</th>\n",
              "    </tr>\n",
              "  </thead>\n",
              "  <tbody>\n",
              "    <tr>\n",
              "      <th>283</th>\n",
              "      <td>17628218.0</td>\n",
              "      <td>3893.0</td>\n",
              "      <td>477352.0</td>\n",
              "      <td>719.0</td>\n",
              "      <td>20211206.0</td>\n",
              "      <td>4953.0</td>\n",
              "      <td>81294.0</td>\n",
              "      <td>12</td>\n",
              "    </tr>\n",
              "    <tr>\n",
              "      <th>284</th>\n",
              "      <td>17709512.0</td>\n",
              "      <td>3957.0</td>\n",
              "      <td>482305.0</td>\n",
              "      <td>720.0</td>\n",
              "      <td>20211207.0</td>\n",
              "      <td>7173.0</td>\n",
              "      <td>78145.0</td>\n",
              "      <td>12</td>\n",
              "    </tr>\n",
              "    <tr>\n",
              "      <th>285</th>\n",
              "      <td>17787657.0</td>\n",
              "      <td>4020.0</td>\n",
              "      <td>489478.0</td>\n",
              "      <td>721.0</td>\n",
              "      <td>20211208.0</td>\n",
              "      <td>7375.0</td>\n",
              "      <td>83164.0</td>\n",
              "      <td>12</td>\n",
              "    </tr>\n",
              "    <tr>\n",
              "      <th>286</th>\n",
              "      <td>17870821.0</td>\n",
              "      <td>4077.0</td>\n",
              "      <td>496853.0</td>\n",
              "      <td>722.0</td>\n",
              "      <td>20211209.0</td>\n",
              "      <td>6748.0</td>\n",
              "      <td>79900.0</td>\n",
              "      <td>12</td>\n",
              "    </tr>\n",
              "    <tr>\n",
              "      <th>287</th>\n",
              "      <td>17950721.0</td>\n",
              "      <td>4130.0</td>\n",
              "      <td>503601.0</td>\n",
              "      <td>723.0</td>\n",
              "      <td>20211210.0</td>\n",
              "      <td>13659.0</td>\n",
              "      <td>133868.0</td>\n",
              "      <td>12</td>\n",
              "    </tr>\n",
              "  </tbody>\n",
              "</table>\n",
              "</div>"
            ],
            "text/plain": [
              "           누적검사   누적사망자     누적확진자   고유번호         기준일     일일확진      일일검사  month\n",
              "283  17628218.0  3893.0  477352.0  719.0  20211206.0   4953.0   81294.0     12\n",
              "284  17709512.0  3957.0  482305.0  720.0  20211207.0   7173.0   78145.0     12\n",
              "285  17787657.0  4020.0  489478.0  721.0  20211208.0   7375.0   83164.0     12\n",
              "286  17870821.0  4077.0  496853.0  722.0  20211209.0   6748.0   79900.0     12\n",
              "287  17950721.0  4130.0  503601.0  723.0  20211210.0  13659.0  133868.0     12"
            ]
          },
          "metadata": {},
          "execution_count": 77
        }
      ]
    },
    {
      "cell_type": "code",
      "source": [
        "covid_2020_df.head()"
      ],
      "metadata": {
        "colab": {
          "base_uri": "https://localhost:8080/",
          "height": 206
        },
        "id": "IEjenbAgllmm",
        "outputId": "9871822d-b41f-4ca1-b3d0-080b36b7220b"
      },
      "execution_count": null,
      "outputs": [
        {
          "output_type": "execute_result",
          "data": {
            "text/html": [
              "<div>\n",
              "<style scoped>\n",
              "    .dataframe tbody tr th:only-of-type {\n",
              "        vertical-align: middle;\n",
              "    }\n",
              "\n",
              "    .dataframe tbody tr th {\n",
              "        vertical-align: top;\n",
              "    }\n",
              "\n",
              "    .dataframe thead th {\n",
              "        text-align: right;\n",
              "    }\n",
              "</style>\n",
              "<table border=\"1\" class=\"dataframe\">\n",
              "  <thead>\n",
              "    <tr style=\"text-align: right;\">\n",
              "      <th></th>\n",
              "      <th>누적검사</th>\n",
              "      <th>누적사망자</th>\n",
              "      <th>누적확진자</th>\n",
              "      <th>고유번호</th>\n",
              "      <th>기준일</th>\n",
              "      <th>일일확진</th>\n",
              "      <th>일일검사</th>\n",
              "      <th>month</th>\n",
              "    </tr>\n",
              "  </thead>\n",
              "  <tbody>\n",
              "    <tr>\n",
              "      <th>0</th>\n",
              "      <td>46127.0</td>\n",
              "      <td>11.0</td>\n",
              "      <td>1146.0</td>\n",
              "      <td>38.0</td>\n",
              "      <td>20200226.0</td>\n",
              "      <td>449.0</td>\n",
              "      <td>11863.0</td>\n",
              "      <td>2</td>\n",
              "    </tr>\n",
              "    <tr>\n",
              "      <th>1</th>\n",
              "      <td>57990.0</td>\n",
              "      <td>12.0</td>\n",
              "      <td>1595.0</td>\n",
              "      <td>39.0</td>\n",
              "      <td>20200227.0</td>\n",
              "      <td>427.0</td>\n",
              "      <td>12950.0</td>\n",
              "      <td>2</td>\n",
              "    </tr>\n",
              "    <tr>\n",
              "      <th>2</th>\n",
              "      <td>70940.0</td>\n",
              "      <td>13.0</td>\n",
              "      <td>2022.0</td>\n",
              "      <td>40.0</td>\n",
              "      <td>20200228.0</td>\n",
              "      <td>909.0</td>\n",
              "      <td>14753.0</td>\n",
              "      <td>2</td>\n",
              "    </tr>\n",
              "    <tr>\n",
              "      <th>3</th>\n",
              "      <td>85693.0</td>\n",
              "      <td>16.0</td>\n",
              "      <td>2931.0</td>\n",
              "      <td>41.0</td>\n",
              "      <td>20200229.0</td>\n",
              "      <td>595.0</td>\n",
              "      <td>11292.0</td>\n",
              "      <td>2</td>\n",
              "    </tr>\n",
              "    <tr>\n",
              "      <th>4</th>\n",
              "      <td>96985.0</td>\n",
              "      <td>17.0</td>\n",
              "      <td>3526.0</td>\n",
              "      <td>42.0</td>\n",
              "      <td>20200301.0</td>\n",
              "      <td>686.0</td>\n",
              "      <td>12606.0</td>\n",
              "      <td>3</td>\n",
              "    </tr>\n",
              "  </tbody>\n",
              "</table>\n",
              "</div>"
            ],
            "text/plain": [
              "      누적검사  누적사망자   누적확진자  고유번호         기준일   일일확진     일일검사  month\n",
              "0  46127.0   11.0  1146.0  38.0  20200226.0  449.0  11863.0      2\n",
              "1  57990.0   12.0  1595.0  39.0  20200227.0  427.0  12950.0      2\n",
              "2  70940.0   13.0  2022.0  40.0  20200228.0  909.0  14753.0      2\n",
              "3  85693.0   16.0  2931.0  41.0  20200229.0  595.0  11292.0      2\n",
              "4  96985.0   17.0  3526.0  42.0  20200301.0  686.0  12606.0      3"
            ]
          },
          "metadata": {},
          "execution_count": 78
        }
      ]
    },
    {
      "cell_type": "code",
      "source": [
        "covid_2020_df.tail()"
      ],
      "metadata": {
        "colab": {
          "base_uri": "https://localhost:8080/",
          "height": 206
        },
        "id": "fq6kC_R4maIM",
        "outputId": "6d0c285c-ce35-42f6-db39-e08533ee0603"
      },
      "execution_count": null,
      "outputs": [
        {
          "output_type": "execute_result",
          "data": {
            "text/html": [
              "<div>\n",
              "<style scoped>\n",
              "    .dataframe tbody tr th:only-of-type {\n",
              "        vertical-align: middle;\n",
              "    }\n",
              "\n",
              "    .dataframe tbody tr th {\n",
              "        vertical-align: top;\n",
              "    }\n",
              "\n",
              "    .dataframe thead th {\n",
              "        text-align: right;\n",
              "    }\n",
              "</style>\n",
              "<table border=\"1\" class=\"dataframe\">\n",
              "  <thead>\n",
              "    <tr style=\"text-align: right;\">\n",
              "      <th></th>\n",
              "      <th>누적검사</th>\n",
              "      <th>누적사망자</th>\n",
              "      <th>누적확진자</th>\n",
              "      <th>고유번호</th>\n",
              "      <th>기준일</th>\n",
              "      <th>일일확진</th>\n",
              "      <th>일일검사</th>\n",
              "      <th>month</th>\n",
              "    </tr>\n",
              "  </thead>\n",
              "  <tbody>\n",
              "    <tr>\n",
              "      <th>283</th>\n",
              "      <td>3194858.0</td>\n",
              "      <td>545.0</td>\n",
              "      <td>37537.0</td>\n",
              "      <td>322.0</td>\n",
              "      <td>20201206.0</td>\n",
              "      <td>615.0</td>\n",
              "      <td>14509.0</td>\n",
              "      <td>12</td>\n",
              "    </tr>\n",
              "    <tr>\n",
              "      <th>284</th>\n",
              "      <td>3209367.0</td>\n",
              "      <td>549.0</td>\n",
              "      <td>38152.0</td>\n",
              "      <td>323.0</td>\n",
              "      <td>20201207.0</td>\n",
              "      <td>587.0</td>\n",
              "      <td>11949.0</td>\n",
              "      <td>12</td>\n",
              "    </tr>\n",
              "    <tr>\n",
              "      <th>285</th>\n",
              "      <td>3221316.0</td>\n",
              "      <td>552.0</td>\n",
              "      <td>38739.0</td>\n",
              "      <td>324.0</td>\n",
              "      <td>20201208.0</td>\n",
              "      <td>670.0</td>\n",
              "      <td>31903.0</td>\n",
              "      <td>12</td>\n",
              "    </tr>\n",
              "    <tr>\n",
              "      <th>286</th>\n",
              "      <td>3253219.0</td>\n",
              "      <td>556.0</td>\n",
              "      <td>39409.0</td>\n",
              "      <td>325.0</td>\n",
              "      <td>20201209.0</td>\n",
              "      <td>680.0</td>\n",
              "      <td>24727.0</td>\n",
              "      <td>12</td>\n",
              "    </tr>\n",
              "    <tr>\n",
              "      <th>287</th>\n",
              "      <td>3277946.0</td>\n",
              "      <td>564.0</td>\n",
              "      <td>40089.0</td>\n",
              "      <td>326.0</td>\n",
              "      <td>20201210.0</td>\n",
              "      <td>689.0</td>\n",
              "      <td>33265.0</td>\n",
              "      <td>12</td>\n",
              "    </tr>\n",
              "  </tbody>\n",
              "</table>\n",
              "</div>"
            ],
            "text/plain": [
              "          누적검사  누적사망자    누적확진자   고유번호         기준일   일일확진     일일검사  month\n",
              "283  3194858.0  545.0  37537.0  322.0  20201206.0  615.0  14509.0     12\n",
              "284  3209367.0  549.0  38152.0  323.0  20201207.0  587.0  11949.0     12\n",
              "285  3221316.0  552.0  38739.0  324.0  20201208.0  670.0  31903.0     12\n",
              "286  3253219.0  556.0  39409.0  325.0  20201209.0  680.0  24727.0     12\n",
              "287  3277946.0  564.0  40089.0  326.0  20201210.0  689.0  33265.0     12"
            ]
          },
          "metadata": {},
          "execution_count": 79
        }
      ]
    },
    {
      "cell_type": "code",
      "source": [
        "covid_2021_df.tail()"
      ],
      "metadata": {
        "colab": {
          "base_uri": "https://localhost:8080/",
          "height": 206
        },
        "id": "vj9tZmZeoLDP",
        "outputId": "f1b376c4-4905-441f-85e2-73be6988d34f"
      },
      "execution_count": null,
      "outputs": [
        {
          "output_type": "execute_result",
          "data": {
            "text/html": [
              "<div>\n",
              "<style scoped>\n",
              "    .dataframe tbody tr th:only-of-type {\n",
              "        vertical-align: middle;\n",
              "    }\n",
              "\n",
              "    .dataframe tbody tr th {\n",
              "        vertical-align: top;\n",
              "    }\n",
              "\n",
              "    .dataframe thead th {\n",
              "        text-align: right;\n",
              "    }\n",
              "</style>\n",
              "<table border=\"1\" class=\"dataframe\">\n",
              "  <thead>\n",
              "    <tr style=\"text-align: right;\">\n",
              "      <th></th>\n",
              "      <th>누적검사</th>\n",
              "      <th>누적사망자</th>\n",
              "      <th>누적확진자</th>\n",
              "      <th>고유번호</th>\n",
              "      <th>기준일</th>\n",
              "      <th>일일확진</th>\n",
              "      <th>일일검사</th>\n",
              "      <th>month</th>\n",
              "    </tr>\n",
              "  </thead>\n",
              "  <tbody>\n",
              "    <tr>\n",
              "      <th>283</th>\n",
              "      <td>17628218.0</td>\n",
              "      <td>3893.0</td>\n",
              "      <td>477352.0</td>\n",
              "      <td>719.0</td>\n",
              "      <td>20211206.0</td>\n",
              "      <td>4953.0</td>\n",
              "      <td>81294.0</td>\n",
              "      <td>12</td>\n",
              "    </tr>\n",
              "    <tr>\n",
              "      <th>284</th>\n",
              "      <td>17709512.0</td>\n",
              "      <td>3957.0</td>\n",
              "      <td>482305.0</td>\n",
              "      <td>720.0</td>\n",
              "      <td>20211207.0</td>\n",
              "      <td>7173.0</td>\n",
              "      <td>78145.0</td>\n",
              "      <td>12</td>\n",
              "    </tr>\n",
              "    <tr>\n",
              "      <th>285</th>\n",
              "      <td>17787657.0</td>\n",
              "      <td>4020.0</td>\n",
              "      <td>489478.0</td>\n",
              "      <td>721.0</td>\n",
              "      <td>20211208.0</td>\n",
              "      <td>7375.0</td>\n",
              "      <td>83164.0</td>\n",
              "      <td>12</td>\n",
              "    </tr>\n",
              "    <tr>\n",
              "      <th>286</th>\n",
              "      <td>17870821.0</td>\n",
              "      <td>4077.0</td>\n",
              "      <td>496853.0</td>\n",
              "      <td>722.0</td>\n",
              "      <td>20211209.0</td>\n",
              "      <td>6748.0</td>\n",
              "      <td>79900.0</td>\n",
              "      <td>12</td>\n",
              "    </tr>\n",
              "    <tr>\n",
              "      <th>287</th>\n",
              "      <td>17950721.0</td>\n",
              "      <td>4130.0</td>\n",
              "      <td>503601.0</td>\n",
              "      <td>723.0</td>\n",
              "      <td>20211210.0</td>\n",
              "      <td>13659.0</td>\n",
              "      <td>133868.0</td>\n",
              "      <td>12</td>\n",
              "    </tr>\n",
              "  </tbody>\n",
              "</table>\n",
              "</div>"
            ],
            "text/plain": [
              "           누적검사   누적사망자     누적확진자   고유번호         기준일     일일확진      일일검사  month\n",
              "283  17628218.0  3893.0  477352.0  719.0  20211206.0   4953.0   81294.0     12\n",
              "284  17709512.0  3957.0  482305.0  720.0  20211207.0   7173.0   78145.0     12\n",
              "285  17787657.0  4020.0  489478.0  721.0  20211208.0   7375.0   83164.0     12\n",
              "286  17870821.0  4077.0  496853.0  722.0  20211209.0   6748.0   79900.0     12\n",
              "287  17950721.0  4130.0  503601.0  723.0  20211210.0  13659.0  133868.0     12"
            ]
          },
          "metadata": {},
          "execution_count": 80
        }
      ]
    },
    {
      "cell_type": "code",
      "source": [
        "covid_2021_df[\"일일확진\"][287] = 6987"
      ],
      "metadata": {
        "colab": {
          "base_uri": "https://localhost:8080/"
        },
        "id": "qMBOzZ08oVdg",
        "outputId": "486ba366-0938-4f2d-87d1-fe1b2253b27a"
      },
      "execution_count": null,
      "outputs": [
        {
          "output_type": "stream",
          "name": "stderr",
          "text": [
            "/usr/local/lib/python3.7/dist-packages/ipykernel_launcher.py:1: SettingWithCopyWarning: \n",
            "A value is trying to be set on a copy of a slice from a DataFrame\n",
            "\n",
            "See the caveats in the documentation: https://pandas.pydata.org/pandas-docs/stable/user_guide/indexing.html#returning-a-view-versus-a-copy\n",
            "  \"\"\"Entry point for launching an IPython kernel.\n"
          ]
        }
      ]
    },
    {
      "cell_type": "code",
      "source": [
        "import matplotlib.pyplot as plt\n",
        "import numpy as np\n",
        "np.argmax(covid_2021_df[\"일일확진\"])"
      ],
      "metadata": {
        "colab": {
          "base_uri": "https://localhost:8080/"
        },
        "id": "f0qtOih3mofG",
        "outputId": "73282d11-86df-40e9-cceb-ce43c3781c5d"
      },
      "execution_count": null,
      "outputs": [
        {
          "output_type": "execute_result",
          "data": {
            "text/plain": [
              "285"
            ]
          },
          "metadata": {},
          "execution_count": 83
        }
      ]
    },
    {
      "cell_type": "markdown",
      "source": [
        "## Last year(2020) and This year(2021)"
      ],
      "metadata": {
        "id": "34WIHYrpjct8"
      }
    },
    {
      "cell_type": "code",
      "source": [
        "tmp_xticks = set()\n",
        "for _ in covid_2021_df[\"기준일\"]:\n",
        "  _ = str(_)\n",
        "  _ = _[4:6]\n",
        "  tmp_xticks.add(_)\n",
        "tmp_xticks"
      ],
      "metadata": {
        "colab": {
          "base_uri": "https://localhost:8080/"
        },
        "id": "N1jSrQqDj4OJ",
        "outputId": "6dfae889-4097-4638-e606-e3532b0a1dc2"
      },
      "execution_count": null,
      "outputs": [
        {
          "output_type": "execute_result",
          "data": {
            "text/plain": [
              "{'02', '03', '04', '05', '06', '07', '08', '09', '10', '11', '12'}"
            ]
          },
          "metadata": {},
          "execution_count": 84
        }
      ]
    },
    {
      "cell_type": "code",
      "source": [
        "print(max(y1),max(y2))"
      ],
      "metadata": {
        "colab": {
          "base_uri": "https://localhost:8080/"
        },
        "id": "-U3UrRxsoBci",
        "outputId": "1be7b9d7-6519-4b52-8f6e-f5b6954ef227"
      },
      "execution_count": null,
      "outputs": [
        {
          "output_type": "stream",
          "name": "stdout",
          "text": [
            "909.0 13659.0\n"
          ]
        }
      ]
    },
    {
      "cell_type": "code",
      "source": [
        "from matplotlib.pyplot import figure\n",
        "figure(figsize=(8, 6), dpi=80)\n",
        "plt.title(\"Daily confirmed in 2020 and 2021\")\n",
        "plt.plot(covid_2021_df[\"일일확진\"],label=\"2021\")\n",
        "plt.plot(covid_2020_df[\"일일확진\"],label=\"2020\")\n",
        "plt.legend()\n",
        "plt.show()"
      ],
      "metadata": {
        "colab": {
          "base_uri": "https://localhost:8080/",
          "height": 429
        },
        "id": "aF1Tm9iD9PIW",
        "outputId": "f5045844-776b-4308-8996-39cd7029a2ef"
      },
      "execution_count": null,
      "outputs": [
        {
          "output_type": "display_data",
          "data": {
            "image/png": "[encoded data removed]",
            "text/plain": [
              "<Figure size 640x480 with 1 Axes>"
            ]
          },
          "metadata": {
            "needs_background": "light"
          }
        }
      ]
    },
    {
      "cell_type": "markdown",
      "source": [
        "## with Vaccine"
      ],
      "metadata": {
        "id": "ip3s5WwWpLSY"
      }
    },
    {
      "cell_type": "code",
      "source": [
        "vaccine_percentage_df.head()"
      ],
      "metadata": {
        "colab": {
          "base_uri": "https://localhost:8080/",
          "height": 258
        },
        "id": "dNmdKV0pHsJu",
        "outputId": "59d6c3fd-a7bd-4251-86bf-74461d21e470"
      },
      "execution_count": null,
      "outputs": [
        {
          "output_type": "execute_result",
          "data": {
            "text/html": [
              "<div>\n",
              "<style scoped>\n",
              "    .dataframe tbody tr th:only-of-type {\n",
              "        vertical-align: middle;\n",
              "    }\n",
              "\n",
              "    .dataframe tbody tr th {\n",
              "        vertical-align: top;\n",
              "    }\n",
              "\n",
              "    .dataframe thead th {\n",
              "        text-align: right;\n",
              "    }\n",
              "</style>\n",
              "<table border=\"1\" class=\"dataframe\">\n",
              "  <thead>\n",
              "    <tr style=\"text-align: right;\">\n",
              "      <th></th>\n",
              "      <th>접종일</th>\n",
              "      <th>접종대상자</th>\n",
              "      <th>당일 1차접종자 수</th>\n",
              "      <th>1차접종 누계</th>\n",
              "      <th>1차접종률(%)</th>\n",
              "      <th>당일 2차접종자 수</th>\n",
              "      <th>2차접종 누계</th>\n",
              "      <th>2차접종률(%)</th>\n",
              "      <th>당일 추가접종자 수</th>\n",
              "      <th>추가접종 누계</th>\n",
              "      <th>추가접종률(%)</th>\n",
              "    </tr>\n",
              "  </thead>\n",
              "  <tbody>\n",
              "    <tr>\n",
              "      <th>0</th>\n",
              "      <td>2021.12.15</td>\n",
              "      <td>9505868</td>\n",
              "      <td>11851</td>\n",
              "      <td>8034078</td>\n",
              "      <td>84.5</td>\n",
              "      <td>7820</td>\n",
              "      <td>7815332</td>\n",
              "      <td>82.2</td>\n",
              "      <td>170057.0</td>\n",
              "      <td>1663071.0</td>\n",
              "      <td>17.5</td>\n",
              "    </tr>\n",
              "    <tr>\n",
              "      <th>1</th>\n",
              "      <td>2021.12.14</td>\n",
              "      <td>9505868</td>\n",
              "      <td>8483</td>\n",
              "      <td>8008859</td>\n",
              "      <td>84.3</td>\n",
              "      <td>6705</td>\n",
              "      <td>7795782</td>\n",
              "      <td>82.0</td>\n",
              "      <td>139233.0</td>\n",
              "      <td>1344229.0</td>\n",
              "      <td>14.1</td>\n",
              "    </tr>\n",
              "    <tr>\n",
              "      <th>2</th>\n",
              "      <td>2021.12.13</td>\n",
              "      <td>9505868</td>\n",
              "      <td>11156</td>\n",
              "      <td>8008859</td>\n",
              "      <td>84.3</td>\n",
              "      <td>10094</td>\n",
              "      <td>7795782</td>\n",
              "      <td>82.0</td>\n",
              "      <td>143908.0</td>\n",
              "      <td>1344229.0</td>\n",
              "      <td>14.1</td>\n",
              "    </tr>\n",
              "    <tr>\n",
              "      <th>3</th>\n",
              "      <td>2021.12.12</td>\n",
              "      <td>9505868</td>\n",
              "      <td>304</td>\n",
              "      <td>7994449</td>\n",
              "      <td>84.1</td>\n",
              "      <td>284</td>\n",
              "      <td>7782371</td>\n",
              "      <td>81.9</td>\n",
              "      <td>1826.0</td>\n",
              "      <td>1199359.0</td>\n",
              "      <td>12.6</td>\n",
              "    </tr>\n",
              "    <tr>\n",
              "      <th>4</th>\n",
              "      <td>2021.12.11</td>\n",
              "      <td>9505868</td>\n",
              "      <td>4597</td>\n",
              "      <td>7994240</td>\n",
              "      <td>84.1</td>\n",
              "      <td>6048</td>\n",
              "      <td>7782165</td>\n",
              "      <td>81.9</td>\n",
              "      <td>59658.0</td>\n",
              "      <td>1197488.0</td>\n",
              "      <td>12.6</td>\n",
              "    </tr>\n",
              "  </tbody>\n",
              "</table>\n",
              "</div>"
            ],
            "text/plain": [
              "          접종일    접종대상자  당일 1차접종자 수  ...  당일 추가접종자 수    추가접종 누계  추가접종률(%)\n",
              "0  2021.12.15  9505868       11851  ...    170057.0  1663071.0      17.5\n",
              "1  2021.12.14  9505868        8483  ...    139233.0  1344229.0      14.1\n",
              "2  2021.12.13  9505868       11156  ...    143908.0  1344229.0      14.1\n",
              "3  2021.12.12  9505868         304  ...      1826.0  1199359.0      12.6\n",
              "4  2021.12.11  9505868        4597  ...     59658.0  1197488.0      12.6\n",
              "\n",
              "[5 rows x 11 columns]"
            ]
          },
          "metadata": {},
          "execution_count": 92
        }
      ]
    },
    {
      "cell_type": "code",
      "source": [
        "vaccine_percentage_df = vaccine_percentage_df[5:]#slice ot meet the apt date"
      ],
      "metadata": {
        "id": "wstK-uThHsPt"
      },
      "execution_count": null,
      "outputs": []
    },
    {
      "cell_type": "code",
      "source": [
        "vaccine_percentage_df = vaccine_percentage_df.iloc[::-1]\n",
        "vaccine_percentage_df = vaccine_percentage_df.reset_index(drop=True)\n",
        "vaccine_percentage_df.head()"
      ],
      "metadata": {
        "colab": {
          "base_uri": "https://localhost:8080/",
          "height": 258
        },
        "id": "qOJ5WOzVIAhh",
        "outputId": "02e6934c-cf78-4583-b9d5-1b5b4a3755dc"
      },
      "execution_count": null,
      "outputs": [
        {
          "output_type": "execute_result",
          "data": {
            "text/html": [
              "<div>\n",
              "<style scoped>\n",
              "    .dataframe tbody tr th:only-of-type {\n",
              "        vertical-align: middle;\n",
              "    }\n",
              "\n",
              "    .dataframe tbody tr th {\n",
              "        vertical-align: top;\n",
              "    }\n",
              "\n",
              "    .dataframe thead th {\n",
              "        text-align: right;\n",
              "    }\n",
              "</style>\n",
              "<table border=\"1\" class=\"dataframe\">\n",
              "  <thead>\n",
              "    <tr style=\"text-align: right;\">\n",
              "      <th></th>\n",
              "      <th>접종일</th>\n",
              "      <th>접종대상자</th>\n",
              "      <th>당일 1차접종자 수</th>\n",
              "      <th>1차접종 누계</th>\n",
              "      <th>1차접종률(%)</th>\n",
              "      <th>당일 2차접종자 수</th>\n",
              "      <th>2차접종 누계</th>\n",
              "      <th>2차접종률(%)</th>\n",
              "      <th>당일 추가접종자 수</th>\n",
              "      <th>추가접종 누계</th>\n",
              "      <th>추가접종률(%)</th>\n",
              "    </tr>\n",
              "  </thead>\n",
              "  <tbody>\n",
              "    <tr>\n",
              "      <th>0</th>\n",
              "      <td>2021.04.21</td>\n",
              "      <td>1019322</td>\n",
              "      <td>22501</td>\n",
              "      <td>291857</td>\n",
              "      <td>28.6</td>\n",
              "      <td>2358</td>\n",
              "      <td>13543</td>\n",
              "      <td>1.3</td>\n",
              "      <td>0.0</td>\n",
              "      <td>0.0</td>\n",
              "      <td>0.0</td>\n",
              "    </tr>\n",
              "    <tr>\n",
              "      <th>1</th>\n",
              "      <td>2021.04.22</td>\n",
              "      <td>1023538</td>\n",
              "      <td>27074</td>\n",
              "      <td>317386</td>\n",
              "      <td>31.0</td>\n",
              "      <td>2479</td>\n",
              "      <td>15901</td>\n",
              "      <td>1.6</td>\n",
              "      <td>0.0</td>\n",
              "      <td>0.0</td>\n",
              "      <td>0.0</td>\n",
              "    </tr>\n",
              "    <tr>\n",
              "      <th>2</th>\n",
              "      <td>2021.04.23</td>\n",
              "      <td>1027740</td>\n",
              "      <td>10195</td>\n",
              "      <td>345764</td>\n",
              "      <td>33.6</td>\n",
              "      <td>119</td>\n",
              "      <td>18376</td>\n",
              "      <td>1.8</td>\n",
              "      <td>0.0</td>\n",
              "      <td>0.0</td>\n",
              "      <td>0.0</td>\n",
              "    </tr>\n",
              "    <tr>\n",
              "      <th>3</th>\n",
              "      <td>2021.04.24</td>\n",
              "      <td>1023346</td>\n",
              "      <td>200</td>\n",
              "      <td>350427</td>\n",
              "      <td>34.2</td>\n",
              "      <td>0</td>\n",
              "      <td>18513</td>\n",
              "      <td>1.8</td>\n",
              "      <td>0.0</td>\n",
              "      <td>0.0</td>\n",
              "      <td>0.0</td>\n",
              "    </tr>\n",
              "    <tr>\n",
              "      <th>4</th>\n",
              "      <td>2021.04.25</td>\n",
              "      <td>1023346</td>\n",
              "      <td>23323</td>\n",
              "      <td>350631</td>\n",
              "      <td>34.2</td>\n",
              "      <td>3411</td>\n",
              "      <td>18513</td>\n",
              "      <td>1.8</td>\n",
              "      <td>0.0</td>\n",
              "      <td>0.0</td>\n",
              "      <td>0.0</td>\n",
              "    </tr>\n",
              "  </tbody>\n",
              "</table>\n",
              "</div>"
            ],
            "text/plain": [
              "          접종일    접종대상자  당일 1차접종자 수  ...  당일 추가접종자 수  추가접종 누계  추가접종률(%)\n",
              "0  2021.04.21  1019322       22501  ...         0.0      0.0       0.0\n",
              "1  2021.04.22  1023538       27074  ...         0.0      0.0       0.0\n",
              "2  2021.04.23  1027740       10195  ...         0.0      0.0       0.0\n",
              "3  2021.04.24  1023346         200  ...         0.0      0.0       0.0\n",
              "4  2021.04.25  1023346       23323  ...         0.0      0.0       0.0\n",
              "\n",
              "[5 rows x 11 columns]"
            ]
          },
          "metadata": {},
          "execution_count": 95
        }
      ]
    },
    {
      "cell_type": "code",
      "source": [
        "tmp_covid_2021 = covid_2021_df[covid_2021_df[\"기준일\"]>\"20210421\"]\n",
        "len(tmp_covid_2021)"
      ],
      "metadata": {
        "colab": {
          "base_uri": "https://localhost:8080/"
        },
        "id": "Mrj62Uk7IV7l",
        "outputId": "f72cce60-4523-4577-e70b-9221bce02078"
      },
      "execution_count": null,
      "outputs": [
        {
          "output_type": "execute_result",
          "data": {
            "text/plain": [
              "234"
            ]
          },
          "metadata": {},
          "execution_count": 100
        }
      ]
    },
    {
      "cell_type": "code",
      "source": [
        "len(vaccine_percentage_df)"
      ],
      "metadata": {
        "colab": {
          "base_uri": "https://localhost:8080/"
        },
        "id": "iZuKUw_FIx3u",
        "outputId": "6f6c3b13-e54c-4063-fb13-5b5264fa6be9"
      },
      "execution_count": null,
      "outputs": [
        {
          "output_type": "execute_result",
          "data": {
            "text/plain": [
              "234"
            ]
          },
          "metadata": {},
          "execution_count": 101
        }
      ]
    },
    {
      "cell_type": "code",
      "source": [
        "vaccine_percentage_df.columns"
      ],
      "metadata": {
        "colab": {
          "base_uri": "https://localhost:8080/"
        },
        "id": "4m5GqmJXJBEn",
        "outputId": "41e26c69-c309-4ea1-f597-bd482de2954c"
      },
      "execution_count": null,
      "outputs": [
        {
          "output_type": "execute_result",
          "data": {
            "text/plain": [
              "Index(['접종일', '접종대상자', '당일 1차접종자 수', '1차접종 누계', '1차접종률(%)', '당일 2차접종자 수',\n",
              "       '2차접종 누계', '2차접종률(%)', '당일 추가접종자 수', '추가접종 누계', '추가접종률(%)'],\n",
              "      dtype='object')"
            ]
          },
          "metadata": {},
          "execution_count": 103
        }
      ]
    },
    {
      "cell_type": "code",
      "source": [
        "tmp_covid_2021.head()"
      ],
      "metadata": {
        "colab": {
          "base_uri": "https://localhost:8080/",
          "height": 206
        },
        "id": "mgLr3VfOI0V4",
        "outputId": "a92c14bc-9d76-41f7-917d-9e8f3ba11d9a"
      },
      "execution_count": null,
      "outputs": [
        {
          "output_type": "execute_result",
          "data": {
            "text/html": [
              "<div>\n",
              "<style scoped>\n",
              "    .dataframe tbody tr th:only-of-type {\n",
              "        vertical-align: middle;\n",
              "    }\n",
              "\n",
              "    .dataframe tbody tr th {\n",
              "        vertical-align: top;\n",
              "    }\n",
              "\n",
              "    .dataframe thead th {\n",
              "        text-align: right;\n",
              "    }\n",
              "</style>\n",
              "<table border=\"1\" class=\"dataframe\">\n",
              "  <thead>\n",
              "    <tr style=\"text-align: right;\">\n",
              "      <th></th>\n",
              "      <th>누적검사</th>\n",
              "      <th>누적사망자</th>\n",
              "      <th>누적확진자</th>\n",
              "      <th>고유번호</th>\n",
              "      <th>기준일</th>\n",
              "      <th>일일확진</th>\n",
              "      <th>일일검사</th>\n",
              "      <th>month</th>\n",
              "    </tr>\n",
              "  </thead>\n",
              "  <tbody>\n",
              "    <tr>\n",
              "      <th>54</th>\n",
              "      <td>8497593.0</td>\n",
              "      <td>1806.0</td>\n",
              "      <td>115925.0</td>\n",
              "      <td>458.0</td>\n",
              "      <td>20210421.0</td>\n",
              "      <td>735.0</td>\n",
              "      <td>39911.0</td>\n",
              "      <td>4</td>\n",
              "    </tr>\n",
              "    <tr>\n",
              "      <th>55</th>\n",
              "      <td>8537504.0</td>\n",
              "      <td>1808.0</td>\n",
              "      <td>116660.0</td>\n",
              "      <td>459.0</td>\n",
              "      <td>20210422.0</td>\n",
              "      <td>797.0</td>\n",
              "      <td>46025.0</td>\n",
              "      <td>4</td>\n",
              "    </tr>\n",
              "    <tr>\n",
              "      <th>56</th>\n",
              "      <td>8583529.0</td>\n",
              "      <td>1811.0</td>\n",
              "      <td>117457.0</td>\n",
              "      <td>460.0</td>\n",
              "      <td>20210423.0</td>\n",
              "      <td>785.0</td>\n",
              "      <td>49393.0</td>\n",
              "      <td>4</td>\n",
              "    </tr>\n",
              "    <tr>\n",
              "      <th>57</th>\n",
              "      <td>8632922.0</td>\n",
              "      <td>1812.0</td>\n",
              "      <td>118242.0</td>\n",
              "      <td>461.0</td>\n",
              "      <td>20210424.0</td>\n",
              "      <td>644.0</td>\n",
              "      <td>21868.0</td>\n",
              "      <td>4</td>\n",
              "    </tr>\n",
              "    <tr>\n",
              "      <th>58</th>\n",
              "      <td>8654790.0</td>\n",
              "      <td>1813.0</td>\n",
              "      <td>118886.0</td>\n",
              "      <td>462.0</td>\n",
              "      <td>20210425.0</td>\n",
              "      <td>499.0</td>\n",
              "      <td>18187.0</td>\n",
              "      <td>4</td>\n",
              "    </tr>\n",
              "  </tbody>\n",
              "</table>\n",
              "</div>"
            ],
            "text/plain": [
              "         누적검사   누적사망자     누적확진자   고유번호         기준일   일일확진     일일검사  month\n",
              "54  8497593.0  1806.0  115925.0  458.0  20210421.0  735.0  39911.0      4\n",
              "55  8537504.0  1808.0  116660.0  459.0  20210422.0  797.0  46025.0      4\n",
              "56  8583529.0  1811.0  117457.0  460.0  20210423.0  785.0  49393.0      4\n",
              "57  8632922.0  1812.0  118242.0  461.0  20210424.0  644.0  21868.0      4\n",
              "58  8654790.0  1813.0  118886.0  462.0  20210425.0  499.0  18187.0      4"
            ]
          },
          "metadata": {},
          "execution_count": 102
        }
      ]
    },
    {
      "cell_type": "markdown",
      "source": [
        "## Vaccine Visualization"
      ],
      "metadata": {
        "id": "M4Pi9OyqL1yb"
      }
    },
    {
      "cell_type": "code",
      "source": [
        "import matplotlib.pyplot as plt\n",
        "fig, axis = plt.subplots(1, 2, figsize=(15, 5))\n",
        "axis[0].set_title(\"1st acc vaccine %\")\n",
        "axis[0].plot(vaccine_percentage_df[\"1차접종률(%)\"],label = \"1st V %\")\n",
        "#axis[0].plot(hmap[\"전체누적 1차\"],label= \"V1\")\n",
        "axis[0].legend()\n",
        "axis[1].set_title(\"1st acc vaccine\")\n",
        "axis[1].plot(vaccine_percentage_df[\"1차접종 누계\"],label = \"1st V acc\")\n",
        "#axis[1].plot(hmap[\"전체누적 1차\"],label= \"V1\")\n",
        "axis[1].legend()"
      ],
      "metadata": {
        "colab": {
          "base_uri": "https://localhost:8080/",
          "height": 374
        },
        "id": "oq1soV0sI8f9",
        "outputId": "e2d8cc1c-2f0e-41a9-b8d0-fc6de16ef98c"
      },
      "execution_count": null,
      "outputs": [
        {
          "output_type": "execute_result",
          "data": {
            "text/plain": [
              "<matplotlib.legend.Legend at 0x7fa9cfd63790>"
            ]
          },
          "metadata": {},
          "execution_count": 109
        },
        {
          "output_type": "display_data",
          "data": {
            "image/png": "[encoded data removed]",
            "text/plain": [
              "<Figure size 1080x360 with 2 Axes>"
            ]
          },
          "metadata": {
            "needs_background": "light"
          }
        }
      ]
    },
    {
      "cell_type": "code",
      "source": [
        "tmp_covid_2021 = tmp_covid_2021.reset_index(drop=True)"
      ],
      "metadata": {
        "id": "UPUNgGxANmo4"
      },
      "execution_count": null,
      "outputs": []
    },
    {
      "cell_type": "code",
      "source": [
        "def NormalizeData(data):\n",
        "    return (data - np.min(data)) / (np.max(data) - np.min(data))"
      ],
      "metadata": {
        "id": "q2kaJxPfL40y"
      },
      "execution_count": null,
      "outputs": []
    },
    {
      "cell_type": "code",
      "source": [
        "normalized_acc_1st = NormalizeData(vaccine_percentage_df[\"1차접종 누계\"])\n",
        "normalized_covid_21 = NormalizeData(tmp_covid_2021[\"누적확진자\"])"
      ],
      "metadata": {
        "id": "19loC2CkL6X5"
      },
      "execution_count": null,
      "outputs": []
    },
    {
      "cell_type": "code",
      "source": [
        "normalized_acc_2nd = NormalizeData(vaccine_percentage_df[\"2차접종 누계\"])"
      ],
      "metadata": {
        "id": "dAtXdGr2NobI"
      },
      "execution_count": null,
      "outputs": []
    },
    {
      "cell_type": "code",
      "source": [
        "normalized_daily_confirmed = NormalizeData(tmp_covid_2021[\"일일확진\"])"
      ],
      "metadata": {
        "id": "KHITyehoOBPC"
      },
      "execution_count": null,
      "outputs": []
    },
    {
      "cell_type": "code",
      "source": [
        "vaccine_percentage_df.head()"
      ],
      "metadata": {
        "colab": {
          "base_uri": "https://localhost:8080/",
          "height": 258
        },
        "id": "_Gjw6RBVMq8r",
        "outputId": "8d919a05-b22b-4a02-c171-a4126803b735"
      },
      "execution_count": null,
      "outputs": [
        {
          "output_type": "execute_result",
          "data": {
            "text/html": [
              "<div>\n",
              "<style scoped>\n",
              "    .dataframe tbody tr th:only-of-type {\n",
              "        vertical-align: middle;\n",
              "    }\n",
              "\n",
              "    .dataframe tbody tr th {\n",
              "        vertical-align: top;\n",
              "    }\n",
              "\n",
              "    .dataframe thead th {\n",
              "        text-align: right;\n",
              "    }\n",
              "</style>\n",
              "<table border=\"1\" class=\"dataframe\">\n",
              "  <thead>\n",
              "    <tr style=\"text-align: right;\">\n",
              "      <th></th>\n",
              "      <th>접종일</th>\n",
              "      <th>접종대상자</th>\n",
              "      <th>당일 1차접종자 수</th>\n",
              "      <th>1차접종 누계</th>\n",
              "      <th>1차접종률(%)</th>\n",
              "      <th>당일 2차접종자 수</th>\n",
              "      <th>2차접종 누계</th>\n",
              "      <th>2차접종률(%)</th>\n",
              "      <th>당일 추가접종자 수</th>\n",
              "      <th>추가접종 누계</th>\n",
              "      <th>추가접종률(%)</th>\n",
              "    </tr>\n",
              "  </thead>\n",
              "  <tbody>\n",
              "    <tr>\n",
              "      <th>0</th>\n",
              "      <td>2021.04.21</td>\n",
              "      <td>1019322</td>\n",
              "      <td>22501</td>\n",
              "      <td>291857</td>\n",
              "      <td>28.6</td>\n",
              "      <td>2358</td>\n",
              "      <td>13543</td>\n",
              "      <td>1.3</td>\n",
              "      <td>0.0</td>\n",
              "      <td>0.0</td>\n",
              "      <td>0.0</td>\n",
              "    </tr>\n",
              "    <tr>\n",
              "      <th>1</th>\n",
              "      <td>2021.04.22</td>\n",
              "      <td>1023538</td>\n",
              "      <td>27074</td>\n",
              "      <td>317386</td>\n",
              "      <td>31.0</td>\n",
              "      <td>2479</td>\n",
              "      <td>15901</td>\n",
              "      <td>1.6</td>\n",
              "      <td>0.0</td>\n",
              "      <td>0.0</td>\n",
              "      <td>0.0</td>\n",
              "    </tr>\n",
              "    <tr>\n",
              "      <th>2</th>\n",
              "      <td>2021.04.23</td>\n",
              "      <td>1027740</td>\n",
              "      <td>10195</td>\n",
              "      <td>345764</td>\n",
              "      <td>33.6</td>\n",
              "      <td>119</td>\n",
              "      <td>18376</td>\n",
              "      <td>1.8</td>\n",
              "      <td>0.0</td>\n",
              "      <td>0.0</td>\n",
              "      <td>0.0</td>\n",
              "    </tr>\n",
              "    <tr>\n",
              "      <th>3</th>\n",
              "      <td>2021.04.24</td>\n",
              "      <td>1023346</td>\n",
              "      <td>200</td>\n",
              "      <td>350427</td>\n",
              "      <td>34.2</td>\n",
              "      <td>0</td>\n",
              "      <td>18513</td>\n",
              "      <td>1.8</td>\n",
              "      <td>0.0</td>\n",
              "      <td>0.0</td>\n",
              "      <td>0.0</td>\n",
              "    </tr>\n",
              "    <tr>\n",
              "      <th>4</th>\n",
              "      <td>2021.04.25</td>\n",
              "      <td>1023346</td>\n",
              "      <td>23323</td>\n",
              "      <td>350631</td>\n",
              "      <td>34.2</td>\n",
              "      <td>3411</td>\n",
              "      <td>18513</td>\n",
              "      <td>1.8</td>\n",
              "      <td>0.0</td>\n",
              "      <td>0.0</td>\n",
              "      <td>0.0</td>\n",
              "    </tr>\n",
              "  </tbody>\n",
              "</table>\n",
              "</div>"
            ],
            "text/plain": [
              "          접종일    접종대상자  당일 1차접종자 수  ...  당일 추가접종자 수  추가접종 누계  추가접종률(%)\n",
              "0  2021.04.21  1019322       22501  ...         0.0      0.0       0.0\n",
              "1  2021.04.22  1023538       27074  ...         0.0      0.0       0.0\n",
              "2  2021.04.23  1027740       10195  ...         0.0      0.0       0.0\n",
              "3  2021.04.24  1023346         200  ...         0.0      0.0       0.0\n",
              "4  2021.04.25  1023346       23323  ...         0.0      0.0       0.0\n",
              "\n",
              "[5 rows x 11 columns]"
            ]
          },
          "metadata": {},
          "execution_count": 113
        }
      ]
    },
    {
      "cell_type": "code",
      "source": [
        ""
      ],
      "metadata": {
        "id": "9UKaAi03MuLE"
      },
      "execution_count": null,
      "outputs": []
    },
    {
      "cell_type": "code",
      "source": [
        "tmp_covid_2021.head()"
      ],
      "metadata": {
        "colab": {
          "base_uri": "https://localhost:8080/",
          "height": 206
        },
        "id": "PsfcWVDxNM_0",
        "outputId": "0546707c-7e56-44df-a057-5291c9a66cc2"
      },
      "execution_count": null,
      "outputs": [
        {
          "output_type": "execute_result",
          "data": {
            "text/html": [
              "<div>\n",
              "<style scoped>\n",
              "    .dataframe tbody tr th:only-of-type {\n",
              "        vertical-align: middle;\n",
              "    }\n",
              "\n",
              "    .dataframe tbody tr th {\n",
              "        vertical-align: top;\n",
              "    }\n",
              "\n",
              "    .dataframe thead th {\n",
              "        text-align: right;\n",
              "    }\n",
              "</style>\n",
              "<table border=\"1\" class=\"dataframe\">\n",
              "  <thead>\n",
              "    <tr style=\"text-align: right;\">\n",
              "      <th></th>\n",
              "      <th>누적검사</th>\n",
              "      <th>누적사망자</th>\n",
              "      <th>누적확진자</th>\n",
              "      <th>고유번호</th>\n",
              "      <th>기준일</th>\n",
              "      <th>일일확진</th>\n",
              "      <th>일일검사</th>\n",
              "      <th>month</th>\n",
              "    </tr>\n",
              "  </thead>\n",
              "  <tbody>\n",
              "    <tr>\n",
              "      <th>0</th>\n",
              "      <td>8497593.0</td>\n",
              "      <td>1806.0</td>\n",
              "      <td>115925.0</td>\n",
              "      <td>458.0</td>\n",
              "      <td>20210421.0</td>\n",
              "      <td>735.0</td>\n",
              "      <td>39911.0</td>\n",
              "      <td>4</td>\n",
              "    </tr>\n",
              "    <tr>\n",
              "      <th>1</th>\n",
              "      <td>8537504.0</td>\n",
              "      <td>1808.0</td>\n",
              "      <td>116660.0</td>\n",
              "      <td>459.0</td>\n",
              "      <td>20210422.0</td>\n",
              "      <td>797.0</td>\n",
              "      <td>46025.0</td>\n",
              "      <td>4</td>\n",
              "    </tr>\n",
              "    <tr>\n",
              "      <th>2</th>\n",
              "      <td>8583529.0</td>\n",
              "      <td>1811.0</td>\n",
              "      <td>117457.0</td>\n",
              "      <td>460.0</td>\n",
              "      <td>20210423.0</td>\n",
              "      <td>785.0</td>\n",
              "      <td>49393.0</td>\n",
              "      <td>4</td>\n",
              "    </tr>\n",
              "    <tr>\n",
              "      <th>3</th>\n",
              "      <td>8632922.0</td>\n",
              "      <td>1812.0</td>\n",
              "      <td>118242.0</td>\n",
              "      <td>461.0</td>\n",
              "      <td>20210424.0</td>\n",
              "      <td>644.0</td>\n",
              "      <td>21868.0</td>\n",
              "      <td>4</td>\n",
              "    </tr>\n",
              "    <tr>\n",
              "      <th>4</th>\n",
              "      <td>8654790.0</td>\n",
              "      <td>1813.0</td>\n",
              "      <td>118886.0</td>\n",
              "      <td>462.0</td>\n",
              "      <td>20210425.0</td>\n",
              "      <td>499.0</td>\n",
              "      <td>18187.0</td>\n",
              "      <td>4</td>\n",
              "    </tr>\n",
              "  </tbody>\n",
              "</table>\n",
              "</div>"
            ],
            "text/plain": [
              "        누적검사   누적사망자     누적확진자   고유번호         기준일   일일확진     일일검사  month\n",
              "0  8497593.0  1806.0  115925.0  458.0  20210421.0  735.0  39911.0      4\n",
              "1  8537504.0  1808.0  116660.0  459.0  20210422.0  797.0  46025.0      4\n",
              "2  8583529.0  1811.0  117457.0  460.0  20210423.0  785.0  49393.0      4\n",
              "3  8632922.0  1812.0  118242.0  461.0  20210424.0  644.0  21868.0      4\n",
              "4  8654790.0  1813.0  118886.0  462.0  20210425.0  499.0  18187.0      4"
            ]
          },
          "metadata": {},
          "execution_count": 118
        }
      ]
    },
    {
      "cell_type": "code",
      "source": [
        "normalized_acc_1st"
      ],
      "metadata": {
        "colab": {
          "base_uri": "https://localhost:8080/"
        },
        "id": "pCBsbXQlM4od",
        "outputId": "7a144f7f-4bb5-477d-c48b-c791f487718a"
      },
      "execution_count": null,
      "outputs": [
        {
          "output_type": "execute_result",
          "data": {
            "text/plain": [
              "0      0.000000\n",
              "1      0.003317\n",
              "2      0.007003\n",
              "3      0.007609\n",
              "4      0.007635\n",
              "         ...   \n",
              "229    0.995654\n",
              "230    0.996567\n",
              "231    0.997483\n",
              "232    0.998546\n",
              "233    1.000000\n",
              "Name: 1차접종 누계, Length: 234, dtype: float64"
            ]
          },
          "metadata": {},
          "execution_count": 121
        }
      ]
    },
    {
      "cell_type": "code",
      "source": [
        "normalized_covid_21"
      ],
      "metadata": {
        "colab": {
          "base_uri": "https://localhost:8080/"
        },
        "id": "MDs_x_zmNA-q",
        "outputId": "6ce1165a-1979-4fb5-a30d-02e287670401"
      },
      "execution_count": null,
      "outputs": [
        {
          "output_type": "execute_result",
          "data": {
            "text/plain": [
              "0      0.000000\n",
              "1      0.001896\n",
              "2      0.003952\n",
              "3      0.005977\n",
              "4      0.007638\n",
              "         ...   \n",
              "229    0.932291\n",
              "230    0.945068\n",
              "231    0.963570\n",
              "232    0.982594\n",
              "233    1.000000\n",
              "Name: 누적확진자, Length: 234, dtype: float64"
            ]
          },
          "metadata": {},
          "execution_count": 122
        }
      ]
    },
    {
      "cell_type": "code",
      "source": [
        "from matplotlib.pyplot import figure\n",
        "figure(figsize=(8, 6), dpi=80)\n",
        "plt.title(\"Covid Data\")\n",
        "plt.plot(normalized_acc_1st,label=\"acc 1st V\")\n",
        "plt.plot(normalized_acc_2nd,label=\"acc 2nd V\")\n",
        "plt.plot(normalized_covid_21,label=\"acc covid confirmed\")\n",
        "plt.plot(normalized_daily_confirmed,label=\"daily covid confirmed\")\n",
        "ax1 = plt.axes()\n",
        "y_axis = ax1.axes.get_yaxis()\n",
        "y_axis.set_visible(False)\n",
        "plt.axis('off')\n",
        "plt.legend()\n",
        "plt.show()"
      ],
      "metadata": {
        "colab": {
          "base_uri": "https://localhost:8080/",
          "height": 468
        },
        "id": "klwtaJ16MP5q",
        "outputId": "7cd6e5cc-7ff8-4dad-c5bf-0734344c487f"
      },
      "execution_count": null,
      "outputs": [
        {
          "output_type": "stream",
          "name": "stderr",
          "text": [
            "/usr/local/lib/python3.7/dist-packages/ipykernel_launcher.py:8: MatplotlibDeprecationWarning: Adding an axes using the same arguments as a previous axes currently reuses the earlier instance.  In a future version, a new instance will always be created and returned.  Meanwhile, this warning can be suppressed, and the future behavior ensured, by passing a unique label to each axes instance.\n",
            "  \n"
          ]
        },
        {
          "output_type": "display_data",
          "data": {
            "image/png": "[encoded data removed]",
            "text/plain": [
              "<Figure size 640x480 with 1 Axes>"
            ]
          },
          "metadata": {
            "needs_background": "light"
          }
        }
      ]
    },
    {
      "cell_type": "markdown",
      "source": [
        "get the apt data"
      ],
      "metadata": {
        "id": "Mc0K-O1eqLjN"
      }
    },
    {
      "cell_type": "code",
      "source": [
        "#reverse vaccine data if neccessary to unify the order of dates\n",
        "vaccine_df = vaccine_df.iloc[::-1]"
      ],
      "metadata": {
        "id": "IQs3oTmzC_tp"
      },
      "execution_count": null,
      "outputs": []
    },
    {
      "cell_type": "code",
      "source": [
        "vaccine_df = vaccine_df.reset_index(drop=True)"
      ],
      "metadata": {
        "id": "eQ-1tEjuHipr"
      },
      "execution_count": null,
      "outputs": []
    },
    {
      "cell_type": "code",
      "source": [
        "vaccine_df.tail()"
      ],
      "metadata": {
        "colab": {
          "base_uri": "https://localhost:8080/",
          "height": 434
        },
        "id": "dGljeEUAo5iv",
        "outputId": "58de36d6-65a7-411f-ed18-44d63a455c04"
      },
      "execution_count": null,
      "outputs": [
        {
          "output_type": "execute_result",
          "data": {
            "text/html": [
              "<div>\n",
              "<style scoped>\n",
              "    .dataframe tbody tr th:only-of-type {\n",
              "        vertical-align: middle;\n",
              "    }\n",
              "\n",
              "    .dataframe tbody tr th {\n",
              "        vertical-align: top;\n",
              "    }\n",
              "\n",
              "    .dataframe thead th {\n",
              "        text-align: right;\n",
              "    }\n",
              "</style>\n",
              "<table border=\"1\" class=\"dataframe\">\n",
              "  <thead>\n",
              "    <tr style=\"text-align: right;\">\n",
              "      <th></th>\n",
              "      <th>일자</th>\n",
              "      <th>전체누적 1차</th>\n",
              "      <th>전체누적 2차</th>\n",
              "      <th>전체누적 3차</th>\n",
              "      <th>AZ 1차 누적</th>\n",
              "      <th>AZ 2차 누적</th>\n",
              "      <th>화이자 누적 1차</th>\n",
              "      <th>화이자 누적 2차</th>\n",
              "      <th>얀센 누적 1차</th>\n",
              "      <th>모더나 누적 1차</th>\n",
              "      <th>모더나 누적 2차</th>\n",
              "      <th>화이자 누적 3차</th>\n",
              "      <th>모더나 누적 3차</th>\n",
              "      <th>얀센 누적 3차</th>\n",
              "      <th>기준일</th>\n",
              "    </tr>\n",
              "  </thead>\n",
              "  <tbody>\n",
              "    <tr>\n",
              "      <th>283</th>\n",
              "      <td>2021-12-06 00:00:00</td>\n",
              "      <td>42767084.0</td>\n",
              "      <td>41445363.0</td>\n",
              "      <td>4255697.0</td>\n",
              "      <td>11132501.0</td>\n",
              "      <td>11049592.0</td>\n",
              "      <td>23417672.0</td>\n",
              "      <td>22442533.0</td>\n",
              "      <td>1502678.0</td>\n",
              "      <td>6714233.0</td>\n",
              "      <td>6450560.0</td>\n",
              "      <td>3249998.0</td>\n",
              "      <td>989368.0</td>\n",
              "      <td>16331.0</td>\n",
              "      <td>20211206</td>\n",
              "    </tr>\n",
              "    <tr>\n",
              "      <th>284</th>\n",
              "      <td>2021-12-07 00:00:00</td>\n",
              "      <td>42805464.0</td>\n",
              "      <td>41487896.0</td>\n",
              "      <td>4550578.0</td>\n",
              "      <td>11132501.0</td>\n",
              "      <td>11050438.0</td>\n",
              "      <td>23451801.0</td>\n",
              "      <td>22474680.0</td>\n",
              "      <td>1502920.0</td>\n",
              "      <td>6718242.0</td>\n",
              "      <td>6459858.0</td>\n",
              "      <td>3466942.0</td>\n",
              "      <td>1066928.0</td>\n",
              "      <td>16708.0</td>\n",
              "      <td>20211207</td>\n",
              "    </tr>\n",
              "    <tr>\n",
              "      <th>285</th>\n",
              "      <td>2021-12-08 00:00:00</td>\n",
              "      <td>42851927.0</td>\n",
              "      <td>41540090.0</td>\n",
              "      <td>4856586.0</td>\n",
              "      <td>11132501.0</td>\n",
              "      <td>11051354.0</td>\n",
              "      <td>23494134.0</td>\n",
              "      <td>22517201.0</td>\n",
              "      <td>1503249.0</td>\n",
              "      <td>6722043.0</td>\n",
              "      <td>6468286.0</td>\n",
              "      <td>3681240.0</td>\n",
              "      <td>1157996.0</td>\n",
              "      <td>17350.0</td>\n",
              "      <td>20211208</td>\n",
              "    </tr>\n",
              "    <tr>\n",
              "      <th>286</th>\n",
              "      <td>2021-12-09 00:00:00</td>\n",
              "      <td>42897791.0</td>\n",
              "      <td>41595614.0</td>\n",
              "      <td>5304622.0</td>\n",
              "      <td>11132502.0</td>\n",
              "      <td>11052241.0</td>\n",
              "      <td>23536476.0</td>\n",
              "      <td>22562986.0</td>\n",
              "      <td>1503589.0</td>\n",
              "      <td>6725224.0</td>\n",
              "      <td>6476798.0</td>\n",
              "      <td>3945515.0</td>\n",
              "      <td>1341276.0</td>\n",
              "      <td>17831.0</td>\n",
              "      <td>20211209</td>\n",
              "    </tr>\n",
              "    <tr>\n",
              "      <th>287</th>\n",
              "      <td>2021-12-10 00:00:00</td>\n",
              "      <td>42949689.0</td>\n",
              "      <td>41671113.0</td>\n",
              "      <td>6076863.0</td>\n",
              "      <td>11132511.0</td>\n",
              "      <td>11053501.0</td>\n",
              "      <td>23583989.0</td>\n",
              "      <td>22623551.0</td>\n",
              "      <td>1503981.0</td>\n",
              "      <td>6729208.0</td>\n",
              "      <td>6490080.0</td>\n",
              "      <td>4310906.0</td>\n",
              "      <td>1747491.0</td>\n",
              "      <td>18466.0</td>\n",
              "      <td>20211210</td>\n",
              "    </tr>\n",
              "  </tbody>\n",
              "</table>\n",
              "</div>"
            ],
            "text/plain": [
              "                      일자     전체누적 1차     전체누적 2차  ...  모더나 누적 3차  얀센 누적 3차       기준일\n",
              "283  2021-12-06 00:00:00  42767084.0  41445363.0  ...   989368.0   16331.0  20211206\n",
              "284  2021-12-07 00:00:00  42805464.0  41487896.0  ...  1066928.0   16708.0  20211207\n",
              "285  2021-12-08 00:00:00  42851927.0  41540090.0  ...  1157996.0   17350.0  20211208\n",
              "286  2021-12-09 00:00:00  42897791.0  41595614.0  ...  1341276.0   17831.0  20211209\n",
              "287  2021-12-10 00:00:00  42949689.0  41671113.0  ...  1747491.0   18466.0  20211210\n",
              "\n",
              "[5 rows x 15 columns]"
            ]
          },
          "metadata": {},
          "execution_count": 91
        }
      ]
    },
    {
      "cell_type": "code",
      "source": [
        "covid_df[covid_df[\"기준일\"] == 20210226]"
      ],
      "metadata": {
        "colab": {
          "base_uri": "https://localhost:8080/",
          "height": 81
        },
        "id": "MKLBSRSBDGX0",
        "outputId": "87954dd1-8616-4c1d-f707-6d6e6b88de54"
      },
      "execution_count": null,
      "outputs": [
        {
          "output_type": "execute_result",
          "data": {
            "text/html": [
              "<div>\n",
              "<style scoped>\n",
              "    .dataframe tbody tr th:only-of-type {\n",
              "        vertical-align: middle;\n",
              "    }\n",
              "\n",
              "    .dataframe tbody tr th {\n",
              "        vertical-align: top;\n",
              "    }\n",
              "\n",
              "    .dataframe thead th {\n",
              "        text-align: right;\n",
              "    }\n",
              "</style>\n",
              "<table border=\"1\" class=\"dataframe\">\n",
              "  <thead>\n",
              "    <tr style=\"text-align: right;\">\n",
              "      <th></th>\n",
              "      <th>누적검사</th>\n",
              "      <th>누적사망자</th>\n",
              "      <th>누적확진자</th>\n",
              "      <th>고유번호</th>\n",
              "      <th>기준일</th>\n",
              "      <th>일일확진</th>\n",
              "      <th>일일검사</th>\n",
              "    </tr>\n",
              "  </thead>\n",
              "  <tbody>\n",
              "    <tr>\n",
              "      <th>289</th>\n",
              "      <td>6590065.0</td>\n",
              "      <td>1585.0</td>\n",
              "      <td>88894.0</td>\n",
              "      <td>404.0</td>\n",
              "      <td>20210226.0</td>\n",
              "      <td>415.0</td>\n",
              "      <td>37149.0</td>\n",
              "    </tr>\n",
              "  </tbody>\n",
              "</table>\n",
              "</div>"
            ],
            "text/plain": [
              "          누적검사   누적사망자    누적확진자   고유번호         기준일   일일확진     일일검사\n",
              "289  6590065.0  1585.0  88894.0  404.0  20210226.0  415.0  37149.0"
            ]
          },
          "metadata": {},
          "execution_count": 62
        }
      ]
    },
    {
      "cell_type": "code",
      "source": [
        "visualize_covid = covid_df[:288]"
      ],
      "metadata": {
        "id": "mkbVyponDOrD"
      },
      "execution_count": null,
      "outputs": []
    },
    {
      "cell_type": "code",
      "source": [
        "visualize_vaccine = vaccine_df"
      ],
      "metadata": {
        "id": "GUnsjL1iDTeH"
      },
      "execution_count": null,
      "outputs": []
    },
    {
      "cell_type": "code",
      "source": [
        "visualize_vaccine.columns"
      ],
      "metadata": {
        "colab": {
          "base_uri": "https://localhost:8080/"
        },
        "id": "CAWiuHy_D_vg",
        "outputId": "f2433f03-964e-48e6-85f2-9af8951129bb"
      },
      "execution_count": null,
      "outputs": [
        {
          "output_type": "execute_result",
          "data": {
            "text/plain": [
              "Index(['일자', '전체누적 1차', '전체누적 2차', '전체누적 3차', 'AZ 1차 누적', 'AZ 2차 누적',\n",
              "       '화이자 누적 1차', '화이자 누적 2차', '얀센 누적 1차', '모더나 누적 1차', '모더나 누적 2차',\n",
              "       '화이자 누적 3차', '모더나 누적 3차', '얀센 누적 3차', '기준일', 'month'],\n",
              "      dtype='object')"
            ]
          },
          "metadata": {},
          "execution_count": 146
        }
      ]
    },
    {
      "cell_type": "markdown",
      "source": [
        "add 월 column"
      ],
      "metadata": {
        "id": "sbJwitZBESRx"
      }
    },
    {
      "cell_type": "code",
      "source": [
        "visualize_covid[\"month\"] = 0\n",
        "visualize_vaccine[\"month\"] = 0"
      ],
      "metadata": {
        "colab": {
          "base_uri": "https://localhost:8080/"
        },
        "id": "mmoYp0fdDcWp",
        "outputId": "fe4b08ac-834f-414c-84cd-dbad04c4b9d8"
      },
      "execution_count": null,
      "outputs": [
        {
          "output_type": "stream",
          "name": "stderr",
          "text": [
            "/usr/local/lib/python3.7/dist-packages/ipykernel_launcher.py:1: SettingWithCopyWarning: \n",
            "A value is trying to be set on a copy of a slice from a DataFrame.\n",
            "Try using .loc[row_indexer,col_indexer] = value instead\n",
            "\n",
            "See the caveats in the documentation: https://pandas.pydata.org/pandas-docs/stable/user_guide/indexing.html#returning-a-view-versus-a-copy\n",
            "  \"\"\"Entry point for launching an IPython kernel.\n"
          ]
        }
      ]
    },
    {
      "cell_type": "code",
      "source": [
        "visualize_covid = visualize_covid.reset_index(drop=True)#reset index"
      ],
      "metadata": {
        "id": "EEwGTHZ2FEY0"
      },
      "execution_count": null,
      "outputs": []
    },
    {
      "cell_type": "code",
      "source": [
        "visualize_covid[\"기준일\"]"
      ],
      "metadata": {
        "colab": {
          "base_uri": "https://localhost:8080/"
        },
        "id": "0cnWti4LE-4b",
        "outputId": "83bf68cb-ed62-4889-a9ae-12ea7b448a1e"
      },
      "execution_count": null,
      "outputs": [
        {
          "output_type": "execute_result",
          "data": {
            "text/plain": [
              "0      20211210.0\n",
              "1      20211209.0\n",
              "2      20211208.0\n",
              "3      20211207.0\n",
              "4      20211206.0\n",
              "          ...    \n",
              "283    20210302.0\n",
              "284    20210301.0\n",
              "285    20210228.0\n",
              "286    20210227.0\n",
              "287    20210226.0\n",
              "Name: 기준일, Length: 288, dtype: float64"
            ]
          },
          "metadata": {},
          "execution_count": 149
        }
      ]
    },
    {
      "cell_type": "code",
      "source": [
        "len(visualize_covid)"
      ],
      "metadata": {
        "colab": {
          "base_uri": "https://localhost:8080/"
        },
        "id": "6S80cuXWFWYB",
        "outputId": "84e53533-75ea-4d53-a835-2556040878e3"
      },
      "execution_count": null,
      "outputs": [
        {
          "output_type": "execute_result",
          "data": {
            "text/plain": [
              "288"
            ]
          },
          "metadata": {},
          "execution_count": 150
        }
      ]
    },
    {
      "cell_type": "code",
      "source": [
        "len(visualize_vaccine)"
      ],
      "metadata": {
        "colab": {
          "base_uri": "https://localhost:8080/"
        },
        "id": "DYTNUx0DFYIZ",
        "outputId": "6a5e8755-1451-459a-edfc-596f49a320d2"
      },
      "execution_count": null,
      "outputs": [
        {
          "output_type": "execute_result",
          "data": {
            "text/plain": [
              "288"
            ]
          },
          "metadata": {},
          "execution_count": 151
        }
      ]
    },
    {
      "cell_type": "code",
      "source": [
        "for i in range(len(visualize_covid)):\n",
        "  m = str(visualize_covid[\"기준일\"][i])\n",
        "  visualize_covid[\"month\"][i] = m[4:6]\n",
        "  m2 = str(visualize_vaccine[\"기준일\"][i])\n",
        "  visualize_vaccine[\"month\"][i] = m2[4:6]"
      ],
      "metadata": {
        "colab": {
          "base_uri": "https://localhost:8080/"
        },
        "id": "7-OWYmngD8ql",
        "outputId": "24236c9b-3f2c-42c1-f36a-0cc955ac734d"
      },
      "execution_count": null,
      "outputs": [
        {
          "output_type": "stream",
          "name": "stderr",
          "text": [
            "/usr/local/lib/python3.7/dist-packages/ipykernel_launcher.py:3: SettingWithCopyWarning: \n",
            "A value is trying to be set on a copy of a slice from a DataFrame\n",
            "\n",
            "See the caveats in the documentation: https://pandas.pydata.org/pandas-docs/stable/user_guide/indexing.html#returning-a-view-versus-a-copy\n",
            "  This is separate from the ipykernel package so we can avoid doing imports until\n",
            "/usr/local/lib/python3.7/dist-packages/ipykernel_launcher.py:5: SettingWithCopyWarning: \n",
            "A value is trying to be set on a copy of a slice from a DataFrame\n",
            "\n",
            "See the caveats in the documentation: https://pandas.pydata.org/pandas-docs/stable/user_guide/indexing.html#returning-a-view-versus-a-copy\n",
            "  \"\"\"\n"
          ]
        }
      ]
    },
    {
      "cell_type": "code",
      "source": [
        "visualize_vaccine = visualize_vaccine.astype({'전체누적 1차':float, '전체누적 2차':float, '전체누적 3차':float, 'AZ 1차 누적':float, 'AZ 2차 누적':float,\n",
        "       '화이자 누적 1차':float, '화이자 누적 2차':float, '얀센 누적 1차':float, '모더나 누적 1차':float, '모더나 누적 2차':float,\n",
        "       '화이자 누적 3차':float, '모더나 누적 3차':float, '얀센 누적 3차':float, \"기준일\":str})"
      ],
      "metadata": {
        "id": "WwrW7Gf1JXd0"
      },
      "execution_count": null,
      "outputs": []
    },
    {
      "cell_type": "markdown",
      "source": [
        "standardization"
      ],
      "metadata": {
        "id": "CkbCpCjYKPxV"
      }
    },
    {
      "cell_type": "code",
      "source": [
        "'''\n",
        "from sklearn import preprocessing\n",
        "visualize_covid[\"누적사망자\"] = preprocessing.scale(visualize_covid[\"누적사망자\"])\n",
        "visualize_covid[\"누적확진자\"] = preprocessing.scale(visualize_covid[\"누적확진자\"])\n",
        "visualize_vaccine[\"전체누적 1차\"] = preprocessing.scale(visualize_vaccine[\"전체누적 1차\"])\n",
        "visualize_vaccine[\"전체누적 2차\"] = preprocessing.scale(visualize_vaccine[\"전체누적 2차\"])\n",
        "visualize_vaccine[\"전체누적 3차\"] = preprocessing.scale(visualize_vaccine[\"전체누적 3차\"])'''\n",
        "#standardization for covid\n",
        "from sklearn.preprocessing import StandardScaler\n",
        "scale= StandardScaler()\n",
        "vc = visualize_covid[[\"누적사망자\",\"누적확진자\"]]\n",
        "scale_visualize_covid = scale.fit_transform(vc) "
      ],
      "metadata": {
        "id": "cLKVf79IKPVV"
      },
      "execution_count": null,
      "outputs": []
    },
    {
      "cell_type": "code",
      "source": [
        "#standardization for vaccine\n",
        "from sklearn.preprocessing import StandardScaler\n",
        "scale= StandardScaler()\n",
        "vv = visualize_vaccine[[\"전체누적 1차\",\"전체누적 2차\",\"전체누적 3차\"]]\n",
        "scale_visualize_vaccine = scale.fit_transform(vv)"
      ],
      "metadata": {
        "id": "ugHH71GdNsbD"
      },
      "execution_count": null,
      "outputs": []
    },
    {
      "cell_type": "markdown",
      "source": [
        "normalization"
      ],
      "metadata": {
        "id": "dqJhgNArN1OE"
      }
    },
    {
      "cell_type": "code",
      "source": [
        "from sklearn import preprocessing\n",
        "normalize_visualize_covid = preprocessing.normalize(scale_visualize_covid)\n",
        "normalize_visualize_vaccine = preprocessing.normalize(scale_visualize_vaccine)"
      ],
      "metadata": {
        "id": "C0p1twEkOr0G"
      },
      "execution_count": null,
      "outputs": []
    },
    {
      "cell_type": "code",
      "source": [
        "visualize_vaccine"
      ],
      "metadata": {
        "colab": {
          "base_uri": "https://localhost:8080/",
          "height": 826
        },
        "id": "cfRULDjGRawy",
        "outputId": "d08ff862-0ba3-4e7a-a65b-9b34b5396744"
      },
      "execution_count": null,
      "outputs": [
        {
          "output_type": "execute_result",
          "data": {
            "text/html": [
              "<div>\n",
              "<style scoped>\n",
              "    .dataframe tbody tr th:only-of-type {\n",
              "        vertical-align: middle;\n",
              "    }\n",
              "\n",
              "    .dataframe tbody tr th {\n",
              "        vertical-align: top;\n",
              "    }\n",
              "\n",
              "    .dataframe thead th {\n",
              "        text-align: right;\n",
              "    }\n",
              "</style>\n",
              "<table border=\"1\" class=\"dataframe\">\n",
              "  <thead>\n",
              "    <tr style=\"text-align: right;\">\n",
              "      <th></th>\n",
              "      <th>일자</th>\n",
              "      <th>전체누적 1차</th>\n",
              "      <th>전체누적 2차</th>\n",
              "      <th>전체누적 3차</th>\n",
              "      <th>AZ 1차 누적</th>\n",
              "      <th>AZ 2차 누적</th>\n",
              "      <th>화이자 누적 1차</th>\n",
              "      <th>화이자 누적 2차</th>\n",
              "      <th>얀센 누적 1차</th>\n",
              "      <th>모더나 누적 1차</th>\n",
              "      <th>모더나 누적 2차</th>\n",
              "      <th>화이자 누적 3차</th>\n",
              "      <th>모더나 누적 3차</th>\n",
              "      <th>얀센 누적 3차</th>\n",
              "      <th>기준일</th>\n",
              "      <th>month</th>\n",
              "    </tr>\n",
              "  </thead>\n",
              "  <tbody>\n",
              "    <tr>\n",
              "      <th>287</th>\n",
              "      <td>2021-12-10 00:00:00</td>\n",
              "      <td>42949689.0</td>\n",
              "      <td>41671113.0</td>\n",
              "      <td>6076863.0</td>\n",
              "      <td>11132511.0</td>\n",
              "      <td>11053501.0</td>\n",
              "      <td>23583989.0</td>\n",
              "      <td>22623551.0</td>\n",
              "      <td>1503981.0</td>\n",
              "      <td>6729208.0</td>\n",
              "      <td>6490080.0</td>\n",
              "      <td>4310906.0</td>\n",
              "      <td>1747491.0</td>\n",
              "      <td>18466.0</td>\n",
              "      <td>20211210</td>\n",
              "      <td>12</td>\n",
              "    </tr>\n",
              "    <tr>\n",
              "      <th>286</th>\n",
              "      <td>2021-12-09 00:00:00</td>\n",
              "      <td>42897791.0</td>\n",
              "      <td>41595614.0</td>\n",
              "      <td>5304622.0</td>\n",
              "      <td>11132502.0</td>\n",
              "      <td>11052241.0</td>\n",
              "      <td>23536476.0</td>\n",
              "      <td>22562986.0</td>\n",
              "      <td>1503589.0</td>\n",
              "      <td>6725224.0</td>\n",
              "      <td>6476798.0</td>\n",
              "      <td>3945515.0</td>\n",
              "      <td>1341276.0</td>\n",
              "      <td>17831.0</td>\n",
              "      <td>20211209</td>\n",
              "      <td>12</td>\n",
              "    </tr>\n",
              "    <tr>\n",
              "      <th>285</th>\n",
              "      <td>2021-12-08 00:00:00</td>\n",
              "      <td>42851927.0</td>\n",
              "      <td>41540090.0</td>\n",
              "      <td>4856586.0</td>\n",
              "      <td>11132501.0</td>\n",
              "      <td>11051354.0</td>\n",
              "      <td>23494134.0</td>\n",
              "      <td>22517201.0</td>\n",
              "      <td>1503249.0</td>\n",
              "      <td>6722043.0</td>\n",
              "      <td>6468286.0</td>\n",
              "      <td>3681240.0</td>\n",
              "      <td>1157996.0</td>\n",
              "      <td>17350.0</td>\n",
              "      <td>20211208</td>\n",
              "      <td>12</td>\n",
              "    </tr>\n",
              "    <tr>\n",
              "      <th>284</th>\n",
              "      <td>2021-12-07 00:00:00</td>\n",
              "      <td>42805464.0</td>\n",
              "      <td>41487896.0</td>\n",
              "      <td>4550578.0</td>\n",
              "      <td>11132501.0</td>\n",
              "      <td>11050438.0</td>\n",
              "      <td>23451801.0</td>\n",
              "      <td>22474680.0</td>\n",
              "      <td>1502920.0</td>\n",
              "      <td>6718242.0</td>\n",
              "      <td>6459858.0</td>\n",
              "      <td>3466942.0</td>\n",
              "      <td>1066928.0</td>\n",
              "      <td>16708.0</td>\n",
              "      <td>20211207</td>\n",
              "      <td>12</td>\n",
              "    </tr>\n",
              "    <tr>\n",
              "      <th>283</th>\n",
              "      <td>2021-12-06 00:00:00</td>\n",
              "      <td>42767084.0</td>\n",
              "      <td>41445363.0</td>\n",
              "      <td>4255697.0</td>\n",
              "      <td>11132501.0</td>\n",
              "      <td>11049592.0</td>\n",
              "      <td>23417672.0</td>\n",
              "      <td>22442533.0</td>\n",
              "      <td>1502678.0</td>\n",
              "      <td>6714233.0</td>\n",
              "      <td>6450560.0</td>\n",
              "      <td>3249998.0</td>\n",
              "      <td>989368.0</td>\n",
              "      <td>16331.0</td>\n",
              "      <td>20211206</td>\n",
              "      <td>12</td>\n",
              "    </tr>\n",
              "    <tr>\n",
              "      <th>...</th>\n",
              "      <td>...</td>\n",
              "      <td>...</td>\n",
              "      <td>...</td>\n",
              "      <td>...</td>\n",
              "      <td>...</td>\n",
              "      <td>...</td>\n",
              "      <td>...</td>\n",
              "      <td>...</td>\n",
              "      <td>...</td>\n",
              "      <td>...</td>\n",
              "      <td>...</td>\n",
              "      <td>...</td>\n",
              "      <td>...</td>\n",
              "      <td>...</td>\n",
              "      <td>...</td>\n",
              "      <td>...</td>\n",
              "    </tr>\n",
              "    <tr>\n",
              "      <th>4</th>\n",
              "      <td>2021-03-02 00:00:00</td>\n",
              "      <td>101811.0</td>\n",
              "      <td>6956.0</td>\n",
              "      <td>0.0</td>\n",
              "      <td>91467.0</td>\n",
              "      <td>1585.0</td>\n",
              "      <td>4657.0</td>\n",
              "      <td>1638.0</td>\n",
              "      <td>30.0</td>\n",
              "      <td>5657.0</td>\n",
              "      <td>3703.0</td>\n",
              "      <td>0.0</td>\n",
              "      <td>0.0</td>\n",
              "      <td>0.0</td>\n",
              "      <td>20210302</td>\n",
              "      <td>3</td>\n",
              "    </tr>\n",
              "    <tr>\n",
              "      <th>3</th>\n",
              "      <td>2021-03-01 00:00:00</td>\n",
              "      <td>35114.0</td>\n",
              "      <td>6812.0</td>\n",
              "      <td>0.0</td>\n",
              "      <td>25610.0</td>\n",
              "      <td>1553.0</td>\n",
              "      <td>3912.0</td>\n",
              "      <td>1594.0</td>\n",
              "      <td>28.0</td>\n",
              "      <td>5564.0</td>\n",
              "      <td>3637.0</td>\n",
              "      <td>0.0</td>\n",
              "      <td>0.0</td>\n",
              "      <td>0.0</td>\n",
              "      <td>20210301</td>\n",
              "      <td>3</td>\n",
              "    </tr>\n",
              "    <tr>\n",
              "      <th>2</th>\n",
              "      <td>2021-02-28 00:00:00</td>\n",
              "      <td>33372.0</td>\n",
              "      <td>6691.0</td>\n",
              "      <td>0.0</td>\n",
              "      <td>24360.0</td>\n",
              "      <td>1505.0</td>\n",
              "      <td>3525.0</td>\n",
              "      <td>1558.0</td>\n",
              "      <td>25.0</td>\n",
              "      <td>5462.0</td>\n",
              "      <td>3603.0</td>\n",
              "      <td>0.0</td>\n",
              "      <td>0.0</td>\n",
              "      <td>0.0</td>\n",
              "      <td>20210228</td>\n",
              "      <td>2</td>\n",
              "    </tr>\n",
              "    <tr>\n",
              "      <th>1</th>\n",
              "      <td>2021-02-27 00:00:00</td>\n",
              "      <td>32434.0</td>\n",
              "      <td>6631.0</td>\n",
              "      <td>0.0</td>\n",
              "      <td>23775.0</td>\n",
              "      <td>1504.0</td>\n",
              "      <td>3192.0</td>\n",
              "      <td>1527.0</td>\n",
              "      <td>25.0</td>\n",
              "      <td>5442.0</td>\n",
              "      <td>3575.0</td>\n",
              "      <td>0.0</td>\n",
              "      <td>0.0</td>\n",
              "      <td>0.0</td>\n",
              "      <td>20210227</td>\n",
              "      <td>2</td>\n",
              "    </tr>\n",
              "    <tr>\n",
              "      <th>0</th>\n",
              "      <td>2021-02-26 00:00:00</td>\n",
              "      <td>30830.0</td>\n",
              "      <td>6521.0</td>\n",
              "      <td>0.0</td>\n",
              "      <td>22638.0</td>\n",
              "      <td>1494.0</td>\n",
              "      <td>2776.0</td>\n",
              "      <td>1490.0</td>\n",
              "      <td>23.0</td>\n",
              "      <td>5393.0</td>\n",
              "      <td>3514.0</td>\n",
              "      <td>0.0</td>\n",
              "      <td>0.0</td>\n",
              "      <td>0.0</td>\n",
              "      <td>20210226</td>\n",
              "      <td>2</td>\n",
              "    </tr>\n",
              "  </tbody>\n",
              "</table>\n",
              "<p>288 rows × 16 columns</p>\n",
              "</div>"
            ],
            "text/plain": [
              "                      일자     전체누적 1차     전체누적 2차  ...  얀센 누적 3차       기준일  month\n",
              "287  2021-12-10 00:00:00  42949689.0  41671113.0  ...   18466.0  20211210     12\n",
              "286  2021-12-09 00:00:00  42897791.0  41595614.0  ...   17831.0  20211209     12\n",
              "285  2021-12-08 00:00:00  42851927.0  41540090.0  ...   17350.0  20211208     12\n",
              "284  2021-12-07 00:00:00  42805464.0  41487896.0  ...   16708.0  20211207     12\n",
              "283  2021-12-06 00:00:00  42767084.0  41445363.0  ...   16331.0  20211206     12\n",
              "..                   ...         ...         ...  ...       ...       ...    ...\n",
              "4    2021-03-02 00:00:00    101811.0      6956.0  ...       0.0  20210302      3\n",
              "3    2021-03-01 00:00:00     35114.0      6812.0  ...       0.0  20210301      3\n",
              "2    2021-02-28 00:00:00     33372.0      6691.0  ...       0.0  20210228      2\n",
              "1    2021-02-27 00:00:00     32434.0      6631.0  ...       0.0  20210227      2\n",
              "0    2021-02-26 00:00:00     30830.0      6521.0  ...       0.0  20210226      2\n",
              "\n",
              "[288 rows x 16 columns]"
            ]
          },
          "metadata": {},
          "execution_count": 164
        }
      ]
    },
    {
      "cell_type": "markdown",
      "source": [
        "groupby"
      ],
      "metadata": {
        "id": "TNH0ZlZYO-tJ"
      }
    },
    {
      "cell_type": "code",
      "source": [
        "normalize_visualize_covid = pd.DataFrame(normalize_visualize_covid)\n",
        "normalize_visualize_vaccine = pd.DataFrame(normalize_visualize_vaccine)"
      ],
      "metadata": {
        "id": "W2Dv8ZcoPIY_"
      },
      "execution_count": null,
      "outputs": []
    },
    {
      "cell_type": "code",
      "source": [
        "normalize_visualize_covid.set_index(visualize_covid[\"month\"], inplace=True)\n",
        "normalize_visualize_vaccine.set_index(visualize_vaccine[\"month\"], inplace=True)"
      ],
      "metadata": {
        "id": "CXqjAdLXRFvC"
      },
      "execution_count": null,
      "outputs": []
    },
    {
      "cell_type": "code",
      "source": [
        "normalize_visualize_covid.head()"
      ],
      "metadata": {
        "colab": {
          "base_uri": "https://localhost:8080/",
          "height": 238
        },
        "id": "_jyhrIeXRppD",
        "outputId": "0843aad0-8b91-4025-a833-c2bfead369cf"
      },
      "execution_count": null,
      "outputs": [
        {
          "output_type": "execute_result",
          "data": {
            "text/html": [
              "<div>\n",
              "<style scoped>\n",
              "    .dataframe tbody tr th:only-of-type {\n",
              "        vertical-align: middle;\n",
              "    }\n",
              "\n",
              "    .dataframe tbody tr th {\n",
              "        vertical-align: top;\n",
              "    }\n",
              "\n",
              "    .dataframe thead th {\n",
              "        text-align: right;\n",
              "    }\n",
              "</style>\n",
              "<table border=\"1\" class=\"dataframe\">\n",
              "  <thead>\n",
              "    <tr style=\"text-align: right;\">\n",
              "      <th></th>\n",
              "      <th>0</th>\n",
              "      <th>1</th>\n",
              "    </tr>\n",
              "    <tr>\n",
              "      <th>month</th>\n",
              "      <th></th>\n",
              "      <th></th>\n",
              "    </tr>\n",
              "  </thead>\n",
              "  <tbody>\n",
              "    <tr>\n",
              "      <th>12</th>\n",
              "      <td>0.805577</td>\n",
              "      <td>0.592492</td>\n",
              "    </tr>\n",
              "    <tr>\n",
              "      <th>12</th>\n",
              "      <td>0.804305</td>\n",
              "      <td>0.594216</td>\n",
              "    </tr>\n",
              "    <tr>\n",
              "      <th>12</th>\n",
              "      <td>0.802978</td>\n",
              "      <td>0.596009</td>\n",
              "    </tr>\n",
              "    <tr>\n",
              "      <th>12</th>\n",
              "      <td>0.800336</td>\n",
              "      <td>0.599552</td>\n",
              "    </tr>\n",
              "    <tr>\n",
              "      <th>12</th>\n",
              "      <td>0.794789</td>\n",
              "      <td>0.606886</td>\n",
              "    </tr>\n",
              "  </tbody>\n",
              "</table>\n",
              "</div>"
            ],
            "text/plain": [
              "              0         1\n",
              "month                    \n",
              "12     0.805577  0.592492\n",
              "12     0.804305  0.594216\n",
              "12     0.802978  0.596009\n",
              "12     0.800336  0.599552\n",
              "12     0.794789  0.606886"
            ]
          },
          "metadata": {},
          "execution_count": 166
        }
      ]
    },
    {
      "cell_type": "code",
      "source": [
        "normalize_visualize_covid.columns = [\"누적사망자\",\"누적확진자\"]"
      ],
      "metadata": {
        "id": "mmAvwP-kSS7x"
      },
      "execution_count": null,
      "outputs": []
    },
    {
      "cell_type": "code",
      "source": [
        "normalize_visualize_vaccine.head()"
      ],
      "metadata": {
        "colab": {
          "base_uri": "https://localhost:8080/",
          "height": 238
        },
        "id": "5J1Axe7WSK1r",
        "outputId": "aa1cecbc-ae8d-42f5-cdbf-0e26cdabd13e"
      },
      "execution_count": null,
      "outputs": [
        {
          "output_type": "execute_result",
          "data": {
            "text/html": [
              "<div>\n",
              "<style scoped>\n",
              "    .dataframe tbody tr th:only-of-type {\n",
              "        vertical-align: middle;\n",
              "    }\n",
              "\n",
              "    .dataframe tbody tr th {\n",
              "        vertical-align: top;\n",
              "    }\n",
              "\n",
              "    .dataframe thead th {\n",
              "        text-align: right;\n",
              "    }\n",
              "</style>\n",
              "<table border=\"1\" class=\"dataframe\">\n",
              "  <thead>\n",
              "    <tr style=\"text-align: right;\">\n",
              "      <th></th>\n",
              "      <th>0</th>\n",
              "      <th>1</th>\n",
              "      <th>2</th>\n",
              "    </tr>\n",
              "    <tr>\n",
              "      <th>month</th>\n",
              "      <th></th>\n",
              "      <th></th>\n",
              "      <th></th>\n",
              "    </tr>\n",
              "  </thead>\n",
              "  <tbody>\n",
              "    <tr>\n",
              "      <th>12</th>\n",
              "      <td>0.218292</td>\n",
              "      <td>0.286524</td>\n",
              "      <td>0.932873</td>\n",
              "    </tr>\n",
              "    <tr>\n",
              "      <th>12</th>\n",
              "      <td>0.246266</td>\n",
              "      <td>0.323105</td>\n",
              "      <td>0.913760</td>\n",
              "    </tr>\n",
              "    <tr>\n",
              "      <th>12</th>\n",
              "      <td>0.265565</td>\n",
              "      <td>0.348434</td>\n",
              "      <td>0.898926</td>\n",
              "    </tr>\n",
              "    <tr>\n",
              "      <th>12</th>\n",
              "      <td>0.280243</td>\n",
              "      <td>0.367757</td>\n",
              "      <td>0.886690</td>\n",
              "    </tr>\n",
              "    <tr>\n",
              "      <th>12</th>\n",
              "      <td>0.295895</td>\n",
              "      <td>0.388361</td>\n",
              "      <td>0.872709</td>\n",
              "    </tr>\n",
              "  </tbody>\n",
              "</table>\n",
              "</div>"
            ],
            "text/plain": [
              "              0         1         2\n",
              "month                              \n",
              "12     0.218292  0.286524  0.932873\n",
              "12     0.246266  0.323105  0.913760\n",
              "12     0.265565  0.348434  0.898926\n",
              "12     0.280243  0.367757  0.886690\n",
              "12     0.295895  0.388361  0.872709"
            ]
          },
          "metadata": {},
          "execution_count": 170
        }
      ]
    },
    {
      "cell_type": "code",
      "source": [
        "normalize_visualize_vaccine.columns = [\"전체누적 1차\",\"전체누적 2차\",\"전체누적 3차\"]"
      ],
      "metadata": {
        "id": "jwgAdvTdSaOy"
      },
      "execution_count": null,
      "outputs": []
    },
    {
      "cell_type": "code",
      "source": [
        "visualize_covid_month = normalize_visualize_covid.groupby(normalize_visualize_covid.index)[\"누적사망자\",\"누적확진자\"].agg(\"mean\")\n",
        "visualize_vaccine_month = normalize_visualize_vaccine.groupby(normalize_visualize_vaccine.index)[\"전체누적 1차\",\"전체누적 2차\",\"전체누적 3차\"].agg(\"mean\")"
      ],
      "metadata": {
        "colab": {
          "base_uri": "https://localhost:8080/"
        },
        "id": "AvanutrPEiE3",
        "outputId": "af20dec6-39ad-4dcd-a3bc-6e23a7094641"
      },
      "execution_count": null,
      "outputs": [
        {
          "output_type": "stream",
          "name": "stderr",
          "text": [
            "/usr/local/lib/python3.7/dist-packages/ipykernel_launcher.py:1: FutureWarning: Indexing with multiple keys (implicitly converted to a tuple of keys) will be deprecated, use a list instead.\n",
            "  \"\"\"Entry point for launching an IPython kernel.\n",
            "/usr/local/lib/python3.7/dist-packages/ipykernel_launcher.py:2: FutureWarning: Indexing with multiple keys (implicitly converted to a tuple of keys) will be deprecated, use a list instead.\n",
            "  \n"
          ]
        }
      ]
    },
    {
      "cell_type": "code",
      "source": [
        "visualize_covid_month"
      ],
      "metadata": {
        "colab": {
          "base_uri": "https://localhost:8080/",
          "height": 426
        },
        "id": "Y5rA-WQxJoZa",
        "outputId": "e7e28cca-e028-428e-adf3-8a66145c1f22"
      },
      "execution_count": null,
      "outputs": [
        {
          "output_type": "execute_result",
          "data": {
            "text/html": [
              "<div>\n",
              "<style scoped>\n",
              "    .dataframe tbody tr th:only-of-type {\n",
              "        vertical-align: middle;\n",
              "    }\n",
              "\n",
              "    .dataframe tbody tr th {\n",
              "        vertical-align: top;\n",
              "    }\n",
              "\n",
              "    .dataframe thead th {\n",
              "        text-align: right;\n",
              "    }\n",
              "</style>\n",
              "<table border=\"1\" class=\"dataframe\">\n",
              "  <thead>\n",
              "    <tr style=\"text-align: right;\">\n",
              "      <th></th>\n",
              "      <th>누적사망자</th>\n",
              "      <th>누적확진자</th>\n",
              "    </tr>\n",
              "    <tr>\n",
              "      <th>month</th>\n",
              "      <th></th>\n",
              "      <th></th>\n",
              "    </tr>\n",
              "  </thead>\n",
              "  <tbody>\n",
              "    <tr>\n",
              "      <th>2</th>\n",
              "      <td>-0.715742</td>\n",
              "      <td>-0.698351</td>\n",
              "    </tr>\n",
              "    <tr>\n",
              "      <th>3</th>\n",
              "      <td>-0.688966</td>\n",
              "      <td>-0.724583</td>\n",
              "    </tr>\n",
              "    <tr>\n",
              "      <th>4</th>\n",
              "      <td>-0.662396</td>\n",
              "      <td>-0.749131</td>\n",
              "    </tr>\n",
              "    <tr>\n",
              "      <th>5</th>\n",
              "      <td>-0.628572</td>\n",
              "      <td>-0.777361</td>\n",
              "    </tr>\n",
              "    <tr>\n",
              "      <th>6</th>\n",
              "      <td>-0.595616</td>\n",
              "      <td>-0.803261</td>\n",
              "    </tr>\n",
              "    <tr>\n",
              "      <th>7</th>\n",
              "      <td>-0.682651</td>\n",
              "      <td>-0.723832</td>\n",
              "    </tr>\n",
              "    <tr>\n",
              "      <th>8</th>\n",
              "      <td>-0.598295</td>\n",
              "      <td>0.293463</td>\n",
              "    </tr>\n",
              "    <tr>\n",
              "      <th>9</th>\n",
              "      <td>0.401557</td>\n",
              "      <td>0.914050</td>\n",
              "    </tr>\n",
              "    <tr>\n",
              "      <th>10</th>\n",
              "      <td>0.559708</td>\n",
              "      <td>0.825576</td>\n",
              "    </tr>\n",
              "    <tr>\n",
              "      <th>11</th>\n",
              "      <td>0.711344</td>\n",
              "      <td>0.700907</td>\n",
              "    </tr>\n",
              "    <tr>\n",
              "      <th>12</th>\n",
              "      <td>0.793548</td>\n",
              "      <td>0.608320</td>\n",
              "    </tr>\n",
              "  </tbody>\n",
              "</table>\n",
              "</div>"
            ],
            "text/plain": [
              "          누적사망자     누적확진자\n",
              "month                    \n",
              "2     -0.715742 -0.698351\n",
              "3     -0.688966 -0.724583\n",
              "4     -0.662396 -0.749131\n",
              "5     -0.628572 -0.777361\n",
              "6     -0.595616 -0.803261\n",
              "7     -0.682651 -0.723832\n",
              "8     -0.598295  0.293463\n",
              "9      0.401557  0.914050\n",
              "10     0.559708  0.825576\n",
              "11     0.711344  0.700907\n",
              "12     0.793548  0.608320"
            ]
          },
          "metadata": {},
          "execution_count": 174
        }
      ]
    },
    {
      "cell_type": "code",
      "source": [
        "visualize_vaccine_month"
      ],
      "metadata": {
        "colab": {
          "base_uri": "https://localhost:8080/",
          "height": 426
        },
        "id": "Q_e1CBZIJrDx",
        "outputId": "3894c3fa-c27c-43fe-f4e5-4b4e7e07c1dd"
      },
      "execution_count": null,
      "outputs": [
        {
          "output_type": "execute_result",
          "data": {
            "text/html": [
              "<div>\n",
              "<style scoped>\n",
              "    .dataframe tbody tr th:only-of-type {\n",
              "        vertical-align: middle;\n",
              "    }\n",
              "\n",
              "    .dataframe tbody tr th {\n",
              "        vertical-align: top;\n",
              "    }\n",
              "\n",
              "    .dataframe thead th {\n",
              "        text-align: right;\n",
              "    }\n",
              "</style>\n",
              "<table border=\"1\" class=\"dataframe\">\n",
              "  <thead>\n",
              "    <tr style=\"text-align: right;\">\n",
              "      <th></th>\n",
              "      <th>전체누적 1차</th>\n",
              "      <th>전체누적 2차</th>\n",
              "      <th>전체누적 3차</th>\n",
              "    </tr>\n",
              "    <tr>\n",
              "      <th>month</th>\n",
              "      <th></th>\n",
              "      <th></th>\n",
              "      <th></th>\n",
              "    </tr>\n",
              "  </thead>\n",
              "  <tbody>\n",
              "    <tr>\n",
              "      <th>2</th>\n",
              "      <td>-0.792239</td>\n",
              "      <td>-0.576387</td>\n",
              "      <td>-0.200339</td>\n",
              "    </tr>\n",
              "    <tr>\n",
              "      <th>3</th>\n",
              "      <td>-0.784022</td>\n",
              "      <td>-0.586272</td>\n",
              "      <td>-0.203873</td>\n",
              "    </tr>\n",
              "    <tr>\n",
              "      <th>4</th>\n",
              "      <td>-0.767517</td>\n",
              "      <td>-0.604798</td>\n",
              "      <td>-0.211775</td>\n",
              "    </tr>\n",
              "    <tr>\n",
              "      <th>5</th>\n",
              "      <td>-0.747900</td>\n",
              "      <td>-0.619904</td>\n",
              "      <td>-0.236541</td>\n",
              "    </tr>\n",
              "    <tr>\n",
              "      <th>6</th>\n",
              "      <td>-0.518880</td>\n",
              "      <td>-0.759981</td>\n",
              "      <td>-0.362770</td>\n",
              "    </tr>\n",
              "    <tr>\n",
              "      <th>7</th>\n",
              "      <td>-0.351804</td>\n",
              "      <td>-0.777099</td>\n",
              "      <td>-0.510309</td>\n",
              "    </tr>\n",
              "    <tr>\n",
              "      <th>8</th>\n",
              "      <td>0.452619</td>\n",
              "      <td>-0.423487</td>\n",
              "      <td>-0.621883</td>\n",
              "    </tr>\n",
              "    <tr>\n",
              "      <th>9</th>\n",
              "      <td>0.836681</td>\n",
              "      <td>0.442765</td>\n",
              "      <td>-0.307756</td>\n",
              "    </tr>\n",
              "    <tr>\n",
              "      <th>10</th>\n",
              "      <td>0.696044</td>\n",
              "      <td>0.692902</td>\n",
              "      <td>-0.164322</td>\n",
              "    </tr>\n",
              "    <tr>\n",
              "      <th>11</th>\n",
              "      <td>0.529050</td>\n",
              "      <td>0.683042</td>\n",
              "      <td>0.389366</td>\n",
              "    </tr>\n",
              "    <tr>\n",
              "      <th>12</th>\n",
              "      <td>0.293950</td>\n",
              "      <td>0.385423</td>\n",
              "      <td>0.871579</td>\n",
              "    </tr>\n",
              "  </tbody>\n",
              "</table>\n",
              "</div>"
            ],
            "text/plain": [
              "        전체누적 1차   전체누적 2차   전체누적 3차\n",
              "month                              \n",
              "2     -0.792239 -0.576387 -0.200339\n",
              "3     -0.784022 -0.586272 -0.203873\n",
              "4     -0.767517 -0.604798 -0.211775\n",
              "5     -0.747900 -0.619904 -0.236541\n",
              "6     -0.518880 -0.759981 -0.362770\n",
              "7     -0.351804 -0.777099 -0.510309\n",
              "8      0.452619 -0.423487 -0.621883\n",
              "9      0.836681  0.442765 -0.307756\n",
              "10     0.696044  0.692902 -0.164322\n",
              "11     0.529050  0.683042  0.389366\n",
              "12     0.293950  0.385423  0.871579"
            ]
          },
          "metadata": {},
          "execution_count": 175
        }
      ]
    },
    {
      "cell_type": "code",
      "source": [
        "from matplotlib.pyplot import figure\n",
        "\n",
        "figure(figsize=(8, 6), dpi=80)\n",
        "plt.xticks(visualize_covid_month.index)\n",
        "plt.plot(visualize_covid_month.index, visualize_covid_month[\"누적사망자\"],label = \"acc dead\")\n",
        "plt.plot(visualize_covid_month.index, visualize_covid_month[\"누적확진자\"],label=\"acc confirmed\")\n",
        "plt.plot(visualize_vaccine_month.index, visualize_vaccine_month[\"전체누적 1차\"],label = \"VC 1st (acc)\")\n",
        "plt.plot(visualize_vaccine_month.index, visualize_vaccine_month[\"전체누적 2차\"],label = \"VC 2nd (acc)\")\n",
        "plt.plot(visualize_vaccine_month.index, visualize_vaccine_month[\"전체누적 3차\"],label = \"VC 3rd (acc)\")\n",
        "plt.legend()\n",
        "plt.show()"
      ],
      "metadata": {
        "colab": {
          "base_uri": "https://localhost:8080/",
          "height": 413
        },
        "id": "N-ZVNIZeF9ny",
        "outputId": "35479102-9e26-4fd0-9689-fd3be6501ffe"
      },
      "execution_count": null,
      "outputs": [
        {
          "output_type": "display_data",
          "data": {
            "image/png": "[encoded data removed]",
            "text/plain": [
              "<Figure size 640x480 with 1 Axes>"
            ]
          },
          "metadata": {
            "needs_background": "light"
          }
        }
      ]
    },
    {
      "cell_type": "code",
      "source": [
        "hmap = pd.concat([visualize_covid_month, visualize_vaccine_month], axis=1)"
      ],
      "metadata": {
        "id": "GjlGpNoRGUkg"
      },
      "execution_count": null,
      "outputs": []
    },
    {
      "cell_type": "code",
      "source": [
        "hmap"
      ],
      "metadata": {
        "colab": {
          "base_uri": "https://localhost:8080/",
          "height": 426
        },
        "id": "_BAnaWKuTNSS",
        "outputId": "9b5c80ba-c515-453c-eefc-fd6c3230a86b"
      },
      "execution_count": null,
      "outputs": [
        {
          "output_type": "execute_result",
          "data": {
            "text/html": [
              "<div>\n",
              "<style scoped>\n",
              "    .dataframe tbody tr th:only-of-type {\n",
              "        vertical-align: middle;\n",
              "    }\n",
              "\n",
              "    .dataframe tbody tr th {\n",
              "        vertical-align: top;\n",
              "    }\n",
              "\n",
              "    .dataframe thead th {\n",
              "        text-align: right;\n",
              "    }\n",
              "</style>\n",
              "<table border=\"1\" class=\"dataframe\">\n",
              "  <thead>\n",
              "    <tr style=\"text-align: right;\">\n",
              "      <th></th>\n",
              "      <th>누적사망자</th>\n",
              "      <th>누적확진자</th>\n",
              "      <th>전체누적 1차</th>\n",
              "      <th>전체누적 2차</th>\n",
              "      <th>전체누적 3차</th>\n",
              "    </tr>\n",
              "    <tr>\n",
              "      <th>month</th>\n",
              "      <th></th>\n",
              "      <th></th>\n",
              "      <th></th>\n",
              "      <th></th>\n",
              "      <th></th>\n",
              "    </tr>\n",
              "  </thead>\n",
              "  <tbody>\n",
              "    <tr>\n",
              "      <th>2</th>\n",
              "      <td>-0.715742</td>\n",
              "      <td>-0.698351</td>\n",
              "      <td>-0.792239</td>\n",
              "      <td>-0.576387</td>\n",
              "      <td>-0.200339</td>\n",
              "    </tr>\n",
              "    <tr>\n",
              "      <th>3</th>\n",
              "      <td>-0.688966</td>\n",
              "      <td>-0.724583</td>\n",
              "      <td>-0.784022</td>\n",
              "      <td>-0.586272</td>\n",
              "      <td>-0.203873</td>\n",
              "    </tr>\n",
              "    <tr>\n",
              "      <th>4</th>\n",
              "      <td>-0.662396</td>\n",
              "      <td>-0.749131</td>\n",
              "      <td>-0.767517</td>\n",
              "      <td>-0.604798</td>\n",
              "      <td>-0.211775</td>\n",
              "    </tr>\n",
              "    <tr>\n",
              "      <th>5</th>\n",
              "      <td>-0.628572</td>\n",
              "      <td>-0.777361</td>\n",
              "      <td>-0.747900</td>\n",
              "      <td>-0.619904</td>\n",
              "      <td>-0.236541</td>\n",
              "    </tr>\n",
              "    <tr>\n",
              "      <th>6</th>\n",
              "      <td>-0.595616</td>\n",
              "      <td>-0.803261</td>\n",
              "      <td>-0.518880</td>\n",
              "      <td>-0.759981</td>\n",
              "      <td>-0.362770</td>\n",
              "    </tr>\n",
              "    <tr>\n",
              "      <th>7</th>\n",
              "      <td>-0.682651</td>\n",
              "      <td>-0.723832</td>\n",
              "      <td>-0.351804</td>\n",
              "      <td>-0.777099</td>\n",
              "      <td>-0.510309</td>\n",
              "    </tr>\n",
              "    <tr>\n",
              "      <th>8</th>\n",
              "      <td>-0.598295</td>\n",
              "      <td>0.293463</td>\n",
              "      <td>0.452619</td>\n",
              "      <td>-0.423487</td>\n",
              "      <td>-0.621883</td>\n",
              "    </tr>\n",
              "    <tr>\n",
              "      <th>9</th>\n",
              "      <td>0.401557</td>\n",
              "      <td>0.914050</td>\n",
              "      <td>0.836681</td>\n",
              "      <td>0.442765</td>\n",
              "      <td>-0.307756</td>\n",
              "    </tr>\n",
              "    <tr>\n",
              "      <th>10</th>\n",
              "      <td>0.559708</td>\n",
              "      <td>0.825576</td>\n",
              "      <td>0.696044</td>\n",
              "      <td>0.692902</td>\n",
              "      <td>-0.164322</td>\n",
              "    </tr>\n",
              "    <tr>\n",
              "      <th>11</th>\n",
              "      <td>0.711344</td>\n",
              "      <td>0.700907</td>\n",
              "      <td>0.529050</td>\n",
              "      <td>0.683042</td>\n",
              "      <td>0.389366</td>\n",
              "    </tr>\n",
              "    <tr>\n",
              "      <th>12</th>\n",
              "      <td>0.793548</td>\n",
              "      <td>0.608320</td>\n",
              "      <td>0.293950</td>\n",
              "      <td>0.385423</td>\n",
              "      <td>0.871579</td>\n",
              "    </tr>\n",
              "  </tbody>\n",
              "</table>\n",
              "</div>"
            ],
            "text/plain": [
              "          누적사망자     누적확진자   전체누적 1차   전체누적 2차   전체누적 3차\n",
              "month                                                  \n",
              "2     -0.715742 -0.698351 -0.792239 -0.576387 -0.200339\n",
              "3     -0.688966 -0.724583 -0.784022 -0.586272 -0.203873\n",
              "4     -0.662396 -0.749131 -0.767517 -0.604798 -0.211775\n",
              "5     -0.628572 -0.777361 -0.747900 -0.619904 -0.236541\n",
              "6     -0.595616 -0.803261 -0.518880 -0.759981 -0.362770\n",
              "7     -0.682651 -0.723832 -0.351804 -0.777099 -0.510309\n",
              "8     -0.598295  0.293463  0.452619 -0.423487 -0.621883\n",
              "9      0.401557  0.914050  0.836681  0.442765 -0.307756\n",
              "10     0.559708  0.825576  0.696044  0.692902 -0.164322\n",
              "11     0.711344  0.700907  0.529050  0.683042  0.389366\n",
              "12     0.793548  0.608320  0.293950  0.385423  0.871579"
            ]
          },
          "metadata": {},
          "execution_count": 183
        }
      ]
    },
    {
      "cell_type": "code",
      "source": [
        "figure(figsize=(10, 6), dpi=80)\n",
        "plt.pcolor(hmap)\n",
        "plt.colorbar()\n",
        "plt.xticks = []\n",
        "plt.ylabel('Month', fontsize=14)\n",
        "plt.show()\n",
        "\n",
        "print(\"\\t\",end = \"\")\n",
        "for col in hmap.columns:\n",
        "  print(col, end = \"   \")"
      ],
      "metadata": {
        "colab": {
          "base_uri": "https://localhost:8080/",
          "height": 431
        },
        "id": "zZ8Bp91wTF2Y",
        "outputId": "38385688-dcce-4106-dc76-56a89b4b4373"
      },
      "execution_count": null,
      "outputs": [
        {
          "output_type": "display_data",
          "data": {
            "image/png": "[encoded data removed]",
            "text/plain": [
              "<Figure size 800x480 with 2 Axes>"
            ]
          },
          "metadata": {
            "needs_background": "light"
          }
        },
        {
          "output_type": "stream",
          "name": "stdout",
          "text": [
            "\t누적사망자   누적확진자   전체누적 1차   전체누적 2차   전체누적 3차   "
          ]
        }
      ]
    },
    {
      "cell_type": "code",
      "source": [
        "import matplotlib.pyplot as plt\n",
        "fig, axis = plt.subplots(1, 2, figsize=(15, 5))\n",
        "axis[0].set_title(\"1st acc vaccine & acc dead\")\n",
        "axis[0].plot(hmap[\"누적사망자\"],label = \"dead\")\n",
        "axis[0].plot(hmap[\"전체누적 1차\"],label= \"V1\")\n",
        "axis[0].legend()\n",
        "axis[1].set_title(\"1st acc vaccine & acc confirmed\")\n",
        "axis[1].plot(hmap[\"누적확진자\"],label = \"confirmed\")\n",
        "axis[1].plot(hmap[\"전체누적 1차\"],label= \"V1\")\n",
        "axis[1].legend()"
      ],
      "metadata": {
        "colab": {
          "base_uri": "https://localhost:8080/",
          "height": 298
        },
        "id": "zelGI-SKTLTn",
        "outputId": "9f0f0b07-9c27-4097-eaa6-354233b50eee"
      },
      "execution_count": null,
      "outputs": [
        {
          "output_type": "execute_result",
          "data": {
            "text/plain": [
              "<matplotlib.legend.Legend at 0x7f4ee685f910>"
            ]
          },
          "metadata": {},
          "execution_count": 249
        },
        {
          "output_type": "display_data",
          "data": {
            "image/png": "[encoded data removed]",
            "text/plain": [
              "<Figure size 1080x360 with 2 Axes>"
            ]
          },
          "metadata": {
            "needs_background": "light"
          }
        }
      ]
    },
    {
      "cell_type": "code",
      "source": [
        ""
      ],
      "metadata": {
        "id": "FfjgU5q4XEQs"
      },
      "execution_count": null,
      "outputs": []
    }
  ]
}